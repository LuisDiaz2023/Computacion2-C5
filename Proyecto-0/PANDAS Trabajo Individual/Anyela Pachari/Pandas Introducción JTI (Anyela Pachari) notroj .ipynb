{
  "metadata": {
    "kernelspec": {
      "name": "python",
      "display_name": "Python (Pyodide)",
      "language": "python"
    },
    "language_info": {
      "codemirror_mode": {
        "name": "python",
        "version": 3
      },
      "file_extension": ".py",
      "mimetype": "text/x-python",
      "name": "python",
      "nbconvert_exporter": "python",
      "pygments_lexer": "ipython3",
      "version": "3.8"
    }
  },
  "nbformat_minor": 4,
  "nbformat": 4,
  "cells": [
    {
      "cell_type": "markdown",
      "source": "<center> <h1>Universidad Nacional de San Agustín de Arequipa</h1> </center> \n<center> <h1>Escuela Profesional de Ingeniería de Telecomunicaciones</h1> </center> \n\n<center> <h1> </h1> </center> \n\n<center><img src=\"https://user-images.githubusercontent.com/19308295/115939517-f1c6fe80-a463-11eb-989c-812ab4942586.png\" width=\"380\" height=\"4200\"></center>",
      "metadata": {}
    },
    {
      "cell_type": "markdown",
      "source": "<center> <h2>Ingeniero Renzo Bolivar - Docente DAIE</h2> </center> ",
      "metadata": {}
    },
    {
      "cell_type": "markdown",
      "source": "<center> <h1>Curso : Computación 2</h1> </center> ",
      "metadata": {}
    },
    {
      "cell_type": "markdown",
      "source": "![linea 1](https://user-images.githubusercontent.com/19308295/115926252-2b8a0c00-a448-11eb-9d9c-b43beaf0ff68.png)",
      "metadata": {}
    },
    {
      "cell_type": "markdown",
      "source": "<center> <h1>PANDAS</h1> </center> ",
      "metadata": {}
    },
    {
      "cell_type": "markdown",
      "source": "![linea 1](https://user-images.githubusercontent.com/19308295/115926252-2b8a0c00-a448-11eb-9d9c-b43beaf0ff68.png)",
      "metadata": {}
    },
    {
      "cell_type": "markdown",
      "source": "# Descripción:",
      "metadata": {}
    },
    {
      "cell_type": "markdown",
      "source": "<div class=\"alert alert-info\">\n\nEn este notebook se explicarán la librería **Pandas** escrita como extensión de **NumPy** para la manipulación y análisis de datos en el lenguaje de programación Python. \n    \n</div>\n\n",
      "metadata": {}
    },
    {
      "cell_type": "markdown",
      "source": "# Objetivos:\n\n 1. Familiarizarce con creación de la estructura de tabla de datos **DataFrame.**\n 2. Manejo inicial de un **DataFrame.**\n 3. Importando archivos ***csv*** y manipulación inicial en **Pandas.**",
      "metadata": {}
    },
    {
      "cell_type": "markdown",
      "source": "\n\n[1. Pandas](#1.-Pandas)<br>\n[2. Creación de DataFrame](#2.-Creación-de-DataFrame)<br>\n[3. DataFrame a partir de archivo CSV](#3.-DataFrame-a-partir-de-archivo-CSV)<br>\n[4. Estadistica DataFrame](#4.-Estadistica-DataFrame)<br>\n\n[EJEMPLOS](#EJEMPLOS)<br>\n[EJERCICIOS](#EJERCICIOS)<br>\n[BIBLIOGRAFÍA](#BIBLIOGRAFÍA)<br>",
      "metadata": {}
    },
    {
      "cell_type": "markdown",
      "source": "![linea 1](https://user-images.githubusercontent.com/19308295/115926252-2b8a0c00-a448-11eb-9d9c-b43beaf0ff68.png)",
      "metadata": {}
    },
    {
      "cell_type": "markdown",
      "source": "![640px-Pandas_logo svg](https://user-images.githubusercontent.com/19308295/119273971-1b925300-bbd3-11eb-9705-fa3a404af0e1.png)",
      "metadata": {}
    },
    {
      "cell_type": "markdown",
      "source": "## <font color=#33A5FF>****1. Pandas****<tfont>",
      "metadata": {}
    },
    {
      "cell_type": "markdown",
      "source": "<div class=\"well\">\n<strong>PanDaS  (Panel Data Set)</strong>  es una librería de Python para la <strong>ciencia de datos y Machine Learning</strong>, por muchas razones, ofrece estructuras de datos poderosas, expresivas y flexibles que facilitan la manipulación y análisis de datos. Entre las estructuras más utilizadas se encuentra el <strong>DataFrame</strong>.\n\n<strong>Pandas</strong> es una librería de código abierto de Python que proporciona herramientas de análisis y manipulación de datos de alto rendimiento utilizando sus potentes estructuras de datos.\n    \n    \n</div>",
      "metadata": {}
    },
    {
      "cell_type": "markdown",
      "source": "<div class=\"well\">\nLa librería <strong>Pandas</strong> se desarrollo debido a la necesidad de tener una herramienta flexible de alto rendimiento para el análisis de datos, construido sobre Numpy. En Python se utiliza  <strong>pandas</strong> en Machine Learning para la manipulación y preparación de datos. \n\nUsando esta librería podemos lograr cinco pasos típicos en el procesamiento y análisis de datos, independientemente del origen de los datos:\n</div>\n     \n    \n   - Cargar\n   - Preparar\n   - Manipular\n   - Modelar\n   - Analizar\n    \n",
      "metadata": {}
    },
    {
      "cell_type": "markdown",
      "source": "<div class=\"well\">\n    Caracteristicas principales de de la librería <strong>Pandas</strong>.\n</div>   \n   \n   \n   \n   - Objeto DataFrame rápido y eficiente con indexación predeterminada y personalizada.\n   - Alto rendimiento para cargar datos en objetos de datos en memoria desde diferentes formatos de archivo.\n   - Alineación de datos y manejo integrado de datos faltantes.\n   - Remodelación y giro de conjuntos de fechas.\n   - Etiquetado, corte, indexación y subconjunto de grandes conjuntos de datos.\n   - Las columnas de una estructura de datos se pueden eliminar o insertar.\n   - Agrupa por datos para agregación y transformaciones.\n   - Alto rendimiento de fusión y unión de datos.\n   - Funcionalidad de la serie de tiempo.\n",
      "metadata": {}
    },
    {
      "cell_type": "markdown",
      "source": "## DataFrame",
      "metadata": {}
    },
    {
      "cell_type": "markdown",
      "source": "<div class=\"well\">\nEs una estructura de datos muy utilizada en <strong>pandas</strong>, es tabular bidimensional de tamaño variable y potencialmente heterogénea con ejes etiquetados (filas y columnas). \n\nUn <strong>DataFrame</strong>  es una estructura de datos bidimensional, es decir, los datos se alinean de forma tabular en filas y columnas. Pandas DataFrame consta de tres componentes principales:\n</div>\n\n\n\n   - Los datos\n   - Las filas\n   - Las columnas",
      "metadata": {}
    },
    {
      "cell_type": "markdown",
      "source": "![Pantas_DataFrame](https://user-images.githubusercontent.com/19308295/119273989-44b2e380-bbd3-11eb-96d1-bd7e8a928fd6.png)",
      "metadata": {}
    },
    {
      "cell_type": "markdown",
      "source": "<div class=\"alert alert-info\">\n\nSi hablamos de la estructura de un **DataFrame** es muy similar a la de una matriz. Pero en una matriz solamente se admiten valores numéricos, a diferencia de la matriz, en un **DataFrame** se puede incluir también datos alfanuméricos en su contenido. \n\n\n</div>",
      "metadata": {}
    },
    {
      "cell_type": "markdown",
      "source": "![linea 2](https://user-images.githubusercontent.com/19308295/115926262-2fb62980-a448-11eb-8189-c2f10e499944.png)",
      "metadata": {}
    },
    {
      "cell_type": "markdown",
      "source": "## <font color=#33A5FF>****2. Creación de DataFrame****<tfont>",
      "metadata": {}
    },
    {
      "cell_type": "code",
      "source": "#Librerías\nimport numpy as np\nimport pandas as pd",
      "metadata": {
        "trusted": true
      },
      "outputs": [],
      "execution_count": 2
    },
    {
      "cell_type": "markdown",
      "source": "###  A partir de diccionarios de listas",
      "metadata": {}
    },
    {
      "cell_type": "code",
      "source": "#Datos en listas\ndiccionario = {'a': [11,12,13], 'b': [21,22,23]}\n\n#DataFrame\ndf_lista = pd.DataFrame(diccionario)\n\n#Impresión lista con print Spyder\nprint(df_lista)\n\n#Impresión con función head()\ndf_lista.head()",
      "metadata": {
        "trusted": true
      },
      "outputs": [
        {
          "name": "stdout",
          "text": "    a   b\n0  11  21\n1  12  22\n2  13  23\n",
          "output_type": "stream"
        },
        {
          "execution_count": 3,
          "output_type": "execute_result",
          "data": {
            "text/plain": "    a   b\n0  11  21\n1  12  22\n2  13  23",
            "text/html": "<div>\n<style scoped>\n    .dataframe tbody tr th:only-of-type {\n        vertical-align: middle;\n    }\n\n    .dataframe tbody tr th {\n        vertical-align: top;\n    }\n\n    .dataframe thead th {\n        text-align: right;\n    }\n</style>\n<table border=\"1\" class=\"dataframe\">\n  <thead>\n    <tr style=\"text-align: right;\">\n      <th></th>\n      <th>a</th>\n      <th>b</th>\n    </tr>\n  </thead>\n  <tbody>\n    <tr>\n      <th>0</th>\n      <td>11</td>\n      <td>21</td>\n    </tr>\n    <tr>\n      <th>1</th>\n      <td>12</td>\n      <td>22</td>\n    </tr>\n    <tr>\n      <th>2</th>\n      <td>13</td>\n      <td>23</td>\n    </tr>\n  </tbody>\n</table>\n</div>"
          },
          "metadata": {}
        }
      ],
      "execution_count": 3
    },
    {
      "cell_type": "code",
      "source": "#Datos en listas\ndiccionario_2 = {'Nombre':['Danna', 'Matt', 'Irma', 'Gustavo', 'Gladys'],\n                 'Edad':[19, 12, 50, 80, 83],\n                 'Categoría':['H','H','E','A','A']}\n\n#DataFrame\ndf_lista2 = pd.DataFrame(diccionario_2)\n\n#Impresión lista con print Spyder\nprint(df_lista2)\n\n#Impresión con función head()\ndf_lista2.head()",
      "metadata": {
        "trusted": true
      },
      "outputs": [
        {
          "name": "stdout",
          "text": "    Nombre  Edad Categoría\n0    Danna    19         H\n1     Matt    12         H\n2     Irma    50         E\n3  Gustavo    80         A\n4   Gladys    83         A\n",
          "output_type": "stream"
        },
        {
          "execution_count": 4,
          "output_type": "execute_result",
          "data": {
            "text/plain": "    Nombre  Edad Categoría\n0    Danna    19         H\n1     Matt    12         H\n2     Irma    50         E\n3  Gustavo    80         A\n4   Gladys    83         A",
            "text/html": "<div>\n<style scoped>\n    .dataframe tbody tr th:only-of-type {\n        vertical-align: middle;\n    }\n\n    .dataframe tbody tr th {\n        vertical-align: top;\n    }\n\n    .dataframe thead th {\n        text-align: right;\n    }\n</style>\n<table border=\"1\" class=\"dataframe\">\n  <thead>\n    <tr style=\"text-align: right;\">\n      <th></th>\n      <th>Nombre</th>\n      <th>Edad</th>\n      <th>Categoría</th>\n    </tr>\n  </thead>\n  <tbody>\n    <tr>\n      <th>0</th>\n      <td>Danna</td>\n      <td>19</td>\n      <td>H</td>\n    </tr>\n    <tr>\n      <th>1</th>\n      <td>Matt</td>\n      <td>12</td>\n      <td>H</td>\n    </tr>\n    <tr>\n      <th>2</th>\n      <td>Irma</td>\n      <td>50</td>\n      <td>E</td>\n    </tr>\n    <tr>\n      <th>3</th>\n      <td>Gustavo</td>\n      <td>80</td>\n      <td>A</td>\n    </tr>\n    <tr>\n      <th>4</th>\n      <td>Gladys</td>\n      <td>83</td>\n      <td>A</td>\n    </tr>\n  </tbody>\n</table>\n</div>"
          },
          "metadata": {}
        }
      ],
      "execution_count": 4
    },
    {
      "cell_type": "code",
      "source": "#Imprimir solo una columna Spyder\nprint(df_lista2['Edad'])",
      "metadata": {
        "trusted": true
      },
      "outputs": [
        {
          "name": "stdout",
          "text": "0    19\n1    12\n2    50\n3    80\n4    83\nName: Edad, dtype: int64\n",
          "output_type": "stream"
        }
      ],
      "execution_count": 5
    },
    {
      "cell_type": "code",
      "source": "#Imprimir solo una columna\ndf_lista2['Edad']",
      "metadata": {
        "trusted": true
      },
      "outputs": [
        {
          "execution_count": 6,
          "output_type": "execute_result",
          "data": {
            "text/plain": "0    19\n1    12\n2    50\n3    80\n4    83\nName: Edad, dtype: int64"
          },
          "metadata": {}
        }
      ],
      "execution_count": 6
    },
    {
      "cell_type": "markdown",
      "source": "### A partir de un numpy array de 2D",
      "metadata": {}
    },
    {
      "cell_type": "code",
      "source": "#A partir de Array 2D de 5 filas con 3 columnas\ndf_np2D = pd.DataFrame(\n    np.random.randint(5, size=(5,3)),\n    index=['primero','segundo','tercero','cuarto','quinto'],\n    columns=['velocidad','temperatura','presion']\n)\n#Impresión con función head()\ndf_np2D.head()",
      "metadata": {
        "trusted": true
      },
      "outputs": [
        {
          "execution_count": 7,
          "output_type": "execute_result",
          "data": {
            "text/plain": "         velocidad  temperatura  presion\nprimero          0            0        0\nsegundo          1            2        0\ntercero          0            3        3\ncuarto           0            3        2\nquinto           0            4        3",
            "text/html": "<div>\n<style scoped>\n    .dataframe tbody tr th:only-of-type {\n        vertical-align: middle;\n    }\n\n    .dataframe tbody tr th {\n        vertical-align: top;\n    }\n\n    .dataframe thead th {\n        text-align: right;\n    }\n</style>\n<table border=\"1\" class=\"dataframe\">\n  <thead>\n    <tr style=\"text-align: right;\">\n      <th></th>\n      <th>velocidad</th>\n      <th>temperatura</th>\n      <th>presion</th>\n    </tr>\n  </thead>\n  <tbody>\n    <tr>\n      <th>primero</th>\n      <td>0</td>\n      <td>0</td>\n      <td>0</td>\n    </tr>\n    <tr>\n      <th>segundo</th>\n      <td>1</td>\n      <td>2</td>\n      <td>0</td>\n    </tr>\n    <tr>\n      <th>tercero</th>\n      <td>0</td>\n      <td>3</td>\n      <td>3</td>\n    </tr>\n    <tr>\n      <th>cuarto</th>\n      <td>0</td>\n      <td>3</td>\n      <td>2</td>\n    </tr>\n    <tr>\n      <th>quinto</th>\n      <td>0</td>\n      <td>4</td>\n      <td>3</td>\n    </tr>\n  </tbody>\n</table>\n</div>"
          },
          "metadata": {}
        }
      ],
      "execution_count": 7
    },
    {
      "cell_type": "code",
      "source": "#forma dataframe spyder\nprint(df_np2D.shape)\n\n#altura dataframe spyder\nprint(len(df_np2D.index))",
      "metadata": {
        "trusted": true
      },
      "outputs": [
        {
          "name": "stdout",
          "text": "(5, 3)\n5\n",
          "output_type": "stream"
        }
      ],
      "execution_count": 8
    },
    {
      "cell_type": "markdown",
      "source": "![linea 2](https://user-images.githubusercontent.com/19308295/115926262-2fb62980-a448-11eb-8189-c2f10e499944.png)",
      "metadata": {}
    },
    {
      "cell_type": "markdown",
      "source": "## <font color=#33A5FF>****3. DataFrame a partir de archivo CSV****<tfont>",
      "metadata": {}
    },
    {
      "cell_type": "markdown",
      "source": "## CSV separado por comas:",
      "metadata": {}
    },
    {
      "cell_type": "markdown",
      "source": "Se adjunta un archivo `data.zip` a la practica, se debe crear la carpeta `data` con los archivos del `data.zip`.",
      "metadata": {}
    },
    {
      "cell_type": "code",
      "source": "#archivo CSV separado por comas\ndata  = pd.read_csv('data/titanic_comma.csv')\n\n#leer 5 primeras lineas\ndata.head()",
      "metadata": {
        "trusted": true
      },
      "outputs": [
        {
          "execution_count": 13,
          "output_type": "execute_result",
          "data": {
            "text/plain": "                                            Name PClass    Age     Sex  \\\n0                   Allen, Miss Elisabeth Walton    1st  29.00  female   \n1                    Allison, Miss Helen Loraine    1st   2.00  female   \n2            Allison, Mr Hudson Joshua Creighton    1st  30.00    male   \n3  Allison, Mrs Hudson JC (Bessie Waldo Daniels)    1st  25.00  female   \n4                  Allison, Master Hudson Trevor    1st   0.92    male   \n\n   Survived  \n0         1  \n1         0  \n2         0  \n3         0  \n4         1  ",
            "text/html": "<div>\n<style scoped>\n    .dataframe tbody tr th:only-of-type {\n        vertical-align: middle;\n    }\n\n    .dataframe tbody tr th {\n        vertical-align: top;\n    }\n\n    .dataframe thead th {\n        text-align: right;\n    }\n</style>\n<table border=\"1\" class=\"dataframe\">\n  <thead>\n    <tr style=\"text-align: right;\">\n      <th></th>\n      <th>Name</th>\n      <th>PClass</th>\n      <th>Age</th>\n      <th>Sex</th>\n      <th>Survived</th>\n    </tr>\n  </thead>\n  <tbody>\n    <tr>\n      <th>0</th>\n      <td>Allen, Miss Elisabeth Walton</td>\n      <td>1st</td>\n      <td>29.00</td>\n      <td>female</td>\n      <td>1</td>\n    </tr>\n    <tr>\n      <th>1</th>\n      <td>Allison, Miss Helen Loraine</td>\n      <td>1st</td>\n      <td>2.00</td>\n      <td>female</td>\n      <td>0</td>\n    </tr>\n    <tr>\n      <th>2</th>\n      <td>Allison, Mr Hudson Joshua Creighton</td>\n      <td>1st</td>\n      <td>30.00</td>\n      <td>male</td>\n      <td>0</td>\n    </tr>\n    <tr>\n      <th>3</th>\n      <td>Allison, Mrs Hudson JC (Bessie Waldo Daniels)</td>\n      <td>1st</td>\n      <td>25.00</td>\n      <td>female</td>\n      <td>0</td>\n    </tr>\n    <tr>\n      <th>4</th>\n      <td>Allison, Master Hudson Trevor</td>\n      <td>1st</td>\n      <td>0.92</td>\n      <td>male</td>\n      <td>1</td>\n    </tr>\n  </tbody>\n</table>\n</div>"
          },
          "metadata": {}
        }
      ],
      "execution_count": 13
    },
    {
      "cell_type": "code",
      "source": "#leer 5 últimas lineas\ndata.tail()",
      "metadata": {
        "trusted": true
      },
      "outputs": [
        {
          "execution_count": 14,
          "output_type": "execute_result",
          "data": {
            "text/plain": "                        Name PClass   Age   Sex  Survived\n1308      Zakarian, Mr Artun    3rd  27.0  male         0\n1309  Zakarian, Mr Maprieder    3rd  26.0  male         0\n1310        Zenni, Mr Philip    3rd  22.0  male         0\n1311        Lievens, Mr Rene    3rd  24.0  male         0\n1312          Zimmerman, Leo    3rd  29.0  male         0",
            "text/html": "<div>\n<style scoped>\n    .dataframe tbody tr th:only-of-type {\n        vertical-align: middle;\n    }\n\n    .dataframe tbody tr th {\n        vertical-align: top;\n    }\n\n    .dataframe thead th {\n        text-align: right;\n    }\n</style>\n<table border=\"1\" class=\"dataframe\">\n  <thead>\n    <tr style=\"text-align: right;\">\n      <th></th>\n      <th>Name</th>\n      <th>PClass</th>\n      <th>Age</th>\n      <th>Sex</th>\n      <th>Survived</th>\n    </tr>\n  </thead>\n  <tbody>\n    <tr>\n      <th>1308</th>\n      <td>Zakarian, Mr Artun</td>\n      <td>3rd</td>\n      <td>27.0</td>\n      <td>male</td>\n      <td>0</td>\n    </tr>\n    <tr>\n      <th>1309</th>\n      <td>Zakarian, Mr Maprieder</td>\n      <td>3rd</td>\n      <td>26.0</td>\n      <td>male</td>\n      <td>0</td>\n    </tr>\n    <tr>\n      <th>1310</th>\n      <td>Zenni, Mr Philip</td>\n      <td>3rd</td>\n      <td>22.0</td>\n      <td>male</td>\n      <td>0</td>\n    </tr>\n    <tr>\n      <th>1311</th>\n      <td>Lievens, Mr Rene</td>\n      <td>3rd</td>\n      <td>24.0</td>\n      <td>male</td>\n      <td>0</td>\n    </tr>\n    <tr>\n      <th>1312</th>\n      <td>Zimmerman, Leo</td>\n      <td>3rd</td>\n      <td>29.0</td>\n      <td>male</td>\n      <td>0</td>\n    </tr>\n  </tbody>\n</table>\n</div>"
          },
          "metadata": {}
        }
      ],
      "execution_count": 14
    },
    {
      "cell_type": "code",
      "source": "#Para imprimir en Spyder\nprint(data)",
      "metadata": {
        "trusted": true
      },
      "outputs": [
        {
          "name": "stdout",
          "text": "                                               Name PClass    Age     Sex  \\\n0                      Allen, Miss Elisabeth Walton    1st  29.00  female   \n1                       Allison, Miss Helen Loraine    1st   2.00  female   \n2               Allison, Mr Hudson Joshua Creighton    1st  30.00    male   \n3     Allison, Mrs Hudson JC (Bessie Waldo Daniels)    1st  25.00  female   \n4                     Allison, Master Hudson Trevor    1st   0.92    male   \n...                                             ...    ...    ...     ...   \n1308                             Zakarian, Mr Artun    3rd  27.00    male   \n1309                         Zakarian, Mr Maprieder    3rd  26.00    male   \n1310                               Zenni, Mr Philip    3rd  22.00    male   \n1311                               Lievens, Mr Rene    3rd  24.00    male   \n1312                                 Zimmerman, Leo    3rd  29.00    male   \n\n      Survived  \n0            1  \n1            0  \n2            0  \n3            0  \n4            1  \n...        ...  \n1308         0  \n1309         0  \n1310         0  \n1311         0  \n1312         0  \n\n[1313 rows x 5 columns]\n",
          "output_type": "stream"
        }
      ],
      "execution_count": 16
    },
    {
      "cell_type": "markdown",
      "source": "### CSV separado por tabulacion:",
      "metadata": {}
    },
    {
      "cell_type": "code",
      "source": "#archivo CSV separado por comas\ndata2 = pd.read_csv('data/titanic_tabs.csv', '\\t')\n\n#leer 5 primeras lineas\ndata2.tail()",
      "metadata": {
        "trusted": true
      },
      "outputs": [
        {
          "name": "stderr",
          "text": "<ipython-input-23-c0034df02a2f>:2: FutureWarning: In a future version of pandas all arguments of read_csv except for the argument 'filepath_or_buffer' will be keyword-only.\n  data2 = pd.read_csv('data/titanic_tabs.csv', '\\t')\n",
          "output_type": "stream"
        },
        {
          "execution_count": 23,
          "output_type": "execute_result",
          "data": {
            "text/plain": "     PassengerId  Survived  Pclass                               Name     Sex  \\\n151          152         1       1  Pears, Mrs. Thomas (Edith Wearne)  female   \n152          153         0       3                   Meo, Mr. Alfonzo    male   \n153          154         0       3    van Billiard, Mr. Austin Blyler    male   \n154          155         0       3              Olsen, Mr. Ole Martin    male   \n155          156         0       1        Williams, Mr. Charles Duane    male   \n\n      Age  SibSp  Parch      Ticket     Fare Cabin Embarked  \n151  22.0      1      0      113776  66.6000    C2        S  \n152  55.5      0      0  A.5. 11206   8.0500   NaN        S  \n153  40.5      0      2    A/5. 851  14.5000   NaN        S  \n154   NaN      0      0   Fa 265302   7.3125   NaN        S  \n155  51.0      0      1    PC 17597  61.3792   NaN        C  ",
            "text/html": "<div>\n<style scoped>\n    .dataframe tbody tr th:only-of-type {\n        vertical-align: middle;\n    }\n\n    .dataframe tbody tr th {\n        vertical-align: top;\n    }\n\n    .dataframe thead th {\n        text-align: right;\n    }\n</style>\n<table border=\"1\" class=\"dataframe\">\n  <thead>\n    <tr style=\"text-align: right;\">\n      <th></th>\n      <th>PassengerId</th>\n      <th>Survived</th>\n      <th>Pclass</th>\n      <th>Name</th>\n      <th>Sex</th>\n      <th>Age</th>\n      <th>SibSp</th>\n      <th>Parch</th>\n      <th>Ticket</th>\n      <th>Fare</th>\n      <th>Cabin</th>\n      <th>Embarked</th>\n    </tr>\n  </thead>\n  <tbody>\n    <tr>\n      <th>151</th>\n      <td>152</td>\n      <td>1</td>\n      <td>1</td>\n      <td>Pears, Mrs. Thomas (Edith Wearne)</td>\n      <td>female</td>\n      <td>22.0</td>\n      <td>1</td>\n      <td>0</td>\n      <td>113776</td>\n      <td>66.6000</td>\n      <td>C2</td>\n      <td>S</td>\n    </tr>\n    <tr>\n      <th>152</th>\n      <td>153</td>\n      <td>0</td>\n      <td>3</td>\n      <td>Meo, Mr. Alfonzo</td>\n      <td>male</td>\n      <td>55.5</td>\n      <td>0</td>\n      <td>0</td>\n      <td>A.5. 11206</td>\n      <td>8.0500</td>\n      <td>NaN</td>\n      <td>S</td>\n    </tr>\n    <tr>\n      <th>153</th>\n      <td>154</td>\n      <td>0</td>\n      <td>3</td>\n      <td>van Billiard, Mr. Austin Blyler</td>\n      <td>male</td>\n      <td>40.5</td>\n      <td>0</td>\n      <td>2</td>\n      <td>A/5. 851</td>\n      <td>14.5000</td>\n      <td>NaN</td>\n      <td>S</td>\n    </tr>\n    <tr>\n      <th>154</th>\n      <td>155</td>\n      <td>0</td>\n      <td>3</td>\n      <td>Olsen, Mr. Ole Martin</td>\n      <td>male</td>\n      <td>NaN</td>\n      <td>0</td>\n      <td>0</td>\n      <td>Fa 265302</td>\n      <td>7.3125</td>\n      <td>NaN</td>\n      <td>S</td>\n    </tr>\n    <tr>\n      <th>155</th>\n      <td>156</td>\n      <td>0</td>\n      <td>1</td>\n      <td>Williams, Mr. Charles Duane</td>\n      <td>male</td>\n      <td>51.0</td>\n      <td>0</td>\n      <td>1</td>\n      <td>PC 17597</td>\n      <td>61.3792</td>\n      <td>NaN</td>\n      <td>C</td>\n    </tr>\n  </tbody>\n</table>\n</div>"
          },
          "metadata": {}
        }
      ],
      "execution_count": 23
    },
    {
      "cell_type": "markdown",
      "source": "![linea 2](https://user-images.githubusercontent.com/19308295/115926262-2fb62980-a448-11eb-8189-c2f10e499944.png)",
      "metadata": {}
    },
    {
      "cell_type": "markdown",
      "source": "## <font color=#33A5FF>****4. Estadistica DataFrame****<tfont>",
      "metadata": {}
    },
    {
      "cell_type": "markdown",
      "source": "<div class=\"well\">\nEn <strong>Pandas</strong>  podemos hallar con pocos comandos de manera muy sencilla y rapida <strong>la estadistica</strong> de los datos de todo tipo de archivos. Comenzamos con archivos <code>csv</code>.   \n</div>",
      "metadata": {}
    },
    {
      "cell_type": "code",
      "source": "#cargamos un archivo CSV separado por punto y coma (importado excel)\nnotas = pd.read_csv('data/notas.csv', ';')\n\n#leer 10 primeras lineas\nnotas.head(10)\n#imprimir toda la lista\n#print(notas)",
      "metadata": {
        "trusted": true
      },
      "outputs": [
        {
          "name": "stderr",
          "text": "<ipython-input-26-4bed4f70701f>:2: FutureWarning: In a future version of pandas all arguments of read_csv except for the argument 'filepath_or_buffer' will be keyword-only.\n  notas = pd.read_csv('data/notas.csv', ';')\n",
          "output_type": "stream"
        },
        {
          "execution_count": 26,
          "output_type": "execute_result",
          "data": {
            "text/plain": "   Alumno  Nota1  Nota2  Nota3  Promedio\n0   Maria   18.0     19     18        18\n1    Jose    8.0     15     11        11\n2    Juan   13.0     12     17        14\n3    Luis   10.0     19     18        16\n4  Carlos   16.0     12     10        13\n5    Rosa    0.0     14     10         8\n6   Jorge    9.0     11     19        13\n7  Victor    6.0     13     10        10\n8     Ana   18.0     19     11        16\n9     Luz   14.0     20     16        17",
            "text/html": "<div>\n<style scoped>\n    .dataframe tbody tr th:only-of-type {\n        vertical-align: middle;\n    }\n\n    .dataframe tbody tr th {\n        vertical-align: top;\n    }\n\n    .dataframe thead th {\n        text-align: right;\n    }\n</style>\n<table border=\"1\" class=\"dataframe\">\n  <thead>\n    <tr style=\"text-align: right;\">\n      <th></th>\n      <th>Alumno</th>\n      <th>Nota1</th>\n      <th>Nota2</th>\n      <th>Nota3</th>\n      <th>Promedio</th>\n    </tr>\n  </thead>\n  <tbody>\n    <tr>\n      <th>0</th>\n      <td>Maria</td>\n      <td>18.0</td>\n      <td>19</td>\n      <td>18</td>\n      <td>18</td>\n    </tr>\n    <tr>\n      <th>1</th>\n      <td>Jose</td>\n      <td>8.0</td>\n      <td>15</td>\n      <td>11</td>\n      <td>11</td>\n    </tr>\n    <tr>\n      <th>2</th>\n      <td>Juan</td>\n      <td>13.0</td>\n      <td>12</td>\n      <td>17</td>\n      <td>14</td>\n    </tr>\n    <tr>\n      <th>3</th>\n      <td>Luis</td>\n      <td>10.0</td>\n      <td>19</td>\n      <td>18</td>\n      <td>16</td>\n    </tr>\n    <tr>\n      <th>4</th>\n      <td>Carlos</td>\n      <td>16.0</td>\n      <td>12</td>\n      <td>10</td>\n      <td>13</td>\n    </tr>\n    <tr>\n      <th>5</th>\n      <td>Rosa</td>\n      <td>0.0</td>\n      <td>14</td>\n      <td>10</td>\n      <td>8</td>\n    </tr>\n    <tr>\n      <th>6</th>\n      <td>Jorge</td>\n      <td>9.0</td>\n      <td>11</td>\n      <td>19</td>\n      <td>13</td>\n    </tr>\n    <tr>\n      <th>7</th>\n      <td>Victor</td>\n      <td>6.0</td>\n      <td>13</td>\n      <td>10</td>\n      <td>10</td>\n    </tr>\n    <tr>\n      <th>8</th>\n      <td>Ana</td>\n      <td>18.0</td>\n      <td>19</td>\n      <td>11</td>\n      <td>16</td>\n    </tr>\n    <tr>\n      <th>9</th>\n      <td>Luz</td>\n      <td>14.0</td>\n      <td>20</td>\n      <td>16</td>\n      <td>17</td>\n    </tr>\n  </tbody>\n</table>\n</div>"
          },
          "metadata": {}
        }
      ],
      "execution_count": 26
    },
    {
      "cell_type": "markdown",
      "source": "`describe()` : muestra estadísticas de resumen para las columnas numéricas.",
      "metadata": {}
    },
    {
      "cell_type": "code",
      "source": "#Estadísticas del DataFrame\nprint('Estadisticas de DataFrame:')\n\n#impresión\nnotas.describe()",
      "metadata": {
        "trusted": true
      },
      "outputs": [
        {
          "name": "stdout",
          "text": "Estadisticas de DataFrame:\n",
          "output_type": "stream"
        },
        {
          "execution_count": 27,
          "output_type": "execute_result",
          "data": {
            "text/plain": "           Nota1      Nota2      Nota3   Promedio\ncount  49.000000  50.000000  50.000000  50.000000\nmean   11.836735  13.720000  14.720000  13.440000\nstd     5.075870   4.204177   3.434756   2.778636\nmin     0.000000   0.000000  10.000000   8.000000\n25%     8.000000  11.000000  11.250000  12.000000\n50%    11.000000  13.000000  14.500000  13.000000\n75%    16.000000  17.000000  18.000000  15.750000\nmax    20.000000  20.000000  20.000000  19.000000",
            "text/html": "<div>\n<style scoped>\n    .dataframe tbody tr th:only-of-type {\n        vertical-align: middle;\n    }\n\n    .dataframe tbody tr th {\n        vertical-align: top;\n    }\n\n    .dataframe thead th {\n        text-align: right;\n    }\n</style>\n<table border=\"1\" class=\"dataframe\">\n  <thead>\n    <tr style=\"text-align: right;\">\n      <th></th>\n      <th>Nota1</th>\n      <th>Nota2</th>\n      <th>Nota3</th>\n      <th>Promedio</th>\n    </tr>\n  </thead>\n  <tbody>\n    <tr>\n      <th>count</th>\n      <td>49.000000</td>\n      <td>50.000000</td>\n      <td>50.000000</td>\n      <td>50.000000</td>\n    </tr>\n    <tr>\n      <th>mean</th>\n      <td>11.836735</td>\n      <td>13.720000</td>\n      <td>14.720000</td>\n      <td>13.440000</td>\n    </tr>\n    <tr>\n      <th>std</th>\n      <td>5.075870</td>\n      <td>4.204177</td>\n      <td>3.434756</td>\n      <td>2.778636</td>\n    </tr>\n    <tr>\n      <th>min</th>\n      <td>0.000000</td>\n      <td>0.000000</td>\n      <td>10.000000</td>\n      <td>8.000000</td>\n    </tr>\n    <tr>\n      <th>25%</th>\n      <td>8.000000</td>\n      <td>11.000000</td>\n      <td>11.250000</td>\n      <td>12.000000</td>\n    </tr>\n    <tr>\n      <th>50%</th>\n      <td>11.000000</td>\n      <td>13.000000</td>\n      <td>14.500000</td>\n      <td>13.000000</td>\n    </tr>\n    <tr>\n      <th>75%</th>\n      <td>16.000000</td>\n      <td>17.000000</td>\n      <td>18.000000</td>\n      <td>15.750000</td>\n    </tr>\n    <tr>\n      <th>max</th>\n      <td>20.000000</td>\n      <td>20.000000</td>\n      <td>20.000000</td>\n      <td>19.000000</td>\n    </tr>\n  </tbody>\n</table>\n</div>"
          },
          "metadata": {}
        }
      ],
      "execution_count": 27
    },
    {
      "cell_type": "markdown",
      "source": "Para los datos numéricos, el índice del resultado incluirá **cantidad de datos** `count`, **media** `mean`, desviación estandar `std`, **valor mínimo** `min`, **valor máximo**,los percentiles inferior de 25% y el percentil superior de 75%.",
      "metadata": {}
    },
    {
      "cell_type": "markdown",
      "source": "### Media de las columnas DataFrame",
      "metadata": {}
    },
    {
      "cell_type": "code",
      "source": "#Media de las columnas DataFrame\nprint('Media de las columnas DataFrame:')\n\n#impresión print spyder\nprint(notas.mean())",
      "metadata": {
        "trusted": true
      },
      "outputs": [
        {
          "name": "stdout",
          "text": "Media de las columnas DataFrame:\n",
          "output_type": "stream"
        },
        {
          "name": "stderr",
          "text": "<ipython-input-28-9a392673a833>:5: FutureWarning: The default value of numeric_only in DataFrame.mean is deprecated. In a future version, it will default to False. In addition, specifying 'numeric_only=None' is deprecated. Select only valid columns or specify the value of numeric_only to silence this warning.\n  print(notas.mean())\n",
          "output_type": "stream"
        },
        {
          "name": "stdout",
          "text": "Nota1       11.836735\nNota2       13.720000\nNota3       14.720000\nPromedio    13.440000\ndtype: float64\n",
          "output_type": "stream"
        }
      ],
      "execution_count": 28
    },
    {
      "cell_type": "code",
      "source": "#impresión\nnotas.mean()",
      "metadata": {
        "trusted": true
      },
      "outputs": [
        {
          "name": "stderr",
          "text": "<ipython-input-29-8fb9ed79fd3f>:2: FutureWarning: The default value of numeric_only in DataFrame.mean is deprecated. In a future version, it will default to False. In addition, specifying 'numeric_only=None' is deprecated. Select only valid columns or specify the value of numeric_only to silence this warning.\n  notas.mean()\n",
          "output_type": "stream"
        },
        {
          "execution_count": 29,
          "output_type": "execute_result",
          "data": {
            "text/plain": "Nota1       11.836735\nNota2       13.720000\nNota3       14.720000\nPromedio    13.440000\ndtype: float64"
          },
          "metadata": {}
        }
      ],
      "execution_count": 29
    },
    {
      "cell_type": "markdown",
      "source": "### Correlación del DataFrame",
      "metadata": {}
    },
    {
      "cell_type": "code",
      "source": "#Correlación del DataFrame\nprint('Correlacion del DataFrame:')\n\n#impresión\nnotas.corr()",
      "metadata": {
        "trusted": true
      },
      "outputs": [
        {
          "name": "stdout",
          "text": "Correlacion del DataFrame:\n",
          "output_type": "stream"
        },
        {
          "name": "stderr",
          "text": "<ipython-input-34-b4ee6823badb>:5: FutureWarning: The default value of numeric_only in DataFrame.corr is deprecated. In a future version, it will default to False. Select only valid columns or specify the value of numeric_only to silence this warning.\n  notas.corr()\n",
          "output_type": "stream"
        },
        {
          "execution_count": 34,
          "output_type": "execute_result",
          "data": {
            "text/plain": "             Nota1     Nota2     Nota3  Promedio\nNota1     1.000000  0.154411  0.212137  0.762637\nNota2     0.154411  1.000000  0.008593  0.596004\nNota3     0.212137  0.008593  1.000000  0.549895\nPromedio  0.762637  0.596004  0.549895  1.000000",
            "text/html": "<div>\n<style scoped>\n    .dataframe tbody tr th:only-of-type {\n        vertical-align: middle;\n    }\n\n    .dataframe tbody tr th {\n        vertical-align: top;\n    }\n\n    .dataframe thead th {\n        text-align: right;\n    }\n</style>\n<table border=\"1\" class=\"dataframe\">\n  <thead>\n    <tr style=\"text-align: right;\">\n      <th></th>\n      <th>Nota1</th>\n      <th>Nota2</th>\n      <th>Nota3</th>\n      <th>Promedio</th>\n    </tr>\n  </thead>\n  <tbody>\n    <tr>\n      <th>Nota1</th>\n      <td>1.000000</td>\n      <td>0.154411</td>\n      <td>0.212137</td>\n      <td>0.762637</td>\n    </tr>\n    <tr>\n      <th>Nota2</th>\n      <td>0.154411</td>\n      <td>1.000000</td>\n      <td>0.008593</td>\n      <td>0.596004</td>\n    </tr>\n    <tr>\n      <th>Nota3</th>\n      <td>0.212137</td>\n      <td>0.008593</td>\n      <td>1.000000</td>\n      <td>0.549895</td>\n    </tr>\n    <tr>\n      <th>Promedio</th>\n      <td>0.762637</td>\n      <td>0.596004</td>\n      <td>0.549895</td>\n      <td>1.000000</td>\n    </tr>\n  </tbody>\n</table>\n</div>"
          },
          "metadata": {}
        }
      ],
      "execution_count": 34
    },
    {
      "cell_type": "markdown",
      "source": "### Cuenta los datos del DataFrame ",
      "metadata": {}
    },
    {
      "cell_type": "code",
      "source": "#Cuenta los datos del DataFrame no nulos\nprint('Conteo de datos del DataFrame:')\n\n#impresión\nnotas.count()",
      "metadata": {
        "trusted": true
      },
      "outputs": [
        {
          "name": "stdout",
          "text": "Conteo de datos del DataFrame:\n",
          "output_type": "stream"
        },
        {
          "execution_count": 35,
          "output_type": "execute_result",
          "data": {
            "text/plain": "Alumno      50\nNota1       49\nNota2       50\nNota3       50\nPromedio    50\ndtype: int64"
          },
          "metadata": {}
        }
      ],
      "execution_count": 35
    },
    {
      "cell_type": "markdown",
      "source": "### Valor más alto",
      "metadata": {}
    },
    {
      "cell_type": "code",
      "source": "#Valor más alto de cada columna del DataFrame\nprint('Valor mas alto de la columna del DataFrame:')\n\n#impresión\nnotas.max()",
      "metadata": {
        "trusted": true
      },
      "outputs": [
        {
          "name": "stdout",
          "text": "Valor mas alto de la columna del DataFrame:\n",
          "output_type": "stream"
        },
        {
          "execution_count": 36,
          "output_type": "execute_result",
          "data": {
            "text/plain": "Alumno      Walter\nNota1         20.0\nNota2           20\nNota3           20\nPromedio        19\ndtype: object"
          },
          "metadata": {}
        }
      ],
      "execution_count": 36
    },
    {
      "cell_type": "markdown",
      "source": "### Valor más bajo",
      "metadata": {}
    },
    {
      "cell_type": "code",
      "source": "#Valor mínimo de cada columna del DataFrame\nprint('Valor minimo de la columna del DataFrame:')\n\n#impresión\nnotas.min()",
      "metadata": {
        "trusted": true
      },
      "outputs": [
        {
          "name": "stdout",
          "text": "Valor minimo de la columna del DataFrame:\n",
          "output_type": "stream"
        },
        {
          "execution_count": 37,
          "output_type": "execute_result",
          "data": {
            "text/plain": "Alumno      Alejandro\nNota1             0.0\nNota2               0\nNota3              10\nPromedio            8\ndtype: object"
          },
          "metadata": {}
        }
      ],
      "execution_count": 37
    },
    {
      "cell_type": "markdown",
      "source": "### Mediana x Columna",
      "metadata": {}
    },
    {
      "cell_type": "code",
      "source": "#Mediana de cada columna del DataFrame\nprint('Mediana de la columna del DataFrame:')\n\n#impresion\nnotas.mean()",
      "metadata": {
        "trusted": true
      },
      "outputs": [
        {
          "name": "stdout",
          "text": "Mediana de la columna del DataFrame:\n",
          "output_type": "stream"
        },
        {
          "name": "stderr",
          "text": "<ipython-input-41-37bd49b9e8e1>:5: FutureWarning: The default value of numeric_only in DataFrame.mean is deprecated. In a future version, it will default to False. In addition, specifying 'numeric_only=None' is deprecated. Select only valid columns or specify the value of numeric_only to silence this warning.\n  notas.mean()\n",
          "output_type": "stream"
        },
        {
          "execution_count": 41,
          "output_type": "execute_result",
          "data": {
            "text/plain": "Nota1       11.836735\nNota2       13.720000\nNota3       14.720000\nPromedio    13.440000\ndtype: float64"
          },
          "metadata": {}
        }
      ],
      "execution_count": 41
    },
    {
      "cell_type": "markdown",
      "source": "### Desviación estándar x Columna ",
      "metadata": {}
    },
    {
      "cell_type": "code",
      "source": "#Desviación estándar de cada columna del DataFrame\nprint('Desviacion estandar de la columna del DataFrame:')\n\n#impresion\nnotas.std()",
      "metadata": {
        "trusted": true
      },
      "outputs": [
        {
          "name": "stdout",
          "text": "Desviacion estandar de la columna del DataFrame:\n",
          "output_type": "stream"
        },
        {
          "name": "stderr",
          "text": "<ipython-input-43-02c0a642f545>:5: FutureWarning: The default value of numeric_only in DataFrame.std is deprecated. In a future version, it will default to False. In addition, specifying 'numeric_only=None' is deprecated. Select only valid columns or specify the value of numeric_only to silence this warning.\n  notas.std()\n",
          "output_type": "stream"
        },
        {
          "execution_count": 43,
          "output_type": "execute_result",
          "data": {
            "text/plain": "Nota1       5.075870\nNota2       4.204177\nNota3       3.434756\nPromedio    2.778636\ndtype: float64"
          },
          "metadata": {}
        }
      ],
      "execution_count": 43
    },
    {
      "cell_type": "markdown",
      "source": "##  Seleccionar un índice o columna",
      "metadata": {}
    },
    {
      "cell_type": "markdown",
      "source": "Una de las funciones que son muy fáciles en **Pandas** es seleccionar los datos que deseas en comparación con seleccionar un valor de una lista o un diccionario. Puedes seleccionar una columna de manera muy fácil, solamente deberás indicar el índice de la misma.",
      "metadata": {}
    },
    {
      "cell_type": "code",
      "source": "#Seleccionar la primera columna del DataFrame\nprint('Primera columna del DataFrame:')\n\n#impresión\nnotas.iloc[:, 0]",
      "metadata": {
        "trusted": true
      },
      "outputs": [
        {
          "name": "stdout",
          "text": "Primera columna del DataFrame:\n",
          "output_type": "stream"
        },
        {
          "execution_count": 44,
          "output_type": "execute_result",
          "data": {
            "text/plain": "0         Maria\n1          Jose\n2          Juan\n3          Luis\n4        Carlos\n5          Rosa\n6         Jorge\n7        Victor\n8           Ana\n9           Luz\n10        Cesar\n11       Carmen\n12       Miguel\n13        Julio\n14        Jesus\n15        Pedro\n16       Manuel\n17        Juana\n18       Santos\n19      Segundo\n20         Jhon\n21        David\n22        Angel\n23        Julia\n24        Diego\n25         Flor\n26    Elizabeth\n27       Daniel\n28        Oscar\n29         Ruth\n30        Diana\n31        Marco\n32        Edwin\n33       Javier\n34       Walter\n35    Francisco\n36     Fernando\n37     Milagros\n38    Alejandro\n39         Raul\n40      Ricardo\n41         Alex\n42      Roberto\n43        Edgar\n44     Victoria\n45      Eduardo\n46        Mario\n47        Jaime\n48       Gloria\n49       Andrea\nName: Alumno, dtype: object"
          },
          "metadata": {}
        }
      ],
      "execution_count": 44
    },
    {
      "cell_type": "code",
      "source": "#Seleccionar dos columnas del DataFrame\nprint('Dos columnas del DataFrame:')\n\n#impresión\nnotas.iloc[:, 0:2]",
      "metadata": {
        "trusted": true
      },
      "outputs": [
        {
          "name": "stdout",
          "text": "Dos columnas del DataFrame:\n",
          "output_type": "stream"
        },
        {
          "execution_count": 45,
          "output_type": "execute_result",
          "data": {
            "text/plain": "       Alumno  Nota1\n0       Maria   18.0\n1        Jose    8.0\n2        Juan   13.0\n3        Luis   10.0\n4      Carlos   16.0\n5        Rosa    0.0\n6       Jorge    9.0\n7      Victor    6.0\n8         Ana   18.0\n9         Luz   14.0\n10      Cesar    8.0\n11     Carmen   14.0\n12     Miguel   14.0\n13      Julio   11.0\n14      Jesus   12.0\n15      Pedro    5.0\n16     Manuel   15.0\n17      Juana    8.0\n18     Santos    7.0\n19    Segundo    NaN\n20       Jhon   10.0\n21      David    7.0\n22      Angel   18.0\n23      Julia    7.0\n24      Diego   20.0\n25       Flor   12.0\n26  Elizabeth   16.0\n27     Daniel   18.0\n28      Oscar   10.0\n29       Ruth    9.0\n30      Diana   16.0\n31      Marco    9.0\n32      Edwin    0.0\n33     Javier    6.0\n34     Walter   11.0\n35  Francisco    5.0\n36   Fernando   10.0\n37   Milagros   18.0\n38  Alejandro    9.0\n39       Raul   20.0\n40    Ricardo    9.0\n41       Alex   10.0\n42    Roberto   19.0\n43      Edgar   15.0\n44   Victoria    8.0\n45    Eduardo   12.0\n46      Mario   19.0\n47      Jaime   18.0\n48     Gloria   19.0\n49     Andrea   14.0",
            "text/html": "<div>\n<style scoped>\n    .dataframe tbody tr th:only-of-type {\n        vertical-align: middle;\n    }\n\n    .dataframe tbody tr th {\n        vertical-align: top;\n    }\n\n    .dataframe thead th {\n        text-align: right;\n    }\n</style>\n<table border=\"1\" class=\"dataframe\">\n  <thead>\n    <tr style=\"text-align: right;\">\n      <th></th>\n      <th>Alumno</th>\n      <th>Nota1</th>\n    </tr>\n  </thead>\n  <tbody>\n    <tr>\n      <th>0</th>\n      <td>Maria</td>\n      <td>18.0</td>\n    </tr>\n    <tr>\n      <th>1</th>\n      <td>Jose</td>\n      <td>8.0</td>\n    </tr>\n    <tr>\n      <th>2</th>\n      <td>Juan</td>\n      <td>13.0</td>\n    </tr>\n    <tr>\n      <th>3</th>\n      <td>Luis</td>\n      <td>10.0</td>\n    </tr>\n    <tr>\n      <th>4</th>\n      <td>Carlos</td>\n      <td>16.0</td>\n    </tr>\n    <tr>\n      <th>5</th>\n      <td>Rosa</td>\n      <td>0.0</td>\n    </tr>\n    <tr>\n      <th>6</th>\n      <td>Jorge</td>\n      <td>9.0</td>\n    </tr>\n    <tr>\n      <th>7</th>\n      <td>Victor</td>\n      <td>6.0</td>\n    </tr>\n    <tr>\n      <th>8</th>\n      <td>Ana</td>\n      <td>18.0</td>\n    </tr>\n    <tr>\n      <th>9</th>\n      <td>Luz</td>\n      <td>14.0</td>\n    </tr>\n    <tr>\n      <th>10</th>\n      <td>Cesar</td>\n      <td>8.0</td>\n    </tr>\n    <tr>\n      <th>11</th>\n      <td>Carmen</td>\n      <td>14.0</td>\n    </tr>\n    <tr>\n      <th>12</th>\n      <td>Miguel</td>\n      <td>14.0</td>\n    </tr>\n    <tr>\n      <th>13</th>\n      <td>Julio</td>\n      <td>11.0</td>\n    </tr>\n    <tr>\n      <th>14</th>\n      <td>Jesus</td>\n      <td>12.0</td>\n    </tr>\n    <tr>\n      <th>15</th>\n      <td>Pedro</td>\n      <td>5.0</td>\n    </tr>\n    <tr>\n      <th>16</th>\n      <td>Manuel</td>\n      <td>15.0</td>\n    </tr>\n    <tr>\n      <th>17</th>\n      <td>Juana</td>\n      <td>8.0</td>\n    </tr>\n    <tr>\n      <th>18</th>\n      <td>Santos</td>\n      <td>7.0</td>\n    </tr>\n    <tr>\n      <th>19</th>\n      <td>Segundo</td>\n      <td>NaN</td>\n    </tr>\n    <tr>\n      <th>20</th>\n      <td>Jhon</td>\n      <td>10.0</td>\n    </tr>\n    <tr>\n      <th>21</th>\n      <td>David</td>\n      <td>7.0</td>\n    </tr>\n    <tr>\n      <th>22</th>\n      <td>Angel</td>\n      <td>18.0</td>\n    </tr>\n    <tr>\n      <th>23</th>\n      <td>Julia</td>\n      <td>7.0</td>\n    </tr>\n    <tr>\n      <th>24</th>\n      <td>Diego</td>\n      <td>20.0</td>\n    </tr>\n    <tr>\n      <th>25</th>\n      <td>Flor</td>\n      <td>12.0</td>\n    </tr>\n    <tr>\n      <th>26</th>\n      <td>Elizabeth</td>\n      <td>16.0</td>\n    </tr>\n    <tr>\n      <th>27</th>\n      <td>Daniel</td>\n      <td>18.0</td>\n    </tr>\n    <tr>\n      <th>28</th>\n      <td>Oscar</td>\n      <td>10.0</td>\n    </tr>\n    <tr>\n      <th>29</th>\n      <td>Ruth</td>\n      <td>9.0</td>\n    </tr>\n    <tr>\n      <th>30</th>\n      <td>Diana</td>\n      <td>16.0</td>\n    </tr>\n    <tr>\n      <th>31</th>\n      <td>Marco</td>\n      <td>9.0</td>\n    </tr>\n    <tr>\n      <th>32</th>\n      <td>Edwin</td>\n      <td>0.0</td>\n    </tr>\n    <tr>\n      <th>33</th>\n      <td>Javier</td>\n      <td>6.0</td>\n    </tr>\n    <tr>\n      <th>34</th>\n      <td>Walter</td>\n      <td>11.0</td>\n    </tr>\n    <tr>\n      <th>35</th>\n      <td>Francisco</td>\n      <td>5.0</td>\n    </tr>\n    <tr>\n      <th>36</th>\n      <td>Fernando</td>\n      <td>10.0</td>\n    </tr>\n    <tr>\n      <th>37</th>\n      <td>Milagros</td>\n      <td>18.0</td>\n    </tr>\n    <tr>\n      <th>38</th>\n      <td>Alejandro</td>\n      <td>9.0</td>\n    </tr>\n    <tr>\n      <th>39</th>\n      <td>Raul</td>\n      <td>20.0</td>\n    </tr>\n    <tr>\n      <th>40</th>\n      <td>Ricardo</td>\n      <td>9.0</td>\n    </tr>\n    <tr>\n      <th>41</th>\n      <td>Alex</td>\n      <td>10.0</td>\n    </tr>\n    <tr>\n      <th>42</th>\n      <td>Roberto</td>\n      <td>19.0</td>\n    </tr>\n    <tr>\n      <th>43</th>\n      <td>Edgar</td>\n      <td>15.0</td>\n    </tr>\n    <tr>\n      <th>44</th>\n      <td>Victoria</td>\n      <td>8.0</td>\n    </tr>\n    <tr>\n      <th>45</th>\n      <td>Eduardo</td>\n      <td>12.0</td>\n    </tr>\n    <tr>\n      <th>46</th>\n      <td>Mario</td>\n      <td>19.0</td>\n    </tr>\n    <tr>\n      <th>47</th>\n      <td>Jaime</td>\n      <td>18.0</td>\n    </tr>\n    <tr>\n      <th>48</th>\n      <td>Gloria</td>\n      <td>19.0</td>\n    </tr>\n    <tr>\n      <th>49</th>\n      <td>Andrea</td>\n      <td>14.0</td>\n    </tr>\n  </tbody>\n</table>\n</div>"
          },
          "metadata": {}
        }
      ],
      "execution_count": 45
    },
    {
      "cell_type": "code",
      "source": "#Seleccionar el valor de la primera fila y última columna del DataFrame\nprint('Valor de la primera fila(Alumno: Maria) y 3era columna(Nota2) del DataFrame:')\n\n#impresión\nnotas.iloc[0][2]",
      "metadata": {
        "trusted": true
      },
      "outputs": [
        {
          "name": "stdout",
          "text": "Valor de la primera fila(Alumno: Maria) y 3era columna(Nota2) del DataFrame:\n",
          "output_type": "stream"
        },
        {
          "execution_count": 46,
          "output_type": "execute_result",
          "data": {
            "text/plain": "19"
          },
          "metadata": {}
        }
      ],
      "execution_count": 46
    },
    {
      "cell_type": "code",
      "source": "#Seleccionar los valores de la primera fila del DataFrame\nprint('Valores de la primera fila del DataFrame:')\n\n#impresión\nnotas.loc[0]",
      "metadata": {
        "trusted": true
      },
      "outputs": [
        {
          "name": "stdout",
          "text": "Valores de la primera fila del DataFrame:\n",
          "output_type": "stream"
        },
        {
          "execution_count": 47,
          "output_type": "execute_result",
          "data": {
            "text/plain": "Alumno      Maria\nNota1        18.0\nNota2          19\nNota3          18\nPromedio       18\nName: 0, dtype: object"
          },
          "metadata": {}
        }
      ],
      "execution_count": 47
    },
    {
      "cell_type": "code",
      "source": "#Seleccionar los valores de la primera fila del DataFrame\nprint('Valores de la primera fila del DataFrame:')\n\n#impresión con iloc\nnotas.iloc[0,:]",
      "metadata": {
        "trusted": true
      },
      "outputs": [
        {
          "name": "stdout",
          "text": "Valores de la primera fila del DataFrame:\n",
          "output_type": "stream"
        },
        {
          "execution_count": 48,
          "output_type": "execute_result",
          "data": {
            "text/plain": "Alumno      Maria\nNota1        18.0\nNota2          19\nNota3          18\nPromedio       18\nName: 0, dtype: object"
          },
          "metadata": {}
        }
      ],
      "execution_count": 48
    },
    {
      "cell_type": "markdown",
      "source": "![linea 2](https://user-images.githubusercontent.com/19308295/115926262-2fb62980-a448-11eb-8189-c2f10e499944.png)",
      "metadata": {}
    },
    {
      "cell_type": "markdown",
      "source": "## <font color=#33A5FF>****EJEMPLOS****<tfont>",
      "metadata": {}
    },
    {
      "cell_type": "markdown",
      "source": "### Explorando datos",
      "metadata": {}
    },
    {
      "cell_type": "code",
      "source": "#cargamos un archivo CSV separado por punto y coma (importado excel)\nnotas = pd.read_csv('data/notas.csv', ';')",
      "metadata": {
        "trusted": true
      },
      "outputs": [
        {
          "name": "stderr",
          "text": "<ipython-input-49-6f49c5c93bb2>:2: FutureWarning: In a future version of pandas all arguments of read_csv except for the argument 'filepath_or_buffer' will be keyword-only.\n  notas = pd.read_csv('data/notas.csv', ';')\n",
          "output_type": "stream"
        }
      ],
      "execution_count": 49
    },
    {
      "cell_type": "code",
      "source": "notas.head()",
      "metadata": {
        "trusted": true
      },
      "outputs": [
        {
          "execution_count": 50,
          "output_type": "execute_result",
          "data": {
            "text/plain": "   Alumno  Nota1  Nota2  Nota3  Promedio\n0   Maria   18.0     19     18        18\n1    Jose    8.0     15     11        11\n2    Juan   13.0     12     17        14\n3    Luis   10.0     19     18        16\n4  Carlos   16.0     12     10        13",
            "text/html": "<div>\n<style scoped>\n    .dataframe tbody tr th:only-of-type {\n        vertical-align: middle;\n    }\n\n    .dataframe tbody tr th {\n        vertical-align: top;\n    }\n\n    .dataframe thead th {\n        text-align: right;\n    }\n</style>\n<table border=\"1\" class=\"dataframe\">\n  <thead>\n    <tr style=\"text-align: right;\">\n      <th></th>\n      <th>Alumno</th>\n      <th>Nota1</th>\n      <th>Nota2</th>\n      <th>Nota3</th>\n      <th>Promedio</th>\n    </tr>\n  </thead>\n  <tbody>\n    <tr>\n      <th>0</th>\n      <td>Maria</td>\n      <td>18.0</td>\n      <td>19</td>\n      <td>18</td>\n      <td>18</td>\n    </tr>\n    <tr>\n      <th>1</th>\n      <td>Jose</td>\n      <td>8.0</td>\n      <td>15</td>\n      <td>11</td>\n      <td>11</td>\n    </tr>\n    <tr>\n      <th>2</th>\n      <td>Juan</td>\n      <td>13.0</td>\n      <td>12</td>\n      <td>17</td>\n      <td>14</td>\n    </tr>\n    <tr>\n      <th>3</th>\n      <td>Luis</td>\n      <td>10.0</td>\n      <td>19</td>\n      <td>18</td>\n      <td>16</td>\n    </tr>\n    <tr>\n      <th>4</th>\n      <td>Carlos</td>\n      <td>16.0</td>\n      <td>12</td>\n      <td>10</td>\n      <td>13</td>\n    </tr>\n  </tbody>\n</table>\n</div>"
          },
          "metadata": {}
        }
      ],
      "execution_count": 50
    },
    {
      "cell_type": "code",
      "source": "#Tamaño de tabla\nnotas.shape",
      "metadata": {
        "trusted": true
      },
      "outputs": [
        {
          "execution_count": 51,
          "output_type": "execute_result",
          "data": {
            "text/plain": "(50, 5)"
          },
          "metadata": {}
        }
      ],
      "execution_count": 51
    },
    {
      "cell_type": "code",
      "source": "#Tipos de datos de la columnas\nnotas.dtypes",
      "metadata": {
        "trusted": true
      },
      "outputs": [
        {
          "execution_count": 52,
          "output_type": "execute_result",
          "data": {
            "text/plain": "Alumno       object\nNota1       float64\nNota2         int64\nNota3         int64\nPromedio      int64\ndtype: object"
          },
          "metadata": {}
        }
      ],
      "execution_count": 52
    },
    {
      "cell_type": "code",
      "source": "#Tipo de dato de la tabla\ntype(notas)",
      "metadata": {
        "trusted": true
      },
      "outputs": [
        {
          "execution_count": 53,
          "output_type": "execute_result",
          "data": {
            "text/plain": "pandas.core.frame.DataFrame"
          },
          "metadata": {}
        }
      ],
      "execution_count": 53
    },
    {
      "cell_type": "code",
      "source": "#Nombre de las columnas\nnotas.columns",
      "metadata": {
        "trusted": true
      },
      "outputs": [
        {
          "execution_count": 54,
          "output_type": "execute_result",
          "data": {
            "text/plain": "Index(['Alumno', 'Nota1', 'Nota2', 'Nota3', 'Promedio'], dtype='object')"
          },
          "metadata": {}
        }
      ],
      "execution_count": 54
    },
    {
      "cell_type": "markdown",
      "source": "### SubConjuntos\n![subconjuntos](https://user-images.githubusercontent.com/19308295/119282515-8c4f6480-bbff-11eb-8432-581e44f4a2f0.png)",
      "metadata": {}
    },
    {
      "cell_type": "code",
      "source": "#Seleccionar SubConjunto con dos columnas del DataFrame en orden establecido\nnotas.loc[:,['Promedio','Alumno']]",
      "metadata": {
        "trusted": true
      },
      "outputs": [
        {
          "execution_count": 55,
          "output_type": "execute_result",
          "data": {
            "text/plain": "    Promedio     Alumno\n0         18      Maria\n1         11       Jose\n2         14       Juan\n3         16       Luis\n4         13     Carlos\n5          8       Rosa\n6         13      Jorge\n7         10     Victor\n8         16        Ana\n9         17        Luz\n10        14      Cesar\n11        13     Carmen\n12        13     Miguel\n13        12      Julio\n14        12      Jesus\n15        10      Pedro\n16        18     Manuel\n17        10      Juana\n18        13     Santos\n19        14    Segundo\n20         9       Jhon\n21         8      David\n22        13      Angel\n23        12      Julia\n24        19      Diego\n25        12       Flor\n26        18  Elizabeth\n27        16     Daniel\n28        10      Oscar\n29        11       Ruth\n30        14      Diana\n31        13      Marco\n32        10      Edwin\n33        11     Javier\n34        13     Walter\n35        12  Francisco\n36        14   Fernando\n37        14   Milagros\n38        13  Alejandro\n39        18       Raul\n40        14    Ricardo\n41        13       Alex\n42        15    Roberto\n43        11      Edgar\n44        12   Victoria\n45        14    Eduardo\n46        17      Mario\n47        17      Jaime\n48        17     Gloria\n49        17     Andrea",
            "text/html": "<div>\n<style scoped>\n    .dataframe tbody tr th:only-of-type {\n        vertical-align: middle;\n    }\n\n    .dataframe tbody tr th {\n        vertical-align: top;\n    }\n\n    .dataframe thead th {\n        text-align: right;\n    }\n</style>\n<table border=\"1\" class=\"dataframe\">\n  <thead>\n    <tr style=\"text-align: right;\">\n      <th></th>\n      <th>Promedio</th>\n      <th>Alumno</th>\n    </tr>\n  </thead>\n  <tbody>\n    <tr>\n      <th>0</th>\n      <td>18</td>\n      <td>Maria</td>\n    </tr>\n    <tr>\n      <th>1</th>\n      <td>11</td>\n      <td>Jose</td>\n    </tr>\n    <tr>\n      <th>2</th>\n      <td>14</td>\n      <td>Juan</td>\n    </tr>\n    <tr>\n      <th>3</th>\n      <td>16</td>\n      <td>Luis</td>\n    </tr>\n    <tr>\n      <th>4</th>\n      <td>13</td>\n      <td>Carlos</td>\n    </tr>\n    <tr>\n      <th>5</th>\n      <td>8</td>\n      <td>Rosa</td>\n    </tr>\n    <tr>\n      <th>6</th>\n      <td>13</td>\n      <td>Jorge</td>\n    </tr>\n    <tr>\n      <th>7</th>\n      <td>10</td>\n      <td>Victor</td>\n    </tr>\n    <tr>\n      <th>8</th>\n      <td>16</td>\n      <td>Ana</td>\n    </tr>\n    <tr>\n      <th>9</th>\n      <td>17</td>\n      <td>Luz</td>\n    </tr>\n    <tr>\n      <th>10</th>\n      <td>14</td>\n      <td>Cesar</td>\n    </tr>\n    <tr>\n      <th>11</th>\n      <td>13</td>\n      <td>Carmen</td>\n    </tr>\n    <tr>\n      <th>12</th>\n      <td>13</td>\n      <td>Miguel</td>\n    </tr>\n    <tr>\n      <th>13</th>\n      <td>12</td>\n      <td>Julio</td>\n    </tr>\n    <tr>\n      <th>14</th>\n      <td>12</td>\n      <td>Jesus</td>\n    </tr>\n    <tr>\n      <th>15</th>\n      <td>10</td>\n      <td>Pedro</td>\n    </tr>\n    <tr>\n      <th>16</th>\n      <td>18</td>\n      <td>Manuel</td>\n    </tr>\n    <tr>\n      <th>17</th>\n      <td>10</td>\n      <td>Juana</td>\n    </tr>\n    <tr>\n      <th>18</th>\n      <td>13</td>\n      <td>Santos</td>\n    </tr>\n    <tr>\n      <th>19</th>\n      <td>14</td>\n      <td>Segundo</td>\n    </tr>\n    <tr>\n      <th>20</th>\n      <td>9</td>\n      <td>Jhon</td>\n    </tr>\n    <tr>\n      <th>21</th>\n      <td>8</td>\n      <td>David</td>\n    </tr>\n    <tr>\n      <th>22</th>\n      <td>13</td>\n      <td>Angel</td>\n    </tr>\n    <tr>\n      <th>23</th>\n      <td>12</td>\n      <td>Julia</td>\n    </tr>\n    <tr>\n      <th>24</th>\n      <td>19</td>\n      <td>Diego</td>\n    </tr>\n    <tr>\n      <th>25</th>\n      <td>12</td>\n      <td>Flor</td>\n    </tr>\n    <tr>\n      <th>26</th>\n      <td>18</td>\n      <td>Elizabeth</td>\n    </tr>\n    <tr>\n      <th>27</th>\n      <td>16</td>\n      <td>Daniel</td>\n    </tr>\n    <tr>\n      <th>28</th>\n      <td>10</td>\n      <td>Oscar</td>\n    </tr>\n    <tr>\n      <th>29</th>\n      <td>11</td>\n      <td>Ruth</td>\n    </tr>\n    <tr>\n      <th>30</th>\n      <td>14</td>\n      <td>Diana</td>\n    </tr>\n    <tr>\n      <th>31</th>\n      <td>13</td>\n      <td>Marco</td>\n    </tr>\n    <tr>\n      <th>32</th>\n      <td>10</td>\n      <td>Edwin</td>\n    </tr>\n    <tr>\n      <th>33</th>\n      <td>11</td>\n      <td>Javier</td>\n    </tr>\n    <tr>\n      <th>34</th>\n      <td>13</td>\n      <td>Walter</td>\n    </tr>\n    <tr>\n      <th>35</th>\n      <td>12</td>\n      <td>Francisco</td>\n    </tr>\n    <tr>\n      <th>36</th>\n      <td>14</td>\n      <td>Fernando</td>\n    </tr>\n    <tr>\n      <th>37</th>\n      <td>14</td>\n      <td>Milagros</td>\n    </tr>\n    <tr>\n      <th>38</th>\n      <td>13</td>\n      <td>Alejandro</td>\n    </tr>\n    <tr>\n      <th>39</th>\n      <td>18</td>\n      <td>Raul</td>\n    </tr>\n    <tr>\n      <th>40</th>\n      <td>14</td>\n      <td>Ricardo</td>\n    </tr>\n    <tr>\n      <th>41</th>\n      <td>13</td>\n      <td>Alex</td>\n    </tr>\n    <tr>\n      <th>42</th>\n      <td>15</td>\n      <td>Roberto</td>\n    </tr>\n    <tr>\n      <th>43</th>\n      <td>11</td>\n      <td>Edgar</td>\n    </tr>\n    <tr>\n      <th>44</th>\n      <td>12</td>\n      <td>Victoria</td>\n    </tr>\n    <tr>\n      <th>45</th>\n      <td>14</td>\n      <td>Eduardo</td>\n    </tr>\n    <tr>\n      <th>46</th>\n      <td>17</td>\n      <td>Mario</td>\n    </tr>\n    <tr>\n      <th>47</th>\n      <td>17</td>\n      <td>Jaime</td>\n    </tr>\n    <tr>\n      <th>48</th>\n      <td>17</td>\n      <td>Gloria</td>\n    </tr>\n    <tr>\n      <th>49</th>\n      <td>17</td>\n      <td>Andrea</td>\n    </tr>\n  </tbody>\n</table>\n</div>"
          },
          "metadata": {}
        }
      ],
      "execution_count": 55
    },
    {
      "cell_type": "markdown",
      "source": "### Operando entre columnas",
      "metadata": {}
    },
    {
      "cell_type": "code",
      "source": "#Nueva columa a partir de Operación entre columnas\n\nnotas['Promedio 1 y 2'] = (notas['Nota1']+notas['Nota2'])/2\n\nnotas.head()",
      "metadata": {
        "trusted": true
      },
      "outputs": [
        {
          "execution_count": 56,
          "output_type": "execute_result",
          "data": {
            "text/plain": "   Alumno  Nota1  Nota2  Nota3  Promedio  Promedio 1 y 2\n0   Maria   18.0     19     18        18            18.5\n1    Jose    8.0     15     11        11            11.5\n2    Juan   13.0     12     17        14            12.5\n3    Luis   10.0     19     18        16            14.5\n4  Carlos   16.0     12     10        13            14.0",
            "text/html": "<div>\n<style scoped>\n    .dataframe tbody tr th:only-of-type {\n        vertical-align: middle;\n    }\n\n    .dataframe tbody tr th {\n        vertical-align: top;\n    }\n\n    .dataframe thead th {\n        text-align: right;\n    }\n</style>\n<table border=\"1\" class=\"dataframe\">\n  <thead>\n    <tr style=\"text-align: right;\">\n      <th></th>\n      <th>Alumno</th>\n      <th>Nota1</th>\n      <th>Nota2</th>\n      <th>Nota3</th>\n      <th>Promedio</th>\n      <th>Promedio 1 y 2</th>\n    </tr>\n  </thead>\n  <tbody>\n    <tr>\n      <th>0</th>\n      <td>Maria</td>\n      <td>18.0</td>\n      <td>19</td>\n      <td>18</td>\n      <td>18</td>\n      <td>18.5</td>\n    </tr>\n    <tr>\n      <th>1</th>\n      <td>Jose</td>\n      <td>8.0</td>\n      <td>15</td>\n      <td>11</td>\n      <td>11</td>\n      <td>11.5</td>\n    </tr>\n    <tr>\n      <th>2</th>\n      <td>Juan</td>\n      <td>13.0</td>\n      <td>12</td>\n      <td>17</td>\n      <td>14</td>\n      <td>12.5</td>\n    </tr>\n    <tr>\n      <th>3</th>\n      <td>Luis</td>\n      <td>10.0</td>\n      <td>19</td>\n      <td>18</td>\n      <td>16</td>\n      <td>14.5</td>\n    </tr>\n    <tr>\n      <th>4</th>\n      <td>Carlos</td>\n      <td>16.0</td>\n      <td>12</td>\n      <td>10</td>\n      <td>13</td>\n      <td>14.0</td>\n    </tr>\n  </tbody>\n</table>\n</div>"
          },
          "metadata": {}
        }
      ],
      "execution_count": 56
    },
    {
      "cell_type": "markdown",
      "source": "### Filtros\n![filtros](https://user-images.githubusercontent.com/19308295/119282563-b6a12200-bbff-11eb-82ee-606fbfe2ac1b.png)",
      "metadata": {}
    },
    {
      "cell_type": "code",
      "source": "#FILTRAR Cuantos alumnos califican como excelencia Promedio mayores o igual a 18\n#MÉTODO 1\nnotas.loc[notas.Promedio >= 18]\n",
      "metadata": {
        "trusted": true
      },
      "outputs": [
        {
          "execution_count": 57,
          "output_type": "execute_result",
          "data": {
            "text/plain": "       Alumno  Nota1  Nota2  Nota3  Promedio  Promedio 1 y 2\n0       Maria   18.0     19     18        18            18.5\n16     Manuel   15.0     20     20        18            17.5\n24      Diego   20.0     18     18        19            19.0\n26  Elizabeth   16.0     19     18        18            17.5\n39       Raul   20.0     18     16        18            19.0",
            "text/html": "<div>\n<style scoped>\n    .dataframe tbody tr th:only-of-type {\n        vertical-align: middle;\n    }\n\n    .dataframe tbody tr th {\n        vertical-align: top;\n    }\n\n    .dataframe thead th {\n        text-align: right;\n    }\n</style>\n<table border=\"1\" class=\"dataframe\">\n  <thead>\n    <tr style=\"text-align: right;\">\n      <th></th>\n      <th>Alumno</th>\n      <th>Nota1</th>\n      <th>Nota2</th>\n      <th>Nota3</th>\n      <th>Promedio</th>\n      <th>Promedio 1 y 2</th>\n    </tr>\n  </thead>\n  <tbody>\n    <tr>\n      <th>0</th>\n      <td>Maria</td>\n      <td>18.0</td>\n      <td>19</td>\n      <td>18</td>\n      <td>18</td>\n      <td>18.5</td>\n    </tr>\n    <tr>\n      <th>16</th>\n      <td>Manuel</td>\n      <td>15.0</td>\n      <td>20</td>\n      <td>20</td>\n      <td>18</td>\n      <td>17.5</td>\n    </tr>\n    <tr>\n      <th>24</th>\n      <td>Diego</td>\n      <td>20.0</td>\n      <td>18</td>\n      <td>18</td>\n      <td>19</td>\n      <td>19.0</td>\n    </tr>\n    <tr>\n      <th>26</th>\n      <td>Elizabeth</td>\n      <td>16.0</td>\n      <td>19</td>\n      <td>18</td>\n      <td>18</td>\n      <td>17.5</td>\n    </tr>\n    <tr>\n      <th>39</th>\n      <td>Raul</td>\n      <td>20.0</td>\n      <td>18</td>\n      <td>16</td>\n      <td>18</td>\n      <td>19.0</td>\n    </tr>\n  </tbody>\n</table>\n</div>"
          },
          "metadata": {}
        }
      ],
      "execution_count": 57
    },
    {
      "cell_type": "code",
      "source": "#FILTRAR Cuantos alumnos califican como excelencia Promedio mayores o igual a 18\n#MÉTODO 2\nnotas.loc[notas['Promedio'] >= 18]\n",
      "metadata": {
        "trusted": true
      },
      "outputs": [
        {
          "execution_count": 58,
          "output_type": "execute_result",
          "data": {
            "text/plain": "       Alumno  Nota1  Nota2  Nota3  Promedio  Promedio 1 y 2\n0       Maria   18.0     19     18        18            18.5\n16     Manuel   15.0     20     20        18            17.5\n24      Diego   20.0     18     18        19            19.0\n26  Elizabeth   16.0     19     18        18            17.5\n39       Raul   20.0     18     16        18            19.0",
            "text/html": "<div>\n<style scoped>\n    .dataframe tbody tr th:only-of-type {\n        vertical-align: middle;\n    }\n\n    .dataframe tbody tr th {\n        vertical-align: top;\n    }\n\n    .dataframe thead th {\n        text-align: right;\n    }\n</style>\n<table border=\"1\" class=\"dataframe\">\n  <thead>\n    <tr style=\"text-align: right;\">\n      <th></th>\n      <th>Alumno</th>\n      <th>Nota1</th>\n      <th>Nota2</th>\n      <th>Nota3</th>\n      <th>Promedio</th>\n      <th>Promedio 1 y 2</th>\n    </tr>\n  </thead>\n  <tbody>\n    <tr>\n      <th>0</th>\n      <td>Maria</td>\n      <td>18.0</td>\n      <td>19</td>\n      <td>18</td>\n      <td>18</td>\n      <td>18.5</td>\n    </tr>\n    <tr>\n      <th>16</th>\n      <td>Manuel</td>\n      <td>15.0</td>\n      <td>20</td>\n      <td>20</td>\n      <td>18</td>\n      <td>17.5</td>\n    </tr>\n    <tr>\n      <th>24</th>\n      <td>Diego</td>\n      <td>20.0</td>\n      <td>18</td>\n      <td>18</td>\n      <td>19</td>\n      <td>19.0</td>\n    </tr>\n    <tr>\n      <th>26</th>\n      <td>Elizabeth</td>\n      <td>16.0</td>\n      <td>19</td>\n      <td>18</td>\n      <td>18</td>\n      <td>17.5</td>\n    </tr>\n    <tr>\n      <th>39</th>\n      <td>Raul</td>\n      <td>20.0</td>\n      <td>18</td>\n      <td>16</td>\n      <td>18</td>\n      <td>19.0</td>\n    </tr>\n  </tbody>\n</table>\n</div>"
          },
          "metadata": {}
        }
      ],
      "execution_count": 58
    },
    {
      "cell_type": "markdown",
      "source": "### Seleccionar Fila y Columnas\n![seleccion](https://user-images.githubusercontent.com/19308295/119283031-590dd500-bc01-11eb-93db-ee8a79b00103.png)",
      "metadata": {}
    },
    {
      "cell_type": "code",
      "source": "#Asignando resultado a otro DataFrame, con una sola columna 'Alumno'\nexcelencia = notas.loc[notas['Promedio'] >= 18,['Alumno']]\nexcelencia",
      "metadata": {
        "trusted": true
      },
      "outputs": [
        {
          "execution_count": 59,
          "output_type": "execute_result",
          "data": {
            "text/plain": "       Alumno\n0       Maria\n16     Manuel\n24      Diego\n26  Elizabeth\n39       Raul",
            "text/html": "<div>\n<style scoped>\n    .dataframe tbody tr th:only-of-type {\n        vertical-align: middle;\n    }\n\n    .dataframe tbody tr th {\n        vertical-align: top;\n    }\n\n    .dataframe thead th {\n        text-align: right;\n    }\n</style>\n<table border=\"1\" class=\"dataframe\">\n  <thead>\n    <tr style=\"text-align: right;\">\n      <th></th>\n      <th>Alumno</th>\n    </tr>\n  </thead>\n  <tbody>\n    <tr>\n      <th>0</th>\n      <td>Maria</td>\n    </tr>\n    <tr>\n      <th>16</th>\n      <td>Manuel</td>\n    </tr>\n    <tr>\n      <th>24</th>\n      <td>Diego</td>\n    </tr>\n    <tr>\n      <th>26</th>\n      <td>Elizabeth</td>\n    </tr>\n    <tr>\n      <th>39</th>\n      <td>Raul</td>\n    </tr>\n  </tbody>\n</table>\n</div>"
          },
          "metadata": {}
        }
      ],
      "execution_count": 59
    },
    {
      "cell_type": "code",
      "source": "#Tipo de tabla creada\ntype(excelencia)",
      "metadata": {
        "trusted": true
      },
      "outputs": [
        {
          "execution_count": 60,
          "output_type": "execute_result",
          "data": {
            "text/plain": "pandas.core.frame.DataFrame"
          },
          "metadata": {}
        }
      ],
      "execution_count": 60
    },
    {
      "cell_type": "code",
      "source": "#Cantidad de excelencia\nexcelencia.count()",
      "metadata": {
        "trusted": true
      },
      "outputs": [
        {
          "execution_count": 61,
          "output_type": "execute_result",
          "data": {
            "text/plain": "Alumno    5\ndtype: int64"
          },
          "metadata": {}
        }
      ],
      "execution_count": 61
    },
    {
      "cell_type": "code",
      "source": "len(excelencia)",
      "metadata": {
        "trusted": true
      },
      "outputs": [
        {
          "execution_count": 62,
          "output_type": "execute_result",
          "data": {
            "text/plain": "5"
          },
          "metadata": {}
        }
      ],
      "execution_count": 62
    },
    {
      "cell_type": "markdown",
      "source": "![linea 2](https://user-images.githubusercontent.com/19308295/115926262-2fb62980-a448-11eb-8189-c2f10e499944.png)",
      "metadata": {}
    },
    {
      "cell_type": "markdown",
      "source": "## <font color=#33A5FF>****EJERCICIOS****<tfont>",
      "metadata": {}
    },
    {
      "cell_type": "markdown",
      "source": "### Ejercicio 1 - Investigar Como? Abrir archivo `xlsx`",
      "metadata": {}
    },
    {
      "cell_type": "markdown",
      "source": "<div class=\"well\">Abrilr el archivo <code>titanic.xlsx</code> (archivo en carpeta /data)\n    \n   1.- <strong>Usar nueva librería!!.</strong>\n\n   2.- <strong>Explorar la data.</strong>\n</div>",
      "metadata": {}
    },
    {
      "cell_type": "markdown",
      "source": "### Ejercicio 2 - Investigar Como? Crear SubConjuntos",
      "metadata": {}
    },
    {
      "cell_type": "markdown",
      "source": "<div class=\"well\">Crear <strong>Sub Conjuntos</strong> del DataFrame con las columnas: (visualizar solo 5 primeros)\n   \n   1.-<strong>Nombre</strong> con <strong>Edad</strong>\n   \n   2.-<strong>Sexo</strong> con <strong>Nombre</strong> y <strong>Clase</strong>\n    \n</div>",
      "metadata": {}
    },
    {
      "cell_type": "markdown",
      "source": "### Ejercicio 3 - Investigar Como? Filtrar",
      "metadata": {}
    },
    {
      "cell_type": "markdown",
      "source": "<div class=\"well\">Crear <strong>Filtros</strong> del DataFrame con: (visualizar solo 5 primeros)\n   \n   1.-Selección de los <strong>hombres</strong> que abordaron el titanic.\n   \n   2.-Selección de las <strong>mujeres</strong> que abordaron el titanic.\n    \n   3.-Personas con <strong>mas de 30 años</strong> que abordaron el titanic.\n    \n   4.-Personas que <strong>pertenecen a la clase 1 y 2</strong> del titanic.\n    \n   5.-Personas que <strong>registraron su edad.</strong>\n   \n    \n</div>",
      "metadata": {}
    },
    {
      "cell_type": "markdown",
      "source": "### Ejercicio 4 - Investigar Como?  Seleccionar Filas y Columnas",
      "metadata": {}
    },
    {
      "cell_type": "markdown",
      "source": "<div class=\"well\">Crear <strong>Selección</strong> del DataFrame con: \n   \n   1.-Selección de los <strong>nombres</strong> de pasajeros <strong>mayores de 30 años.</strong>\n   \n   2.-Selección de los <strong>nombres</strong> de las <strong>mujeres</strong> que tienen familiares que abordaron el titanic.\n    \n   3.-Selección de las <strong>filas 0 a 10 y las columnas 2 a 6.</strong>\n    \n   \n</div>",
      "metadata": {}
    },
    {
      "cell_type": "markdown",
      "source": "### Ejercicio 5 - Investigar Como?  ",
      "metadata": {}
    },
    {
      "cell_type": "markdown",
      "source": "<div class=\"well\">Hallar los <strong>Valores</strong> del DataFrame: \n   \n   1.-<strong>Valor promedio</strong> de la edad de los pasajeros.\n   \n   2.-Pasajeros <strong>mujeres</strong> con <strong>mayor edad</strong> que abordaron el titanic.\n    \n   3.-Pasajeros <strong>mujeres</strong> con <strong>menor edad</strong> que abordaron el titanic.\n    \n   4.-Número <strong>total de pasajeros</strong> registrados en el titanic\n    \n   \n</div>",
      "metadata": {}
    },
    {
      "cell_type": "markdown",
      "source": "![linea 2](https://user-images.githubusercontent.com/19308295/115926262-2fb62980-a448-11eb-8189-c2f10e499944.png)",
      "metadata": {}
    },
    {
      "cell_type": "markdown",
      "source": "## <font color=#33A5FF>****BIBLIOGRAFÍA****<tfont>",
      "metadata": {}
    },
    {
      "cell_type": "markdown",
      "source": "[1] Guía de pandas oficial https://pandas.pydata.org/docs/user_guide/index.html\n\n[2] Python Pandas Tutorial: A Complete Introduction for Beginners https://bit.ly/2AQMQld\n\n[3] Guía para pandas https://pybonacci.org/2014/05/30/pandas-i/\n\n[4] Dataset variados https://www.kaggle.com/datasets",
      "metadata": {}
    },
    {
      "cell_type": "markdown",
      "source": "![linea 1](https://user-images.githubusercontent.com/19308295/115926252-2b8a0c00-a448-11eb-9d9c-b43beaf0ff68.png)",
      "metadata": {}
    }
  ]
}