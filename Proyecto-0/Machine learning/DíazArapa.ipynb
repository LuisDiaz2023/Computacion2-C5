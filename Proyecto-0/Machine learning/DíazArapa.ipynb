{
  "metadata": {
    "kernelspec": {
      "name": "python",
      "display_name": "Python (Pyodide)",
      "language": "python"
    },
    "language_info": {
      "codemirror_mode": {
        "name": "python",
        "version": 3
      },
      "file_extension": ".py",
      "mimetype": "text/x-python",
      "name": "python",
      "nbconvert_exporter": "python",
      "pygments_lexer": "ipython3",
      "version": "3.8"
    }
  },
  "nbformat_minor": 4,
  "nbformat": 4,
  "cells": [
    {
      "cell_type": "markdown",
      "source": "<center> <h1>Universidad Nacional de San Agustín de Arequipa</h1> </center> \n<center> <h1>Escuela Profesional de Ingeniería de Telecomunicaciones</h1> </center> \n\n<center> <h1> </h1> </center> \n\n<center><img src=\"https://user-images.githubusercontent.com/19308295/115939517-f1c6fe80-a463-11eb-989c-812ab4942586.png\" width=\"380\" height=\"4200\"></center>",
      "metadata": {}
    },
    {
      "cell_type": "markdown",
      "source": "<center> <h2>Ingeniero Renzo Bolivar - Docente DAIE</h2> </center> ",
      "metadata": {}
    },
    {
      "cell_type": "markdown",
      "source": "<center> <h1>Curso : Computación 2</h1> </center> ",
      "metadata": {}
    },
    {
      "cell_type": "markdown",
      "source": "# PRESENTADO POR\n## LUIS FERNANDO DIAZ ARAPA",
      "metadata": {}
    },
    {
      "cell_type": "markdown",
      "source": "![linea 1](https://user-images.githubusercontent.com/19308295/115926252-2b8a0c00-a448-11eb-9d9c-b43beaf0ff68.png)",
      "metadata": {}
    },
    {
      "cell_type": "markdown",
      "source": "<center> <h1>MACHINE LEARNING</h1> </center> \n<center> <h1>ÁRBOL DE DECISIÓN</h1> </center> ",
      "metadata": {}
    },
    {
      "cell_type": "markdown",
      "source": "![linea 1](https://user-images.githubusercontent.com/19308295/115926252-2b8a0c00-a448-11eb-9d9c-b43beaf0ff68.png)",
      "metadata": {}
    },
    {
      "cell_type": "markdown",
      "source": "# Descripción:",
      "metadata": {}
    },
    {
      "cell_type": "markdown",
      "source": "<div class=\"alert alert-info\">\n\nEn este notebook se utilizara el modelo de clasificación **Árbol de Decisión** para generar una plantilla para **Proyectos y/o Portafolio** en **Machine Learning** como un tipo básico de  **Aprendizaje Supervizado**.\n    \n</div>\n\n",
      "metadata": {}
    },
    {
      "cell_type": "markdown",
      "source": "# Objetivos:\n\n1. Crear un Proyecto y/o Portafolio en **Machine Learning**\n2. Modelo de Clasificación **Árbol de Decisión**.\n3. Modelo para u tipo **Aprendizaje Supervisado** con librerías en **sklearn**.",
      "metadata": {}
    },
    {
      "cell_type": "markdown",
      "source": "algunas funciones importantes de pandas.\n\n\n[1. Árboles de Decisión para Clasificación](#1.-Árboles-de-Decisión-para-Clasificación)<br>\n\n[BIBLIOGRAFÍA](#BIBLIOGRAFÍA)<br>",
      "metadata": {}
    },
    {
      "cell_type": "markdown",
      "source": "![linea 1](https://user-images.githubusercontent.com/19308295/115926252-2b8a0c00-a448-11eb-9d9c-b43beaf0ff68.png)",
      "metadata": {}
    },
    {
      "cell_type": "markdown",
      "source": "<img src=\"https://user-images.githubusercontent.com/19308295/124402675-6c7b8800-dcf7-11eb-9d38-6af2187f0c15.png\" width=\"800\" height=\"100\" />",
      "metadata": {}
    },
    {
      "cell_type": "markdown",
      "source": "![linea 2](https://user-images.githubusercontent.com/19308295/115926262-2fb62980-a448-11eb-8189-c2f10e499944.png)",
      "metadata": {}
    },
    {
      "cell_type": "markdown",
      "source": "## <font color=#33A5FF>****1. Árboles de Decisión para Clasificación****<tfont>",
      "metadata": {}
    },
    {
      "cell_type": "markdown",
      "source": "<div class=\"alert alert-info\">\n\nUn árbol tiene muchas analogías en la vida real, y resulta que ha influido en una amplia área del aprendizaje automático o Machine Learning. Los árboles de decisión son una técnica de aprendizaje supervisado que predice valores de respuestas mediante el aprendizaje de reglas de decisión derivadas de características. Se pueden utilizar tanto en una **regresión como en un contexto de clasificación**.\n\n\n\n</div>",
      "metadata": {}
    },
    {
      "cell_type": "markdown",
      "source": "<img src=\"https://user-images.githubusercontent.com/19308295/125208763-2758d800-e25a-11eb-87cf-6ca5db85c4ff.png\" width=\"600\" height=\"100\" />",
      "metadata": {}
    },
    {
      "cell_type": "markdown",
      "source": "<div class=\"alert alert-info\">\n\nLos árboles de decisión funcionan al dividir el espacio de la característica en varias **regiones rectangulares simples**, divididas por **divisiones paralelas de ejes**. Para obtener una predicción para una observación particular, se utiliza la media o el modo de las respuestas de las observaciones de entrenamiento, dentro de la partición a la que pertenece la nueva observación.\n\n</div>",
      "metadata": {}
    },
    {
      "cell_type": "markdown",
      "source": "## Librerías a utilizar",
      "metadata": {}
    },
    {
      "cell_type": "code",
      "source": "#Se importan la librerias a utilizar\nimport numpy as np\nimport pandas as pd",
      "metadata": {
        "trusted": true
      },
      "outputs": [],
      "execution_count": 6
    },
    {
      "cell_type": "markdown",
      "source": "## Importación de datos",
      "metadata": {}
    },
    {
      "cell_type": "markdown",
      "source": "El proyecto que vamos a desarrollar es de Conjunto de datos de plantas de iris, que se encuentra disponible en la librería scikit learn. \n\nLos datos esta almacenados en archivo `iris.csv` que se encuentra en el directorio `data`",
      "metadata": {}
    },
    {
      "cell_type": "code",
      "source": "#Importamos los datos de la misma librería de scikit-learn\ndataset = pd.read_csv(\"data/iris.csv\",\n                      names = [\"sepal length (cm)\" , \"sepal width (cm)\", \"petal length (cm)\",\n                                \"petal width(cm)\", \"Etiqueta\"])   ",
      "metadata": {
        "trusted": true
      },
      "outputs": [],
      "execution_count": 7
    },
    {
      "cell_type": "code",
      "source": "dataset.head()",
      "metadata": {
        "trusted": true
      },
      "outputs": [
        {
          "execution_count": 8,
          "output_type": "execute_result",
          "data": {
            "text/plain": "  sepal length (cm) sepal width (cm) petal length (cm) petal width(cm)  \\\n0      sepal_length      sepal_width      petal_length     petal_width   \n1               5.1              3.5               1.4             0.2   \n2               4.9                3               1.4             0.2   \n3               4.7              3.2               1.3             0.2   \n4               4.6              3.1               1.5             0.2   \n\n  Etiqueta  \n0  species  \n1       se  \n2   setosa  \n3   setosa  \n4   setosa  ",
            "text/html": "<div>\n<style scoped>\n    .dataframe tbody tr th:only-of-type {\n        vertical-align: middle;\n    }\n\n    .dataframe tbody tr th {\n        vertical-align: top;\n    }\n\n    .dataframe thead th {\n        text-align: right;\n    }\n</style>\n<table border=\"1\" class=\"dataframe\">\n  <thead>\n    <tr style=\"text-align: right;\">\n      <th></th>\n      <th>sepal length (cm)</th>\n      <th>sepal width (cm)</th>\n      <th>petal length (cm)</th>\n      <th>petal width(cm)</th>\n      <th>Etiqueta</th>\n    </tr>\n  </thead>\n  <tbody>\n    <tr>\n      <th>0</th>\n      <td>sepal_length</td>\n      <td>sepal_width</td>\n      <td>petal_length</td>\n      <td>petal_width</td>\n      <td>species</td>\n    </tr>\n    <tr>\n      <th>1</th>\n      <td>5.1</td>\n      <td>3.5</td>\n      <td>1.4</td>\n      <td>0.2</td>\n      <td>se</td>\n    </tr>\n    <tr>\n      <th>2</th>\n      <td>4.9</td>\n      <td>3</td>\n      <td>1.4</td>\n      <td>0.2</td>\n      <td>setosa</td>\n    </tr>\n    <tr>\n      <th>3</th>\n      <td>4.7</td>\n      <td>3.2</td>\n      <td>1.3</td>\n      <td>0.2</td>\n      <td>setosa</td>\n    </tr>\n    <tr>\n      <th>4</th>\n      <td>4.6</td>\n      <td>3.1</td>\n      <td>1.5</td>\n      <td>0.2</td>\n      <td>setosa</td>\n    </tr>\n  </tbody>\n</table>\n</div>"
          },
          "metadata": {}
        }
      ],
      "execution_count": 8
    },
    {
      "cell_type": "code",
      "source": "dataset.tail()",
      "metadata": {
        "trusted": true
      },
      "outputs": [
        {
          "execution_count": 9,
          "output_type": "execute_result",
          "data": {
            "text/plain": "    sepal length (cm) sepal width (cm) petal length (cm) petal width(cm)  \\\n146               6.7                3               5.2             2.3   \n147               6.3              2.5                 5             1.9   \n148               6.5                3               5.2               2   \n149               6.2              3.4               5.4             2.3   \n150               5.9                3               5.1             1.8   \n\n      Etiqueta  \n146  virginica  \n147  virginica  \n148  virginica  \n149  virginica  \n150  virginica  ",
            "text/html": "<div>\n<style scoped>\n    .dataframe tbody tr th:only-of-type {\n        vertical-align: middle;\n    }\n\n    .dataframe tbody tr th {\n        vertical-align: top;\n    }\n\n    .dataframe thead th {\n        text-align: right;\n    }\n</style>\n<table border=\"1\" class=\"dataframe\">\n  <thead>\n    <tr style=\"text-align: right;\">\n      <th></th>\n      <th>sepal length (cm)</th>\n      <th>sepal width (cm)</th>\n      <th>petal length (cm)</th>\n      <th>petal width(cm)</th>\n      <th>Etiqueta</th>\n    </tr>\n  </thead>\n  <tbody>\n    <tr>\n      <th>146</th>\n      <td>6.7</td>\n      <td>3</td>\n      <td>5.2</td>\n      <td>2.3</td>\n      <td>virginica</td>\n    </tr>\n    <tr>\n      <th>147</th>\n      <td>6.3</td>\n      <td>2.5</td>\n      <td>5</td>\n      <td>1.9</td>\n      <td>virginica</td>\n    </tr>\n    <tr>\n      <th>148</th>\n      <td>6.5</td>\n      <td>3</td>\n      <td>5.2</td>\n      <td>2</td>\n      <td>virginica</td>\n    </tr>\n    <tr>\n      <th>149</th>\n      <td>6.2</td>\n      <td>3.4</td>\n      <td>5.4</td>\n      <td>2.3</td>\n      <td>virginica</td>\n    </tr>\n    <tr>\n      <th>150</th>\n      <td>5.9</td>\n      <td>3</td>\n      <td>5.1</td>\n      <td>1.8</td>\n      <td>virginica</td>\n    </tr>\n  </tbody>\n</table>\n</div>"
          },
          "metadata": {}
        }
      ],
      "execution_count": 9
    },
    {
      "cell_type": "code",
      "source": "",
      "metadata": {
        "trusted": true
      },
      "outputs": [],
      "execution_count": null
    },
    {
      "cell_type": "code",
      "source": "",
      "metadata": {},
      "outputs": [],
      "execution_count": null
    },
    {
      "cell_type": "code",
      "source": "",
      "metadata": {},
      "outputs": [],
      "execution_count": null
    },
    {
      "cell_type": "markdown",
      "source": "`ceros=setosa, unos=versicolor y dos=virginica`",
      "metadata": {}
    },
    {
      "cell_type": "markdown",
      "source": "## Exploración de datos",
      "metadata": {}
    },
    {
      "cell_type": "markdown",
      "source": "### Tamaño Dataframe",
      "metadata": {}
    },
    {
      "cell_type": "code",
      "source": "dataset.info()",
      "metadata": {
        "trusted": true
      },
      "outputs": [
        {
          "name": "stdout",
          "text": "<class 'pandas.core.frame.DataFrame'>\nRangeIndex: 151 entries, 0 to 150\nData columns (total 5 columns):\n #   Column             Non-Null Count  Dtype \n---  ------             --------------  ----- \n 0   sepal length (cm)  151 non-null    object\n 1   sepal width (cm)   151 non-null    object\n 2   petal length (cm)  151 non-null    object\n 3   petal width(cm)    151 non-null    object\n 4   Etiqueta           151 non-null    object\ndtypes: object(5)\nmemory usage: 3.0+ KB\n",
          "output_type": "stream"
        }
      ],
      "execution_count": 10
    },
    {
      "cell_type": "code",
      "source": "dataset.dtypes",
      "metadata": {
        "trusted": true
      },
      "outputs": [
        {
          "execution_count": 11,
          "output_type": "execute_result",
          "data": {
            "text/plain": "sepal length (cm)    object\nsepal width (cm)     object\npetal length (cm)    object\npetal width(cm)      object\nEtiqueta             object\ndtype: object"
          },
          "metadata": {}
        }
      ],
      "execution_count": 11
    },
    {
      "cell_type": "code",
      "source": "dataset.shape",
      "metadata": {
        "trusted": true
      },
      "outputs": [
        {
          "execution_count": 12,
          "output_type": "execute_result",
          "data": {
            "text/plain": "(151, 5)"
          },
          "metadata": {}
        }
      ],
      "execution_count": 12
    },
    {
      "cell_type": "code",
      "source": "dataset.count()",
      "metadata": {
        "trusted": true
      },
      "outputs": [
        {
          "execution_count": 13,
          "output_type": "execute_result",
          "data": {
            "text/plain": "sepal length (cm)    151\nsepal width (cm)     151\npetal length (cm)    151\npetal width(cm)      151\nEtiqueta             151\ndtype: int64"
          },
          "metadata": {}
        }
      ],
      "execution_count": 13
    },
    {
      "cell_type": "code",
      "source": "dataset.isnull().sum()",
      "metadata": {
        "trusted": true
      },
      "outputs": [
        {
          "execution_count": 14,
          "output_type": "execute_result",
          "data": {
            "text/plain": "sepal length (cm)    0\nsepal width (cm)     0\npetal length (cm)    0\npetal width(cm)      0\nEtiqueta             0\ndtype: int64"
          },
          "metadata": {}
        }
      ],
      "execution_count": 14
    },
    {
      "cell_type": "code",
      "source": "dataset.columns",
      "metadata": {
        "trusted": true
      },
      "outputs": [
        {
          "execution_count": 15,
          "output_type": "execute_result",
          "data": {
            "text/plain": "Index(['sepal length (cm)', 'sepal width (cm)', 'petal length (cm)',\n       'petal width(cm)', 'Etiqueta'],\n      dtype='object')"
          },
          "metadata": {}
        }
      ],
      "execution_count": 15
    },
    {
      "cell_type": "code",
      "source": "dataset.describe()\n\n",
      "metadata": {
        "trusted": true
      },
      "outputs": [
        {
          "execution_count": 16,
          "output_type": "execute_result",
          "data": {
            "text/plain": "       sepal length (cm) sepal width (cm) petal length (cm) petal width(cm)  \\\ncount                151              151               151             151   \nunique                36               24                44              23   \ntop                    5                3               1.5             0.2   \nfreq                  10               26                14              28   \n\n          Etiqueta  \ncount          151  \nunique           5  \ntop     versicolor  \nfreq            50  ",
            "text/html": "<div>\n<style scoped>\n    .dataframe tbody tr th:only-of-type {\n        vertical-align: middle;\n    }\n\n    .dataframe tbody tr th {\n        vertical-align: top;\n    }\n\n    .dataframe thead th {\n        text-align: right;\n    }\n</style>\n<table border=\"1\" class=\"dataframe\">\n  <thead>\n    <tr style=\"text-align: right;\">\n      <th></th>\n      <th>sepal length (cm)</th>\n      <th>sepal width (cm)</th>\n      <th>petal length (cm)</th>\n      <th>petal width(cm)</th>\n      <th>Etiqueta</th>\n    </tr>\n  </thead>\n  <tbody>\n    <tr>\n      <th>count</th>\n      <td>151</td>\n      <td>151</td>\n      <td>151</td>\n      <td>151</td>\n      <td>151</td>\n    </tr>\n    <tr>\n      <th>unique</th>\n      <td>36</td>\n      <td>24</td>\n      <td>44</td>\n      <td>23</td>\n      <td>5</td>\n    </tr>\n    <tr>\n      <th>top</th>\n      <td>5</td>\n      <td>3</td>\n      <td>1.5</td>\n      <td>0.2</td>\n      <td>versicolor</td>\n    </tr>\n    <tr>\n      <th>freq</th>\n      <td>10</td>\n      <td>26</td>\n      <td>14</td>\n      <td>28</td>\n      <td>50</td>\n    </tr>\n  </tbody>\n</table>\n</div>"
          },
          "metadata": {}
        }
      ],
      "execution_count": 16
    },
    {
      "cell_type": "markdown",
      "source": "## Preparación de los datos para Árboles de Decisión Clasificación ",
      "metadata": {}
    },
    {
      "cell_type": "markdown",
      "source": "Para este ejemplo vamos a implementar un clasificador Árboles de Decisión Clasificación, para este algoritmo se requiere todas las variables independientes, para nuestro caso serán las variables **Caracteristica**.\n\nAhora vamos a proceder a definir las variables de “X” y “y” que vamos emplear en nuestro modelo.",
      "metadata": {}
    },
    {
      "cell_type": "markdown",
      "source": "Para “X” vamos a utilizar todas las variables de caracteristicas, por lo que la igualamos a las primeras 4 columnas.",
      "metadata": {}
    },
    {
      "cell_type": "code",
      "source": "dataset.head()",
      "metadata": {
        "trusted": true
      },
      "outputs": [
        {
          "execution_count": 17,
          "output_type": "execute_result",
          "data": {
            "text/plain": "  sepal length (cm) sepal width (cm) petal length (cm) petal width(cm)  \\\n0      sepal_length      sepal_width      petal_length     petal_width   \n1               5.1              3.5               1.4             0.2   \n2               4.9                3               1.4             0.2   \n3               4.7              3.2               1.3             0.2   \n4               4.6              3.1               1.5             0.2   \n\n  Etiqueta  \n0  species  \n1       se  \n2   setosa  \n3   setosa  \n4   setosa  ",
            "text/html": "<div>\n<style scoped>\n    .dataframe tbody tr th:only-of-type {\n        vertical-align: middle;\n    }\n\n    .dataframe tbody tr th {\n        vertical-align: top;\n    }\n\n    .dataframe thead th {\n        text-align: right;\n    }\n</style>\n<table border=\"1\" class=\"dataframe\">\n  <thead>\n    <tr style=\"text-align: right;\">\n      <th></th>\n      <th>sepal length (cm)</th>\n      <th>sepal width (cm)</th>\n      <th>petal length (cm)</th>\n      <th>petal width(cm)</th>\n      <th>Etiqueta</th>\n    </tr>\n  </thead>\n  <tbody>\n    <tr>\n      <th>0</th>\n      <td>sepal_length</td>\n      <td>sepal_width</td>\n      <td>petal_length</td>\n      <td>petal_width</td>\n      <td>species</td>\n    </tr>\n    <tr>\n      <th>1</th>\n      <td>5.1</td>\n      <td>3.5</td>\n      <td>1.4</td>\n      <td>0.2</td>\n      <td>se</td>\n    </tr>\n    <tr>\n      <th>2</th>\n      <td>4.9</td>\n      <td>3</td>\n      <td>1.4</td>\n      <td>0.2</td>\n      <td>setosa</td>\n    </tr>\n    <tr>\n      <th>3</th>\n      <td>4.7</td>\n      <td>3.2</td>\n      <td>1.3</td>\n      <td>0.2</td>\n      <td>setosa</td>\n    </tr>\n    <tr>\n      <th>4</th>\n      <td>4.6</td>\n      <td>3.1</td>\n      <td>1.5</td>\n      <td>0.2</td>\n      <td>setosa</td>\n    </tr>\n  </tbody>\n</table>\n</div>"
          },
          "metadata": {}
        }
      ],
      "execution_count": 17
    },
    {
      "cell_type": "code",
      "source": "#Seleccionamos todas las columnas de carasteristicas\nX = dataset[dataset.columns[:-1]].to_numpy()",
      "metadata": {
        "trusted": true
      },
      "outputs": [],
      "execution_count": 27
    },
    {
      "cell_type": "code",
      "source": "print(X)",
      "metadata": {
        "trusted": true
      },
      "outputs": [
        {
          "name": "stdout",
          "text": "[['sepal_length' 'sepal_width' 'petal_length' 'petal_width']\n ['5.1' '3.5' '1.4' '0.2']\n ['4.9' '3' '1.4' '0.2']\n ['4.7' '3.2' '1.3' '0.2']\n ['4.6' '3.1' '1.5' '0.2']\n ['5' '3.6' '1.4' '0.2']\n ['5.4' '3.9' '1.7' '0.4']\n ['4.6' '3.4' '1.4' '0.3']\n ['5' '3.4' '1.5' '0.2']\n ['4.4' '2.9' '1.4' '0.2']\n ['4.9' '3.1' '1.5' '0.1']\n ['5.4' '3.7' '1.5' '0.2']\n ['4.8' '3.4' '1.6' '0.2']\n ['4.8' '3' '1.4' '0.1']\n ['4.3' '3' '1.1' '0.1']\n ['5.8' '4' '1.2' '0.2']\n ['5.7' '4.4' '1.5' '0.4']\n ['5.4' '3.9' '1.3' '0.4']\n ['5.1' '3.5' '1.4' '0.3']\n ['5.7' '3.8' '1.7' '0.3']\n ['5.1' '3.8' '1.5' '0.3']\n ['5.4' '3.4' '1.7' '0.2']\n ['5.1' '3.7' '1.5' '0.4']\n ['4.6' '3.6' '1' '0.2']\n ['5.1' '3.3' '1.7' '0.5']\n ['4.8' '3.4' '1.9' '0.2']\n ['5' '3' '1.6' '0.2']\n ['5' '3.4' '1.6' '0.4']\n ['5.2' '3.5' '1.5' '0.2']\n ['5.2' '3.4' '1.4' '0.2']\n ['4.7' '3.2' '1.6' '0.2']\n ['4.8' '3.1' '1.6' '0.2']\n ['5.4' '3.4' '1.5' '0.4']\n ['5.2' '4.1' '1.5' '0.1']\n ['5.5' '4.2' '1.4' '0.2']\n ['4.9' '3.1' '1.5' '0.1']\n ['5' '3.2' '1.2' '0.2']\n ['5.5' '3.5' '1.3' '0.2']\n ['4.9' '3.1' '1.5' '0.1']\n ['4.4' '3' '1.3' '0.2']\n ['5.1' '3.4' '1.5' '0.2']\n ['5' '3.5' '1.3' '0.3']\n ['4.5' '2.3' '1.3' '0.3']\n ['4.4' '3.2' '1.3' '0.2']\n ['5' '3.5' '1.6' '0.6']\n ['5.1' '3.8' '1.9' '0.4']\n ['4.8' '3' '1.4' '0.3']\n ['5.1' '3.8' '1.6' '0.2']\n ['4.6' '3.2' '1.4' '0.2']\n ['5.3' '3.7' '1.5' '0.2']\n ['5' '3.3' '1.4' '0.2']\n ['7' '3.2' '4.7' '1.4']\n ['6.4' '3.2' '4.5' '1.5']\n ['6.9' '3.1' '4.9' '1.5']\n ['5.5' '2.3' '4' '1.3']\n ['6.5' '2.8' '4.6' '1.5']\n ['5.7' '2.8' '4.5' '1.3']\n ['6.3' '3.3' '4.7' '1.6']\n ['4.9' '2.4' '3.3' '1']\n ['6.6' '2.9' '4.6' '1.3']\n ['5.2' '2.7' '3.9' '1.4']\n ['5' '2' '3.5' '1']\n ['5.9' '3' '4.2' '1.5']\n ['6' '2.2' '4' '1']\n ['6.1' '2.9' '4.7' '1.4']\n ['5.6' '2.9' '3.6' '1.3']\n ['6.7' '3.1' '4.4' '1.4']\n ['5.6' '3' '4.5' '1.5']\n ['5.8' '2.7' '4.1' '1']\n ['6.2' '2.2' '4.5' '1.5']\n ['5.6' '2.5' '3.9' '1.1']\n ['5.9' '3.2' '4.8' '1.8']\n ['6.1' '2.8' '4' '1.3']\n ['6.3' '2.5' '4.9' '1.5']\n ['6.1' '2.8' '4.7' '1.2']\n ['6.4' '2.9' '4.3' '1.3']\n ['6.6' '3' '4.4' '1.4']\n ['6.8' '2.8' '4.8' '1.4']\n ['6.7' '3' '5' '1.7']\n ['6' '2.9' '4.5' '1.5']\n ['5.7' '2.6' '3.5' '1']\n ['5.5' '2.4' '3.8' '1.1']\n ['5.5' '2.4' '3.7' '1']\n ['5.8' '2.7' '3.9' '1.2']\n ['6' '2.7' '5.1' '1.6']\n ['5.4' '3' '4.5' '1.5']\n ['6' '3.4' '4.5' '1.6']\n ['6.7' '3.1' '4.7' '1.5']\n ['6.3' '2.3' '4.4' '1.3']\n ['5.6' '3' '4.1' '1.3']\n ['5.5' '2.5' '4' '1.3']\n ['5.5' '2.6' '4.4' '1.2']\n ['6.1' '3' '4.6' '1.4']\n ['5.8' '2.6' '4' '1.2']\n ['5' '2.3' '3.3' '1']\n ['5.6' '2.7' '4.2' '1.3']\n ['5.7' '3' '4.2' '1.2']\n ['5.7' '2.9' '4.2' '1.3']\n ['6.2' '2.9' '4.3' '1.3']\n ['5.1' '2.5' '3' '1.1']\n ['5.7' '2.8' '4.1' '1.3']\n ['6.3' '3.3' '6' '2.5']\n ['5.8' '2.7' '5.1' '1.9']\n ['7.1' '3' '5.9' '2.1']\n ['6.3' '2.9' '5.6' '1.8']\n ['6.5' '3' '5.8' '2.2']\n ['7.6' '3' '6.6' '2.1']\n ['4.9' '2.5' '4.5' '1.7']\n ['7.3' '2.9' '6.3' '1.8']\n ['6.7' '2.5' '5.8' '1.8']\n ['7.2' '3.6' '6.1' '2.5']\n ['6.5' '3.2' '5.1' '2']\n ['6.4' '2.7' '5.3' '1.9']\n ['6.8' '3' '5.5' '2.1']\n ['5.7' '2.5' '5' '2']\n ['5.8' '2.8' '5.1' '2.4']\n ['6.4' '3.2' '5.3' '2.3']\n ['6.5' '3' '5.5' '1.8']\n ['7.7' '3.8' '6.7' '2.2']\n ['7.7' '2.6' '6.9' '2.3']\n ['6' '2.2' '5' '1.5']\n ['6.9' '3.2' '5.7' '2.3']\n ['5.6' '2.8' '4.9' '2']\n ['7.7' '2.8' '6.7' '2']\n ['6.3' '2.7' '4.9' '1.8']\n ['6.7' '3.3' '5.7' '2.1']\n ['7.2' '3.2' '6' '1.8']\n ['6.2' '2.8' '4.8' '1.8']\n ['6.1' '3' '4.9' '1.8']\n ['6.4' '2.8' '5.6' '2.1']\n ['7.2' '3' '5.8' '1.6']\n ['7.4' '2.8' '6.1' '1.9']\n ['7.9' '3.8' '6.4' '2']\n ['6.4' '2.8' '5.6' '2.2']\n ['6.3' '2.8' '5.1' '1.5']\n ['6.1' '2.6' '5.6' '1.4']\n ['7.7' '3' '6.1' '2.3']\n ['6.3' '3.4' '5.6' '2.4']\n ['6.4' '3.1' '5.5' '1.8']\n ['6' '3' '4.8' '1.8']\n ['6.9' '3.1' '5.4' '2.1']\n ['6.7' '3.1' '5.6' '2.4']\n ['6.9' '3.1' '5.1' '2.3']\n ['5.8' '2.7' '5.1' '1.9']\n ['6.8' '3.2' '5.9' '2.3']\n ['6.7' '3.3' '5.7' '2.5']\n ['6.7' '3' '5.2' '2.3']\n ['6.3' '2.5' '5' '1.9']\n ['6.5' '3' '5.2' '2']\n ['6.2' '3.4' '5.4' '2.3']\n ['5.9' '3' '5.1' '1.8']]\n",
          "output_type": "stream"
        }
      ],
      "execution_count": 28
    },
    {
      "cell_type": "markdown",
      "source": "Por su parte, “y” será igual a los datos correspondientes a “etiquetas” por lo que igualamos esta variable a la ultima columna.",
      "metadata": {}
    },
    {
      "cell_type": "code",
      "source": "\n",
      "metadata": {
        "trusted": true
      },
      "outputs": [],
      "execution_count": null
    },
    {
      "cell_type": "code",
      "source": "",
      "metadata": {
        "trusted": true
      },
      "outputs": [],
      "execution_count": null
    },
    {
      "cell_type": "markdown",
      "source": "Recuerda que “y” cuenta con una sola columna con solamente ceros, unos y dos, corresponden a setosa, versicolor, y virginica respectivamente",
      "metadata": {}
    },
    {
      "cell_type": "markdown",
      "source": "## Implementación de Árboles de Decisión Clasificación",
      "metadata": {}
    },
    {
      "cell_type": "markdown",
      "source": "Definido “X” y “y” ya podemos realizar la separación correspondiente a los datos de prueba y entrenamiento para ello importamos la respectiva librería y procedemos a utilizar train_test_split para separar los datos.",
      "metadata": {}
    },
    {
      "cell_type": "code",
      "source": "from sklearn.model_selection import train_test_split",
      "metadata": {
        "trusted": true
      },
      "outputs": [],
      "execution_count": 29
    },
    {
      "cell_type": "markdown",
      "source": "Para la separación de los datos, vamos a tomar un 20% de los mismos para utilizarlos como prueba una vez que hayamos obtenido el modelo.",
      "metadata": {}
    },
    {
      "cell_type": "code",
      "source": "#Separo los datos de \"train\" en entrenamiento y prueba para probar los algoritmos\nX_train, X_test, y_train, y_test = train_test_split( X, y, test_size=0.2)",
      "metadata": {
        "trusted": true
      },
      "outputs": [
        {
          "ename": "<class 'NameError'>",
          "evalue": "name 'y' is not defined",
          "traceback": [
            "\u001b[0;31m---------------------------------------------------------------------------\u001b[0m",
            "\u001b[0;31mNameError\u001b[0m                                 Traceback (most recent call last)",
            "Cell \u001b[0;32mIn[30], line 2\u001b[0m\n\u001b[1;32m      1\u001b[0m \u001b[38;5;66;03m#Separo los datos de \"train\" en entrenamiento y prueba para probar los algoritmos\u001b[39;00m\n\u001b[0;32m----> 2\u001b[0m X_train, X_test, y_train, y_test \u001b[38;5;241m=\u001b[39m train_test_split( X, \u001b[43my\u001b[49m, test_size\u001b[38;5;241m=\u001b[39m\u001b[38;5;241m0.2\u001b[39m)\n",
            "\u001b[0;31mNameError\u001b[0m: name 'y' is not defined"
          ],
          "output_type": "error"
        }
      ],
      "execution_count": 30
    },
    {
      "cell_type": "markdown",
      "source": "Seguidamente definimos el algoritmo, entonces decimos desde skelarn.tree importamos DecisionTreeClasiffier. Acá lo que indicamos es que desde el modulo de árboles de skelearn, vamos a importar el algoritmo de árboles de decisión clasificación, recuerda que ese algoritmo también funciona para problemas de regresión.",
      "metadata": {}
    },
    {
      "cell_type": "code",
      "source": "#Arboles de decisión\nfrom sklearn.tree import DecisionTreeClassifier\nalgoritmo = DecisionTreeClassifier(criterion=\"entropy\")\n",
      "metadata": {
        "trusted": true
      },
      "outputs": [],
      "execution_count": 31
    },
    {
      "cell_type": "markdown",
      "source": "Ahora definimos el algoritmo y lo configuramos para crear el modelo y entrenarlo. En este caso el único parámetro que vamos a configurar es el referente a “criterion” que se refiere a la medida de selección. Por defecto este parámetro viene configurado con el índice Gini pero para nuestro ejercicio lo voy a cambiar por “entropy” o entropía en español. Para entender mejor esto te recomiendo que buques la información publicada sobre la librería scikit learn para este algoritmo.\n\nDefinido esto ahora entrenamos el algoritmo, utilizando la instrucción fit() junto con los datos de entrenamiento separados previamente.",
      "metadata": {}
    },
    {
      "cell_type": "code",
      "source": "#Entreno el modelo\nalgoritmo.fit(X_train, y_train)",
      "metadata": {
        "trusted": true
      },
      "outputs": [
        {
          "ename": "<class 'NameError'>",
          "evalue": "name 'X_train' is not defined",
          "traceback": [
            "\u001b[0;31m---------------------------------------------------------------------------\u001b[0m",
            "\u001b[0;31mNameError\u001b[0m                                 Traceback (most recent call last)",
            "Cell \u001b[0;32mIn[32], line 2\u001b[0m\n\u001b[1;32m      1\u001b[0m \u001b[38;5;66;03m#Entreno el modelo\u001b[39;00m\n\u001b[0;32m----> 2\u001b[0m algoritmo\u001b[38;5;241m.\u001b[39mfit(\u001b[43mX_train\u001b[49m, y_train)\n",
            "\u001b[0;31mNameError\u001b[0m: name 'X_train' is not defined"
          ],
          "output_type": "error"
        }
      ],
      "execution_count": 32
    },
    {
      "cell_type": "markdown",
      "source": "## Verificación del modelo desarrollado",
      "metadata": {}
    },
    {
      "cell_type": "markdown",
      "source": "A llegado el momento de verificar que tan preciso es el modelo desarrollado para ello utilizamos modulo `score` de los Datos de Prueba.",
      "metadata": {}
    },
    {
      "cell_type": "code",
      "source": "precision = algoritmo.score(X_test, y_test)\nprint(\"Precisión del modelo Datos Pruebas:\")\nprint(precision)\n",
      "metadata": {
        "trusted": true
      },
      "outputs": [
        {
          "ename": "<class 'NameError'>",
          "evalue": "name 'X_test' is not defined",
          "traceback": [
            "\u001b[0;31m---------------------------------------------------------------------------\u001b[0m",
            "\u001b[0;31mNameError\u001b[0m                                 Traceback (most recent call last)",
            "Cell \u001b[0;32mIn[33], line 1\u001b[0m\n\u001b[0;32m----> 1\u001b[0m precision \u001b[38;5;241m=\u001b[39m algoritmo\u001b[38;5;241m.\u001b[39mscore(\u001b[43mX_test\u001b[49m, y_test)\n\u001b[1;32m      2\u001b[0m \u001b[38;5;28mprint\u001b[39m(\u001b[38;5;124m\"\u001b[39m\u001b[38;5;124mPrecisión del modelo Datos Pruebas:\u001b[39m\u001b[38;5;124m\"\u001b[39m)\n\u001b[1;32m      3\u001b[0m \u001b[38;5;28mprint\u001b[39m(precision)\n",
            "\u001b[0;31mNameError\u001b[0m: name 'X_test' is not defined"
          ],
          "output_type": "error"
        }
      ],
      "execution_count": 33
    },
    {
      "cell_type": "markdown",
      "source": "El resultado de este calculo es de 0,966 un valor bastante aceptable.\n\nCon esto podemos concluir que con este algoritmo también podemos obtener muy buenos resultados con este conjunto de datos. Ya queda de tu parte si deseas mejorarlo y ver si es posible obtener algo más preciso, para ello puedes modificar los datos de la configuración del algoritmo, por ejemplo cambiando la medida de selección.",
      "metadata": {}
    },
    {
      "cell_type": "code",
      "source": "precision2 = algoritmo.score(X_train, y_train)\nprint(\"Precision del modelo Datos Entrenamiento:\")\nprint(precision2)\n",
      "metadata": {
        "trusted": true
      },
      "outputs": [
        {
          "ename": "<class 'NameError'>",
          "evalue": "name 'X_train' is not defined",
          "traceback": [
            "\u001b[0;31m---------------------------------------------------------------------------\u001b[0m",
            "\u001b[0;31mNameError\u001b[0m                                 Traceback (most recent call last)",
            "Cell \u001b[0;32mIn[34], line 1\u001b[0m\n\u001b[0;32m----> 1\u001b[0m precision2 \u001b[38;5;241m=\u001b[39m algoritmo\u001b[38;5;241m.\u001b[39mscore(\u001b[43mX_train\u001b[49m, y_train)\n\u001b[1;32m      2\u001b[0m \u001b[38;5;28mprint\u001b[39m(\u001b[38;5;124m\"\u001b[39m\u001b[38;5;124mPrecision del modelo Datos Entrenamiento:\u001b[39m\u001b[38;5;124m\"\u001b[39m)\n\u001b[1;32m      3\u001b[0m \u001b[38;5;28mprint\u001b[39m(precision2)\n",
            "\u001b[0;31mNameError\u001b[0m: name 'X_train' is not defined"
          ],
          "output_type": "error"
        }
      ],
      "execution_count": 34
    },
    {
      "cell_type": "markdown",
      "source": "**eso se llama SOBREAJUSTE**",
      "metadata": {}
    },
    {
      "cell_type": "markdown",
      "source": "## Gráficamos nuestro Árbol",
      "metadata": {}
    },
    {
      "cell_type": "markdown",
      "source": "Importamos Librerias para graficar",
      "metadata": {}
    },
    {
      "cell_type": "markdown",
      "source": "instalar `conda install -c anaconda graphviz`\n\ninstalar `conda install -c conda-forge python-graphviz`",
      "metadata": {}
    },
    {
      "cell_type": "code",
      "source": "from sklearn.tree import export_graphviz\nimport graphviz\nimport matplotlib.pyplot as plt\n",
      "metadata": {
        "trusted": true
      },
      "outputs": [
        {
          "ename": "<class 'ModuleNotFoundError'>",
          "evalue": "No module named 'graphviz'",
          "traceback": [
            "\u001b[0;31m---------------------------------------------------------------------------\u001b[0m",
            "\u001b[0;31mModuleNotFoundError\u001b[0m                       Traceback (most recent call last)",
            "Cell \u001b[0;32mIn[36], line 2\u001b[0m\n\u001b[1;32m      1\u001b[0m \u001b[38;5;28;01mfrom\u001b[39;00m \u001b[38;5;21;01msklearn\u001b[39;00m\u001b[38;5;21;01m.\u001b[39;00m\u001b[38;5;21;01mtree\u001b[39;00m \u001b[38;5;28;01mimport\u001b[39;00m export_graphviz\n\u001b[0;32m----> 2\u001b[0m \u001b[38;5;28;01mimport\u001b[39;00m \u001b[38;5;21;01mgraphviz\u001b[39;00m\n\u001b[1;32m      3\u001b[0m \u001b[38;5;28;01mimport\u001b[39;00m \u001b[38;5;21;01mmatplotlib\u001b[39;00m\u001b[38;5;21;01m.\u001b[39;00m\u001b[38;5;21;01mpyplot\u001b[39;00m \u001b[38;5;28;01mas\u001b[39;00m \u001b[38;5;21;01mplt\u001b[39;00m\n",
            "\u001b[0;31mModuleNotFoundError\u001b[0m: No module named 'graphviz'"
          ],
          "output_type": "error"
        }
      ],
      "execution_count": 36
    },
    {
      "cell_type": "markdown",
      "source": "Generamos archivo `.dot` que contiene la grafica ",
      "metadata": {}
    },
    {
      "cell_type": "code",
      "source": "export_graphviz(algoritmo, out_file=\"arbol.dot\", class_names=(\"setosa\" \"versicolor\" \"virginica\"),\n                feature_names=(\"sepal length(cm)\", \"sepal width (cm)\", \"petal length(cm)\", \"petal width (cm)\"),\n                impurity = False, filled = True)\n\n",
      "metadata": {
        "trusted": true
      },
      "outputs": [
        {
          "ename": "<class 'sklearn.utils._param_validation.InvalidParameterError'>",
          "evalue": "The 'class_names' parameter of export_graphviz must be an array-like, an instance of 'bool', an instance of 'numpy.bool_' or an instance of 'int' or None. Got 'setosaversicolorvirginica' instead.",
          "traceback": [
            "\u001b[0;31m---------------------------------------------------------------------------\u001b[0m",
            "\u001b[0;31mInvalidParameterError\u001b[0m                     Traceback (most recent call last)",
            "Cell \u001b[0;32mIn[37], line 1\u001b[0m\n\u001b[0;32m----> 1\u001b[0m \u001b[43mexport_graphviz\u001b[49m\u001b[43m(\u001b[49m\u001b[43malgoritmo\u001b[49m\u001b[43m,\u001b[49m\u001b[43m \u001b[49m\u001b[43mout_file\u001b[49m\u001b[38;5;241;43m=\u001b[39;49m\u001b[38;5;124;43m\"\u001b[39;49m\u001b[38;5;124;43marbol.dot\u001b[39;49m\u001b[38;5;124;43m\"\u001b[39;49m\u001b[43m,\u001b[49m\u001b[43m \u001b[49m\u001b[43mclass_names\u001b[49m\u001b[38;5;241;43m=\u001b[39;49m\u001b[43m(\u001b[49m\u001b[38;5;124;43m\"\u001b[39;49m\u001b[38;5;124;43msetosa\u001b[39;49m\u001b[38;5;124;43m\"\u001b[39;49m\u001b[43m \u001b[49m\u001b[38;5;124;43m\"\u001b[39;49m\u001b[38;5;124;43mversicolor\u001b[39;49m\u001b[38;5;124;43m\"\u001b[39;49m\u001b[43m \u001b[49m\u001b[38;5;124;43m\"\u001b[39;49m\u001b[38;5;124;43mvirginica\u001b[39;49m\u001b[38;5;124;43m\"\u001b[39;49m\u001b[43m)\u001b[49m\u001b[43m,\u001b[49m\n\u001b[1;32m      2\u001b[0m \u001b[43m                \u001b[49m\u001b[43mfeature_names\u001b[49m\u001b[38;5;241;43m=\u001b[39;49m\u001b[43m(\u001b[49m\u001b[38;5;124;43m\"\u001b[39;49m\u001b[38;5;124;43msepal length(cm)\u001b[39;49m\u001b[38;5;124;43m\"\u001b[39;49m\u001b[43m,\u001b[49m\u001b[43m \u001b[49m\u001b[38;5;124;43m\"\u001b[39;49m\u001b[38;5;124;43msepal width (cm)\u001b[39;49m\u001b[38;5;124;43m\"\u001b[39;49m\u001b[43m,\u001b[49m\u001b[43m \u001b[49m\u001b[38;5;124;43m\"\u001b[39;49m\u001b[38;5;124;43mpetal length(cm)\u001b[39;49m\u001b[38;5;124;43m\"\u001b[39;49m\u001b[43m,\u001b[49m\u001b[43m \u001b[49m\u001b[38;5;124;43m\"\u001b[39;49m\u001b[38;5;124;43mpetal width (cm)\u001b[39;49m\u001b[38;5;124;43m\"\u001b[39;49m\u001b[43m)\u001b[49m\u001b[43m,\u001b[49m\n\u001b[1;32m      3\u001b[0m \u001b[43m                \u001b[49m\u001b[43mimpurity\u001b[49m\u001b[43m \u001b[49m\u001b[38;5;241;43m=\u001b[39;49m\u001b[43m \u001b[49m\u001b[38;5;28;43;01mFalse\u001b[39;49;00m\u001b[43m,\u001b[49m\u001b[43m \u001b[49m\u001b[43mfilled\u001b[49m\u001b[43m \u001b[49m\u001b[38;5;241;43m=\u001b[39;49m\u001b[43m \u001b[49m\u001b[38;5;28;43;01mTrue\u001b[39;49;00m\u001b[43m)\u001b[49m\n",
            "File \u001b[0;32m/lib/python3.11/site-packages/sklearn/utils/_param_validation.py:201\u001b[0m, in \u001b[0;36mvalidate_params.<locals>.decorator.<locals>.wrapper\u001b[0;34m(*args, **kwargs)\u001b[0m\n\u001b[1;32m    198\u001b[0m to_ignore \u001b[38;5;241m+\u001b[39m\u001b[38;5;241m=\u001b[39m [\u001b[38;5;124m\"\u001b[39m\u001b[38;5;124mself\u001b[39m\u001b[38;5;124m\"\u001b[39m, \u001b[38;5;124m\"\u001b[39m\u001b[38;5;124mcls\u001b[39m\u001b[38;5;124m\"\u001b[39m]\n\u001b[1;32m    199\u001b[0m params \u001b[38;5;241m=\u001b[39m {k: v \u001b[38;5;28;01mfor\u001b[39;00m k, v \u001b[38;5;129;01min\u001b[39;00m params\u001b[38;5;241m.\u001b[39marguments\u001b[38;5;241m.\u001b[39mitems() \u001b[38;5;28;01mif\u001b[39;00m k \u001b[38;5;129;01mnot\u001b[39;00m \u001b[38;5;129;01min\u001b[39;00m to_ignore}\n\u001b[0;32m--> 201\u001b[0m \u001b[43mvalidate_parameter_constraints\u001b[49m\u001b[43m(\u001b[49m\n\u001b[1;32m    202\u001b[0m \u001b[43m    \u001b[49m\u001b[43mparameter_constraints\u001b[49m\u001b[43m,\u001b[49m\u001b[43m \u001b[49m\u001b[43mparams\u001b[49m\u001b[43m,\u001b[49m\u001b[43m \u001b[49m\u001b[43mcaller_name\u001b[49m\u001b[38;5;241;43m=\u001b[39;49m\u001b[43mfunc\u001b[49m\u001b[38;5;241;43m.\u001b[39;49m\u001b[38;5;18;43m__qualname__\u001b[39;49m\n\u001b[1;32m    203\u001b[0m \u001b[43m\u001b[49m\u001b[43m)\u001b[49m\n\u001b[1;32m    205\u001b[0m \u001b[38;5;28;01mtry\u001b[39;00m:\n\u001b[1;32m    206\u001b[0m     \u001b[38;5;28;01mwith\u001b[39;00m config_context(\n\u001b[1;32m    207\u001b[0m         skip_parameter_validation\u001b[38;5;241m=\u001b[39m(\n\u001b[1;32m    208\u001b[0m             prefer_skip_nested_validation \u001b[38;5;129;01mor\u001b[39;00m global_skip_validation\n\u001b[1;32m    209\u001b[0m         )\n\u001b[1;32m    210\u001b[0m     ):\n",
            "File \u001b[0;32m/lib/python3.11/site-packages/sklearn/utils/_param_validation.py:95\u001b[0m, in \u001b[0;36mvalidate_parameter_constraints\u001b[0;34m(parameter_constraints, params, caller_name)\u001b[0m\n\u001b[1;32m     89\u001b[0m \u001b[38;5;28;01melse\u001b[39;00m:\n\u001b[1;32m     90\u001b[0m     constraints_str \u001b[38;5;241m=\u001b[39m (\n\u001b[1;32m     91\u001b[0m         \u001b[38;5;124mf\u001b[39m\u001b[38;5;124m\"\u001b[39m\u001b[38;5;132;01m{\u001b[39;00m\u001b[38;5;124m'\u001b[39m\u001b[38;5;124m, \u001b[39m\u001b[38;5;124m'\u001b[39m\u001b[38;5;241m.\u001b[39mjoin([\u001b[38;5;28mstr\u001b[39m(c)\u001b[38;5;250m \u001b[39m\u001b[38;5;28;01mfor\u001b[39;00m\u001b[38;5;250m \u001b[39mc\u001b[38;5;250m \u001b[39m\u001b[38;5;129;01min\u001b[39;00m\u001b[38;5;250m \u001b[39mconstraints[:\u001b[38;5;241m-\u001b[39m\u001b[38;5;241m1\u001b[39m]])\u001b[38;5;132;01m}\u001b[39;00m\u001b[38;5;124m or\u001b[39m\u001b[38;5;124m\"\u001b[39m\n\u001b[1;32m     92\u001b[0m         \u001b[38;5;124mf\u001b[39m\u001b[38;5;124m\"\u001b[39m\u001b[38;5;124m \u001b[39m\u001b[38;5;132;01m{\u001b[39;00mconstraints[\u001b[38;5;241m-\u001b[39m\u001b[38;5;241m1\u001b[39m]\u001b[38;5;132;01m}\u001b[39;00m\u001b[38;5;124m\"\u001b[39m\n\u001b[1;32m     93\u001b[0m     )\n\u001b[0;32m---> 95\u001b[0m \u001b[38;5;28;01mraise\u001b[39;00m InvalidParameterError(\n\u001b[1;32m     96\u001b[0m     \u001b[38;5;124mf\u001b[39m\u001b[38;5;124m\"\u001b[39m\u001b[38;5;124mThe \u001b[39m\u001b[38;5;132;01m{\u001b[39;00mparam_name\u001b[38;5;132;01m!r}\u001b[39;00m\u001b[38;5;124m parameter of \u001b[39m\u001b[38;5;132;01m{\u001b[39;00mcaller_name\u001b[38;5;132;01m}\u001b[39;00m\u001b[38;5;124m must be\u001b[39m\u001b[38;5;124m\"\u001b[39m\n\u001b[1;32m     97\u001b[0m     \u001b[38;5;124mf\u001b[39m\u001b[38;5;124m\"\u001b[39m\u001b[38;5;124m \u001b[39m\u001b[38;5;132;01m{\u001b[39;00mconstraints_str\u001b[38;5;132;01m}\u001b[39;00m\u001b[38;5;124m. Got \u001b[39m\u001b[38;5;132;01m{\u001b[39;00mparam_val\u001b[38;5;132;01m!r}\u001b[39;00m\u001b[38;5;124m instead.\u001b[39m\u001b[38;5;124m\"\u001b[39m\n\u001b[1;32m     98\u001b[0m )\n",
            "\u001b[0;31mInvalidParameterError\u001b[0m: The 'class_names' parameter of export_graphviz must be an array-like, an instance of 'bool', an instance of 'numpy.bool_' or an instance of 'int' or None. Got 'setosaversicolorvirginica' instead."
          ],
          "output_type": "error"
        }
      ],
      "execution_count": 37
    },
    {
      "cell_type": "markdown",
      "source": "Creamos la gráfica",
      "metadata": {}
    },
    {
      "cell_type": "code",
      "source": "with open(\"arbol.dot\") as f:\n    dot_graph=f.read()\ngraphviz.Source(dot.graph)\n\n",
      "metadata": {
        "trusted": true
      },
      "outputs": [
        {
          "ename": "<class 'FileNotFoundError'>",
          "evalue": "[Errno 44] No such file or directory: 'arbol.dot'",
          "traceback": [
            "\u001b[0;31m---------------------------------------------------------------------------\u001b[0m",
            "\u001b[0;31mFileNotFoundError\u001b[0m                         Traceback (most recent call last)",
            "Cell \u001b[0;32mIn[38], line 1\u001b[0m\n\u001b[0;32m----> 1\u001b[0m \u001b[38;5;28;01mwith\u001b[39;00m \u001b[38;5;28;43mopen\u001b[39;49m\u001b[43m(\u001b[49m\u001b[38;5;124;43m\"\u001b[39;49m\u001b[38;5;124;43marbol.dot\u001b[39;49m\u001b[38;5;124;43m\"\u001b[39;49m\u001b[43m)\u001b[49m \u001b[38;5;28;01mas\u001b[39;00m f:\n\u001b[1;32m      2\u001b[0m     dot_graph\u001b[38;5;241m=\u001b[39mf\u001b[38;5;241m.\u001b[39mread()\n\u001b[1;32m      3\u001b[0m graphviz\u001b[38;5;241m.\u001b[39mSource(dot\u001b[38;5;241m.\u001b[39mgraph)\n",
            "File \u001b[0;32m/lib/python3.11/site-packages/IPython/core/interactiveshell.py:324\u001b[0m, in \u001b[0;36m_modified_open\u001b[0;34m(file, *args, **kwargs)\u001b[0m\n\u001b[1;32m    317\u001b[0m \u001b[38;5;28;01mif\u001b[39;00m file \u001b[38;5;129;01min\u001b[39;00m {\u001b[38;5;241m0\u001b[39m, \u001b[38;5;241m1\u001b[39m, \u001b[38;5;241m2\u001b[39m}:\n\u001b[1;32m    318\u001b[0m     \u001b[38;5;28;01mraise\u001b[39;00m \u001b[38;5;167;01mValueError\u001b[39;00m(\n\u001b[1;32m    319\u001b[0m         \u001b[38;5;124mf\u001b[39m\u001b[38;5;124m\"\u001b[39m\u001b[38;5;124mIPython won\u001b[39m\u001b[38;5;124m'\u001b[39m\u001b[38;5;124mt let you open fd=\u001b[39m\u001b[38;5;132;01m{\u001b[39;00mfile\u001b[38;5;132;01m}\u001b[39;00m\u001b[38;5;124m by default \u001b[39m\u001b[38;5;124m\"\u001b[39m\n\u001b[1;32m    320\u001b[0m         \u001b[38;5;124m\"\u001b[39m\u001b[38;5;124mas it is likely to crash IPython. If you know what you are doing, \u001b[39m\u001b[38;5;124m\"\u001b[39m\n\u001b[1;32m    321\u001b[0m         \u001b[38;5;124m\"\u001b[39m\u001b[38;5;124myou can use builtins\u001b[39m\u001b[38;5;124m'\u001b[39m\u001b[38;5;124m open.\u001b[39m\u001b[38;5;124m\"\u001b[39m\n\u001b[1;32m    322\u001b[0m     )\n\u001b[0;32m--> 324\u001b[0m \u001b[38;5;28;01mreturn\u001b[39;00m \u001b[43mio_open\u001b[49m\u001b[43m(\u001b[49m\u001b[43mfile\u001b[49m\u001b[43m,\u001b[49m\u001b[43m \u001b[49m\u001b[38;5;241;43m*\u001b[39;49m\u001b[43margs\u001b[49m\u001b[43m,\u001b[49m\u001b[43m \u001b[49m\u001b[38;5;241;43m*\u001b[39;49m\u001b[38;5;241;43m*\u001b[39;49m\u001b[43mkwargs\u001b[49m\u001b[43m)\u001b[49m\n",
            "\u001b[0;31mFileNotFoundError\u001b[0m: [Errno 44] No such file or directory: 'arbol.dot'"
          ],
          "output_type": "error"
        }
      ],
      "execution_count": 38
    },
    {
      "cell_type": "code",
      "source": "caract = X.shape[1]\nplt.barh(range(caract), algoritmo.feature_importances_)\nplt.yticks(np.arange(caract),(\"sepal length(cm)\",\"sepal width (cm)\", \"petal length (cm)\", \"petal width (cm)\"))\nplt.xlabel(\"Importancia de las características\")\nplt.ylabel(\"Características\")\nplt.show()\n\n\n",
      "metadata": {
        "trusted": true
      },
      "outputs": [
        {
          "ename": "<class 'NameError'>",
          "evalue": "name 'plt' is not defined",
          "traceback": [
            "\u001b[0;31m---------------------------------------------------------------------------\u001b[0m",
            "\u001b[0;31mNameError\u001b[0m                                 Traceback (most recent call last)",
            "Cell \u001b[0;32mIn[39], line 2\u001b[0m\n\u001b[1;32m      1\u001b[0m caract \u001b[38;5;241m=\u001b[39m X\u001b[38;5;241m.\u001b[39mshape[\u001b[38;5;241m1\u001b[39m]\n\u001b[0;32m----> 2\u001b[0m \u001b[43mplt\u001b[49m\u001b[38;5;241m.\u001b[39mbarh(\u001b[38;5;28mrange\u001b[39m(caract), algoritmo\u001b[38;5;241m.\u001b[39mfeature_importances_)\n\u001b[1;32m      3\u001b[0m plt\u001b[38;5;241m.\u001b[39myticks(np\u001b[38;5;241m.\u001b[39marange(caract),(\u001b[38;5;124m\"\u001b[39m\u001b[38;5;124msepal length(cm)\u001b[39m\u001b[38;5;124m\"\u001b[39m,\u001b[38;5;124m\"\u001b[39m\u001b[38;5;124msepal width (cm)\u001b[39m\u001b[38;5;124m\"\u001b[39m, \u001b[38;5;124m\"\u001b[39m\u001b[38;5;124mpetal length (cm)\u001b[39m\u001b[38;5;124m\"\u001b[39m, \u001b[38;5;124m\"\u001b[39m\u001b[38;5;124mpetal width (cm)\u001b[39m\u001b[38;5;124m\"\u001b[39m))\n\u001b[1;32m      4\u001b[0m plt\u001b[38;5;241m.\u001b[39mxlabel(\u001b[38;5;124m\"\u001b[39m\u001b[38;5;124mImportancia de las características\u001b[39m\u001b[38;5;124m\"\u001b[39m)\n",
            "\u001b[0;31mNameError\u001b[0m: name 'plt' is not defined"
          ],
          "output_type": "error"
        }
      ],
      "execution_count": 39
    },
    {
      "cell_type": "markdown",
      "source": "## Volvemos a entrenar el modelo con 3 niveles evitando sobreajuste",
      "metadata": {}
    },
    {
      "cell_type": "code",
      "source": "#Arboles de decisión\nalgoritmo = DecisionTreeClassifier(max_depth=3)",
      "metadata": {
        "trusted": true
      },
      "outputs": [],
      "execution_count": 40
    },
    {
      "cell_type": "code",
      "source": "#Entreno el modelo\nalgoritmo.fit(X_train, y_train)",
      "metadata": {
        "trusted": true
      },
      "outputs": [
        {
          "ename": "<class 'NameError'>",
          "evalue": "name 'X_train' is not defined",
          "traceback": [
            "\u001b[0;31m---------------------------------------------------------------------------\u001b[0m",
            "\u001b[0;31mNameError\u001b[0m                                 Traceback (most recent call last)",
            "Cell \u001b[0;32mIn[41], line 2\u001b[0m\n\u001b[1;32m      1\u001b[0m \u001b[38;5;66;03m#Entreno el modelo\u001b[39;00m\n\u001b[0;32m----> 2\u001b[0m algoritmo\u001b[38;5;241m.\u001b[39mfit(\u001b[43mX_train\u001b[49m, y_train)\n",
            "\u001b[0;31mNameError\u001b[0m: name 'X_train' is not defined"
          ],
          "output_type": "error"
        }
      ],
      "execution_count": 41
    },
    {
      "cell_type": "code",
      "source": "precision = algoritmo.score(X_test, y_test)\nprint(\"Precisión del modelo Datos Prueba:\")\nprint(precision)\n",
      "metadata": {
        "trusted": true
      },
      "outputs": [
        {
          "ename": "<class 'NameError'>",
          "evalue": "name 'X_test' is not defined",
          "traceback": [
            "\u001b[0;31m---------------------------------------------------------------------------\u001b[0m",
            "\u001b[0;31mNameError\u001b[0m                                 Traceback (most recent call last)",
            "Cell \u001b[0;32mIn[43], line 1\u001b[0m\n\u001b[0;32m----> 1\u001b[0m precision \u001b[38;5;241m=\u001b[39m algoritmo\u001b[38;5;241m.\u001b[39mscore(\u001b[43mX_test\u001b[49m, y_test)\n\u001b[1;32m      2\u001b[0m \u001b[38;5;28mprint\u001b[39m(\u001b[38;5;124m\"\u001b[39m\u001b[38;5;124mPrecisión del modelo Datos Prueba:\u001b[39m\u001b[38;5;124m\"\u001b[39m)\n\u001b[1;32m      3\u001b[0m \u001b[38;5;28mprint\u001b[39m(precision)\n",
            "\u001b[0;31mNameError\u001b[0m: name 'X_test' is not defined"
          ],
          "output_type": "error"
        }
      ],
      "execution_count": 43
    },
    {
      "cell_type": "code",
      "source": "precision2 = algoritmo.score(X_train, y_train)\nprint(\"Precisión del modelo Datos Entrenamiento:\")\nprint(precision2)\n\n\n",
      "metadata": {
        "trusted": true
      },
      "outputs": [
        {
          "ename": "<class 'NameError'>",
          "evalue": "name 'X_train' is not defined",
          "traceback": [
            "\u001b[0;31m---------------------------------------------------------------------------\u001b[0m",
            "\u001b[0;31mNameError\u001b[0m                                 Traceback (most recent call last)",
            "Cell \u001b[0;32mIn[44], line 1\u001b[0m\n\u001b[0;32m----> 1\u001b[0m precision2 \u001b[38;5;241m=\u001b[39m algoritmo\u001b[38;5;241m.\u001b[39mscore(\u001b[43mX_train\u001b[49m, y_train)\n\u001b[1;32m      2\u001b[0m \u001b[38;5;28mprint\u001b[39m(\u001b[38;5;124m\"\u001b[39m\u001b[38;5;124mPrecisión del modelo Datos Entrenamiento:\u001b[39m\u001b[38;5;124m\"\u001b[39m)\n\u001b[1;32m      3\u001b[0m \u001b[38;5;28mprint\u001b[39m(precision2)\n",
            "\u001b[0;31mNameError\u001b[0m: name 'X_train' is not defined"
          ],
          "output_type": "error"
        }
      ],
      "execution_count": 44
    },
    {
      "cell_type": "code",
      "source": "export_graphviz(algoritmo, out_file='arbol.dot', class_names=('setosa', 'versicolor', 'virginica'),\n                feature_names=('sepal length (cm)', 'sepal width (cm)', 'petal length (cm)', 'petal width (cm)'),\n                impurity=False, filled=True)\n\n",
      "metadata": {
        "trusted": true
      },
      "outputs": [
        {
          "ename": "<class 'sklearn.exceptions.NotFittedError'>",
          "evalue": "This DecisionTreeClassifier instance is not fitted yet. Call 'fit' with appropriate arguments before using this estimator.",
          "traceback": [
            "\u001b[0;31m---------------------------------------------------------------------------\u001b[0m",
            "\u001b[0;31mNotFittedError\u001b[0m                            Traceback (most recent call last)",
            "Cell \u001b[0;32mIn[45], line 1\u001b[0m\n\u001b[0;32m----> 1\u001b[0m \u001b[43mexport_graphviz\u001b[49m\u001b[43m(\u001b[49m\u001b[43malgoritmo\u001b[49m\u001b[43m,\u001b[49m\u001b[43m \u001b[49m\u001b[43mout_file\u001b[49m\u001b[38;5;241;43m=\u001b[39;49m\u001b[38;5;124;43m'\u001b[39;49m\u001b[38;5;124;43marbol.dot\u001b[39;49m\u001b[38;5;124;43m'\u001b[39;49m\u001b[43m,\u001b[49m\u001b[43m \u001b[49m\u001b[43mclass_names\u001b[49m\u001b[38;5;241;43m=\u001b[39;49m\u001b[43m(\u001b[49m\u001b[38;5;124;43m'\u001b[39;49m\u001b[38;5;124;43msetosa\u001b[39;49m\u001b[38;5;124;43m'\u001b[39;49m\u001b[43m,\u001b[49m\u001b[43m \u001b[49m\u001b[38;5;124;43m'\u001b[39;49m\u001b[38;5;124;43mversicolor\u001b[39;49m\u001b[38;5;124;43m'\u001b[39;49m\u001b[43m,\u001b[49m\u001b[43m \u001b[49m\u001b[38;5;124;43m'\u001b[39;49m\u001b[38;5;124;43mvirginica\u001b[39;49m\u001b[38;5;124;43m'\u001b[39;49m\u001b[43m)\u001b[49m\u001b[43m,\u001b[49m\n\u001b[1;32m      2\u001b[0m \u001b[43m                \u001b[49m\u001b[43mfeature_names\u001b[49m\u001b[38;5;241;43m=\u001b[39;49m\u001b[43m(\u001b[49m\u001b[38;5;124;43m'\u001b[39;49m\u001b[38;5;124;43msepal length (cm)\u001b[39;49m\u001b[38;5;124;43m'\u001b[39;49m\u001b[43m,\u001b[49m\u001b[43m \u001b[49m\u001b[38;5;124;43m'\u001b[39;49m\u001b[38;5;124;43msepal width (cm)\u001b[39;49m\u001b[38;5;124;43m'\u001b[39;49m\u001b[43m,\u001b[49m\u001b[43m \u001b[49m\u001b[38;5;124;43m'\u001b[39;49m\u001b[38;5;124;43mpetal length (cm)\u001b[39;49m\u001b[38;5;124;43m'\u001b[39;49m\u001b[43m,\u001b[49m\u001b[43m \u001b[49m\u001b[38;5;124;43m'\u001b[39;49m\u001b[38;5;124;43mpetal width (cm)\u001b[39;49m\u001b[38;5;124;43m'\u001b[39;49m\u001b[43m)\u001b[49m\u001b[43m,\u001b[49m\n\u001b[1;32m      3\u001b[0m \u001b[43m                \u001b[49m\u001b[43mimpurity\u001b[49m\u001b[38;5;241;43m=\u001b[39;49m\u001b[38;5;28;43;01mFalse\u001b[39;49;00m\u001b[43m,\u001b[49m\u001b[43m \u001b[49m\u001b[43mfilled\u001b[49m\u001b[38;5;241;43m=\u001b[39;49m\u001b[38;5;28;43;01mTrue\u001b[39;49;00m\u001b[43m)\u001b[49m\n",
            "File \u001b[0;32m/lib/python3.11/site-packages/sklearn/utils/_param_validation.py:211\u001b[0m, in \u001b[0;36mvalidate_params.<locals>.decorator.<locals>.wrapper\u001b[0;34m(*args, **kwargs)\u001b[0m\n\u001b[1;32m    205\u001b[0m \u001b[38;5;28;01mtry\u001b[39;00m:\n\u001b[1;32m    206\u001b[0m     \u001b[38;5;28;01mwith\u001b[39;00m config_context(\n\u001b[1;32m    207\u001b[0m         skip_parameter_validation\u001b[38;5;241m=\u001b[39m(\n\u001b[1;32m    208\u001b[0m             prefer_skip_nested_validation \u001b[38;5;129;01mor\u001b[39;00m global_skip_validation\n\u001b[1;32m    209\u001b[0m         )\n\u001b[1;32m    210\u001b[0m     ):\n\u001b[0;32m--> 211\u001b[0m         \u001b[38;5;28;01mreturn\u001b[39;00m \u001b[43mfunc\u001b[49m\u001b[43m(\u001b[49m\u001b[38;5;241;43m*\u001b[39;49m\u001b[43margs\u001b[49m\u001b[43m,\u001b[49m\u001b[43m \u001b[49m\u001b[38;5;241;43m*\u001b[39;49m\u001b[38;5;241;43m*\u001b[39;49m\u001b[43mkwargs\u001b[49m\u001b[43m)\u001b[49m\n\u001b[1;32m    212\u001b[0m \u001b[38;5;28;01mexcept\u001b[39;00m InvalidParameterError \u001b[38;5;28;01mas\u001b[39;00m e:\n\u001b[1;32m    213\u001b[0m     \u001b[38;5;66;03m# When the function is just a wrapper around an estimator, we allow\u001b[39;00m\n\u001b[1;32m    214\u001b[0m     \u001b[38;5;66;03m# the function to delegate validation to the estimator, but we replace\u001b[39;00m\n\u001b[1;32m    215\u001b[0m     \u001b[38;5;66;03m# the name of the estimator by the name of the function in the error\u001b[39;00m\n\u001b[1;32m    216\u001b[0m     \u001b[38;5;66;03m# message to avoid confusion.\u001b[39;00m\n\u001b[1;32m    217\u001b[0m     msg \u001b[38;5;241m=\u001b[39m re\u001b[38;5;241m.\u001b[39msub(\n\u001b[1;32m    218\u001b[0m         \u001b[38;5;124mr\u001b[39m\u001b[38;5;124m\"\u001b[39m\u001b[38;5;124mparameter of \u001b[39m\u001b[38;5;124m\\\u001b[39m\u001b[38;5;124mw+ must be\u001b[39m\u001b[38;5;124m\"\u001b[39m,\n\u001b[1;32m    219\u001b[0m         \u001b[38;5;124mf\u001b[39m\u001b[38;5;124m\"\u001b[39m\u001b[38;5;124mparameter of \u001b[39m\u001b[38;5;132;01m{\u001b[39;00mfunc\u001b[38;5;241m.\u001b[39m\u001b[38;5;18m__qualname__\u001b[39m\u001b[38;5;132;01m}\u001b[39;00m\u001b[38;5;124m must be\u001b[39m\u001b[38;5;124m\"\u001b[39m,\n\u001b[1;32m    220\u001b[0m         \u001b[38;5;28mstr\u001b[39m(e),\n\u001b[1;32m    221\u001b[0m     )\n",
            "File \u001b[0;32m/lib/python3.11/site-packages/sklearn/tree/_export.py:876\u001b[0m, in \u001b[0;36mexport_graphviz\u001b[0;34m(decision_tree, out_file, max_depth, feature_names, class_names, label, filled, leaves_parallel, impurity, node_ids, proportion, rotate, rounded, special_characters, precision, fontname)\u001b[0m\n\u001b[1;32m    871\u001b[0m \u001b[38;5;28;01mif\u001b[39;00m class_names \u001b[38;5;129;01mis\u001b[39;00m \u001b[38;5;129;01mnot\u001b[39;00m \u001b[38;5;28;01mNone\u001b[39;00m \u001b[38;5;129;01mand\u001b[39;00m \u001b[38;5;129;01mnot\u001b[39;00m \u001b[38;5;28misinstance\u001b[39m(class_names, \u001b[38;5;28mbool\u001b[39m):\n\u001b[1;32m    872\u001b[0m     class_names \u001b[38;5;241m=\u001b[39m check_array(\n\u001b[1;32m    873\u001b[0m         class_names, ensure_2d\u001b[38;5;241m=\u001b[39m\u001b[38;5;28;01mFalse\u001b[39;00m, dtype\u001b[38;5;241m=\u001b[39m\u001b[38;5;28;01mNone\u001b[39;00m, ensure_min_samples\u001b[38;5;241m=\u001b[39m\u001b[38;5;241m0\u001b[39m\n\u001b[1;32m    874\u001b[0m     )\n\u001b[0;32m--> 876\u001b[0m \u001b[43mcheck_is_fitted\u001b[49m\u001b[43m(\u001b[49m\u001b[43mdecision_tree\u001b[49m\u001b[43m)\u001b[49m\n\u001b[1;32m    877\u001b[0m own_file \u001b[38;5;241m=\u001b[39m \u001b[38;5;28;01mFalse\u001b[39;00m\n\u001b[1;32m    878\u001b[0m return_string \u001b[38;5;241m=\u001b[39m \u001b[38;5;28;01mFalse\u001b[39;00m\n",
            "File \u001b[0;32m/lib/python3.11/site-packages/sklearn/utils/validation.py:1461\u001b[0m, in \u001b[0;36mcheck_is_fitted\u001b[0;34m(estimator, attributes, msg, all_or_any)\u001b[0m\n\u001b[1;32m   1458\u001b[0m     \u001b[38;5;28;01mraise\u001b[39;00m \u001b[38;5;167;01mTypeError\u001b[39;00m(\u001b[38;5;124m\"\u001b[39m\u001b[38;5;132;01m%s\u001b[39;00m\u001b[38;5;124m is not an estimator instance.\u001b[39m\u001b[38;5;124m\"\u001b[39m \u001b[38;5;241m%\u001b[39m (estimator))\n\u001b[1;32m   1460\u001b[0m \u001b[38;5;28;01mif\u001b[39;00m \u001b[38;5;129;01mnot\u001b[39;00m _is_fitted(estimator, attributes, all_or_any):\n\u001b[0;32m-> 1461\u001b[0m     \u001b[38;5;28;01mraise\u001b[39;00m NotFittedError(msg \u001b[38;5;241m%\u001b[39m {\u001b[38;5;124m\"\u001b[39m\u001b[38;5;124mname\u001b[39m\u001b[38;5;124m\"\u001b[39m: \u001b[38;5;28mtype\u001b[39m(estimator)\u001b[38;5;241m.\u001b[39m\u001b[38;5;18m__name__\u001b[39m})\n",
            "\u001b[0;31mNotFittedError\u001b[0m: This DecisionTreeClassifier instance is not fitted yet. Call 'fit' with appropriate arguments before using this estimator."
          ],
          "output_type": "error"
        }
      ],
      "execution_count": 45
    },
    {
      "cell_type": "code",
      "source": "with open('arbol2.dot') as f:\n    dot_graph = f.read()\ngraphviz.Source(dot_graph)\n\n",
      "metadata": {
        "trusted": true
      },
      "outputs": [
        {
          "ename": "<class 'FileNotFoundError'>",
          "evalue": "[Errno 44] No such file or directory: 'arbol2.dot'",
          "traceback": [
            "\u001b[0;31m---------------------------------------------------------------------------\u001b[0m",
            "\u001b[0;31mFileNotFoundError\u001b[0m                         Traceback (most recent call last)",
            "Cell \u001b[0;32mIn[46], line 1\u001b[0m\n\u001b[0;32m----> 1\u001b[0m \u001b[38;5;28;01mwith\u001b[39;00m \u001b[38;5;28;43mopen\u001b[39;49m\u001b[43m(\u001b[49m\u001b[38;5;124;43m'\u001b[39;49m\u001b[38;5;124;43marbol2.dot\u001b[39;49m\u001b[38;5;124;43m'\u001b[39;49m\u001b[43m)\u001b[49m \u001b[38;5;28;01mas\u001b[39;00m f:\n\u001b[1;32m      2\u001b[0m     dot_graph \u001b[38;5;241m=\u001b[39m f\u001b[38;5;241m.\u001b[39mread()\n\u001b[1;32m      3\u001b[0m graphviz\u001b[38;5;241m.\u001b[39mSource(dot_graph)\n",
            "File \u001b[0;32m/lib/python3.11/site-packages/IPython/core/interactiveshell.py:324\u001b[0m, in \u001b[0;36m_modified_open\u001b[0;34m(file, *args, **kwargs)\u001b[0m\n\u001b[1;32m    317\u001b[0m \u001b[38;5;28;01mif\u001b[39;00m file \u001b[38;5;129;01min\u001b[39;00m {\u001b[38;5;241m0\u001b[39m, \u001b[38;5;241m1\u001b[39m, \u001b[38;5;241m2\u001b[39m}:\n\u001b[1;32m    318\u001b[0m     \u001b[38;5;28;01mraise\u001b[39;00m \u001b[38;5;167;01mValueError\u001b[39;00m(\n\u001b[1;32m    319\u001b[0m         \u001b[38;5;124mf\u001b[39m\u001b[38;5;124m\"\u001b[39m\u001b[38;5;124mIPython won\u001b[39m\u001b[38;5;124m'\u001b[39m\u001b[38;5;124mt let you open fd=\u001b[39m\u001b[38;5;132;01m{\u001b[39;00mfile\u001b[38;5;132;01m}\u001b[39;00m\u001b[38;5;124m by default \u001b[39m\u001b[38;5;124m\"\u001b[39m\n\u001b[1;32m    320\u001b[0m         \u001b[38;5;124m\"\u001b[39m\u001b[38;5;124mas it is likely to crash IPython. If you know what you are doing, \u001b[39m\u001b[38;5;124m\"\u001b[39m\n\u001b[1;32m    321\u001b[0m         \u001b[38;5;124m\"\u001b[39m\u001b[38;5;124myou can use builtins\u001b[39m\u001b[38;5;124m'\u001b[39m\u001b[38;5;124m open.\u001b[39m\u001b[38;5;124m\"\u001b[39m\n\u001b[1;32m    322\u001b[0m     )\n\u001b[0;32m--> 324\u001b[0m \u001b[38;5;28;01mreturn\u001b[39;00m \u001b[43mio_open\u001b[49m\u001b[43m(\u001b[49m\u001b[43mfile\u001b[49m\u001b[43m,\u001b[49m\u001b[43m \u001b[49m\u001b[38;5;241;43m*\u001b[39;49m\u001b[43margs\u001b[49m\u001b[43m,\u001b[49m\u001b[43m \u001b[49m\u001b[38;5;241;43m*\u001b[39;49m\u001b[38;5;241;43m*\u001b[39;49m\u001b[43mkwargs\u001b[49m\u001b[43m)\u001b[49m\n",
            "\u001b[0;31mFileNotFoundError\u001b[0m: [Errno 44] No such file or directory: 'arbol2.dot'"
          ],
          "output_type": "error"
        }
      ],
      "execution_count": 46
    },
    {
      "cell_type": "markdown",
      "source": "![linea 2](https://user-images.githubusercontent.com/19308295/115926262-2fb62980-a448-11eb-8189-c2f10e499944.png)",
      "metadata": {}
    },
    {
      "cell_type": "markdown",
      "source": "## <font color=#33A5FF>****BIBLIOGRAFÍA****<tfont>",
      "metadata": {}
    },
    {
      "cell_type": "markdown",
      "source": "[1] Guía oficial scikit learn https://scikit-learn.org/stable/\n\n[2] Datasets de Scikit Learn: https://scikit-learn.org/stable/datasets/toy_dataset.html\n\n[3] Scikit Learn DecisionTreeClassifier : https://bit.ly/398XAIv\n\n[4] Scikit Learn export_graphviz : https://bit.ly/2ZAbHDt",
      "metadata": {}
    },
    {
      "cell_type": "markdown",
      "source": "![linea 1](https://user-images.githubusercontent.com/19308295/115926252-2b8a0c00-a448-11eb-9d9c-b43beaf0ff68.png)",
      "metadata": {}
    }
  ]
}