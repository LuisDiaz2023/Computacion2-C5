{
 "cells": [
  {
   "cell_type": "code",
   "execution_count": 12,
   "id": "ab1e16a4-a6fc-44ac-a65b-d94d6e13154f",
   "metadata": {},
   "outputs": [
    {
     "name": "stdout",
     "output_type": "stream",
     "text": [
      "<class 'pandas.core.frame.DataFrame'>\n",
      "RangeIndex: 891 entries, 0 to 890\n",
      "Data columns (total 11 columns):\n",
      " #   Column       Non-Null Count  Dtype  \n",
      "---  ------       --------------  -----  \n",
      " 0   Id_Pasajero  891 non-null    int64  \n",
      " 1   Survived     891 non-null    int64  \n",
      " 2   Clase        891 non-null    int64  \n",
      " 3   Nombre       891 non-null    object \n",
      " 4   Sexo         891 non-null    object \n",
      " 5   Edad         714 non-null    float64\n",
      " 6   Familiares   891 non-null    int64  \n",
      " 7   Tiquete      891 non-null    object \n",
      " 8   Tarifa       891 non-null    float64\n",
      " 9   Cabina       204 non-null    object \n",
      " 10  Embarcado    889 non-null    object \n",
      "dtypes: float64(2), int64(4), object(5)\n",
      "memory usage: 76.7+ KB\n",
      "None\n",
      "   Id_Pasajero  Survived  Clase  \\\n",
      "0            1         0      3   \n",
      "1            2         1      1   \n",
      "2            3         1      3   \n",
      "3            4         1      1   \n",
      "4            5         0      3   \n",
      "\n",
      "                                              Nombre       Sexo  Edad  \\\n",
      "0                            Braund, Mr. Owen Harris  Masculino  22.0   \n",
      "1  Cumings, Mrs. John Bradley (Florence Briggs Th...   Femenino  38.0   \n",
      "2                             Heikkinen, Miss. Laina   Femenino  26.0   \n",
      "3       Futrelle, Mrs. Jacques Heath (Lily May Peel)   Femenino  35.0   \n",
      "4                           Allen, Mr. William Henry  Masculino  35.0   \n",
      "\n",
      "   Familiares           Tiquete  Tarifa Cabina Embarcado  \n",
      "0           0         A/5 21171    7.25    NaN         S  \n",
      "1           0          PC 17599   71.28    C85         C  \n",
      "2           0  STON/O2. 3101282    7.93    NaN         S  \n",
      "3           0            113803   53.10   C123         S  \n",
      "4           0            373450    8.05    NaN         S  \n"
     ]
    }
   ],
   "source": [
    "import pandas as pd\n",
    "\n",
    "# Especifica la ruta del archivo\n",
    "titanic_df=pd.read_excel('data/titanic.xlsx')\n",
    "\n",
    "# Carga el archivo Excel en un DataFrame de pandas\n",
    "titanic_data = pd.read_excel(\"data/titanic.xlsx\")\n",
    "\n",
    "# Muestra información básica del DataFrame\n",
    "print(titanic_data.info())\n",
    "\n",
    "# Muestra las primeras filas del DataFrame\n",
    "print(titanic_data.head())\n"
   ]
  },
  {
   "cell_type": "code",
   "execution_count": null,
   "id": "35c8b4de-f2ed-418a-b9c6-b6f715745cb0",
   "metadata": {},
   "outputs": [],
   "source": []
  }
 ],
 "metadata": {
  "kernelspec": {
   "display_name": "Python 3 (ipykernel)",
   "language": "python",
   "name": "python3"
  },
  "language_info": {
   "codemirror_mode": {
    "name": "ipython",
    "version": 3
   },
   "file_extension": ".py",
   "mimetype": "text/x-python",
   "name": "python",
   "nbconvert_exporter": "python",
   "pygments_lexer": "ipython3",
   "version": "3.11.7"
  }
 },
 "nbformat": 4,
 "nbformat_minor": 5
}
