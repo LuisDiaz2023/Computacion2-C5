{
  "metadata": {
    "kernelspec": {
      "name": "python",
      "display_name": "Python (Pyodide)",
      "language": "python"
    },
    "language_info": {
      "codemirror_mode": {
        "name": "python",
        "version": 3
      },
      "file_extension": ".py",
      "mimetype": "text/x-python",
      "name": "python",
      "nbconvert_exporter": "python",
      "pygments_lexer": "ipython3",
      "version": "3.8"
    }
  },
  "nbformat_minor": 4,
  "nbformat": 4,
  "cells": [
    {
      "cell_type": "markdown",
      "source": "### Ejercicio 5 - Investigar Como?  ",
      "metadata": {}
    },
    {
      "cell_type": "markdown",
      "source": "<div class=\"well\">Hallar los <strong>Valores</strong> del DataFrame: \n   \n   1.-<strong>Valor promedio</strong> de la edad de los pasajeros.\n   \n   2.-Pasajeros <strong>mujeres</strong> con <strong>mayor edad</strong> que abordaron el titanic.\n    \n   3.-Pasajeros <strong>mujeres</strong> con <strong>menor edad</strong> que abordaron el titanic.\n    \n   4.-Número <strong>total de pasajeros</strong> registrados en el titanic\n    \n   \n</div>",
      "metadata": {}
    },
    {
      "cell_type": "code",
      "source": "pip install openpyxl",
      "metadata": {
        "trusted": true
      },
      "outputs": [],
      "execution_count": null
    },
    {
      "cell_type": "code",
      "source": "import pandas as pd\n\n# Lee el archivo Excel\ndf = pd.read_excel('data/titanic.xlsx')\n\n# Calcula el promedio de la columna 'Edad'\npromedio_edad = df['Edad'].mean()\n\n# Imprime el resultado\nprint(f\"El promedio de edad de los pasajeros es: {promedio_edad}\")\n",
      "metadata": {
        "trusted": true
      },
      "outputs": [],
      "execution_count": null
    },
    {
      "cell_type": "code",
      "source": "\n\n# Lee el archivo Excel\ndf = pd.read_excel('data/titanic.xlsx')\n\n# 2. Pasajera mujer con mayor edad que abordó el Titanic\nmujer_mayor_edad = df_mujeres_con_edad['Edad'].max()\nmujer_mayor_edad_info = df_mujeres_con_edad[df_mujeres_con_edad['Edad'] == mujer_mayor_edad]\n\n# Imprime el resultado\nprint(f\"2. Pasajera mujer con mayor edad que abordó el Titanic:\\n{mujer_mayor_edad}\")\n",
      "metadata": {
        "trusted": true
      },
      "outputs": [],
      "execution_count": null
    },
    {
      "cell_type": "code",
      "source": "\n\n# Lee el archivo Excel\ndf = pd.read_excel('data/titanic.xlsx')\n\n# 3. Pasajera mujer con menor edad que abordó el Titanic\nmujer_menor_edad = df_mujeres_con_edad['Edad'].min()\nmujer_menor_edad_info = df_mujeres_con_edad[df_mujeres_con_edad['Edad'] == mujer_menor_edad]\n\n\n# Imprime el resultado\nprint(f\"3. Pasajera mujer con menor edad que abordó el Titanic:\\n{mujer_menor_edad_info}\")\n",
      "metadata": {
        "trusted": true
      },
      "outputs": [],
      "execution_count": null
    },
    {
      "cell_type": "code",
      "source": "\n\n# Lee el archivo Excel\ndf = pd.read_excel('data/titanic.xlsx')\n\n# 4. Número total de pasajeros registrados en el Titanic\ntotal_pasajeros = df.shape[0]\n\n# Imprime el resultado\nprint(f\"4. Número total de pasajeros registrados en el Titanic: {total_pasajeros}\")",
      "metadata": {
        "trusted": true
      },
      "outputs": [],
      "execution_count": null
    }
  ]
}