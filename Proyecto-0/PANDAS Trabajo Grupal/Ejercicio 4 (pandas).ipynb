{
  "metadata": {
    "kernelspec": {
      "name": "python",
      "display_name": "Python (Pyodide)",
      "language": "python"
    },
    "language_info": {
      "codemirror_mode": {
        "name": "python",
        "version": 3
      },
      "file_extension": ".py",
      "mimetype": "text/x-python",
      "name": "python",
      "nbconvert_exporter": "python",
      "pygments_lexer": "ipython3",
      "version": "3.8"
    }
  },
  "nbformat_minor": 4,
  "nbformat": 4,
  "cells": [
    {
      "cell_type": "markdown",
      "source": "### Ejercicio 4 - Investigar Como?  Seleccionar Filas y Columnas",
      "metadata": {}
    },
    {
      "cell_type": "markdown",
      "source": "<div class=\"well\">Crear <strong>Selección</strong> del DataFrame con: \n   \n   1.-Selección de los <strong>nombres</strong> de pasajeros <strong>mayores de 30 años.</strong>\n   \n   2.-Selección de los <strong>nombres</strong> de las <strong>mujeres</strong> que tienen familiares que abordaron el titanic.\n    \n   3.-Selección de las <strong>filas 0 a 10 y las columnas 2 a 6.</strong>\n    \n   \n</div>",
      "metadata": {}
    },
    {
      "cell_type": "markdown",
      "source": "#### - Selección de los nombres de pasajeros mayores de 30 años.",
      "metadata": {}
    },
    {
      "cell_type": "code",
      "source": "import numpy as np\nimport pandas as pd",
      "metadata": {
        "trusted": true
      },
      "outputs": [],
      "execution_count": 1
    },
    {
      "cell_type": "code",
      "source": "#archivo CSV con delimitador de tabulador\ntitanic = pd.read_csv('data/titanic_tabs.csv', sep='\\t')",
      "metadata": {
        "trusted": true
      },
      "outputs": [],
      "execution_count": 2
    },
    {
      "cell_type": "code",
      "source": "#especificamos el filtro de los nombres de los pasajeros mayores de 30 años\nNombres = titanic.loc[titanic['Age'] > 30, 'Name']",
      "metadata": {
        "trusted": true
      },
      "outputs": [],
      "execution_count": 3
    },
    {
      "cell_type": "code",
      "source": "#ajustar la configuración de visualización para ver el texto completo de las columnas\npd.set_option('display.max_colwidth', None)",
      "metadata": {
        "trusted": true
      },
      "outputs": [],
      "execution_count": 4
    },
    {
      "cell_type": "code",
      "source": "# Imprimir los nombres de los pasajeros > 30 años\nprint(Nombres)",
      "metadata": {
        "trusted": true
      },
      "outputs": [
        {
          "name": "stdout",
          "text": "1            Cumings, Mrs. John Bradley (Florence Briggs Thayer)\n3                   Futrelle, Mrs. Jacques Heath (Lily May Peel)\n4                                       Allen, Mr. William Henry\n6                                        McCarthy, Mr. Timothy J\n11                                      Bonnell, Miss. Elizabeth\n13                                   Andersson, Mr. Anders Johan\n15                              Hewlett, Mrs. (Mary D Kingcome) \n18       Vander Planke, Mrs. Julius (Emelia Maria Vandemoortele)\n20                                          Fynney, Mr. Joseph J\n21                                         Beesley, Mr. Lawrence\n25     Asplund, Mrs. Carl Oscar (Selma Augusta Emilia Johansson)\n30                                      Uruchurtu, Don. Manuel E\n33                                         Wheadon, Mr. Edward H\n35                                Holverson, Mr. Alexander Oskar\n40                Ahlin, Mrs. Johan (Johanna Persdotter Larsson)\n52                      Harper, Mrs. Henry Sleeper (Myna Haxtun)\n54                                Ostby, Mr. Engelhart Cornelius\n61                                           Icard, Miss. Amelie\n62                                   Harris, Mr. Henry Birkhardt\n70                                    Jenkin, Mr. Stephen Curnow\n74                                                 Bing, Mr. Lee\n85       Backstrom, Mrs. Karl Alfred (Maria Mathilda Gustafsson)\n92                                   Chaffee, Mr. Herbert Fuller\n94                                             Coxon, Mr. Daniel\n96                                     Goldschmidt, Mr. George B\n98                          Doling, Mrs. John T (Ada Julia Bone)\n99                                             Kantor, Mr. Sinai\n103                                   Johansson, Mr. Gustaf Joel\n104                               Gustafsson, Mr. Anders Vilhelm\n108                                              Rekic, Mr. Tido\n110                               Porter, Mr. Walter Chamberlain\n116                                         Connors, Mr. Patrick\n122                                         Nasser, Mr. Nicholas\n123                                          Webber, Miss. Susan\n124                                  White, Mr. Percival Wayland\n129                                           Ekstrom, Mr. Johan\n130                                         Drazenoic, Mr. Jozef\n132               Robins, Mrs. Alexander A (Grace Charity Laury)\n137                                  Futrelle, Mr. Jacques Heath\n148                     Navratil, Mr. Michel (\"Louis M Hoffman\")\n149                            Byles, Rev. Thomas Roussel Davids\n150                                   Bateman, Rev. Robert James\n152                                             Meo, Mr. Alfonzo\n153                              van Billiard, Mr. Austin Blyler\n155                                  Williams, Mr. Charles Duane\nName: Name, dtype: object\n",
          "output_type": "stream"
        }
      ],
      "execution_count": 5
    },
    {
      "cell_type": "markdown",
      "source": " #### - Selección de los nombres de las mujeres que tienen familiares que abordaron el titanic.",
      "metadata": {}
    },
    {
      "cell_type": "code",
      "source": "#archivo CSV con delimitador de tabulador\ntitanic = pd.read_csv('data/titanic_tabs.csv', sep='\\t')",
      "metadata": {
        "trusted": true
      },
      "outputs": [],
      "execution_count": 6
    },
    {
      "cell_type": "code",
      "source": "#especificamos el filtro de las mujeres que tienen familiares a bordo\nmujeres_con_familiares = titanic[(titanic['Sex'] == 'female') & ((titanic['SibSp'] > 0) | (titanic['Parch'] > 0))]",
      "metadata": {
        "trusted": true
      },
      "outputs": [],
      "execution_count": 9
    },
    {
      "cell_type": "code",
      "source": "# Seleccionar los nombres de las mujeres con familiares a bordo\nnombres_de_mujeres = mujeres_con_familiares['Name']",
      "metadata": {
        "trusted": true
      },
      "outputs": [],
      "execution_count": 10
    },
    {
      "cell_type": "code",
      "source": "#ajustar la configuración de visualización para ver el texto completo de las columnas\npd.set_option('display.max_colwidth', None)",
      "metadata": {
        "trusted": true
      },
      "outputs": [],
      "execution_count": 11
    },
    {
      "cell_type": "code",
      "source": "#imprimir los nombres de las mujeres con familiares a bordo\nnombres_de_mujeres",
      "metadata": {
        "trusted": true
      },
      "outputs": [
        {
          "execution_count": 12,
          "output_type": "execute_result",
          "data": {
            "text/plain": "1            Cumings, Mrs. John Bradley (Florence Briggs Thayer)\n3                   Futrelle, Mrs. Jacques Heath (Lily May Peel)\n8              Johnson, Mrs. Oscar W (Elisabeth Vilhelmina Berg)\n9                            Nasser, Mrs. Nicholas (Adele Achem)\n10                               Sandstrom, Miss. Marguerite Rut\n18       Vander Planke, Mrs. Julius (Emelia Maria Vandemoortele)\n24                                 Palsson, Miss. Torborg Danira\n25     Asplund, Mrs. Carl Oscar (Selma Augusta Emilia Johansson)\n31                Spencer, Mrs. William Augustus (Marie Eugenie)\n38                            Vander Planke, Miss. Augusta Maria\n39                                   Nicola-Yarred, Miss. Jamila\n40                Ahlin, Mrs. Johan (Johanna Persdotter Larsson)\n41      Turpin, Mrs. William John Robert (Dorothy Ann Wonnacott)\n43                      Laroche, Miss. Simonne Marie Anne Andree\n49                 Arnold-Franchi, Mrs. Josef (Josefine Franchi)\n52                      Harper, Mrs. Henry Sleeper (Myna Haxtun)\n53            Faunthorpe, Mrs. Lizzie (Elizabeth Anne Wilkinson)\n58                                  West, Miss. Constance Mirium\n68                               Andersson, Miss. Erna Alexandra\n71                                    Goodwin, Miss. Lillian Amy\n85       Backstrom, Mrs. Karl Alfred (Maria Mathilda Gustafsson)\n88                                    Fortune, Miss. Mabel Helen\n98                          Doling, Mrs. John T (Ada Julia Bone)\n109                                          Moran, Miss. Bertha\n111                                         Zabour, Miss. Hileni\n113                                      Jussila, Miss. Katriina\n119                            Andersson, Miss. Ellis Anna Maria\n128                                            Peter, Miss. Anna\n132               Robins, Mrs. Alexander A (Grace Charity Laury)\n133                Weisz, Mrs. Leopold (Mathilde Francoise Pede)\n136                                 Newsom, Miss. Helen Monypeny\n140                                Boulos, Mrs. Joseph (Sultana)\n142         Hakkarainen, Mrs. Pekka Pietari (Elin Matilda Dolck)\n147                             Ford, Miss. Robina Maggie \"Ruby\"\n151                            Pears, Mrs. Thomas (Edith Wearne)\nName: Name, dtype: object"
          },
          "metadata": {}
        }
      ],
      "execution_count": 12
    },
    {
      "cell_type": "markdown",
      "source": "#### - Selección de las filas 0 a 10 y las columnas 2 a 6.",
      "metadata": {}
    },
    {
      "cell_type": "code",
      "source": "#archivo CSV con delimitador de tabulador\ntitanic = pd.read_csv('data/titanic_tabs.csv', sep='\\t')",
      "metadata": {
        "trusted": true
      },
      "outputs": [],
      "execution_count": 13
    },
    {
      "cell_type": "code",
      "source": "#seleccionamos las filas de la 0 a la 10 y las columnas de la 2 a la 6\nseleccion = titanic.iloc[0:11, 2:7]",
      "metadata": {
        "trusted": true
      },
      "outputs": [],
      "execution_count": 15
    },
    {
      "cell_type": "code",
      "source": "seleccion",
      "metadata": {
        "trusted": true
      },
      "outputs": [
        {
          "execution_count": 16,
          "output_type": "execute_result",
          "data": {
            "text/plain": "    Pclass                                                 Name     Sex   Age  \\\n0        3                              Braund, Mr. Owen Harris    male  22.0   \n1        1  Cumings, Mrs. John Bradley (Florence Briggs Thayer)  female  38.0   \n2        3                               Heikkinen, Miss. Laina  female  26.0   \n3        1         Futrelle, Mrs. Jacques Heath (Lily May Peel)  female  35.0   \n4        3                             Allen, Mr. William Henry    male  35.0   \n5        3                                     Moran, Mr. James    male   NaN   \n6        1                              McCarthy, Mr. Timothy J    male  54.0   \n7        3                       Palsson, Master. Gosta Leonard    male   2.0   \n8        3    Johnson, Mrs. Oscar W (Elisabeth Vilhelmina Berg)  female  27.0   \n9        2                  Nasser, Mrs. Nicholas (Adele Achem)  female  14.0   \n10       3                      Sandstrom, Miss. Marguerite Rut  female   4.0   \n\n    SibSp  \n0       1  \n1       1  \n2       0  \n3       1  \n4       0  \n5       0  \n6       0  \n7       3  \n8       0  \n9       1  \n10      1  ",
            "text/html": "<div>\n<style scoped>\n    .dataframe tbody tr th:only-of-type {\n        vertical-align: middle;\n    }\n\n    .dataframe tbody tr th {\n        vertical-align: top;\n    }\n\n    .dataframe thead th {\n        text-align: right;\n    }\n</style>\n<table border=\"1\" class=\"dataframe\">\n  <thead>\n    <tr style=\"text-align: right;\">\n      <th></th>\n      <th>Pclass</th>\n      <th>Name</th>\n      <th>Sex</th>\n      <th>Age</th>\n      <th>SibSp</th>\n    </tr>\n  </thead>\n  <tbody>\n    <tr>\n      <th>0</th>\n      <td>3</td>\n      <td>Braund, Mr. Owen Harris</td>\n      <td>male</td>\n      <td>22.0</td>\n      <td>1</td>\n    </tr>\n    <tr>\n      <th>1</th>\n      <td>1</td>\n      <td>Cumings, Mrs. John Bradley (Florence Briggs Thayer)</td>\n      <td>female</td>\n      <td>38.0</td>\n      <td>1</td>\n    </tr>\n    <tr>\n      <th>2</th>\n      <td>3</td>\n      <td>Heikkinen, Miss. Laina</td>\n      <td>female</td>\n      <td>26.0</td>\n      <td>0</td>\n    </tr>\n    <tr>\n      <th>3</th>\n      <td>1</td>\n      <td>Futrelle, Mrs. Jacques Heath (Lily May Peel)</td>\n      <td>female</td>\n      <td>35.0</td>\n      <td>1</td>\n    </tr>\n    <tr>\n      <th>4</th>\n      <td>3</td>\n      <td>Allen, Mr. William Henry</td>\n      <td>male</td>\n      <td>35.0</td>\n      <td>0</td>\n    </tr>\n    <tr>\n      <th>5</th>\n      <td>3</td>\n      <td>Moran, Mr. James</td>\n      <td>male</td>\n      <td>NaN</td>\n      <td>0</td>\n    </tr>\n    <tr>\n      <th>6</th>\n      <td>1</td>\n      <td>McCarthy, Mr. Timothy J</td>\n      <td>male</td>\n      <td>54.0</td>\n      <td>0</td>\n    </tr>\n    <tr>\n      <th>7</th>\n      <td>3</td>\n      <td>Palsson, Master. Gosta Leonard</td>\n      <td>male</td>\n      <td>2.0</td>\n      <td>3</td>\n    </tr>\n    <tr>\n      <th>8</th>\n      <td>3</td>\n      <td>Johnson, Mrs. Oscar W (Elisabeth Vilhelmina Berg)</td>\n      <td>female</td>\n      <td>27.0</td>\n      <td>0</td>\n    </tr>\n    <tr>\n      <th>9</th>\n      <td>2</td>\n      <td>Nasser, Mrs. Nicholas (Adele Achem)</td>\n      <td>female</td>\n      <td>14.0</td>\n      <td>1</td>\n    </tr>\n    <tr>\n      <th>10</th>\n      <td>3</td>\n      <td>Sandstrom, Miss. Marguerite Rut</td>\n      <td>female</td>\n      <td>4.0</td>\n      <td>1</td>\n    </tr>\n  </tbody>\n</table>\n</div>"
          },
          "metadata": {}
        }
      ],
      "execution_count": 16
    },
    {
      "cell_type": "code",
      "source": "",
      "metadata": {
        "trusted": true
      },
      "outputs": [],
      "execution_count": null
    }
  ]
}