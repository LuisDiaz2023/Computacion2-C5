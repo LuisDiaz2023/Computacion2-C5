{
  "metadata": {
    "kernelspec": {
      "name": "python",
      "display_name": "Python (Pyodide)",
      "language": "python"
    },
    "language_info": {
      "codemirror_mode": {
        "name": "python",
        "version": 3
      },
      "file_extension": ".py",
      "mimetype": "text/x-python",
      "name": "python",
      "nbconvert_exporter": "python",
      "pygments_lexer": "ipython3",
      "version": "3.8"
    }
  },
  "nbformat_minor": 4,
  "nbformat": 4,
  "cells": [
    {
      "cell_type": "markdown",
      "source": "<center> <h1>Universidad Nacional de San Agustín de Arequipa</h1> </center> \n<center> <h1>Escuela Profesional de Ingeniería de Telecomunicaciones</h1> </center> \n\n<center> <h1> </h1> </center> \n\n<center><img src=\"https://user-images.githubusercontent.com/19308295/115939517-f1c6fe80-a463-11eb-989c-812ab4942586.png\" width=\"380\" height=\"4200\"></center>",
      "metadata": {}
    },
    {
      "cell_type": "markdown",
      "source": "<center> <h2>Ingeniero Renzo Bolivar - Docente DAIE</h2> </center> ",
      "metadata": {}
    },
    {
      "cell_type": "markdown",
      "source": "<center> <h1>Curso : Computación 2</h1> </center> ",
      "metadata": {}
    },
    {
      "cell_type": "markdown",
      "source": "![linea 1](https://user-images.githubusercontent.com/19308295/115926252-2b8a0c00-a448-11eb-9d9c-b43beaf0ff68.png)",
      "metadata": {}
    },
    {
      "cell_type": "markdown",
      "source": "<center> <h1>PANDAS</h1> </center> ",
      "metadata": {}
    },
    {
      "cell_type": "markdown",
      "source": " # PRESENTADO POR:\n ## LUIS FERNANDO DIAZ ARAPA",
      "metadata": {}
    },
    {
      "cell_type": "markdown",
      "source": "![linea 1](https://user-images.githubusercontent.com/19308295/115926252-2b8a0c00-a448-11eb-9d9c-b43beaf0ff68.png)",
      "metadata": {}
    },
    {
      "cell_type": "markdown",
      "source": "# Descripción:",
      "metadata": {}
    },
    {
      "cell_type": "markdown",
      "source": "<div class=\"alert alert-info\">\n\nEn este notebook se explicarán la librería **Pandas** escrita como extensión de **NumPy** para la manipulación y análisis de datos en el lenguaje de programación Python. \n    \n</div>\n\n",
      "metadata": {}
    },
    {
      "cell_type": "markdown",
      "source": "# Objetivos:\n\n 1. Familiarizarce con creación de la estructura de tabla de datos **DataFrame.**\n 2. Manejo inicial de un **DataFrame.**\n 3. Importando archivos ***csv*** y manipulación inicial en **Pandas.**",
      "metadata": {}
    },
    {
      "cell_type": "markdown",
      "source": "\n[1. Limpieza de Datos](#1.-Limpieza-de-Datos)<br>\n[2. Frecuencia Simple de Datos](#2.-Frecuencia-Simple-de-Datos)<br>\n[3. Archivo csv \"NBA\" y Funciones de busqueda](#3.-Archivo-csv-\"NBA\"-y-Funciones-de-busqueda)<br>\n[4. Análisis de Datos y Visualización](#4.-Análisis-de-Datos-y-Visualización)<br>\n\n[EJERCICIOS](#EJERCICIOS)<br>\n[BIBLIOGRAFÍA](#BIBLIOGRAFÍA)<br>",
      "metadata": {}
    },
    {
      "cell_type": "markdown",
      "source": "![linea 1](https://user-images.githubusercontent.com/19308295/115926252-2b8a0c00-a448-11eb-9d9c-b43beaf0ff68.png)",
      "metadata": {}
    },
    {
      "cell_type": "markdown",
      "source": "![640px-Pandas_logo svg](https://user-images.githubusercontent.com/19308295/119273971-1b925300-bbd3-11eb-9705-fa3a404af0e1.png)",
      "metadata": {}
    },
    {
      "cell_type": "markdown",
      "source": "![linea 2](https://user-images.githubusercontent.com/19308295/115926262-2fb62980-a448-11eb-8189-c2f10e499944.png)",
      "metadata": {}
    },
    {
      "cell_type": "markdown",
      "source": "## <font color=#33A5FF>****1. Limpieza de Datos****<tfont>",
      "metadata": {}
    },
    {
      "cell_type": "code",
      "source": "#Librerías\nimport numpy as np\nimport pandas as pd",
      "metadata": {
        "trusted": true
      },
      "outputs": [],
      "execution_count": 2
    },
    {
      "cell_type": "markdown",
      "source": "Otro procedimiento que podemos hacer con **Pandas** es ***limpiar nuestros datos***, estos es muy importante en **Machine Learning** si queremos obtener resultados confiables.",
      "metadata": {}
    },
    {
      "cell_type": "code",
      "source": "#cargamos un archivo CSV separado por comas\nnotas2 = pd.read_csv(\"data/notas2.csv\" ,\";\")\n#leer 5 primeras lineas\nnotas2.head(10)\n",
      "metadata": {
        "trusted": true
      },
      "outputs": [
        {
          "name": "stderr",
          "text": "<ipython-input-4-830be93395f1>:2: FutureWarning: In a future version of pandas all arguments of read_csv except for the argument 'filepath_or_buffer' will be keyword-only.\n  notas2 = pd.read_csv(\"data/notas2.csv\" ,\";\")\n",
          "output_type": "stream"
        },
        {
          "execution_count": 4,
          "output_type": "execute_result",
          "data": {
            "text/plain": "   Alumno  Nota1  Nota2  Nota3  Promedio\n0   Maria   18.0   19.0     18        18\n1    Jose    NaN   15.0     11        13\n2    Juan   13.0   12.0     17        14\n3    Luis   10.0   19.0     18        16\n4  Carlos   16.0   12.0     10        13\n5    Rosa    NaN   14.0     10        12\n6   Jorge    9.0   11.0     19        13\n7  Victor    NaN   13.0     10        12\n8     Ana   18.0   19.0     11        16\n9     Luz   14.0   20.0     16        17",
            "text/html": "<div>\n<style scoped>\n    .dataframe tbody tr th:only-of-type {\n        vertical-align: middle;\n    }\n\n    .dataframe tbody tr th {\n        vertical-align: top;\n    }\n\n    .dataframe thead th {\n        text-align: right;\n    }\n</style>\n<table border=\"1\" class=\"dataframe\">\n  <thead>\n    <tr style=\"text-align: right;\">\n      <th></th>\n      <th>Alumno</th>\n      <th>Nota1</th>\n      <th>Nota2</th>\n      <th>Nota3</th>\n      <th>Promedio</th>\n    </tr>\n  </thead>\n  <tbody>\n    <tr>\n      <th>0</th>\n      <td>Maria</td>\n      <td>18.0</td>\n      <td>19.0</td>\n      <td>18</td>\n      <td>18</td>\n    </tr>\n    <tr>\n      <th>1</th>\n      <td>Jose</td>\n      <td>NaN</td>\n      <td>15.0</td>\n      <td>11</td>\n      <td>13</td>\n    </tr>\n    <tr>\n      <th>2</th>\n      <td>Juan</td>\n      <td>13.0</td>\n      <td>12.0</td>\n      <td>17</td>\n      <td>14</td>\n    </tr>\n    <tr>\n      <th>3</th>\n      <td>Luis</td>\n      <td>10.0</td>\n      <td>19.0</td>\n      <td>18</td>\n      <td>16</td>\n    </tr>\n    <tr>\n      <th>4</th>\n      <td>Carlos</td>\n      <td>16.0</td>\n      <td>12.0</td>\n      <td>10</td>\n      <td>13</td>\n    </tr>\n    <tr>\n      <th>5</th>\n      <td>Rosa</td>\n      <td>NaN</td>\n      <td>14.0</td>\n      <td>10</td>\n      <td>12</td>\n    </tr>\n    <tr>\n      <th>6</th>\n      <td>Jorge</td>\n      <td>9.0</td>\n      <td>11.0</td>\n      <td>19</td>\n      <td>13</td>\n    </tr>\n    <tr>\n      <th>7</th>\n      <td>Victor</td>\n      <td>NaN</td>\n      <td>13.0</td>\n      <td>10</td>\n      <td>12</td>\n    </tr>\n    <tr>\n      <th>8</th>\n      <td>Ana</td>\n      <td>18.0</td>\n      <td>19.0</td>\n      <td>11</td>\n      <td>16</td>\n    </tr>\n    <tr>\n      <th>9</th>\n      <td>Luz</td>\n      <td>14.0</td>\n      <td>20.0</td>\n      <td>16</td>\n      <td>17</td>\n    </tr>\n  </tbody>\n</table>\n</div>"
          },
          "metadata": {}
        }
      ],
      "execution_count": 4
    },
    {
      "cell_type": "markdown",
      "source": "<div class=\"alert alert-info\">Con <strong>Pandas</strong> podemos verificar si faltan valores en el conjunto de datos solamente tenemos que implementar <code>pd.isnull()</code>. Implementando esta instrucción nos devuelve una matriz booleana, una matriz de <strong>verdadero</strong> para valores faltantes y <strong>falso</strong> para valores no perdidos.</div>",
      "metadata": {}
    },
    {
      "cell_type": "code",
      "source": "#Verificar si hay datos nulos en el DataFrame\nprint(\"Datos nulos en el DataFrame:\")\n\n\n#Imprimir nulos TRUE\nnotas2.isnull()",
      "metadata": {
        "trusted": true
      },
      "outputs": [
        {
          "name": "stdout",
          "text": "Datos nulos en el DataFrame:\n",
          "output_type": "stream"
        },
        {
          "execution_count": 5,
          "output_type": "execute_result",
          "data": {
            "text/plain": "    Alumno  Nota1  Nota2  Nota3  Promedio\n0    False  False  False  False     False\n1    False   True  False  False     False\n2    False  False  False  False     False\n3    False  False  False  False     False\n4    False  False  False  False     False\n5    False   True  False  False     False\n6    False  False  False  False     False\n7    False   True  False  False     False\n8    False  False  False  False     False\n9    False  False  False  False     False\n10   False   True  False  False     False\n11   False  False  False  False     False\n12   False   True  False  False     False\n13   False  False  False  False     False\n14   False  False  False  False     False\n15   False   True  False  False     False\n16   False  False  False  False     False\n17   False  False  False  False     False\n18   False  False  False  False     False\n19   False   True  False  False     False\n20   False  False  False  False     False\n21   False  False  False  False     False\n22   False  False  False  False     False\n23   False  False  False  False     False\n24   False  False  False  False     False\n25   False  False  False  False     False\n26   False  False  False  False     False\n27   False  False  False  False     False\n28   False  False   True  False     False\n29   False  False  False  False     False\n30   False  False  False  False     False\n31   False  False  False  False     False\n32   False   True  False  False     False\n33   False   True  False  False     False\n34   False  False   True  False     False\n35   False   True  False  False     False\n36   False  False  False  False     False\n37   False  False  False  False     False\n38   False  False  False  False     False\n39   False  False  False  False     False\n40   False  False  False  False     False\n41   False  False  False  False     False\n42   False  False  False  False     False\n43   False  False   True  False     False\n44   False   True  False  False     False\n45   False  False  False  False     False\n46   False  False  False  False     False\n47   False  False  False  False     False\n48   False  False  False  False     False\n49   False  False  False  False     False",
            "text/html": "<div>\n<style scoped>\n    .dataframe tbody tr th:only-of-type {\n        vertical-align: middle;\n    }\n\n    .dataframe tbody tr th {\n        vertical-align: top;\n    }\n\n    .dataframe thead th {\n        text-align: right;\n    }\n</style>\n<table border=\"1\" class=\"dataframe\">\n  <thead>\n    <tr style=\"text-align: right;\">\n      <th></th>\n      <th>Alumno</th>\n      <th>Nota1</th>\n      <th>Nota2</th>\n      <th>Nota3</th>\n      <th>Promedio</th>\n    </tr>\n  </thead>\n  <tbody>\n    <tr>\n      <th>0</th>\n      <td>False</td>\n      <td>False</td>\n      <td>False</td>\n      <td>False</td>\n      <td>False</td>\n    </tr>\n    <tr>\n      <th>1</th>\n      <td>False</td>\n      <td>True</td>\n      <td>False</td>\n      <td>False</td>\n      <td>False</td>\n    </tr>\n    <tr>\n      <th>2</th>\n      <td>False</td>\n      <td>False</td>\n      <td>False</td>\n      <td>False</td>\n      <td>False</td>\n    </tr>\n    <tr>\n      <th>3</th>\n      <td>False</td>\n      <td>False</td>\n      <td>False</td>\n      <td>False</td>\n      <td>False</td>\n    </tr>\n    <tr>\n      <th>4</th>\n      <td>False</td>\n      <td>False</td>\n      <td>False</td>\n      <td>False</td>\n      <td>False</td>\n    </tr>\n    <tr>\n      <th>5</th>\n      <td>False</td>\n      <td>True</td>\n      <td>False</td>\n      <td>False</td>\n      <td>False</td>\n    </tr>\n    <tr>\n      <th>6</th>\n      <td>False</td>\n      <td>False</td>\n      <td>False</td>\n      <td>False</td>\n      <td>False</td>\n    </tr>\n    <tr>\n      <th>7</th>\n      <td>False</td>\n      <td>True</td>\n      <td>False</td>\n      <td>False</td>\n      <td>False</td>\n    </tr>\n    <tr>\n      <th>8</th>\n      <td>False</td>\n      <td>False</td>\n      <td>False</td>\n      <td>False</td>\n      <td>False</td>\n    </tr>\n    <tr>\n      <th>9</th>\n      <td>False</td>\n      <td>False</td>\n      <td>False</td>\n      <td>False</td>\n      <td>False</td>\n    </tr>\n    <tr>\n      <th>10</th>\n      <td>False</td>\n      <td>True</td>\n      <td>False</td>\n      <td>False</td>\n      <td>False</td>\n    </tr>\n    <tr>\n      <th>11</th>\n      <td>False</td>\n      <td>False</td>\n      <td>False</td>\n      <td>False</td>\n      <td>False</td>\n    </tr>\n    <tr>\n      <th>12</th>\n      <td>False</td>\n      <td>True</td>\n      <td>False</td>\n      <td>False</td>\n      <td>False</td>\n    </tr>\n    <tr>\n      <th>13</th>\n      <td>False</td>\n      <td>False</td>\n      <td>False</td>\n      <td>False</td>\n      <td>False</td>\n    </tr>\n    <tr>\n      <th>14</th>\n      <td>False</td>\n      <td>False</td>\n      <td>False</td>\n      <td>False</td>\n      <td>False</td>\n    </tr>\n    <tr>\n      <th>15</th>\n      <td>False</td>\n      <td>True</td>\n      <td>False</td>\n      <td>False</td>\n      <td>False</td>\n    </tr>\n    <tr>\n      <th>16</th>\n      <td>False</td>\n      <td>False</td>\n      <td>False</td>\n      <td>False</td>\n      <td>False</td>\n    </tr>\n    <tr>\n      <th>17</th>\n      <td>False</td>\n      <td>False</td>\n      <td>False</td>\n      <td>False</td>\n      <td>False</td>\n    </tr>\n    <tr>\n      <th>18</th>\n      <td>False</td>\n      <td>False</td>\n      <td>False</td>\n      <td>False</td>\n      <td>False</td>\n    </tr>\n    <tr>\n      <th>19</th>\n      <td>False</td>\n      <td>True</td>\n      <td>False</td>\n      <td>False</td>\n      <td>False</td>\n    </tr>\n    <tr>\n      <th>20</th>\n      <td>False</td>\n      <td>False</td>\n      <td>False</td>\n      <td>False</td>\n      <td>False</td>\n    </tr>\n    <tr>\n      <th>21</th>\n      <td>False</td>\n      <td>False</td>\n      <td>False</td>\n      <td>False</td>\n      <td>False</td>\n    </tr>\n    <tr>\n      <th>22</th>\n      <td>False</td>\n      <td>False</td>\n      <td>False</td>\n      <td>False</td>\n      <td>False</td>\n    </tr>\n    <tr>\n      <th>23</th>\n      <td>False</td>\n      <td>False</td>\n      <td>False</td>\n      <td>False</td>\n      <td>False</td>\n    </tr>\n    <tr>\n      <th>24</th>\n      <td>False</td>\n      <td>False</td>\n      <td>False</td>\n      <td>False</td>\n      <td>False</td>\n    </tr>\n    <tr>\n      <th>25</th>\n      <td>False</td>\n      <td>False</td>\n      <td>False</td>\n      <td>False</td>\n      <td>False</td>\n    </tr>\n    <tr>\n      <th>26</th>\n      <td>False</td>\n      <td>False</td>\n      <td>False</td>\n      <td>False</td>\n      <td>False</td>\n    </tr>\n    <tr>\n      <th>27</th>\n      <td>False</td>\n      <td>False</td>\n      <td>False</td>\n      <td>False</td>\n      <td>False</td>\n    </tr>\n    <tr>\n      <th>28</th>\n      <td>False</td>\n      <td>False</td>\n      <td>True</td>\n      <td>False</td>\n      <td>False</td>\n    </tr>\n    <tr>\n      <th>29</th>\n      <td>False</td>\n      <td>False</td>\n      <td>False</td>\n      <td>False</td>\n      <td>False</td>\n    </tr>\n    <tr>\n      <th>30</th>\n      <td>False</td>\n      <td>False</td>\n      <td>False</td>\n      <td>False</td>\n      <td>False</td>\n    </tr>\n    <tr>\n      <th>31</th>\n      <td>False</td>\n      <td>False</td>\n      <td>False</td>\n      <td>False</td>\n      <td>False</td>\n    </tr>\n    <tr>\n      <th>32</th>\n      <td>False</td>\n      <td>True</td>\n      <td>False</td>\n      <td>False</td>\n      <td>False</td>\n    </tr>\n    <tr>\n      <th>33</th>\n      <td>False</td>\n      <td>True</td>\n      <td>False</td>\n      <td>False</td>\n      <td>False</td>\n    </tr>\n    <tr>\n      <th>34</th>\n      <td>False</td>\n      <td>False</td>\n      <td>True</td>\n      <td>False</td>\n      <td>False</td>\n    </tr>\n    <tr>\n      <th>35</th>\n      <td>False</td>\n      <td>True</td>\n      <td>False</td>\n      <td>False</td>\n      <td>False</td>\n    </tr>\n    <tr>\n      <th>36</th>\n      <td>False</td>\n      <td>False</td>\n      <td>False</td>\n      <td>False</td>\n      <td>False</td>\n    </tr>\n    <tr>\n      <th>37</th>\n      <td>False</td>\n      <td>False</td>\n      <td>False</td>\n      <td>False</td>\n      <td>False</td>\n    </tr>\n    <tr>\n      <th>38</th>\n      <td>False</td>\n      <td>False</td>\n      <td>False</td>\n      <td>False</td>\n      <td>False</td>\n    </tr>\n    <tr>\n      <th>39</th>\n      <td>False</td>\n      <td>False</td>\n      <td>False</td>\n      <td>False</td>\n      <td>False</td>\n    </tr>\n    <tr>\n      <th>40</th>\n      <td>False</td>\n      <td>False</td>\n      <td>False</td>\n      <td>False</td>\n      <td>False</td>\n    </tr>\n    <tr>\n      <th>41</th>\n      <td>False</td>\n      <td>False</td>\n      <td>False</td>\n      <td>False</td>\n      <td>False</td>\n    </tr>\n    <tr>\n      <th>42</th>\n      <td>False</td>\n      <td>False</td>\n      <td>False</td>\n      <td>False</td>\n      <td>False</td>\n    </tr>\n    <tr>\n      <th>43</th>\n      <td>False</td>\n      <td>False</td>\n      <td>True</td>\n      <td>False</td>\n      <td>False</td>\n    </tr>\n    <tr>\n      <th>44</th>\n      <td>False</td>\n      <td>True</td>\n      <td>False</td>\n      <td>False</td>\n      <td>False</td>\n    </tr>\n    <tr>\n      <th>45</th>\n      <td>False</td>\n      <td>False</td>\n      <td>False</td>\n      <td>False</td>\n      <td>False</td>\n    </tr>\n    <tr>\n      <th>46</th>\n      <td>False</td>\n      <td>False</td>\n      <td>False</td>\n      <td>False</td>\n      <td>False</td>\n    </tr>\n    <tr>\n      <th>47</th>\n      <td>False</td>\n      <td>False</td>\n      <td>False</td>\n      <td>False</td>\n      <td>False</td>\n    </tr>\n    <tr>\n      <th>48</th>\n      <td>False</td>\n      <td>False</td>\n      <td>False</td>\n      <td>False</td>\n      <td>False</td>\n    </tr>\n    <tr>\n      <th>49</th>\n      <td>False</td>\n      <td>False</td>\n      <td>False</td>\n      <td>False</td>\n      <td>False</td>\n    </tr>\n  </tbody>\n</table>\n</div>"
          },
          "metadata": {}
        }
      ],
      "execution_count": 5
    },
    {
      "cell_type": "markdown",
      "source": "<div class=\"alert alert-info\">Para obtener una <strong>suma de valores nulos o faltantes</strong> solamente se debe ejecutar la siguiente instrucción:</div>",
      "metadata": {}
    },
    {
      "cell_type": "code",
      "source": "#Suma de datos nulos en el DataFrame\nprint(\"SUma datos nulos en el DataFrame:\")\n#imprimir\nnotas2.isnull().sum()\n",
      "metadata": {
        "trusted": true
      },
      "outputs": [
        {
          "name": "stdout",
          "text": "SUma datos nulos en el DataFrame:\n",
          "output_type": "stream"
        },
        {
          "execution_count": 6,
          "output_type": "execute_result",
          "data": {
            "text/plain": "Alumno       0\nNota1       11\nNota2        3\nNota3        0\nPromedio     0\ndtype: int64"
          },
          "metadata": {}
        }
      ],
      "execution_count": 6
    },
    {
      "cell_type": "markdown",
      "source": "<div class=\"alert alert-info\"> Ahora vamos a <strong>rellenar los valores perdidos</strong> con otros valores usando <code>df.fillna(x)</code> que reemplaza los valores perdidos con <code>x</code>, puede ser cualquier valor, inclusive se puede reemplar todos los valores nulos con la media de los datos.</div>",
      "metadata": {}
    },
    {
      "cell_type": "code",
      "source": "#Reemplaza los valores perdidos por un valor\nprint(\"Reemplazar los valores perdidos por la media:\")\n\n#Imprimir\nnotas2.fillna(5)",
      "metadata": {
        "trusted": true
      },
      "outputs": [
        {
          "name": "stdout",
          "text": "Reemplazar los valores perdidos por la media:\n",
          "output_type": "stream"
        },
        {
          "execution_count": 10,
          "output_type": "execute_result",
          "data": {
            "text/plain": "       Alumno  Nota1  Nota2  Nota3  Promedio\n0       Maria   18.0   19.0     18        18\n1        Jose    5.0   15.0     11        13\n2        Juan   13.0   12.0     17        14\n3        Luis   10.0   19.0     18        16\n4      Carlos   16.0   12.0     10        13\n5        Rosa    5.0   14.0     10        12\n6       Jorge    9.0   11.0     19        13\n7      Victor    5.0   13.0     10        12\n8         Ana   18.0   19.0     11        16\n9         Luz   14.0   20.0     16        17\n10      Cesar    5.0   13.0     20        17\n11     Carmen   14.0   10.0     14        13\n12     Miguel    5.0   10.0     16        13\n13      Julio   11.0   10.0     14        12\n14      Jesus   12.0   13.0     10        12\n15      Pedro    5.0   11.0     15        13\n16     Manuel   15.0   20.0     20        18\n17      Juana    8.0   13.0     10        10\n18     Santos    7.0   17.0     14        13\n19    Segundo    5.0    8.0     20        14\n20       Jhon   10.0    8.0     10         9\n21      David    7.0    8.0     10         8\n22      Angel   18.0    9.0     11        13\n23      Julia    7.0   11.0     18        12\n24      Diego   20.0   18.0     18        19\n25       Flor   12.0   10.0     13        12\n26  Elizabeth   16.0   19.0     18        18\n27     Daniel   18.0   13.0     16        16\n28      Oscar   10.0    5.0     12        11\n29       Ruth    9.0   11.0     12        11\n30      Diana   16.0   13.0     14        14\n31      Marco    9.0   14.0     16        13\n32      Edwin    5.0   19.0     11        15\n33     Javier    5.0   16.0     10        13\n34     Walter   11.0    5.0     14        13\n35  Francisco    5.0   10.0     20        15\n36   Fernando   10.0   20.0     13        14\n37   Milagros   18.0   14.0     11        14\n38  Alejandro    9.0   17.0     14        13\n39       Raul   20.0   18.0     16        18\n40    Ricardo    9.0   17.0     17        14\n41       Alex   10.0   10.0     20        13\n42    Roberto   19.0   14.0     12        15\n43      Edgar   15.0    5.0     19        17\n44   Victoria    5.0   11.0     17        14\n45    Eduardo   12.0   19.0     12        14\n46      Mario   19.0   14.0     19        17\n47      Jaime   18.0   19.0     15        17\n48     Gloria   19.0   16.0     16        17\n49     Andrea   14.0   17.0     19        17",
            "text/html": "<div>\n<style scoped>\n    .dataframe tbody tr th:only-of-type {\n        vertical-align: middle;\n    }\n\n    .dataframe tbody tr th {\n        vertical-align: top;\n    }\n\n    .dataframe thead th {\n        text-align: right;\n    }\n</style>\n<table border=\"1\" class=\"dataframe\">\n  <thead>\n    <tr style=\"text-align: right;\">\n      <th></th>\n      <th>Alumno</th>\n      <th>Nota1</th>\n      <th>Nota2</th>\n      <th>Nota3</th>\n      <th>Promedio</th>\n    </tr>\n  </thead>\n  <tbody>\n    <tr>\n      <th>0</th>\n      <td>Maria</td>\n      <td>18.0</td>\n      <td>19.0</td>\n      <td>18</td>\n      <td>18</td>\n    </tr>\n    <tr>\n      <th>1</th>\n      <td>Jose</td>\n      <td>5.0</td>\n      <td>15.0</td>\n      <td>11</td>\n      <td>13</td>\n    </tr>\n    <tr>\n      <th>2</th>\n      <td>Juan</td>\n      <td>13.0</td>\n      <td>12.0</td>\n      <td>17</td>\n      <td>14</td>\n    </tr>\n    <tr>\n      <th>3</th>\n      <td>Luis</td>\n      <td>10.0</td>\n      <td>19.0</td>\n      <td>18</td>\n      <td>16</td>\n    </tr>\n    <tr>\n      <th>4</th>\n      <td>Carlos</td>\n      <td>16.0</td>\n      <td>12.0</td>\n      <td>10</td>\n      <td>13</td>\n    </tr>\n    <tr>\n      <th>5</th>\n      <td>Rosa</td>\n      <td>5.0</td>\n      <td>14.0</td>\n      <td>10</td>\n      <td>12</td>\n    </tr>\n    <tr>\n      <th>6</th>\n      <td>Jorge</td>\n      <td>9.0</td>\n      <td>11.0</td>\n      <td>19</td>\n      <td>13</td>\n    </tr>\n    <tr>\n      <th>7</th>\n      <td>Victor</td>\n      <td>5.0</td>\n      <td>13.0</td>\n      <td>10</td>\n      <td>12</td>\n    </tr>\n    <tr>\n      <th>8</th>\n      <td>Ana</td>\n      <td>18.0</td>\n      <td>19.0</td>\n      <td>11</td>\n      <td>16</td>\n    </tr>\n    <tr>\n      <th>9</th>\n      <td>Luz</td>\n      <td>14.0</td>\n      <td>20.0</td>\n      <td>16</td>\n      <td>17</td>\n    </tr>\n    <tr>\n      <th>10</th>\n      <td>Cesar</td>\n      <td>5.0</td>\n      <td>13.0</td>\n      <td>20</td>\n      <td>17</td>\n    </tr>\n    <tr>\n      <th>11</th>\n      <td>Carmen</td>\n      <td>14.0</td>\n      <td>10.0</td>\n      <td>14</td>\n      <td>13</td>\n    </tr>\n    <tr>\n      <th>12</th>\n      <td>Miguel</td>\n      <td>5.0</td>\n      <td>10.0</td>\n      <td>16</td>\n      <td>13</td>\n    </tr>\n    <tr>\n      <th>13</th>\n      <td>Julio</td>\n      <td>11.0</td>\n      <td>10.0</td>\n      <td>14</td>\n      <td>12</td>\n    </tr>\n    <tr>\n      <th>14</th>\n      <td>Jesus</td>\n      <td>12.0</td>\n      <td>13.0</td>\n      <td>10</td>\n      <td>12</td>\n    </tr>\n    <tr>\n      <th>15</th>\n      <td>Pedro</td>\n      <td>5.0</td>\n      <td>11.0</td>\n      <td>15</td>\n      <td>13</td>\n    </tr>\n    <tr>\n      <th>16</th>\n      <td>Manuel</td>\n      <td>15.0</td>\n      <td>20.0</td>\n      <td>20</td>\n      <td>18</td>\n    </tr>\n    <tr>\n      <th>17</th>\n      <td>Juana</td>\n      <td>8.0</td>\n      <td>13.0</td>\n      <td>10</td>\n      <td>10</td>\n    </tr>\n    <tr>\n      <th>18</th>\n      <td>Santos</td>\n      <td>7.0</td>\n      <td>17.0</td>\n      <td>14</td>\n      <td>13</td>\n    </tr>\n    <tr>\n      <th>19</th>\n      <td>Segundo</td>\n      <td>5.0</td>\n      <td>8.0</td>\n      <td>20</td>\n      <td>14</td>\n    </tr>\n    <tr>\n      <th>20</th>\n      <td>Jhon</td>\n      <td>10.0</td>\n      <td>8.0</td>\n      <td>10</td>\n      <td>9</td>\n    </tr>\n    <tr>\n      <th>21</th>\n      <td>David</td>\n      <td>7.0</td>\n      <td>8.0</td>\n      <td>10</td>\n      <td>8</td>\n    </tr>\n    <tr>\n      <th>22</th>\n      <td>Angel</td>\n      <td>18.0</td>\n      <td>9.0</td>\n      <td>11</td>\n      <td>13</td>\n    </tr>\n    <tr>\n      <th>23</th>\n      <td>Julia</td>\n      <td>7.0</td>\n      <td>11.0</td>\n      <td>18</td>\n      <td>12</td>\n    </tr>\n    <tr>\n      <th>24</th>\n      <td>Diego</td>\n      <td>20.0</td>\n      <td>18.0</td>\n      <td>18</td>\n      <td>19</td>\n    </tr>\n    <tr>\n      <th>25</th>\n      <td>Flor</td>\n      <td>12.0</td>\n      <td>10.0</td>\n      <td>13</td>\n      <td>12</td>\n    </tr>\n    <tr>\n      <th>26</th>\n      <td>Elizabeth</td>\n      <td>16.0</td>\n      <td>19.0</td>\n      <td>18</td>\n      <td>18</td>\n    </tr>\n    <tr>\n      <th>27</th>\n      <td>Daniel</td>\n      <td>18.0</td>\n      <td>13.0</td>\n      <td>16</td>\n      <td>16</td>\n    </tr>\n    <tr>\n      <th>28</th>\n      <td>Oscar</td>\n      <td>10.0</td>\n      <td>5.0</td>\n      <td>12</td>\n      <td>11</td>\n    </tr>\n    <tr>\n      <th>29</th>\n      <td>Ruth</td>\n      <td>9.0</td>\n      <td>11.0</td>\n      <td>12</td>\n      <td>11</td>\n    </tr>\n    <tr>\n      <th>30</th>\n      <td>Diana</td>\n      <td>16.0</td>\n      <td>13.0</td>\n      <td>14</td>\n      <td>14</td>\n    </tr>\n    <tr>\n      <th>31</th>\n      <td>Marco</td>\n      <td>9.0</td>\n      <td>14.0</td>\n      <td>16</td>\n      <td>13</td>\n    </tr>\n    <tr>\n      <th>32</th>\n      <td>Edwin</td>\n      <td>5.0</td>\n      <td>19.0</td>\n      <td>11</td>\n      <td>15</td>\n    </tr>\n    <tr>\n      <th>33</th>\n      <td>Javier</td>\n      <td>5.0</td>\n      <td>16.0</td>\n      <td>10</td>\n      <td>13</td>\n    </tr>\n    <tr>\n      <th>34</th>\n      <td>Walter</td>\n      <td>11.0</td>\n      <td>5.0</td>\n      <td>14</td>\n      <td>13</td>\n    </tr>\n    <tr>\n      <th>35</th>\n      <td>Francisco</td>\n      <td>5.0</td>\n      <td>10.0</td>\n      <td>20</td>\n      <td>15</td>\n    </tr>\n    <tr>\n      <th>36</th>\n      <td>Fernando</td>\n      <td>10.0</td>\n      <td>20.0</td>\n      <td>13</td>\n      <td>14</td>\n    </tr>\n    <tr>\n      <th>37</th>\n      <td>Milagros</td>\n      <td>18.0</td>\n      <td>14.0</td>\n      <td>11</td>\n      <td>14</td>\n    </tr>\n    <tr>\n      <th>38</th>\n      <td>Alejandro</td>\n      <td>9.0</td>\n      <td>17.0</td>\n      <td>14</td>\n      <td>13</td>\n    </tr>\n    <tr>\n      <th>39</th>\n      <td>Raul</td>\n      <td>20.0</td>\n      <td>18.0</td>\n      <td>16</td>\n      <td>18</td>\n    </tr>\n    <tr>\n      <th>40</th>\n      <td>Ricardo</td>\n      <td>9.0</td>\n      <td>17.0</td>\n      <td>17</td>\n      <td>14</td>\n    </tr>\n    <tr>\n      <th>41</th>\n      <td>Alex</td>\n      <td>10.0</td>\n      <td>10.0</td>\n      <td>20</td>\n      <td>13</td>\n    </tr>\n    <tr>\n      <th>42</th>\n      <td>Roberto</td>\n      <td>19.0</td>\n      <td>14.0</td>\n      <td>12</td>\n      <td>15</td>\n    </tr>\n    <tr>\n      <th>43</th>\n      <td>Edgar</td>\n      <td>15.0</td>\n      <td>5.0</td>\n      <td>19</td>\n      <td>17</td>\n    </tr>\n    <tr>\n      <th>44</th>\n      <td>Victoria</td>\n      <td>5.0</td>\n      <td>11.0</td>\n      <td>17</td>\n      <td>14</td>\n    </tr>\n    <tr>\n      <th>45</th>\n      <td>Eduardo</td>\n      <td>12.0</td>\n      <td>19.0</td>\n      <td>12</td>\n      <td>14</td>\n    </tr>\n    <tr>\n      <th>46</th>\n      <td>Mario</td>\n      <td>19.0</td>\n      <td>14.0</td>\n      <td>19</td>\n      <td>17</td>\n    </tr>\n    <tr>\n      <th>47</th>\n      <td>Jaime</td>\n      <td>18.0</td>\n      <td>19.0</td>\n      <td>15</td>\n      <td>17</td>\n    </tr>\n    <tr>\n      <th>48</th>\n      <td>Gloria</td>\n      <td>19.0</td>\n      <td>16.0</td>\n      <td>16</td>\n      <td>17</td>\n    </tr>\n    <tr>\n      <th>49</th>\n      <td>Andrea</td>\n      <td>14.0</td>\n      <td>17.0</td>\n      <td>19</td>\n      <td>17</td>\n    </tr>\n  </tbody>\n</table>\n</div>"
          },
          "metadata": {}
        }
      ],
      "execution_count": 10
    },
    {
      "cell_type": "markdown",
      "source": "<div class=\"alert alert-info\"> Ahora para conservar los cambios <strong>generamos un nuevo archivo</strong>  <code>csv </code> con el resultado de la limpieza, utilizamos el comando <code>df.to_csv</code> que creara el nuevo archivo.</div>",
      "metadata": {}
    },
    {
      "cell_type": "code",
      "source": "#asignamos el resultado al DataFrame nota_final\nnota_final = notas2.fillna(5)\n",
      "metadata": {
        "trusted": true
      },
      "outputs": [],
      "execution_count": 12
    },
    {
      "cell_type": "code",
      "source": "#imprimimos para confirmar\nnota_final.head()\n",
      "metadata": {
        "trusted": true
      },
      "outputs": [
        {
          "execution_count": 13,
          "output_type": "execute_result",
          "data": {
            "text/plain": "   Alumno  Nota1  Nota2  Nota3  Promedio\n0   Maria   18.0   19.0     18        18\n1    Jose    5.0   15.0     11        13\n2    Juan   13.0   12.0     17        14\n3    Luis   10.0   19.0     18        16\n4  Carlos   16.0   12.0     10        13",
            "text/html": "<div>\n<style scoped>\n    .dataframe tbody tr th:only-of-type {\n        vertical-align: middle;\n    }\n\n    .dataframe tbody tr th {\n        vertical-align: top;\n    }\n\n    .dataframe thead th {\n        text-align: right;\n    }\n</style>\n<table border=\"1\" class=\"dataframe\">\n  <thead>\n    <tr style=\"text-align: right;\">\n      <th></th>\n      <th>Alumno</th>\n      <th>Nota1</th>\n      <th>Nota2</th>\n      <th>Nota3</th>\n      <th>Promedio</th>\n    </tr>\n  </thead>\n  <tbody>\n    <tr>\n      <th>0</th>\n      <td>Maria</td>\n      <td>18.0</td>\n      <td>19.0</td>\n      <td>18</td>\n      <td>18</td>\n    </tr>\n    <tr>\n      <th>1</th>\n      <td>Jose</td>\n      <td>5.0</td>\n      <td>15.0</td>\n      <td>11</td>\n      <td>13</td>\n    </tr>\n    <tr>\n      <th>2</th>\n      <td>Juan</td>\n      <td>13.0</td>\n      <td>12.0</td>\n      <td>17</td>\n      <td>14</td>\n    </tr>\n    <tr>\n      <th>3</th>\n      <td>Luis</td>\n      <td>10.0</td>\n      <td>19.0</td>\n      <td>18</td>\n      <td>16</td>\n    </tr>\n    <tr>\n      <th>4</th>\n      <td>Carlos</td>\n      <td>16.0</td>\n      <td>12.0</td>\n      <td>10</td>\n      <td>13</td>\n    </tr>\n  </tbody>\n</table>\n</div>"
          },
          "metadata": {}
        }
      ],
      "execution_count": 13
    },
    {
      "cell_type": "code",
      "source": "#grabamos en otro archivo\nnotas2.to_csv(\"data/notafinal.csv\")\n",
      "metadata": {
        "trusted": true
      },
      "outputs": [],
      "execution_count": 14
    },
    {
      "cell_type": "markdown",
      "source": "![linea 2](https://user-images.githubusercontent.com/19308295/115926262-2fb62980-a448-11eb-8189-c2f10e499944.png)",
      "metadata": {}
    },
    {
      "cell_type": "markdown",
      "source": "## <font color=#33A5FF>****2. Frecuencia Simple de Datos****<tfont>",
      "metadata": {}
    },
    {
      "cell_type": "markdown",
      "source": "<div class=\"alert alert-info\"> Vamos hallar la <strong>frecuencia</strong> de notas de un archivo  <code>csv</code> damos como resultado la nota mas alta</div>",
      "metadata": {}
    },
    {
      "cell_type": "code",
      "source": "#cargamos un archivo CSV separado por punto y coma\nnotas3 = pd.read_csv(\"data/notas.csv\", \";\")\n",
      "metadata": {
        "trusted": true
      },
      "outputs": [
        {
          "name": "stderr",
          "text": "<ipython-input-15-e9a94cfa2408>:2: FutureWarning: In a future version of pandas all arguments of read_csv except for the argument 'filepath_or_buffer' will be keyword-only.\n  notas3 = pd.read_csv(\"data/notas.csv\", \";\")\n",
          "output_type": "stream"
        }
      ],
      "execution_count": 15
    },
    {
      "cell_type": "code",
      "source": "#nombres de columnas\nnotas3.columns.values\n",
      "metadata": {
        "trusted": true
      },
      "outputs": [
        {
          "execution_count": 16,
          "output_type": "execute_result",
          "data": {
            "text/plain": "array(['Alumno', 'Nota1', 'Nota2', 'Nota3', 'Promedio'], dtype=object)"
          },
          "metadata": {}
        }
      ],
      "execution_count": 16
    },
    {
      "cell_type": "code",
      "source": "#buscamos cuantos alumnos han sacado nota 20 en Promedio\n#creamos nuevo DataFrame con notas promedio y frecuencias\ntab = pd.crosstab(index=notas3[\"Nota3\"], columns = \"Frecuencia\")\ntab.head(15)",
      "metadata": {
        "trusted": true
      },
      "outputs": [
        {
          "execution_count": 18,
          "output_type": "execute_result",
          "data": {
            "text/plain": "col_0  Frecuencia\nNota3            \n10              8\n11              5\n12              4\n13              2\n14              6\n15              2\n16              6\n17              3\n18              5\n19              4\n20              5",
            "text/html": "<div>\n<style scoped>\n    .dataframe tbody tr th:only-of-type {\n        vertical-align: middle;\n    }\n\n    .dataframe tbody tr th {\n        vertical-align: top;\n    }\n\n    .dataframe thead th {\n        text-align: right;\n    }\n</style>\n<table border=\"1\" class=\"dataframe\">\n  <thead>\n    <tr style=\"text-align: right;\">\n      <th>col_0</th>\n      <th>Frecuencia</th>\n    </tr>\n    <tr>\n      <th>Nota3</th>\n      <th></th>\n    </tr>\n  </thead>\n  <tbody>\n    <tr>\n      <th>10</th>\n      <td>8</td>\n    </tr>\n    <tr>\n      <th>11</th>\n      <td>5</td>\n    </tr>\n    <tr>\n      <th>12</th>\n      <td>4</td>\n    </tr>\n    <tr>\n      <th>13</th>\n      <td>2</td>\n    </tr>\n    <tr>\n      <th>14</th>\n      <td>6</td>\n    </tr>\n    <tr>\n      <th>15</th>\n      <td>2</td>\n    </tr>\n    <tr>\n      <th>16</th>\n      <td>6</td>\n    </tr>\n    <tr>\n      <th>17</th>\n      <td>3</td>\n    </tr>\n    <tr>\n      <th>18</th>\n      <td>5</td>\n    </tr>\n    <tr>\n      <th>19</th>\n      <td>4</td>\n    </tr>\n    <tr>\n      <th>20</th>\n      <td>5</td>\n    </tr>\n  </tbody>\n</table>\n</div>"
          },
          "metadata": {}
        }
      ],
      "execution_count": 18
    },
    {
      "cell_type": "code",
      "source": "#localizar alumnos que han sacado 20 en su Nota3\n\nfila = tab.loc[tab.index==20]\n#variable\nx = fila[\"Frecuencia\"]\nx = int(x)\n\n#Impresion\nprint(\"\\t \\t \\t FELICITACIÒN\")\nprint(\"------------------------------------------------------\")\nprint(\"\\n\")\nprint(\"%d alumnos han sacado en su Nota3 20, mis felicitaciones!!\"%x)\nprint(\"\\n\\n\\n\")\n",
      "metadata": {
        "trusted": true
      },
      "outputs": [
        {
          "name": "stdout",
          "text": "\t \t \t FELICITACIÒN\n------------------------------------------------------\n\n\n5 alumnos han sacado en su Nota3 20, mis felicitaciones!!\n\n\n\n\n",
          "output_type": "stream"
        }
      ],
      "execution_count": 19
    },
    {
      "cell_type": "markdown",
      "source": "![linea 2](https://user-images.githubusercontent.com/19308295/115926262-2fb62980-a448-11eb-8189-c2f10e499944.png)",
      "metadata": {}
    },
    {
      "cell_type": "markdown",
      "source": "## <font color=#33A5FF>****3. Archivo csv \"NBA\" y Funciones de busqueda****<tfont>",
      "metadata": {}
    },
    {
      "cell_type": "markdown",
      "source": "<div class=\"alert alert-info\"> Las <strong>funciones de busqueda</strong> son básicas en <strong>pandas</strong> lo vamos aplicar a un archivo bajado de la pagina web Kaggle el mayor banco de dataset</div>",
      "metadata": {}
    },
    {
      "cell_type": "code",
      "source": "#cargamos un archivo CSV separado por comas con indice en columna \"Name\"\ndata = pd.read_csv(\"data/nba.csv\" , index_col= \"Name\" )\n\n#Impresión\ndata.head()\n",
      "metadata": {
        "trusted": true
      },
      "outputs": [
        {
          "execution_count": 24,
          "output_type": "execute_result",
          "data": {
            "text/plain": "                         Team  Number Position   Age Height  Weight  \\\nName                                                                  \nAvery Bradley  Boston Celtics     0.0       PG  25.0    6-2   180.0   \nJae Crowder    Boston Celtics    99.0       SF  25.0    6-6   235.0   \nJohn Holland   Boston Celtics    30.0       SG  27.0    6-5   205.0   \nR.J. Hunter    Boston Celtics    28.0       SG  22.0    6-5   185.0   \nJonas Jerebko  Boston Celtics     8.0       PF  29.0   6-10   231.0   \n\n                         College     Salary  \nName                                         \nAvery Bradley              Texas  7730337.0  \nJae Crowder            Marquette  6796117.0  \nJohn Holland   Boston University        NaN  \nR.J. Hunter        Georgia State  1148640.0  \nJonas Jerebko                NaN  5000000.0  ",
            "text/html": "<div>\n<style scoped>\n    .dataframe tbody tr th:only-of-type {\n        vertical-align: middle;\n    }\n\n    .dataframe tbody tr th {\n        vertical-align: top;\n    }\n\n    .dataframe thead th {\n        text-align: right;\n    }\n</style>\n<table border=\"1\" class=\"dataframe\">\n  <thead>\n    <tr style=\"text-align: right;\">\n      <th></th>\n      <th>Team</th>\n      <th>Number</th>\n      <th>Position</th>\n      <th>Age</th>\n      <th>Height</th>\n      <th>Weight</th>\n      <th>College</th>\n      <th>Salary</th>\n    </tr>\n    <tr>\n      <th>Name</th>\n      <th></th>\n      <th></th>\n      <th></th>\n      <th></th>\n      <th></th>\n      <th></th>\n      <th></th>\n      <th></th>\n    </tr>\n  </thead>\n  <tbody>\n    <tr>\n      <th>Avery Bradley</th>\n      <td>Boston Celtics</td>\n      <td>0.0</td>\n      <td>PG</td>\n      <td>25.0</td>\n      <td>6-2</td>\n      <td>180.0</td>\n      <td>Texas</td>\n      <td>7730337.0</td>\n    </tr>\n    <tr>\n      <th>Jae Crowder</th>\n      <td>Boston Celtics</td>\n      <td>99.0</td>\n      <td>SF</td>\n      <td>25.0</td>\n      <td>6-6</td>\n      <td>235.0</td>\n      <td>Marquette</td>\n      <td>6796117.0</td>\n    </tr>\n    <tr>\n      <th>John Holland</th>\n      <td>Boston Celtics</td>\n      <td>30.0</td>\n      <td>SG</td>\n      <td>27.0</td>\n      <td>6-5</td>\n      <td>205.0</td>\n      <td>Boston University</td>\n      <td>NaN</td>\n    </tr>\n    <tr>\n      <th>R.J. Hunter</th>\n      <td>Boston Celtics</td>\n      <td>28.0</td>\n      <td>SG</td>\n      <td>22.0</td>\n      <td>6-5</td>\n      <td>185.0</td>\n      <td>Georgia State</td>\n      <td>1148640.0</td>\n    </tr>\n    <tr>\n      <th>Jonas Jerebko</th>\n      <td>Boston Celtics</td>\n      <td>8.0</td>\n      <td>PF</td>\n      <td>29.0</td>\n      <td>6-10</td>\n      <td>231.0</td>\n      <td>NaN</td>\n      <td>5000000.0</td>\n    </tr>\n  </tbody>\n</table>\n</div>"
          },
          "metadata": {}
        }
      ],
      "execution_count": 24
    },
    {
      "cell_type": "code",
      "source": "#variables que busca en la columna \"Name\" y funcion `loc`\nfist = data.loc[\"Avery Bradley\"]\nsecond = data.loc[\"Jae Crowder\"]\n\n#impresión\nprint(fist, \"\\n\\n\\n\" , second)\n",
      "metadata": {
        "trusted": true
      },
      "outputs": [
        {
          "name": "stdout",
          "text": "Team        Boston Celtics\nNumber                 0.0\nPosition                PG\nAge                   25.0\nHeight                 6-2\nWeight               180.0\nCollege              Texas\nSalary           7730337.0\nName: Avery Bradley, dtype: object \n\n\n Team        Boston Celtics\nNumber                99.0\nPosition                SF\nAge                   25.0\nHeight                 6-6\nWeight               235.0\nCollege          Marquette\nSalary           6796117.0\nName: Jae Crowder, dtype: object\n",
          "output_type": "stream"
        }
      ],
      "execution_count": 25
    },
    {
      "cell_type": "markdown",
      "source": "![linea 2](https://user-images.githubusercontent.com/19308295/115926262-2fb62980-a448-11eb-8189-c2f10e499944.png)",
      "metadata": {}
    },
    {
      "cell_type": "markdown",
      "source": "## <font color=#33A5FF>4. Análisis de Datos y Visualización<tfont>",
      "metadata": {}
    },
    {
      "cell_type": "markdown",
      "source": "<div class=\"alert alert-info\">\nColección de datos completo de COVID-19 mantenido por  <strong>Our World in Data</strong>\n(Investigación y datos para avanzar contra los mayores problemas del mundo). \n    \nSe actualiza diariamente e incluye datos sobre casos confirmados, muertes, hospitalizaciones, pruebas y vacunaciones, así como otras variables de posible interés.\n    \n    \n    https://github.com/owid/covid-19-data/tree/master/public/data\n    \n</div>",
      "metadata": {}
    },
    {
      "cell_type": "markdown",
      "source": "### Vamos a leer los datos desde github de `Our World in Data` ",
      "metadata": {}
    },
    {
      "cell_type": "code",
      "source": "import pandas as pd\n\n# Ruta al archivo subido\nuploaded_file_path = 'owid-covid-data.csv'\n\n# Intentemos leer el archivo como un archivo CSV\ntry:\n    df = pd.read_csv(uploaded_file_path, index_col=0)\n    print(df.head())\nexcept Exception as e:\n    print(\"Error al leer el archivo:\", e)\n\n\n",
      "metadata": {
        "trusted": true
      },
      "outputs": [
        {
          "name": "stdout",
          "text": "         continent     location        date  total_cases  new_cases  \\\niso_code                                                              \nAFG           Asia  Afghanistan  2020-01-05          NaN        0.0   \nAFG           Asia  Afghanistan  2020-01-06          NaN        0.0   \nAFG           Asia  Afghanistan  2020-01-07          NaN        0.0   \nAFG           Asia  Afghanistan  2020-01-08          NaN        0.0   \nAFG           Asia  Afghanistan  2020-01-09          NaN        0.0   \n\n          new_cases_smoothed  total_deaths  new_deaths  new_deaths_smoothed  \\\niso_code                                                                      \nAFG                      NaN           NaN         0.0                  NaN   \nAFG                      NaN           NaN         0.0                  NaN   \nAFG                      NaN           NaN         0.0                  NaN   \nAFG                      NaN           NaN         0.0                  NaN   \nAFG                      NaN           NaN         0.0                  NaN   \n\n          total_cases_per_million  ...  male_smokers  handwashing_facilities  \\\niso_code                           ...                                         \nAFG                           NaN  ...           NaN                  37.746   \nAFG                           NaN  ...           NaN                  37.746   \nAFG                           NaN  ...           NaN                  37.746   \nAFG                           NaN  ...           NaN                  37.746   \nAFG                           NaN  ...           NaN                  37.746   \n\n          hospital_beds_per_thousand  life_expectancy  \\\niso_code                                                \nAFG                              0.5            64.83   \nAFG                              0.5            64.83   \nAFG                              0.5            64.83   \nAFG                              0.5            64.83   \nAFG                              0.5            64.83   \n\n          human_development_index  population  \\\niso_code                                        \nAFG                         0.511  41128772.0   \nAFG                         0.511  41128772.0   \nAFG                         0.511  41128772.0   \nAFG                         0.511  41128772.0   \nAFG                         0.511  41128772.0   \n\n          excess_mortality_cumulative_absolute  excess_mortality_cumulative  \\\niso_code                                                                      \nAFG                                        NaN                          NaN   \nAFG                                        NaN                          NaN   \nAFG                                        NaN                          NaN   \nAFG                                        NaN                          NaN   \nAFG                                        NaN                          NaN   \n\n          excess_mortality  excess_mortality_cumulative_per_million  \niso_code                                                             \nAFG                    NaN                                      NaN  \nAFG                    NaN                                      NaN  \nAFG                    NaN                                      NaN  \nAFG                    NaN                                      NaN  \nAFG                    NaN                                      NaN  \n\n[5 rows x 66 columns]\n",
          "output_type": "stream"
        }
      ],
      "execution_count": 13
    },
    {
      "cell_type": "markdown",
      "source": "### Revisamos los datos",
      "metadata": {}
    },
    {
      "cell_type": "code",
      "source": "#Cantidad de Filas\nlen(df)",
      "metadata": {
        "trusted": true
      },
      "outputs": [
        {
          "execution_count": 14,
          "output_type": "execute_result",
          "data": {
            "text/plain": "407877"
          },
          "metadata": {}
        }
      ],
      "execution_count": 14
    },
    {
      "cell_type": "code",
      "source": "#Cantidad de Filas y Columnas\ndf.shape",
      "metadata": {
        "trusted": true
      },
      "outputs": [
        {
          "execution_count": 15,
          "output_type": "execute_result",
          "data": {
            "text/plain": "(407877, 66)"
          },
          "metadata": {}
        }
      ],
      "execution_count": 15
    },
    {
      "cell_type": "code",
      "source": "#Valores de las columnas\ndf.columns",
      "metadata": {
        "trusted": true
      },
      "outputs": [
        {
          "execution_count": 16,
          "output_type": "execute_result",
          "data": {
            "text/plain": "Index(['continent', 'location', 'date', 'total_cases', 'new_cases',\n       'new_cases_smoothed', 'total_deaths', 'new_deaths',\n       'new_deaths_smoothed', 'total_cases_per_million',\n       'new_cases_per_million', 'new_cases_smoothed_per_million',\n       'total_deaths_per_million', 'new_deaths_per_million',\n       'new_deaths_smoothed_per_million', 'reproduction_rate', 'icu_patients',\n       'icu_patients_per_million', 'hosp_patients',\n       'hosp_patients_per_million', 'weekly_icu_admissions',\n       'weekly_icu_admissions_per_million', 'weekly_hosp_admissions',\n       'weekly_hosp_admissions_per_million', 'total_tests', 'new_tests',\n       'total_tests_per_thousand', 'new_tests_per_thousand',\n       'new_tests_smoothed', 'new_tests_smoothed_per_thousand',\n       'positive_rate', 'tests_per_case', 'tests_units', 'total_vaccinations',\n       'people_vaccinated', 'people_fully_vaccinated', 'total_boosters',\n       'new_vaccinations', 'new_vaccinations_smoothed',\n       'total_vaccinations_per_hundred', 'people_vaccinated_per_hundred',\n       'people_fully_vaccinated_per_hundred', 'total_boosters_per_hundred',\n       'new_vaccinations_smoothed_per_million',\n       'new_people_vaccinated_smoothed',\n       'new_people_vaccinated_smoothed_per_hundred', 'stringency_index',\n       'population_density', 'median_age', 'aged_65_older', 'aged_70_older',\n       'gdp_per_capita', 'extreme_poverty', 'cardiovasc_death_rate',\n       'diabetes_prevalence', 'female_smokers', 'male_smokers',\n       'handwashing_facilities', 'hospital_beds_per_thousand',\n       'life_expectancy', 'human_development_index', 'population',\n       'excess_mortality_cumulative_absolute', 'excess_mortality_cumulative',\n       'excess_mortality', 'excess_mortality_cumulative_per_million'],\n      dtype='object')"
          },
          "metadata": {}
        }
      ],
      "execution_count": 16
    },
    {
      "cell_type": "code",
      "source": "#Información de los datos\ndf.info()",
      "metadata": {
        "trusted": true
      },
      "outputs": [
        {
          "name": "stdout",
          "text": "<class 'pandas.core.frame.DataFrame'>\nIndex: 407877 entries, AFG to ZWE\nData columns (total 66 columns):\n #   Column                                      Non-Null Count   Dtype  \n---  ------                                      --------------   -----  \n 0   continent                                   388365 non-null  object \n 1   location                                    407877 non-null  object \n 2   date                                        407877 non-null  object \n 3   total_cases                                 368836 non-null  float64\n 4   new_cases                                   396607 non-null  float64\n 5   new_cases_smoothed                          395377 non-null  float64\n 6   total_deaths                                346115 non-null  float64\n 7   new_deaths                                  397000 non-null  float64\n 8   new_deaths_smoothed                         395770 non-null  float64\n 9   total_cases_per_million                     368836 non-null  float64\n 10  new_cases_per_million                       396607 non-null  float64\n 11  new_cases_smoothed_per_million              395377 non-null  float64\n 12  total_deaths_per_million                    346115 non-null  float64\n 13  new_deaths_per_million                      397000 non-null  float64\n 14  new_deaths_smoothed_per_million             395770 non-null  float64\n 15  reproduction_rate                           184817 non-null  float64\n 16  icu_patients                                38967 non-null   float64\n 17  icu_patients_per_million                    38967 non-null   float64\n 18  hosp_patients                               40507 non-null   float64\n 19  hosp_patients_per_million                   40507 non-null   float64\n 20  weekly_icu_admissions                       10895 non-null   float64\n 21  weekly_icu_admissions_per_million           10895 non-null   float64\n 22  weekly_hosp_admissions                      24399 non-null   float64\n 23  weekly_hosp_admissions_per_million          24399 non-null   float64\n 24  total_tests                                 79387 non-null   float64\n 25  new_tests                                   75403 non-null   float64\n 26  total_tests_per_thousand                    79387 non-null   float64\n 27  new_tests_per_thousand                      75403 non-null   float64\n 28  new_tests_smoothed                          103965 non-null  float64\n 29  new_tests_smoothed_per_thousand             103965 non-null  float64\n 30  positive_rate                               95927 non-null   float64\n 31  tests_per_case                              94348 non-null   float64\n 32  tests_units                                 106788 non-null  object \n 33  total_vaccinations                          84714 non-null   float64\n 34  people_vaccinated                           80464 non-null   float64\n 35  people_fully_vaccinated                     77390 non-null   float64\n 36  total_boosters                              52907 non-null   float64\n 37  new_vaccinations                            70327 non-null   float64\n 38  new_vaccinations_smoothed                   194091 non-null  float64\n 39  total_vaccinations_per_hundred              84714 non-null   float64\n 40  people_vaccinated_per_hundred               80464 non-null   float64\n 41  people_fully_vaccinated_per_hundred         77390 non-null   float64\n 42  total_boosters_per_hundred                  52907 non-null   float64\n 43  new_vaccinations_smoothed_per_million       194091 non-null  float64\n 44  new_people_vaccinated_smoothed              191346 non-null  float64\n 45  new_people_vaccinated_smoothed_per_hundred  191346 non-null  float64\n 46  stringency_index                            197292 non-null  float64\n 47  population_density                          347126 non-null  float64\n 48  median_age                                  322587 non-null  float64\n 49  aged_65_older                               311530 non-null  float64\n 50  aged_70_older                               319351 non-null  float64\n 51  gdp_per_capita                              316384 non-null  float64\n 52  extreme_poverty                             203990 non-null  float64\n 53  cardiovasc_death_rate                       316993 non-null  float64\n 54  diabetes_prevalence                         333387 non-null  float64\n 55  female_smokers                              237981 non-null  float64\n 56  male_smokers                                234745 non-null  float64\n 57  handwashing_facilities                      155372 non-null  float64\n 58  hospital_beds_per_thousand                  280049 non-null  float64\n 59  life_expectancy                             375981 non-null  float64\n 60  human_development_index                     307499 non-null  float64\n 61  population                                  407877 non-null  float64\n 62  excess_mortality_cumulative_absolute        13290 non-null   float64\n 63  excess_mortality_cumulative                 13290 non-null   float64\n 64  excess_mortality                            13290 non-null   float64\n 65  excess_mortality_cumulative_per_million     13290 non-null   float64\ndtypes: float64(62), object(4)\nmemory usage: 200.7+ MB\n",
          "output_type": "stream"
        }
      ],
      "execution_count": 17
    },
    {
      "cell_type": "code",
      "source": "#estadistica descriptiva de los datos\ndf.describe()",
      "metadata": {
        "trusted": true
      },
      "outputs": [
        {
          "execution_count": 18,
          "output_type": "execute_result",
          "data": {
            "text/plain": "        total_cases     new_cases  new_cases_smoothed  total_deaths  \\\ncount  3.688360e+05  3.966070e+05        3.953770e+05  3.461150e+05   \nmean   7.724538e+06  8.288240e+03        8.313716e+03  9.191550e+04   \nstd    4.548738e+07  2.334899e+05        8.805211e+04  4.648030e+05   \nmin    1.000000e+00  0.000000e+00        0.000000e+00  1.000000e+00   \n25%    1.001600e+04  0.000000e+00        0.000000e+00  1.380000e+02   \n50%    8.291200e+04  0.000000e+00        1.385700e+01  1.424000e+03   \n75%    9.453540e+05  0.000000e+00        3.464290e+02  1.311800e+04   \nmax    7.756157e+08  4.423623e+07        6.319461e+06  7.051323e+06   \n\n          new_deaths  new_deaths_smoothed  total_cases_per_million  \\\ncount  397000.000000        395770.000000            368836.000000   \nmean       74.252612            74.479771            117513.730877   \nstd      1387.563469           520.715861            164009.035588   \nmin         0.000000             0.000000                 0.000000   \n25%         0.000000             0.000000              3140.102000   \n50%         0.000000             0.000000             35834.604000   \n75%         0.000000             3.429000            162356.481000   \nmax    103719.000000         14817.000000            771480.580000   \n\n       new_cases_per_million  new_cases_smoothed_per_million  \\\ncount          396607.000000                   395377.000000   \nmean              126.196233                      126.581798   \nstd              1505.966132                      557.904334   \nmin                 0.000000                        0.000000   \n25%                 0.000000                        0.000000   \n50%                 0.000000                        3.312000   \n75%                 0.000000                       60.905000   \nmax            240325.866000                    34332.267000   \n\n       total_deaths_per_million  ...   male_smokers  handwashing_facilities  \\\ncount             346115.000000  ...  234745.000000           155372.000000   \nmean                 940.893389  ...      32.911774               50.790232   \nstd                 1146.093449  ...      13.573182               31.953933   \nmin                    0.000000  ...       7.700000                1.188000   \n25%                   68.318000  ...      22.600000               20.859000   \n50%                  440.039000  ...      33.100000               49.839000   \n75%                 1515.600000  ...      41.300000               82.502000   \nmax                 6485.570000  ...      78.100000              100.000000   \n\n       hospital_beds_per_thousand  life_expectancy  human_development_index  \\\ncount               280049.000000    375981.000000            307499.000000   \nmean                     3.097277        73.707003                 0.722497   \nstd                      2.548304         7.394301                 0.148979   \nmin                      0.100000        53.280000                 0.394000   \n25%                      1.300000        69.590000                 0.602000   \n50%                      2.500000        75.050000                 0.740000   \n75%                      4.200000        79.460000                 0.829000   \nmax                     13.800000        86.750000                 0.957000   \n\n         population  excess_mortality_cumulative_absolute  \\\ncount  4.078770e+05                          1.329000e+04   \nmean   1.291633e+08                          5.592295e+04   \nstd    6.629905e+08                          1.554634e+05   \nmin    4.700000e+01                         -3.772610e+04   \n25%    4.490020e+05                          1.794250e+02   \n50%    5.882259e+06                          6.848000e+03   \n75%    2.830170e+07                          3.909440e+04   \nmax    7.975105e+09                          1.345330e+06   \n\n       excess_mortality_cumulative  excess_mortality  \\\ncount                 13290.000000      13290.000000   \nmean                      9.789843         10.996888   \nstd                      12.043989         24.549943   \nmin                     -44.230000        -95.920000   \n25%                       2.150000         -1.447500   \n50%                       8.150000          5.710000   \n75%                      15.040000         15.667500   \nmax                      78.080000        382.860000   \n\n       excess_mortality_cumulative_per_million  \ncount                             13290.000000  \nmean                               1781.925909  \nstd                                1990.069833  \nmin                               -2936.453100  \n25%                                 125.162125  \n50%                                1270.143100  \n75%                                2888.020925  \nmax                               10293.515000  \n\n[8 rows x 62 columns]",
            "text/html": "<div>\n<style scoped>\n    .dataframe tbody tr th:only-of-type {\n        vertical-align: middle;\n    }\n\n    .dataframe tbody tr th {\n        vertical-align: top;\n    }\n\n    .dataframe thead th {\n        text-align: right;\n    }\n</style>\n<table border=\"1\" class=\"dataframe\">\n  <thead>\n    <tr style=\"text-align: right;\">\n      <th></th>\n      <th>total_cases</th>\n      <th>new_cases</th>\n      <th>new_cases_smoothed</th>\n      <th>total_deaths</th>\n      <th>new_deaths</th>\n      <th>new_deaths_smoothed</th>\n      <th>total_cases_per_million</th>\n      <th>new_cases_per_million</th>\n      <th>new_cases_smoothed_per_million</th>\n      <th>total_deaths_per_million</th>\n      <th>...</th>\n      <th>male_smokers</th>\n      <th>handwashing_facilities</th>\n      <th>hospital_beds_per_thousand</th>\n      <th>life_expectancy</th>\n      <th>human_development_index</th>\n      <th>population</th>\n      <th>excess_mortality_cumulative_absolute</th>\n      <th>excess_mortality_cumulative</th>\n      <th>excess_mortality</th>\n      <th>excess_mortality_cumulative_per_million</th>\n    </tr>\n  </thead>\n  <tbody>\n    <tr>\n      <th>count</th>\n      <td>3.688360e+05</td>\n      <td>3.966070e+05</td>\n      <td>3.953770e+05</td>\n      <td>3.461150e+05</td>\n      <td>397000.000000</td>\n      <td>395770.000000</td>\n      <td>368836.000000</td>\n      <td>396607.000000</td>\n      <td>395377.000000</td>\n      <td>346115.000000</td>\n      <td>...</td>\n      <td>234745.000000</td>\n      <td>155372.000000</td>\n      <td>280049.000000</td>\n      <td>375981.000000</td>\n      <td>307499.000000</td>\n      <td>4.078770e+05</td>\n      <td>1.329000e+04</td>\n      <td>13290.000000</td>\n      <td>13290.000000</td>\n      <td>13290.000000</td>\n    </tr>\n    <tr>\n      <th>mean</th>\n      <td>7.724538e+06</td>\n      <td>8.288240e+03</td>\n      <td>8.313716e+03</td>\n      <td>9.191550e+04</td>\n      <td>74.252612</td>\n      <td>74.479771</td>\n      <td>117513.730877</td>\n      <td>126.196233</td>\n      <td>126.581798</td>\n      <td>940.893389</td>\n      <td>...</td>\n      <td>32.911774</td>\n      <td>50.790232</td>\n      <td>3.097277</td>\n      <td>73.707003</td>\n      <td>0.722497</td>\n      <td>1.291633e+08</td>\n      <td>5.592295e+04</td>\n      <td>9.789843</td>\n      <td>10.996888</td>\n      <td>1781.925909</td>\n    </tr>\n    <tr>\n      <th>std</th>\n      <td>4.548738e+07</td>\n      <td>2.334899e+05</td>\n      <td>8.805211e+04</td>\n      <td>4.648030e+05</td>\n      <td>1387.563469</td>\n      <td>520.715861</td>\n      <td>164009.035588</td>\n      <td>1505.966132</td>\n      <td>557.904334</td>\n      <td>1146.093449</td>\n      <td>...</td>\n      <td>13.573182</td>\n      <td>31.953933</td>\n      <td>2.548304</td>\n      <td>7.394301</td>\n      <td>0.148979</td>\n      <td>6.629905e+08</td>\n      <td>1.554634e+05</td>\n      <td>12.043989</td>\n      <td>24.549943</td>\n      <td>1990.069833</td>\n    </tr>\n    <tr>\n      <th>min</th>\n      <td>1.000000e+00</td>\n      <td>0.000000e+00</td>\n      <td>0.000000e+00</td>\n      <td>1.000000e+00</td>\n      <td>0.000000</td>\n      <td>0.000000</td>\n      <td>0.000000</td>\n      <td>0.000000</td>\n      <td>0.000000</td>\n      <td>0.000000</td>\n      <td>...</td>\n      <td>7.700000</td>\n      <td>1.188000</td>\n      <td>0.100000</td>\n      <td>53.280000</td>\n      <td>0.394000</td>\n      <td>4.700000e+01</td>\n      <td>-3.772610e+04</td>\n      <td>-44.230000</td>\n      <td>-95.920000</td>\n      <td>-2936.453100</td>\n    </tr>\n    <tr>\n      <th>25%</th>\n      <td>1.001600e+04</td>\n      <td>0.000000e+00</td>\n      <td>0.000000e+00</td>\n      <td>1.380000e+02</td>\n      <td>0.000000</td>\n      <td>0.000000</td>\n      <td>3140.102000</td>\n      <td>0.000000</td>\n      <td>0.000000</td>\n      <td>68.318000</td>\n      <td>...</td>\n      <td>22.600000</td>\n      <td>20.859000</td>\n      <td>1.300000</td>\n      <td>69.590000</td>\n      <td>0.602000</td>\n      <td>4.490020e+05</td>\n      <td>1.794250e+02</td>\n      <td>2.150000</td>\n      <td>-1.447500</td>\n      <td>125.162125</td>\n    </tr>\n    <tr>\n      <th>50%</th>\n      <td>8.291200e+04</td>\n      <td>0.000000e+00</td>\n      <td>1.385700e+01</td>\n      <td>1.424000e+03</td>\n      <td>0.000000</td>\n      <td>0.000000</td>\n      <td>35834.604000</td>\n      <td>0.000000</td>\n      <td>3.312000</td>\n      <td>440.039000</td>\n      <td>...</td>\n      <td>33.100000</td>\n      <td>49.839000</td>\n      <td>2.500000</td>\n      <td>75.050000</td>\n      <td>0.740000</td>\n      <td>5.882259e+06</td>\n      <td>6.848000e+03</td>\n      <td>8.150000</td>\n      <td>5.710000</td>\n      <td>1270.143100</td>\n    </tr>\n    <tr>\n      <th>75%</th>\n      <td>9.453540e+05</td>\n      <td>0.000000e+00</td>\n      <td>3.464290e+02</td>\n      <td>1.311800e+04</td>\n      <td>0.000000</td>\n      <td>3.429000</td>\n      <td>162356.481000</td>\n      <td>0.000000</td>\n      <td>60.905000</td>\n      <td>1515.600000</td>\n      <td>...</td>\n      <td>41.300000</td>\n      <td>82.502000</td>\n      <td>4.200000</td>\n      <td>79.460000</td>\n      <td>0.829000</td>\n      <td>2.830170e+07</td>\n      <td>3.909440e+04</td>\n      <td>15.040000</td>\n      <td>15.667500</td>\n      <td>2888.020925</td>\n    </tr>\n    <tr>\n      <th>max</th>\n      <td>7.756157e+08</td>\n      <td>4.423623e+07</td>\n      <td>6.319461e+06</td>\n      <td>7.051323e+06</td>\n      <td>103719.000000</td>\n      <td>14817.000000</td>\n      <td>771480.580000</td>\n      <td>240325.866000</td>\n      <td>34332.267000</td>\n      <td>6485.570000</td>\n      <td>...</td>\n      <td>78.100000</td>\n      <td>100.000000</td>\n      <td>13.800000</td>\n      <td>86.750000</td>\n      <td>0.957000</td>\n      <td>7.975105e+09</td>\n      <td>1.345330e+06</td>\n      <td>78.080000</td>\n      <td>382.860000</td>\n      <td>10293.515000</td>\n    </tr>\n  </tbody>\n</table>\n<p>8 rows × 62 columns</p>\n</div>"
          },
          "metadata": {}
        }
      ],
      "execution_count": 18
    },
    {
      "cell_type": "markdown",
      "source": "### Interpretamos los datos encontrados",
      "metadata": {}
    },
    {
      "cell_type": "markdown",
      "source": "#### Datos Negativos en Muertes por día",
      "metadata": {}
    },
    {
      "cell_type": "code",
      "source": "#Muertes por día negativos???   es extraño???\ndf[df.new_deaths < 0 ]",
      "metadata": {
        "trusted": true
      },
      "outputs": [
        {
          "execution_count": 19,
          "output_type": "execute_result",
          "data": {
            "text/plain": "Empty DataFrame\nColumns: [continent, location, date, total_cases, new_cases, new_cases_smoothed, total_deaths, new_deaths, new_deaths_smoothed, total_cases_per_million, new_cases_per_million, new_cases_smoothed_per_million, total_deaths_per_million, new_deaths_per_million, new_deaths_smoothed_per_million, reproduction_rate, icu_patients, icu_patients_per_million, hosp_patients, hosp_patients_per_million, weekly_icu_admissions, weekly_icu_admissions_per_million, weekly_hosp_admissions, weekly_hosp_admissions_per_million, total_tests, new_tests, total_tests_per_thousand, new_tests_per_thousand, new_tests_smoothed, new_tests_smoothed_per_thousand, positive_rate, tests_per_case, tests_units, total_vaccinations, people_vaccinated, people_fully_vaccinated, total_boosters, new_vaccinations, new_vaccinations_smoothed, total_vaccinations_per_hundred, people_vaccinated_per_hundred, people_fully_vaccinated_per_hundred, total_boosters_per_hundred, new_vaccinations_smoothed_per_million, new_people_vaccinated_smoothed, new_people_vaccinated_smoothed_per_hundred, stringency_index, population_density, median_age, aged_65_older, aged_70_older, gdp_per_capita, extreme_poverty, cardiovasc_death_rate, diabetes_prevalence, female_smokers, male_smokers, handwashing_facilities, hospital_beds_per_thousand, life_expectancy, human_development_index, population, excess_mortality_cumulative_absolute, excess_mortality_cumulative, excess_mortality, excess_mortality_cumulative_per_million]\nIndex: []\n\n[0 rows x 66 columns]",
            "text/html": "<div>\n<style scoped>\n    .dataframe tbody tr th:only-of-type {\n        vertical-align: middle;\n    }\n\n    .dataframe tbody tr th {\n        vertical-align: top;\n    }\n\n    .dataframe thead th {\n        text-align: right;\n    }\n</style>\n<table border=\"1\" class=\"dataframe\">\n  <thead>\n    <tr style=\"text-align: right;\">\n      <th></th>\n      <th>continent</th>\n      <th>location</th>\n      <th>date</th>\n      <th>total_cases</th>\n      <th>new_cases</th>\n      <th>new_cases_smoothed</th>\n      <th>total_deaths</th>\n      <th>new_deaths</th>\n      <th>new_deaths_smoothed</th>\n      <th>total_cases_per_million</th>\n      <th>...</th>\n      <th>male_smokers</th>\n      <th>handwashing_facilities</th>\n      <th>hospital_beds_per_thousand</th>\n      <th>life_expectancy</th>\n      <th>human_development_index</th>\n      <th>population</th>\n      <th>excess_mortality_cumulative_absolute</th>\n      <th>excess_mortality_cumulative</th>\n      <th>excess_mortality</th>\n      <th>excess_mortality_cumulative_per_million</th>\n    </tr>\n    <tr>\n      <th>iso_code</th>\n      <th></th>\n      <th></th>\n      <th></th>\n      <th></th>\n      <th></th>\n      <th></th>\n      <th></th>\n      <th></th>\n      <th></th>\n      <th></th>\n      <th></th>\n      <th></th>\n      <th></th>\n      <th></th>\n      <th></th>\n      <th></th>\n      <th></th>\n      <th></th>\n      <th></th>\n      <th></th>\n      <th></th>\n    </tr>\n  </thead>\n  <tbody>\n  </tbody>\n</table>\n<p>0 rows × 66 columns</p>\n</div>"
          },
          "metadata": {}
        }
      ],
      "execution_count": 19
    },
    {
      "cell_type": "markdown",
      "source": "---",
      "metadata": {}
    },
    {
      "cell_type": "markdown",
      "source": "#### Datos Nulos NaN en nuevos casos por día",
      "metadata": {}
    },
    {
      "cell_type": "code",
      "source": "#Muertes por día NaN??\ndf[df.new_cases.isnull() ]",
      "metadata": {
        "trusted": true
      },
      "outputs": [
        {
          "execution_count": 20,
          "output_type": "execute_result",
          "data": {
            "text/plain": "              continent   location        date  total_cases  new_cases  \\\niso_code                                                                 \nARG       South America  Argentina  2020-01-01          NaN        NaN   \nARG       South America  Argentina  2020-01-02          NaN        NaN   \nARG       South America  Argentina  2020-01-03          NaN        NaN   \nARG       South America  Argentina  2020-01-04          NaN        NaN   \nOWID_ASI            NaN       Asia  2024-06-10          NaN        NaN   \n...                 ...        ...         ...          ...        ...   \nOWID_WRL            NaN      World  2024-06-19          NaN        NaN   \nOWID_WRL            NaN      World  2024-06-20          NaN        NaN   \nOWID_WRL            NaN      World  2024-06-21          NaN        NaN   \nOWID_WRL            NaN      World  2024-06-22          NaN        NaN   \nZWE              Africa   Zimbabwe  2023-07-30     265693.0        NaN   \n\n          new_cases_smoothed  total_deaths  new_deaths  new_deaths_smoothed  \\\niso_code                                                                      \nARG                      NaN           NaN         NaN                  NaN   \nARG                      NaN           NaN         NaN                  NaN   \nARG                      NaN           NaN         NaN                  NaN   \nARG                      NaN           NaN         NaN                  NaN   \nOWID_ASI                 NaN           NaN         NaN                  NaN   \n...                      ...           ...         ...                  ...   \nOWID_WRL                 NaN           NaN         NaN                  NaN   \nOWID_WRL                 NaN           NaN         NaN                  NaN   \nOWID_WRL                 NaN           NaN         NaN                  NaN   \nOWID_WRL                 NaN           NaN         NaN                  NaN   \nZWE                      NaN        5712.0         1.0                0.143   \n\n          total_cases_per_million  ...  male_smokers  handwashing_facilities  \\\niso_code                           ...                                         \nARG                           NaN  ...        27.700                     NaN   \nARG                           NaN  ...        27.700                     NaN   \nARG                           NaN  ...        27.700                     NaN   \nARG                           NaN  ...        27.700                     NaN   \nOWID_ASI                      NaN  ...           NaN                     NaN   \n...                           ...  ...           ...                     ...   \nOWID_WRL                      NaN  ...        34.635                  60.130   \nOWID_WRL                      NaN  ...        34.635                  60.130   \nOWID_WRL                      NaN  ...        34.635                  60.130   \nOWID_WRL                      NaN  ...        34.635                  60.130   \nZWE                     16279.671  ...        30.700                  36.791   \n\n          hospital_beds_per_thousand  life_expectancy  \\\niso_code                                                \nARG                            5.000            76.67   \nARG                            5.000            76.67   \nARG                            5.000            76.67   \nARG                            5.000            76.67   \nOWID_ASI                         NaN              NaN   \n...                              ...              ...   \nOWID_WRL                       2.705            72.58   \nOWID_WRL                       2.705            72.58   \nOWID_WRL                       2.705            72.58   \nOWID_WRL                       2.705            72.58   \nZWE                            1.700            61.49   \n\n          human_development_index    population  \\\niso_code                                          \nARG                         0.845  4.551032e+07   \nARG                         0.845  4.551032e+07   \nARG                         0.845  4.551032e+07   \nARG                         0.845  4.551032e+07   \nOWID_ASI                      NaN  4.721383e+09   \n...                           ...           ...   \nOWID_WRL                    0.737  7.975105e+09   \nOWID_WRL                    0.737  7.975105e+09   \nOWID_WRL                    0.737  7.975105e+09   \nOWID_WRL                    0.737  7.975105e+09   \nZWE                         0.571  1.632054e+07   \n\n          excess_mortality_cumulative_absolute  excess_mortality_cumulative  \\\niso_code                                                                      \nARG                                        NaN                          NaN   \nARG                                        NaN                          NaN   \nARG                                        NaN                          NaN   \nARG                                        NaN                          NaN   \nOWID_ASI                                   NaN                          NaN   \n...                                        ...                          ...   \nOWID_WRL                                   NaN                          NaN   \nOWID_WRL                                   NaN                          NaN   \nOWID_WRL                                   NaN                          NaN   \nOWID_WRL                                   NaN                          NaN   \nZWE                                        NaN                          NaN   \n\n          excess_mortality  excess_mortality_cumulative_per_million  \niso_code                                                             \nARG                    NaN                                      NaN  \nARG                    NaN                                      NaN  \nARG                    NaN                                      NaN  \nARG                    NaN                                      NaN  \nOWID_ASI               NaN                                      NaN  \n...                    ...                                      ...  \nOWID_WRL               NaN                                      NaN  \nOWID_WRL               NaN                                      NaN  \nOWID_WRL               NaN                                      NaN  \nOWID_WRL               NaN                                      NaN  \nZWE                    NaN                                      NaN  \n\n[11270 rows x 66 columns]",
            "text/html": "<div>\n<style scoped>\n    .dataframe tbody tr th:only-of-type {\n        vertical-align: middle;\n    }\n\n    .dataframe tbody tr th {\n        vertical-align: top;\n    }\n\n    .dataframe thead th {\n        text-align: right;\n    }\n</style>\n<table border=\"1\" class=\"dataframe\">\n  <thead>\n    <tr style=\"text-align: right;\">\n      <th></th>\n      <th>continent</th>\n      <th>location</th>\n      <th>date</th>\n      <th>total_cases</th>\n      <th>new_cases</th>\n      <th>new_cases_smoothed</th>\n      <th>total_deaths</th>\n      <th>new_deaths</th>\n      <th>new_deaths_smoothed</th>\n      <th>total_cases_per_million</th>\n      <th>...</th>\n      <th>male_smokers</th>\n      <th>handwashing_facilities</th>\n      <th>hospital_beds_per_thousand</th>\n      <th>life_expectancy</th>\n      <th>human_development_index</th>\n      <th>population</th>\n      <th>excess_mortality_cumulative_absolute</th>\n      <th>excess_mortality_cumulative</th>\n      <th>excess_mortality</th>\n      <th>excess_mortality_cumulative_per_million</th>\n    </tr>\n    <tr>\n      <th>iso_code</th>\n      <th></th>\n      <th></th>\n      <th></th>\n      <th></th>\n      <th></th>\n      <th></th>\n      <th></th>\n      <th></th>\n      <th></th>\n      <th></th>\n      <th></th>\n      <th></th>\n      <th></th>\n      <th></th>\n      <th></th>\n      <th></th>\n      <th></th>\n      <th></th>\n      <th></th>\n      <th></th>\n      <th></th>\n    </tr>\n  </thead>\n  <tbody>\n    <tr>\n      <th>ARG</th>\n      <td>South America</td>\n      <td>Argentina</td>\n      <td>2020-01-01</td>\n      <td>NaN</td>\n      <td>NaN</td>\n      <td>NaN</td>\n      <td>NaN</td>\n      <td>NaN</td>\n      <td>NaN</td>\n      <td>NaN</td>\n      <td>...</td>\n      <td>27.700</td>\n      <td>NaN</td>\n      <td>5.000</td>\n      <td>76.67</td>\n      <td>0.845</td>\n      <td>4.551032e+07</td>\n      <td>NaN</td>\n      <td>NaN</td>\n      <td>NaN</td>\n      <td>NaN</td>\n    </tr>\n    <tr>\n      <th>ARG</th>\n      <td>South America</td>\n      <td>Argentina</td>\n      <td>2020-01-02</td>\n      <td>NaN</td>\n      <td>NaN</td>\n      <td>NaN</td>\n      <td>NaN</td>\n      <td>NaN</td>\n      <td>NaN</td>\n      <td>NaN</td>\n      <td>...</td>\n      <td>27.700</td>\n      <td>NaN</td>\n      <td>5.000</td>\n      <td>76.67</td>\n      <td>0.845</td>\n      <td>4.551032e+07</td>\n      <td>NaN</td>\n      <td>NaN</td>\n      <td>NaN</td>\n      <td>NaN</td>\n    </tr>\n    <tr>\n      <th>ARG</th>\n      <td>South America</td>\n      <td>Argentina</td>\n      <td>2020-01-03</td>\n      <td>NaN</td>\n      <td>NaN</td>\n      <td>NaN</td>\n      <td>NaN</td>\n      <td>NaN</td>\n      <td>NaN</td>\n      <td>NaN</td>\n      <td>...</td>\n      <td>27.700</td>\n      <td>NaN</td>\n      <td>5.000</td>\n      <td>76.67</td>\n      <td>0.845</td>\n      <td>4.551032e+07</td>\n      <td>NaN</td>\n      <td>NaN</td>\n      <td>NaN</td>\n      <td>NaN</td>\n    </tr>\n    <tr>\n      <th>ARG</th>\n      <td>South America</td>\n      <td>Argentina</td>\n      <td>2020-01-04</td>\n      <td>NaN</td>\n      <td>NaN</td>\n      <td>NaN</td>\n      <td>NaN</td>\n      <td>NaN</td>\n      <td>NaN</td>\n      <td>NaN</td>\n      <td>...</td>\n      <td>27.700</td>\n      <td>NaN</td>\n      <td>5.000</td>\n      <td>76.67</td>\n      <td>0.845</td>\n      <td>4.551032e+07</td>\n      <td>NaN</td>\n      <td>NaN</td>\n      <td>NaN</td>\n      <td>NaN</td>\n    </tr>\n    <tr>\n      <th>OWID_ASI</th>\n      <td>NaN</td>\n      <td>Asia</td>\n      <td>2024-06-10</td>\n      <td>NaN</td>\n      <td>NaN</td>\n      <td>NaN</td>\n      <td>NaN</td>\n      <td>NaN</td>\n      <td>NaN</td>\n      <td>NaN</td>\n      <td>...</td>\n      <td>NaN</td>\n      <td>NaN</td>\n      <td>NaN</td>\n      <td>NaN</td>\n      <td>NaN</td>\n      <td>4.721383e+09</td>\n      <td>NaN</td>\n      <td>NaN</td>\n      <td>NaN</td>\n      <td>NaN</td>\n    </tr>\n    <tr>\n      <th>...</th>\n      <td>...</td>\n      <td>...</td>\n      <td>...</td>\n      <td>...</td>\n      <td>...</td>\n      <td>...</td>\n      <td>...</td>\n      <td>...</td>\n      <td>...</td>\n      <td>...</td>\n      <td>...</td>\n      <td>...</td>\n      <td>...</td>\n      <td>...</td>\n      <td>...</td>\n      <td>...</td>\n      <td>...</td>\n      <td>...</td>\n      <td>...</td>\n      <td>...</td>\n      <td>...</td>\n    </tr>\n    <tr>\n      <th>OWID_WRL</th>\n      <td>NaN</td>\n      <td>World</td>\n      <td>2024-06-19</td>\n      <td>NaN</td>\n      <td>NaN</td>\n      <td>NaN</td>\n      <td>NaN</td>\n      <td>NaN</td>\n      <td>NaN</td>\n      <td>NaN</td>\n      <td>...</td>\n      <td>34.635</td>\n      <td>60.130</td>\n      <td>2.705</td>\n      <td>72.58</td>\n      <td>0.737</td>\n      <td>7.975105e+09</td>\n      <td>NaN</td>\n      <td>NaN</td>\n      <td>NaN</td>\n      <td>NaN</td>\n    </tr>\n    <tr>\n      <th>OWID_WRL</th>\n      <td>NaN</td>\n      <td>World</td>\n      <td>2024-06-20</td>\n      <td>NaN</td>\n      <td>NaN</td>\n      <td>NaN</td>\n      <td>NaN</td>\n      <td>NaN</td>\n      <td>NaN</td>\n      <td>NaN</td>\n      <td>...</td>\n      <td>34.635</td>\n      <td>60.130</td>\n      <td>2.705</td>\n      <td>72.58</td>\n      <td>0.737</td>\n      <td>7.975105e+09</td>\n      <td>NaN</td>\n      <td>NaN</td>\n      <td>NaN</td>\n      <td>NaN</td>\n    </tr>\n    <tr>\n      <th>OWID_WRL</th>\n      <td>NaN</td>\n      <td>World</td>\n      <td>2024-06-21</td>\n      <td>NaN</td>\n      <td>NaN</td>\n      <td>NaN</td>\n      <td>NaN</td>\n      <td>NaN</td>\n      <td>NaN</td>\n      <td>NaN</td>\n      <td>...</td>\n      <td>34.635</td>\n      <td>60.130</td>\n      <td>2.705</td>\n      <td>72.58</td>\n      <td>0.737</td>\n      <td>7.975105e+09</td>\n      <td>NaN</td>\n      <td>NaN</td>\n      <td>NaN</td>\n      <td>NaN</td>\n    </tr>\n    <tr>\n      <th>OWID_WRL</th>\n      <td>NaN</td>\n      <td>World</td>\n      <td>2024-06-22</td>\n      <td>NaN</td>\n      <td>NaN</td>\n      <td>NaN</td>\n      <td>NaN</td>\n      <td>NaN</td>\n      <td>NaN</td>\n      <td>NaN</td>\n      <td>...</td>\n      <td>34.635</td>\n      <td>60.130</td>\n      <td>2.705</td>\n      <td>72.58</td>\n      <td>0.737</td>\n      <td>7.975105e+09</td>\n      <td>NaN</td>\n      <td>NaN</td>\n      <td>NaN</td>\n      <td>NaN</td>\n    </tr>\n    <tr>\n      <th>ZWE</th>\n      <td>Africa</td>\n      <td>Zimbabwe</td>\n      <td>2023-07-30</td>\n      <td>265693.0</td>\n      <td>NaN</td>\n      <td>NaN</td>\n      <td>5712.0</td>\n      <td>1.0</td>\n      <td>0.143</td>\n      <td>16279.671</td>\n      <td>...</td>\n      <td>30.700</td>\n      <td>36.791</td>\n      <td>1.700</td>\n      <td>61.49</td>\n      <td>0.571</td>\n      <td>1.632054e+07</td>\n      <td>NaN</td>\n      <td>NaN</td>\n      <td>NaN</td>\n      <td>NaN</td>\n    </tr>\n  </tbody>\n</table>\n<p>11270 rows × 66 columns</p>\n</div>"
          },
          "metadata": {}
        }
      ],
      "execution_count": 20
    },
    {
      "cell_type": "code",
      "source": "df.new_cases.sort_values(ascending=True)\n",
      "metadata": {
        "trusted": true
      },
      "outputs": [
        {
          "execution_count": 21,
          "output_type": "execute_result",
          "data": {
            "text/plain": "iso_code\nAFG         0.0\nOWID_NAM    0.0\nOWID_NAM    0.0\nOWID_NAM    0.0\nOWID_NAM    0.0\n           ... \nOWID_WRL    NaN\nOWID_WRL    NaN\nOWID_WRL    NaN\nOWID_WRL    NaN\nZWE         NaN\nName: new_cases, Length: 407877, dtype: float64"
          },
          "metadata": {}
        }
      ],
      "execution_count": 21
    },
    {
      "cell_type": "code",
      "source": "#asognación temporal de valores nulos\ndf.new_cases.fillna(0)",
      "metadata": {
        "trusted": true
      },
      "outputs": [
        {
          "execution_count": 22,
          "output_type": "execute_result",
          "data": {
            "text/plain": "iso_code\nAFG    0.0\nAFG    0.0\nAFG    0.0\nAFG    0.0\nAFG    0.0\n      ... \nZWE    0.0\nZWE    0.0\nZWE    0.0\nZWE    0.0\nZWE    0.0\nName: new_cases, Length: 407877, dtype: float64"
          },
          "metadata": {}
        }
      ],
      "execution_count": 22
    },
    {
      "cell_type": "code",
      "source": "#buscamos valores nulos NaN  en new_cases\ndf[df.new_cases.isnull() ]",
      "metadata": {
        "trusted": true
      },
      "outputs": [
        {
          "execution_count": 25,
          "output_type": "execute_result",
          "data": {
            "text/plain": "              continent   location        date  total_cases  new_cases  \\\niso_code                                                                 \nARG       South America  Argentina  2020-01-01          NaN        NaN   \nARG       South America  Argentina  2020-01-02          NaN        NaN   \nARG       South America  Argentina  2020-01-03          NaN        NaN   \nARG       South America  Argentina  2020-01-04          NaN        NaN   \nOWID_ASI            NaN       Asia  2024-06-10          NaN        NaN   \n...                 ...        ...         ...          ...        ...   \nOWID_WRL            NaN      World  2024-06-19          NaN        NaN   \nOWID_WRL            NaN      World  2024-06-20          NaN        NaN   \nOWID_WRL            NaN      World  2024-06-21          NaN        NaN   \nOWID_WRL            NaN      World  2024-06-22          NaN        NaN   \nZWE              Africa   Zimbabwe  2023-07-30     265693.0        NaN   \n\n          new_cases_smoothed  total_deaths  new_deaths  new_deaths_smoothed  \\\niso_code                                                                      \nARG                      NaN           NaN         NaN                  NaN   \nARG                      NaN           NaN         NaN                  NaN   \nARG                      NaN           NaN         NaN                  NaN   \nARG                      NaN           NaN         NaN                  NaN   \nOWID_ASI                 NaN           NaN         NaN                  NaN   \n...                      ...           ...         ...                  ...   \nOWID_WRL                 NaN           NaN         NaN                  NaN   \nOWID_WRL                 NaN           NaN         NaN                  NaN   \nOWID_WRL                 NaN           NaN         NaN                  NaN   \nOWID_WRL                 NaN           NaN         NaN                  NaN   \nZWE                      NaN        5712.0         1.0                0.143   \n\n          total_cases_per_million  ...  male_smokers  handwashing_facilities  \\\niso_code                           ...                                         \nARG                           NaN  ...        27.700                     NaN   \nARG                           NaN  ...        27.700                     NaN   \nARG                           NaN  ...        27.700                     NaN   \nARG                           NaN  ...        27.700                     NaN   \nOWID_ASI                      NaN  ...           NaN                     NaN   \n...                           ...  ...           ...                     ...   \nOWID_WRL                      NaN  ...        34.635                  60.130   \nOWID_WRL                      NaN  ...        34.635                  60.130   \nOWID_WRL                      NaN  ...        34.635                  60.130   \nOWID_WRL                      NaN  ...        34.635                  60.130   \nZWE                     16279.671  ...        30.700                  36.791   \n\n          hospital_beds_per_thousand  life_expectancy  \\\niso_code                                                \nARG                            5.000            76.67   \nARG                            5.000            76.67   \nARG                            5.000            76.67   \nARG                            5.000            76.67   \nOWID_ASI                         NaN              NaN   \n...                              ...              ...   \nOWID_WRL                       2.705            72.58   \nOWID_WRL                       2.705            72.58   \nOWID_WRL                       2.705            72.58   \nOWID_WRL                       2.705            72.58   \nZWE                            1.700            61.49   \n\n          human_development_index    population  \\\niso_code                                          \nARG                         0.845  4.551032e+07   \nARG                         0.845  4.551032e+07   \nARG                         0.845  4.551032e+07   \nARG                         0.845  4.551032e+07   \nOWID_ASI                      NaN  4.721383e+09   \n...                           ...           ...   \nOWID_WRL                    0.737  7.975105e+09   \nOWID_WRL                    0.737  7.975105e+09   \nOWID_WRL                    0.737  7.975105e+09   \nOWID_WRL                    0.737  7.975105e+09   \nZWE                         0.571  1.632054e+07   \n\n          excess_mortality_cumulative_absolute  excess_mortality_cumulative  \\\niso_code                                                                      \nARG                                        NaN                          NaN   \nARG                                        NaN                          NaN   \nARG                                        NaN                          NaN   \nARG                                        NaN                          NaN   \nOWID_ASI                                   NaN                          NaN   \n...                                        ...                          ...   \nOWID_WRL                                   NaN                          NaN   \nOWID_WRL                                   NaN                          NaN   \nOWID_WRL                                   NaN                          NaN   \nOWID_WRL                                   NaN                          NaN   \nZWE                                        NaN                          NaN   \n\n          excess_mortality  excess_mortality_cumulative_per_million  \niso_code                                                             \nARG                    NaN                                      NaN  \nARG                    NaN                                      NaN  \nARG                    NaN                                      NaN  \nARG                    NaN                                      NaN  \nOWID_ASI               NaN                                      NaN  \n...                    ...                                      ...  \nOWID_WRL               NaN                                      NaN  \nOWID_WRL               NaN                                      NaN  \nOWID_WRL               NaN                                      NaN  \nOWID_WRL               NaN                                      NaN  \nZWE                    NaN                                      NaN  \n\n[11270 rows x 66 columns]",
            "text/html": "<div>\n<style scoped>\n    .dataframe tbody tr th:only-of-type {\n        vertical-align: middle;\n    }\n\n    .dataframe tbody tr th {\n        vertical-align: top;\n    }\n\n    .dataframe thead th {\n        text-align: right;\n    }\n</style>\n<table border=\"1\" class=\"dataframe\">\n  <thead>\n    <tr style=\"text-align: right;\">\n      <th></th>\n      <th>continent</th>\n      <th>location</th>\n      <th>date</th>\n      <th>total_cases</th>\n      <th>new_cases</th>\n      <th>new_cases_smoothed</th>\n      <th>total_deaths</th>\n      <th>new_deaths</th>\n      <th>new_deaths_smoothed</th>\n      <th>total_cases_per_million</th>\n      <th>...</th>\n      <th>male_smokers</th>\n      <th>handwashing_facilities</th>\n      <th>hospital_beds_per_thousand</th>\n      <th>life_expectancy</th>\n      <th>human_development_index</th>\n      <th>population</th>\n      <th>excess_mortality_cumulative_absolute</th>\n      <th>excess_mortality_cumulative</th>\n      <th>excess_mortality</th>\n      <th>excess_mortality_cumulative_per_million</th>\n    </tr>\n    <tr>\n      <th>iso_code</th>\n      <th></th>\n      <th></th>\n      <th></th>\n      <th></th>\n      <th></th>\n      <th></th>\n      <th></th>\n      <th></th>\n      <th></th>\n      <th></th>\n      <th></th>\n      <th></th>\n      <th></th>\n      <th></th>\n      <th></th>\n      <th></th>\n      <th></th>\n      <th></th>\n      <th></th>\n      <th></th>\n      <th></th>\n    </tr>\n  </thead>\n  <tbody>\n    <tr>\n      <th>ARG</th>\n      <td>South America</td>\n      <td>Argentina</td>\n      <td>2020-01-01</td>\n      <td>NaN</td>\n      <td>NaN</td>\n      <td>NaN</td>\n      <td>NaN</td>\n      <td>NaN</td>\n      <td>NaN</td>\n      <td>NaN</td>\n      <td>...</td>\n      <td>27.700</td>\n      <td>NaN</td>\n      <td>5.000</td>\n      <td>76.67</td>\n      <td>0.845</td>\n      <td>4.551032e+07</td>\n      <td>NaN</td>\n      <td>NaN</td>\n      <td>NaN</td>\n      <td>NaN</td>\n    </tr>\n    <tr>\n      <th>ARG</th>\n      <td>South America</td>\n      <td>Argentina</td>\n      <td>2020-01-02</td>\n      <td>NaN</td>\n      <td>NaN</td>\n      <td>NaN</td>\n      <td>NaN</td>\n      <td>NaN</td>\n      <td>NaN</td>\n      <td>NaN</td>\n      <td>...</td>\n      <td>27.700</td>\n      <td>NaN</td>\n      <td>5.000</td>\n      <td>76.67</td>\n      <td>0.845</td>\n      <td>4.551032e+07</td>\n      <td>NaN</td>\n      <td>NaN</td>\n      <td>NaN</td>\n      <td>NaN</td>\n    </tr>\n    <tr>\n      <th>ARG</th>\n      <td>South America</td>\n      <td>Argentina</td>\n      <td>2020-01-03</td>\n      <td>NaN</td>\n      <td>NaN</td>\n      <td>NaN</td>\n      <td>NaN</td>\n      <td>NaN</td>\n      <td>NaN</td>\n      <td>NaN</td>\n      <td>...</td>\n      <td>27.700</td>\n      <td>NaN</td>\n      <td>5.000</td>\n      <td>76.67</td>\n      <td>0.845</td>\n      <td>4.551032e+07</td>\n      <td>NaN</td>\n      <td>NaN</td>\n      <td>NaN</td>\n      <td>NaN</td>\n    </tr>\n    <tr>\n      <th>ARG</th>\n      <td>South America</td>\n      <td>Argentina</td>\n      <td>2020-01-04</td>\n      <td>NaN</td>\n      <td>NaN</td>\n      <td>NaN</td>\n      <td>NaN</td>\n      <td>NaN</td>\n      <td>NaN</td>\n      <td>NaN</td>\n      <td>...</td>\n      <td>27.700</td>\n      <td>NaN</td>\n      <td>5.000</td>\n      <td>76.67</td>\n      <td>0.845</td>\n      <td>4.551032e+07</td>\n      <td>NaN</td>\n      <td>NaN</td>\n      <td>NaN</td>\n      <td>NaN</td>\n    </tr>\n    <tr>\n      <th>OWID_ASI</th>\n      <td>NaN</td>\n      <td>Asia</td>\n      <td>2024-06-10</td>\n      <td>NaN</td>\n      <td>NaN</td>\n      <td>NaN</td>\n      <td>NaN</td>\n      <td>NaN</td>\n      <td>NaN</td>\n      <td>NaN</td>\n      <td>...</td>\n      <td>NaN</td>\n      <td>NaN</td>\n      <td>NaN</td>\n      <td>NaN</td>\n      <td>NaN</td>\n      <td>4.721383e+09</td>\n      <td>NaN</td>\n      <td>NaN</td>\n      <td>NaN</td>\n      <td>NaN</td>\n    </tr>\n    <tr>\n      <th>...</th>\n      <td>...</td>\n      <td>...</td>\n      <td>...</td>\n      <td>...</td>\n      <td>...</td>\n      <td>...</td>\n      <td>...</td>\n      <td>...</td>\n      <td>...</td>\n      <td>...</td>\n      <td>...</td>\n      <td>...</td>\n      <td>...</td>\n      <td>...</td>\n      <td>...</td>\n      <td>...</td>\n      <td>...</td>\n      <td>...</td>\n      <td>...</td>\n      <td>...</td>\n      <td>...</td>\n    </tr>\n    <tr>\n      <th>OWID_WRL</th>\n      <td>NaN</td>\n      <td>World</td>\n      <td>2024-06-19</td>\n      <td>NaN</td>\n      <td>NaN</td>\n      <td>NaN</td>\n      <td>NaN</td>\n      <td>NaN</td>\n      <td>NaN</td>\n      <td>NaN</td>\n      <td>...</td>\n      <td>34.635</td>\n      <td>60.130</td>\n      <td>2.705</td>\n      <td>72.58</td>\n      <td>0.737</td>\n      <td>7.975105e+09</td>\n      <td>NaN</td>\n      <td>NaN</td>\n      <td>NaN</td>\n      <td>NaN</td>\n    </tr>\n    <tr>\n      <th>OWID_WRL</th>\n      <td>NaN</td>\n      <td>World</td>\n      <td>2024-06-20</td>\n      <td>NaN</td>\n      <td>NaN</td>\n      <td>NaN</td>\n      <td>NaN</td>\n      <td>NaN</td>\n      <td>NaN</td>\n      <td>NaN</td>\n      <td>...</td>\n      <td>34.635</td>\n      <td>60.130</td>\n      <td>2.705</td>\n      <td>72.58</td>\n      <td>0.737</td>\n      <td>7.975105e+09</td>\n      <td>NaN</td>\n      <td>NaN</td>\n      <td>NaN</td>\n      <td>NaN</td>\n    </tr>\n    <tr>\n      <th>OWID_WRL</th>\n      <td>NaN</td>\n      <td>World</td>\n      <td>2024-06-21</td>\n      <td>NaN</td>\n      <td>NaN</td>\n      <td>NaN</td>\n      <td>NaN</td>\n      <td>NaN</td>\n      <td>NaN</td>\n      <td>NaN</td>\n      <td>...</td>\n      <td>34.635</td>\n      <td>60.130</td>\n      <td>2.705</td>\n      <td>72.58</td>\n      <td>0.737</td>\n      <td>7.975105e+09</td>\n      <td>NaN</td>\n      <td>NaN</td>\n      <td>NaN</td>\n      <td>NaN</td>\n    </tr>\n    <tr>\n      <th>OWID_WRL</th>\n      <td>NaN</td>\n      <td>World</td>\n      <td>2024-06-22</td>\n      <td>NaN</td>\n      <td>NaN</td>\n      <td>NaN</td>\n      <td>NaN</td>\n      <td>NaN</td>\n      <td>NaN</td>\n      <td>NaN</td>\n      <td>...</td>\n      <td>34.635</td>\n      <td>60.130</td>\n      <td>2.705</td>\n      <td>72.58</td>\n      <td>0.737</td>\n      <td>7.975105e+09</td>\n      <td>NaN</td>\n      <td>NaN</td>\n      <td>NaN</td>\n      <td>NaN</td>\n    </tr>\n    <tr>\n      <th>ZWE</th>\n      <td>Africa</td>\n      <td>Zimbabwe</td>\n      <td>2023-07-30</td>\n      <td>265693.0</td>\n      <td>NaN</td>\n      <td>NaN</td>\n      <td>5712.0</td>\n      <td>1.0</td>\n      <td>0.143</td>\n      <td>16279.671</td>\n      <td>...</td>\n      <td>30.700</td>\n      <td>36.791</td>\n      <td>1.700</td>\n      <td>61.49</td>\n      <td>0.571</td>\n      <td>1.632054e+07</td>\n      <td>NaN</td>\n      <td>NaN</td>\n      <td>NaN</td>\n      <td>NaN</td>\n    </tr>\n  </tbody>\n</table>\n<p>11270 rows × 66 columns</p>\n</div>"
          },
          "metadata": {}
        }
      ],
      "execution_count": 25
    },
    {
      "cell_type": "code",
      "source": "#asignación definitiva de valores nulos\ndf.new_cases.fillna(value  = 0, inplace=True)",
      "metadata": {
        "trusted": true
      },
      "outputs": [],
      "execution_count": 28
    },
    {
      "cell_type": "code",
      "source": "#buscamos valores nulos NaN en new_cases\ndf[df.new_cases.isnull() ]",
      "metadata": {
        "trusted": true
      },
      "outputs": [
        {
          "execution_count": 29,
          "output_type": "execute_result",
          "data": {
            "text/plain": "Empty DataFrame\nColumns: [continent, location, date, total_cases, new_cases, new_cases_smoothed, total_deaths, new_deaths, new_deaths_smoothed, total_cases_per_million, new_cases_per_million, new_cases_smoothed_per_million, total_deaths_per_million, new_deaths_per_million, new_deaths_smoothed_per_million, reproduction_rate, icu_patients, icu_patients_per_million, hosp_patients, hosp_patients_per_million, weekly_icu_admissions, weekly_icu_admissions_per_million, weekly_hosp_admissions, weekly_hosp_admissions_per_million, total_tests, new_tests, total_tests_per_thousand, new_tests_per_thousand, new_tests_smoothed, new_tests_smoothed_per_thousand, positive_rate, tests_per_case, tests_units, total_vaccinations, people_vaccinated, people_fully_vaccinated, total_boosters, new_vaccinations, new_vaccinations_smoothed, total_vaccinations_per_hundred, people_vaccinated_per_hundred, people_fully_vaccinated_per_hundred, total_boosters_per_hundred, new_vaccinations_smoothed_per_million, new_people_vaccinated_smoothed, new_people_vaccinated_smoothed_per_hundred, stringency_index, population_density, median_age, aged_65_older, aged_70_older, gdp_per_capita, extreme_poverty, cardiovasc_death_rate, diabetes_prevalence, female_smokers, male_smokers, handwashing_facilities, hospital_beds_per_thousand, life_expectancy, human_development_index, population, excess_mortality_cumulative_absolute, excess_mortality_cumulative, excess_mortality, excess_mortality_cumulative_per_million]\nIndex: []\n\n[0 rows x 66 columns]",
            "text/html": "<div>\n<style scoped>\n    .dataframe tbody tr th:only-of-type {\n        vertical-align: middle;\n    }\n\n    .dataframe tbody tr th {\n        vertical-align: top;\n    }\n\n    .dataframe thead th {\n        text-align: right;\n    }\n</style>\n<table border=\"1\" class=\"dataframe\">\n  <thead>\n    <tr style=\"text-align: right;\">\n      <th></th>\n      <th>continent</th>\n      <th>location</th>\n      <th>date</th>\n      <th>total_cases</th>\n      <th>new_cases</th>\n      <th>new_cases_smoothed</th>\n      <th>total_deaths</th>\n      <th>new_deaths</th>\n      <th>new_deaths_smoothed</th>\n      <th>total_cases_per_million</th>\n      <th>...</th>\n      <th>male_smokers</th>\n      <th>handwashing_facilities</th>\n      <th>hospital_beds_per_thousand</th>\n      <th>life_expectancy</th>\n      <th>human_development_index</th>\n      <th>population</th>\n      <th>excess_mortality_cumulative_absolute</th>\n      <th>excess_mortality_cumulative</th>\n      <th>excess_mortality</th>\n      <th>excess_mortality_cumulative_per_million</th>\n    </tr>\n    <tr>\n      <th>iso_code</th>\n      <th></th>\n      <th></th>\n      <th></th>\n      <th></th>\n      <th></th>\n      <th></th>\n      <th></th>\n      <th></th>\n      <th></th>\n      <th></th>\n      <th></th>\n      <th></th>\n      <th></th>\n      <th></th>\n      <th></th>\n      <th></th>\n      <th></th>\n      <th></th>\n      <th></th>\n      <th></th>\n      <th></th>\n    </tr>\n  </thead>\n  <tbody>\n  </tbody>\n</table>\n<p>0 rows × 66 columns</p>\n</div>"
          },
          "metadata": {}
        }
      ],
      "execution_count": 29
    },
    {
      "cell_type": "markdown",
      "source": "---",
      "metadata": {}
    },
    {
      "cell_type": "markdown",
      "source": "#### Datos Nulos NaN en ingresos de PBI `gdp_per_capita`",
      "metadata": {}
    },
    {
      "cell_type": "code",
      "source": "df.groupby(\"location\").mean().gdp_per_capita\n\n",
      "metadata": {
        "trusted": true
      },
      "outputs": [
        {
          "name": "stderr",
          "text": "<ipython-input-32-5870e3d4ec67>:1: FutureWarning: The default value of numeric_only in DataFrameGroupBy.mean is deprecated. In a future version, numeric_only will default to False. Either specify numeric_only or select only columns which should be valid for the function.\n  df.groupby(\"location\").mean().gdp_per_capita\n",
          "output_type": "stream"
        },
        {
          "execution_count": 32,
          "output_type": "execute_result",
          "data": {
            "text/plain": "location\nAfghanistan        1803.987\nAfrica                  NaN\nAlbania           11803.431\nAlgeria           13913.839\nAmerican Samoa          NaN\n                    ...    \nWestern Sahara          NaN\nWorld             15469.207\nYemen              1479.147\nZambia             3689.251\nZimbabwe           1899.775\nName: gdp_per_capita, Length: 255, dtype: float64"
          },
          "metadata": {}
        }
      ],
      "execution_count": 32
    },
    {
      "cell_type": "code",
      "source": "# Hallamos el promedio de `gdp_per_capita`\npromedio_gdp = df.groupby(\"location\").mean().gdp_per_capita.mean()\npromedio_gdp",
      "metadata": {
        "trusted": true
      },
      "outputs": [
        {
          "name": "stderr",
          "text": "<ipython-input-34-e3529e891e82>:2: FutureWarning: The default value of numeric_only in DataFrameGroupBy.mean is deprecated. In a future version, numeric_only will default to False. Either specify numeric_only or select only columns which should be valid for the function.\n  promedio_gdp = df.groupby(\"location\").mean().gdp_per_capita.mean()\n",
          "output_type": "stream"
        },
        {
          "execution_count": 34,
          "output_type": "execute_result",
          "data": {
            "text/plain": "19173.61225510204"
          },
          "metadata": {}
        }
      ],
      "execution_count": 34
    },
    {
      "cell_type": "code",
      "source": "#Creamos una nueva columna con:\ndf[\"gdp_per_capita_not_nulls\"] = df[\"gdp_per_capita\"].fillna(promedio_gdp)\n",
      "metadata": {
        "trusted": true
      },
      "outputs": [],
      "execution_count": 36
    },
    {
      "cell_type": "code",
      "source": "df.info()",
      "metadata": {
        "trusted": true
      },
      "outputs": [
        {
          "name": "stdout",
          "text": "<class 'pandas.core.frame.DataFrame'>\nIndex: 407877 entries, AFG to ZWE\nData columns (total 67 columns):\n #   Column                                      Non-Null Count   Dtype  \n---  ------                                      --------------   -----  \n 0   continent                                   388365 non-null  object \n 1   location                                    407877 non-null  object \n 2   date                                        407877 non-null  object \n 3   total_cases                                 368836 non-null  float64\n 4   new_cases                                   407877 non-null  float64\n 5   new_cases_smoothed                          395377 non-null  float64\n 6   total_deaths                                346115 non-null  float64\n 7   new_deaths                                  397000 non-null  float64\n 8   new_deaths_smoothed                         395770 non-null  float64\n 9   total_cases_per_million                     368836 non-null  float64\n 10  new_cases_per_million                       396607 non-null  float64\n 11  new_cases_smoothed_per_million              395377 non-null  float64\n 12  total_deaths_per_million                    346115 non-null  float64\n 13  new_deaths_per_million                      397000 non-null  float64\n 14  new_deaths_smoothed_per_million             395770 non-null  float64\n 15  reproduction_rate                           184817 non-null  float64\n 16  icu_patients                                38967 non-null   float64\n 17  icu_patients_per_million                    38967 non-null   float64\n 18  hosp_patients                               40507 non-null   float64\n 19  hosp_patients_per_million                   40507 non-null   float64\n 20  weekly_icu_admissions                       10895 non-null   float64\n 21  weekly_icu_admissions_per_million           10895 non-null   float64\n 22  weekly_hosp_admissions                      24399 non-null   float64\n 23  weekly_hosp_admissions_per_million          24399 non-null   float64\n 24  total_tests                                 79387 non-null   float64\n 25  new_tests                                   75403 non-null   float64\n 26  total_tests_per_thousand                    79387 non-null   float64\n 27  new_tests_per_thousand                      75403 non-null   float64\n 28  new_tests_smoothed                          103965 non-null  float64\n 29  new_tests_smoothed_per_thousand             103965 non-null  float64\n 30  positive_rate                               95927 non-null   float64\n 31  tests_per_case                              94348 non-null   float64\n 32  tests_units                                 106788 non-null  object \n 33  total_vaccinations                          84714 non-null   float64\n 34  people_vaccinated                           80464 non-null   float64\n 35  people_fully_vaccinated                     77390 non-null   float64\n 36  total_boosters                              52907 non-null   float64\n 37  new_vaccinations                            70327 non-null   float64\n 38  new_vaccinations_smoothed                   194091 non-null  float64\n 39  total_vaccinations_per_hundred              84714 non-null   float64\n 40  people_vaccinated_per_hundred               80464 non-null   float64\n 41  people_fully_vaccinated_per_hundred         77390 non-null   float64\n 42  total_boosters_per_hundred                  52907 non-null   float64\n 43  new_vaccinations_smoothed_per_million       194091 non-null  float64\n 44  new_people_vaccinated_smoothed              191346 non-null  float64\n 45  new_people_vaccinated_smoothed_per_hundred  191346 non-null  float64\n 46  stringency_index                            197292 non-null  float64\n 47  population_density                          347126 non-null  float64\n 48  median_age                                  322587 non-null  float64\n 49  aged_65_older                               311530 non-null  float64\n 50  aged_70_older                               319351 non-null  float64\n 51  gdp_per_capita                              316384 non-null  float64\n 52  extreme_poverty                             203990 non-null  float64\n 53  cardiovasc_death_rate                       316993 non-null  float64\n 54  diabetes_prevalence                         333387 non-null  float64\n 55  female_smokers                              237981 non-null  float64\n 56  male_smokers                                234745 non-null  float64\n 57  handwashing_facilities                      155372 non-null  float64\n 58  hospital_beds_per_thousand                  280049 non-null  float64\n 59  life_expectancy                             375981 non-null  float64\n 60  human_development_index                     307499 non-null  float64\n 61  population                                  407877 non-null  float64\n 62  excess_mortality_cumulative_absolute        13290 non-null   float64\n 63  excess_mortality_cumulative                 13290 non-null   float64\n 64  excess_mortality                            13290 non-null   float64\n 65  excess_mortality_cumulative_per_million     13290 non-null   float64\n 66  gdp_per_capita_not_nulls                    407877 non-null  float64\ndtypes: float64(63), object(4)\nmemory usage: 212.0+ MB\n",
          "output_type": "stream"
        }
      ],
      "execution_count": 37
    },
    {
      "cell_type": "code",
      "source": "df.dropna().shape",
      "metadata": {
        "trusted": true
      },
      "outputs": [
        {
          "execution_count": 39,
          "output_type": "execute_result",
          "data": {
            "text/plain": "(0, 67)"
          },
          "metadata": {}
        }
      ],
      "execution_count": 39
    },
    {
      "cell_type": "markdown",
      "source": "### Preguntas?",
      "metadata": {}
    },
    {
      "cell_type": "markdown",
      "source": "### Cuál es el país con el mayor life_expectancy?",
      "metadata": {}
    },
    {
      "cell_type": "code",
      "source": "df.groupby(\"location\").mean().life_expectancy.sort_values(ascending=False)",
      "metadata": {
        "trusted": true
      },
      "outputs": [
        {
          "name": "stderr",
          "text": "<ipython-input-41-b7aa8eac682b>:1: FutureWarning: The default value of numeric_only in DataFrameGroupBy.mean is deprecated. In a future version, numeric_only will default to False. Either specify numeric_only or select only columns which should be valid for the function.\n  df.groupby(\"location\").mean().life_expectancy.sort_values(ascending=False)\n",
          "output_type": "stream"
        },
        {
          "execution_count": 41,
          "output_type": "execute_result",
          "data": {
            "text/plain": "location\nMonaco                 86.75\nSan Marino             84.97\nHong Kong              84.86\nJapan                  84.63\nMacao                  84.24\n                       ...  \nSaint Barthelemy         NaN\nScotland                 NaN\nSouth America            NaN\nUpper middle income      NaN\nWales                    NaN\nName: life_expectancy, Length: 255, dtype: float64"
          },
          "metadata": {}
        }
      ],
      "execution_count": 41
    },
    {
      "cell_type": "markdown",
      "source": "### Qué país tiene la menor cantidad de fumadores masculinos?",
      "metadata": {}
    },
    {
      "cell_type": "code",
      "source": "df.groupby(\"location\").mean().male_smokers.sort_values(ascending=True)",
      "metadata": {
        "trusted": true
      },
      "outputs": [
        {
          "name": "stderr",
          "text": "<ipython-input-44-11b600d16d96>:1: FutureWarning: The default value of numeric_only in DataFrameGroupBy.mean is deprecated. In a future version, numeric_only will default to False. Either specify numeric_only or select only columns which should be valid for the function.\n  df.groupby(\"location\").mean().male_smokers.sort_values(ascending=True)\n",
          "output_type": "stream"
        },
        {
          "execution_count": 44,
          "output_type": "execute_result",
          "data": {
            "text/plain": "location\nGhana                 7.7\nEthiopia              8.5\nPanama                9.9\nNigeria              10.8\nEritrea              11.4\n                     ... \nVatican               NaN\nVenezuela             NaN\nWales                 NaN\nWallis and Futuna     NaN\nWestern Sahara        NaN\nName: male_smokers, Length: 255, dtype: float64"
          },
          "metadata": {}
        }
      ],
      "execution_count": 44
    },
    {
      "cell_type": "markdown",
      "source": "### Qué país tiene la mayor cantidad de fallecimientos diarios a la fecha?",
      "metadata": {}
    },
    {
      "cell_type": "code",
      "source": "df.groupby(\"location\").date.max()",
      "metadata": {
        "trusted": true
      },
      "outputs": [
        {
          "execution_count": 45,
          "output_type": "execute_result",
          "data": {
            "text/plain": "location\nAfghanistan       2024-06-09\nAfrica            2024-06-09\nAlbania           2024-06-09\nAlgeria           2024-06-09\nAmerican Samoa    2024-06-09\n                     ...    \nWestern Sahara    2022-04-20\nWorld             2024-06-22\nYemen             2024-06-09\nZambia            2024-06-09\nZimbabwe          2024-06-09\nName: date, Length: 255, dtype: object"
          },
          "metadata": {}
        }
      ],
      "execution_count": 45
    },
    {
      "cell_type": "code",
      "source": "df[df.date == \"2021-25-09\" ].sort_values(\"new_deaths\", ascending =False)",
      "metadata": {
        "trusted": true
      },
      "outputs": [
        {
          "execution_count": 46,
          "output_type": "execute_result",
          "data": {
            "text/plain": "Empty DataFrame\nColumns: [continent, location, date, total_cases, new_cases, new_cases_smoothed, total_deaths, new_deaths, new_deaths_smoothed, total_cases_per_million, new_cases_per_million, new_cases_smoothed_per_million, total_deaths_per_million, new_deaths_per_million, new_deaths_smoothed_per_million, reproduction_rate, icu_patients, icu_patients_per_million, hosp_patients, hosp_patients_per_million, weekly_icu_admissions, weekly_icu_admissions_per_million, weekly_hosp_admissions, weekly_hosp_admissions_per_million, total_tests, new_tests, total_tests_per_thousand, new_tests_per_thousand, new_tests_smoothed, new_tests_smoothed_per_thousand, positive_rate, tests_per_case, tests_units, total_vaccinations, people_vaccinated, people_fully_vaccinated, total_boosters, new_vaccinations, new_vaccinations_smoothed, total_vaccinations_per_hundred, people_vaccinated_per_hundred, people_fully_vaccinated_per_hundred, total_boosters_per_hundred, new_vaccinations_smoothed_per_million, new_people_vaccinated_smoothed, new_people_vaccinated_smoothed_per_hundred, stringency_index, population_density, median_age, aged_65_older, aged_70_older, gdp_per_capita, extreme_poverty, cardiovasc_death_rate, diabetes_prevalence, female_smokers, male_smokers, handwashing_facilities, hospital_beds_per_thousand, life_expectancy, human_development_index, population, excess_mortality_cumulative_absolute, excess_mortality_cumulative, excess_mortality, excess_mortality_cumulative_per_million, gdp_per_capita_not_nulls]\nIndex: []\n\n[0 rows x 67 columns]",
            "text/html": "<div>\n<style scoped>\n    .dataframe tbody tr th:only-of-type {\n        vertical-align: middle;\n    }\n\n    .dataframe tbody tr th {\n        vertical-align: top;\n    }\n\n    .dataframe thead th {\n        text-align: right;\n    }\n</style>\n<table border=\"1\" class=\"dataframe\">\n  <thead>\n    <tr style=\"text-align: right;\">\n      <th></th>\n      <th>continent</th>\n      <th>location</th>\n      <th>date</th>\n      <th>total_cases</th>\n      <th>new_cases</th>\n      <th>new_cases_smoothed</th>\n      <th>total_deaths</th>\n      <th>new_deaths</th>\n      <th>new_deaths_smoothed</th>\n      <th>total_cases_per_million</th>\n      <th>...</th>\n      <th>handwashing_facilities</th>\n      <th>hospital_beds_per_thousand</th>\n      <th>life_expectancy</th>\n      <th>human_development_index</th>\n      <th>population</th>\n      <th>excess_mortality_cumulative_absolute</th>\n      <th>excess_mortality_cumulative</th>\n      <th>excess_mortality</th>\n      <th>excess_mortality_cumulative_per_million</th>\n      <th>gdp_per_capita_not_nulls</th>\n    </tr>\n    <tr>\n      <th>iso_code</th>\n      <th></th>\n      <th></th>\n      <th></th>\n      <th></th>\n      <th></th>\n      <th></th>\n      <th></th>\n      <th></th>\n      <th></th>\n      <th></th>\n      <th></th>\n      <th></th>\n      <th></th>\n      <th></th>\n      <th></th>\n      <th></th>\n      <th></th>\n      <th></th>\n      <th></th>\n      <th></th>\n      <th></th>\n    </tr>\n  </thead>\n  <tbody>\n  </tbody>\n</table>\n<p>0 rows × 67 columns</p>\n</div>"
          },
          "metadata": {}
        }
      ],
      "execution_count": 46
    },
    {
      "cell_type": "markdown",
      "source": "---",
      "metadata": {}
    },
    {
      "cell_type": "markdown",
      "source": "## Visualización de los datos, librería `Plotly`",
      "metadata": {}
    },
    {
      "cell_type": "code",
      "source": "#Librería plotly\nimport plotly.express as px",
      "metadata": {},
      "outputs": [],
      "execution_count": null
    },
    {
      "cell_type": "code",
      "source": "df.head()",
      "metadata": {
        "trusted": true
      },
      "outputs": [
        {
          "execution_count": 47,
          "output_type": "execute_result",
          "data": {
            "text/plain": "         continent     location        date  total_cases  new_cases  \\\niso_code                                                              \nAFG           Asia  Afghanistan  2020-01-05          NaN        0.0   \nAFG           Asia  Afghanistan  2020-01-06          NaN        0.0   \nAFG           Asia  Afghanistan  2020-01-07          NaN        0.0   \nAFG           Asia  Afghanistan  2020-01-08          NaN        0.0   \nAFG           Asia  Afghanistan  2020-01-09          NaN        0.0   \n\n          new_cases_smoothed  total_deaths  new_deaths  new_deaths_smoothed  \\\niso_code                                                                      \nAFG                      NaN           NaN         0.0                  NaN   \nAFG                      NaN           NaN         0.0                  NaN   \nAFG                      NaN           NaN         0.0                  NaN   \nAFG                      NaN           NaN         0.0                  NaN   \nAFG                      NaN           NaN         0.0                  NaN   \n\n          total_cases_per_million  ...  handwashing_facilities  \\\niso_code                           ...                           \nAFG                           NaN  ...                  37.746   \nAFG                           NaN  ...                  37.746   \nAFG                           NaN  ...                  37.746   \nAFG                           NaN  ...                  37.746   \nAFG                           NaN  ...                  37.746   \n\n          hospital_beds_per_thousand  life_expectancy  \\\niso_code                                                \nAFG                              0.5            64.83   \nAFG                              0.5            64.83   \nAFG                              0.5            64.83   \nAFG                              0.5            64.83   \nAFG                              0.5            64.83   \n\n          human_development_index  population  \\\niso_code                                        \nAFG                         0.511  41128772.0   \nAFG                         0.511  41128772.0   \nAFG                         0.511  41128772.0   \nAFG                         0.511  41128772.0   \nAFG                         0.511  41128772.0   \n\n          excess_mortality_cumulative_absolute  excess_mortality_cumulative  \\\niso_code                                                                      \nAFG                                        NaN                          NaN   \nAFG                                        NaN                          NaN   \nAFG                                        NaN                          NaN   \nAFG                                        NaN                          NaN   \nAFG                                        NaN                          NaN   \n\n          excess_mortality  excess_mortality_cumulative_per_million  \\\niso_code                                                              \nAFG                    NaN                                      NaN   \nAFG                    NaN                                      NaN   \nAFG                    NaN                                      NaN   \nAFG                    NaN                                      NaN   \nAFG                    NaN                                      NaN   \n\n          gdp_per_capita_not_nulls  \niso_code                            \nAFG                       1803.987  \nAFG                       1803.987  \nAFG                       1803.987  \nAFG                       1803.987  \nAFG                       1803.987  \n\n[5 rows x 67 columns]",
            "text/html": "<div>\n<style scoped>\n    .dataframe tbody tr th:only-of-type {\n        vertical-align: middle;\n    }\n\n    .dataframe tbody tr th {\n        vertical-align: top;\n    }\n\n    .dataframe thead th {\n        text-align: right;\n    }\n</style>\n<table border=\"1\" class=\"dataframe\">\n  <thead>\n    <tr style=\"text-align: right;\">\n      <th></th>\n      <th>continent</th>\n      <th>location</th>\n      <th>date</th>\n      <th>total_cases</th>\n      <th>new_cases</th>\n      <th>new_cases_smoothed</th>\n      <th>total_deaths</th>\n      <th>new_deaths</th>\n      <th>new_deaths_smoothed</th>\n      <th>total_cases_per_million</th>\n      <th>...</th>\n      <th>handwashing_facilities</th>\n      <th>hospital_beds_per_thousand</th>\n      <th>life_expectancy</th>\n      <th>human_development_index</th>\n      <th>population</th>\n      <th>excess_mortality_cumulative_absolute</th>\n      <th>excess_mortality_cumulative</th>\n      <th>excess_mortality</th>\n      <th>excess_mortality_cumulative_per_million</th>\n      <th>gdp_per_capita_not_nulls</th>\n    </tr>\n    <tr>\n      <th>iso_code</th>\n      <th></th>\n      <th></th>\n      <th></th>\n      <th></th>\n      <th></th>\n      <th></th>\n      <th></th>\n      <th></th>\n      <th></th>\n      <th></th>\n      <th></th>\n      <th></th>\n      <th></th>\n      <th></th>\n      <th></th>\n      <th></th>\n      <th></th>\n      <th></th>\n      <th></th>\n      <th></th>\n      <th></th>\n    </tr>\n  </thead>\n  <tbody>\n    <tr>\n      <th>AFG</th>\n      <td>Asia</td>\n      <td>Afghanistan</td>\n      <td>2020-01-05</td>\n      <td>NaN</td>\n      <td>0.0</td>\n      <td>NaN</td>\n      <td>NaN</td>\n      <td>0.0</td>\n      <td>NaN</td>\n      <td>NaN</td>\n      <td>...</td>\n      <td>37.746</td>\n      <td>0.5</td>\n      <td>64.83</td>\n      <td>0.511</td>\n      <td>41128772.0</td>\n      <td>NaN</td>\n      <td>NaN</td>\n      <td>NaN</td>\n      <td>NaN</td>\n      <td>1803.987</td>\n    </tr>\n    <tr>\n      <th>AFG</th>\n      <td>Asia</td>\n      <td>Afghanistan</td>\n      <td>2020-01-06</td>\n      <td>NaN</td>\n      <td>0.0</td>\n      <td>NaN</td>\n      <td>NaN</td>\n      <td>0.0</td>\n      <td>NaN</td>\n      <td>NaN</td>\n      <td>...</td>\n      <td>37.746</td>\n      <td>0.5</td>\n      <td>64.83</td>\n      <td>0.511</td>\n      <td>41128772.0</td>\n      <td>NaN</td>\n      <td>NaN</td>\n      <td>NaN</td>\n      <td>NaN</td>\n      <td>1803.987</td>\n    </tr>\n    <tr>\n      <th>AFG</th>\n      <td>Asia</td>\n      <td>Afghanistan</td>\n      <td>2020-01-07</td>\n      <td>NaN</td>\n      <td>0.0</td>\n      <td>NaN</td>\n      <td>NaN</td>\n      <td>0.0</td>\n      <td>NaN</td>\n      <td>NaN</td>\n      <td>...</td>\n      <td>37.746</td>\n      <td>0.5</td>\n      <td>64.83</td>\n      <td>0.511</td>\n      <td>41128772.0</td>\n      <td>NaN</td>\n      <td>NaN</td>\n      <td>NaN</td>\n      <td>NaN</td>\n      <td>1803.987</td>\n    </tr>\n    <tr>\n      <th>AFG</th>\n      <td>Asia</td>\n      <td>Afghanistan</td>\n      <td>2020-01-08</td>\n      <td>NaN</td>\n      <td>0.0</td>\n      <td>NaN</td>\n      <td>NaN</td>\n      <td>0.0</td>\n      <td>NaN</td>\n      <td>NaN</td>\n      <td>...</td>\n      <td>37.746</td>\n      <td>0.5</td>\n      <td>64.83</td>\n      <td>0.511</td>\n      <td>41128772.0</td>\n      <td>NaN</td>\n      <td>NaN</td>\n      <td>NaN</td>\n      <td>NaN</td>\n      <td>1803.987</td>\n    </tr>\n    <tr>\n      <th>AFG</th>\n      <td>Asia</td>\n      <td>Afghanistan</td>\n      <td>2020-01-09</td>\n      <td>NaN</td>\n      <td>0.0</td>\n      <td>NaN</td>\n      <td>NaN</td>\n      <td>0.0</td>\n      <td>NaN</td>\n      <td>NaN</td>\n      <td>...</td>\n      <td>37.746</td>\n      <td>0.5</td>\n      <td>64.83</td>\n      <td>0.511</td>\n      <td>41128772.0</td>\n      <td>NaN</td>\n      <td>NaN</td>\n      <td>NaN</td>\n      <td>NaN</td>\n      <td>1803.987</td>\n    </tr>\n  </tbody>\n</table>\n<p>5 rows × 67 columns</p>\n</div>"
          },
          "metadata": {}
        }
      ],
      "execution_count": 47
    },
    {
      "cell_type": "code",
      "source": "df.columns",
      "metadata": {
        "trusted": true
      },
      "outputs": [
        {
          "execution_count": 48,
          "output_type": "execute_result",
          "data": {
            "text/plain": "Index(['continent', 'location', 'date', 'total_cases', 'new_cases',\n       'new_cases_smoothed', 'total_deaths', 'new_deaths',\n       'new_deaths_smoothed', 'total_cases_per_million',\n       'new_cases_per_million', 'new_cases_smoothed_per_million',\n       'total_deaths_per_million', 'new_deaths_per_million',\n       'new_deaths_smoothed_per_million', 'reproduction_rate', 'icu_patients',\n       'icu_patients_per_million', 'hosp_patients',\n       'hosp_patients_per_million', 'weekly_icu_admissions',\n       'weekly_icu_admissions_per_million', 'weekly_hosp_admissions',\n       'weekly_hosp_admissions_per_million', 'total_tests', 'new_tests',\n       'total_tests_per_thousand', 'new_tests_per_thousand',\n       'new_tests_smoothed', 'new_tests_smoothed_per_thousand',\n       'positive_rate', 'tests_per_case', 'tests_units', 'total_vaccinations',\n       'people_vaccinated', 'people_fully_vaccinated', 'total_boosters',\n       'new_vaccinations', 'new_vaccinations_smoothed',\n       'total_vaccinations_per_hundred', 'people_vaccinated_per_hundred',\n       'people_fully_vaccinated_per_hundred', 'total_boosters_per_hundred',\n       'new_vaccinations_smoothed_per_million',\n       'new_people_vaccinated_smoothed',\n       'new_people_vaccinated_smoothed_per_hundred', 'stringency_index',\n       'population_density', 'median_age', 'aged_65_older', 'aged_70_older',\n       'gdp_per_capita', 'extreme_poverty', 'cardiovasc_death_rate',\n       'diabetes_prevalence', 'female_smokers', 'male_smokers',\n       'handwashing_facilities', 'hospital_beds_per_thousand',\n       'life_expectancy', 'human_development_index', 'population',\n       'excess_mortality_cumulative_absolute', 'excess_mortality_cumulative',\n       'excess_mortality', 'excess_mortality_cumulative_per_million',\n       'gdp_per_capita_not_nulls'],\n      dtype='object')"
          },
          "metadata": {}
        }
      ],
      "execution_count": 48
    },
    {
      "cell_type": "code",
      "source": "#Creamos nuevo DataFrame con columnas 'life_expectancy', 'diabetes_prevalence', 'continent'\ncv = df[ [\"life_expectancy\",\"diabetes_prevalence\", \"continent\"] ].dropna()\n#Gráfica de Dispersión con las 03 columnas\nfig = px.scatter(cv, x = \"life_expectancy\", y = \"diabetes_prevalence\", color =\"continent\")\nfig.show()\n",
      "metadata": {
        "trusted": true
      },
      "outputs": [
        {
          "ename": "<class 'NameError'>",
          "evalue": "name 'px' is not defined",
          "traceback": [
            "\u001b[0;31m---------------------------------------------------------------------------\u001b[0m",
            "\u001b[0;31mNameError\u001b[0m                                 Traceback (most recent call last)",
            "Cell \u001b[0;32mIn[55], line 4\u001b[0m\n\u001b[1;32m      2\u001b[0m cv \u001b[38;5;241m=\u001b[39m df[ [\u001b[38;5;124m\"\u001b[39m\u001b[38;5;124mlife_expectancy\u001b[39m\u001b[38;5;124m\"\u001b[39m,\u001b[38;5;124m\"\u001b[39m\u001b[38;5;124mdiabetes_prevalence\u001b[39m\u001b[38;5;124m\"\u001b[39m, \u001b[38;5;124m\"\u001b[39m\u001b[38;5;124mcontinent\u001b[39m\u001b[38;5;124m\"\u001b[39m] ]\u001b[38;5;241m.\u001b[39mdropna()\n\u001b[1;32m      3\u001b[0m \u001b[38;5;66;03m#Gráfica de Dispersión con las 03 columnas\u001b[39;00m\n\u001b[0;32m----> 4\u001b[0m fig \u001b[38;5;241m=\u001b[39m \u001b[43mpx\u001b[49m\u001b[38;5;241m.\u001b[39mscatter(cv, x \u001b[38;5;241m=\u001b[39m \u001b[38;5;124m\"\u001b[39m\u001b[38;5;124mlife_expectancy\u001b[39m\u001b[38;5;124m\"\u001b[39m, y \u001b[38;5;241m=\u001b[39m \u001b[38;5;124m\"\u001b[39m\u001b[38;5;124mdiabetes_prevalence\u001b[39m\u001b[38;5;124m\"\u001b[39m, color \u001b[38;5;241m=\u001b[39m\u001b[38;5;124m\"\u001b[39m\u001b[38;5;124mcontinent\u001b[39m\u001b[38;5;124m\"\u001b[39m)\n\u001b[1;32m      5\u001b[0m fig\u001b[38;5;241m.\u001b[39mshow()\n",
            "\u001b[0;31mNameError\u001b[0m: name 'px' is not defined"
          ],
          "output_type": "error"
        }
      ],
      "execution_count": 55
    },
    {
      "cell_type": "code",
      "source": "cv.head()",
      "metadata": {
        "trusted": true
      },
      "outputs": [
        {
          "execution_count": 56,
          "output_type": "execute_result",
          "data": {
            "text/plain": "          life_expectancy  diabetes_prevalence continent\niso_code                                                \nAFG                 64.83                 9.59      Asia\nAFG                 64.83                 9.59      Asia\nAFG                 64.83                 9.59      Asia\nAFG                 64.83                 9.59      Asia\nAFG                 64.83                 9.59      Asia",
            "text/html": "<div>\n<style scoped>\n    .dataframe tbody tr th:only-of-type {\n        vertical-align: middle;\n    }\n\n    .dataframe tbody tr th {\n        vertical-align: top;\n    }\n\n    .dataframe thead th {\n        text-align: right;\n    }\n</style>\n<table border=\"1\" class=\"dataframe\">\n  <thead>\n    <tr style=\"text-align: right;\">\n      <th></th>\n      <th>life_expectancy</th>\n      <th>diabetes_prevalence</th>\n      <th>continent</th>\n    </tr>\n    <tr>\n      <th>iso_code</th>\n      <th></th>\n      <th></th>\n      <th></th>\n    </tr>\n  </thead>\n  <tbody>\n    <tr>\n      <th>AFG</th>\n      <td>64.83</td>\n      <td>9.59</td>\n      <td>Asia</td>\n    </tr>\n    <tr>\n      <th>AFG</th>\n      <td>64.83</td>\n      <td>9.59</td>\n      <td>Asia</td>\n    </tr>\n    <tr>\n      <th>AFG</th>\n      <td>64.83</td>\n      <td>9.59</td>\n      <td>Asia</td>\n    </tr>\n    <tr>\n      <th>AFG</th>\n      <td>64.83</td>\n      <td>9.59</td>\n      <td>Asia</td>\n    </tr>\n    <tr>\n      <th>AFG</th>\n      <td>64.83</td>\n      <td>9.59</td>\n      <td>Asia</td>\n    </tr>\n  </tbody>\n</table>\n</div>"
          },
          "metadata": {}
        }
      ],
      "execution_count": 56
    },
    {
      "cell_type": "code",
      "source": "#Creamos nuevo DataFrame con columnas 'life_expectancy', 'diabetes_prevalence', 'continent'\n#'population', 'location'\ngap = df[[\"life_expectancy\", \"diabetes_prevalence\" , \"continent\",\n         \"population\", \"location\"]]dropna()\n\n",
      "metadata": {},
      "outputs": [],
      "execution_count": null
    },
    {
      "cell_type": "code",
      "source": "#Grafica de Dispersión con la nueva data\nfig = px.scatter(cv, x = \"life_expectancy\", y = \"diabetes_prevalence\", color =\"continent\",\n                size = \"population\",hover_name=\"location\")\n\nfig.show()\n",
      "metadata": {
        "trusted": true
      },
      "outputs": [
        {
          "ename": "<class 'NameError'>",
          "evalue": "name 'px' is not defined",
          "traceback": [
            "\u001b[0;31m---------------------------------------------------------------------------\u001b[0m",
            "\u001b[0;31mNameError\u001b[0m                                 Traceback (most recent call last)",
            "Cell \u001b[0;32mIn[58], line 2\u001b[0m\n\u001b[1;32m      1\u001b[0m \u001b[38;5;66;03m#Grafica de Dispersión con la nueva data\u001b[39;00m\n\u001b[0;32m----> 2\u001b[0m fig \u001b[38;5;241m=\u001b[39m \u001b[43mpx\u001b[49m\u001b[38;5;241m.\u001b[39mscatter(cv, x \u001b[38;5;241m=\u001b[39m \u001b[38;5;124m\"\u001b[39m\u001b[38;5;124mlife_expectancy\u001b[39m\u001b[38;5;124m\"\u001b[39m, y \u001b[38;5;241m=\u001b[39m \u001b[38;5;124m\"\u001b[39m\u001b[38;5;124mdiabetes_prevalence\u001b[39m\u001b[38;5;124m\"\u001b[39m, color \u001b[38;5;241m=\u001b[39m\u001b[38;5;124m\"\u001b[39m\u001b[38;5;124mcontinent\u001b[39m\u001b[38;5;124m\"\u001b[39m,\n\u001b[1;32m      3\u001b[0m                 size \u001b[38;5;241m=\u001b[39m \u001b[38;5;124m\"\u001b[39m\u001b[38;5;124mpopulation\u001b[39m\u001b[38;5;124m\"\u001b[39m,hover_name\u001b[38;5;241m=\u001b[39m\u001b[38;5;124m\"\u001b[39m\u001b[38;5;124mlocation\u001b[39m\u001b[38;5;124m\"\u001b[39m)\n\u001b[1;32m      5\u001b[0m fig\u001b[38;5;241m.\u001b[39mshow()\n",
            "\u001b[0;31mNameError\u001b[0m: name 'px' is not defined"
          ],
          "output_type": "error"
        }
      ],
      "execution_count": 58
    },
    {
      "cell_type": "code",
      "source": "#cambiamos el rango de la grafica\nfig = px.scatter(cv, x = \"life_expectancy\", y = \"diabetes_prevalence\", color =\"continent\",\n                size = \"population\",hover_name=\"location\", range_y=[ 5,20], range_x [ 65,80])\n\nfig.show()",
      "metadata": {
        "trusted": true
      },
      "outputs": [
        {
          "ename": "<class 'SyntaxError'>",
          "evalue": "positional argument follows keyword argument (<ipython-input-59-cab6b91d8bfb>, line 3)",
          "traceback": [
            "\u001b[0;36m  Cell \u001b[0;32mIn[59], line 3\u001b[0;36m\u001b[0m\n\u001b[0;31m    size = \"population\",hover_name=\"location\", range_y=[ 5,20], range_x [ 65,80])\u001b[0m\n\u001b[0m                                                                                ^\u001b[0m\n\u001b[0;31mSyntaxError\u001b[0m\u001b[0;31m:\u001b[0m positional argument follows keyword argument\n"
          ],
          "output_type": "error"
        }
      ],
      "execution_count": 59
    },
    {
      "cell_type": "markdown",
      "source": "---",
      "metadata": {}
    },
    {
      "cell_type": "code",
      "source": "#Grafica de pie total de casos el dia 28 mayo 2021.... (Fecha Actualizada)\ndf[df.date == \"2021-05-29\" ].groupby(\"continent\").sum().total_cases\n",
      "metadata": {
        "trusted": true
      },
      "outputs": [
        {
          "name": "stderr",
          "text": "<ipython-input-60-cc0f3556ef17>:2: FutureWarning: The default value of numeric_only in DataFrameGroupBy.sum is deprecated. In a future version, numeric_only will default to False. Either specify numeric_only or select only columns which should be valid for the function.\n  df[df.date == \"2021-05-29\" ].groupby(\"continent\").sum().total_cases\n",
          "output_type": "stream"
        },
        {
          "execution_count": 60,
          "output_type": "execute_result",
          "data": {
            "text/plain": "continent\nAfrica            4800901.0\nAsia             48795335.0\nEurope           46193226.0\nNorth America    38505260.0\nOceania             75304.0\nSouth America    27688564.0\nName: total_cases, dtype: float64"
          },
          "metadata": {}
        }
      ],
      "execution_count": 60
    },
    {
      "cell_type": "code",
      "source": "#A partir de groupby creamos un DataFrame\ndf[ df.date == \"2021-05-29\"].groupby(\"continent\").sum().total_cases.reset_index()\n",
      "metadata": {
        "trusted": true
      },
      "outputs": [
        {
          "name": "stderr",
          "text": "<ipython-input-61-0faa54f17e93>:2: FutureWarning: The default value of numeric_only in DataFrameGroupBy.sum is deprecated. In a future version, numeric_only will default to False. Either specify numeric_only or select only columns which should be valid for the function.\n  df[ df.date == \"2021-05-29\"].groupby(\"continent\").sum().total_cases.reset_index()\n",
          "output_type": "stream"
        },
        {
          "execution_count": 61,
          "output_type": "execute_result",
          "data": {
            "text/plain": "       continent  total_cases\n0         Africa    4800901.0\n1           Asia   48795335.0\n2         Europe   46193226.0\n3  North America   38505260.0\n4        Oceania      75304.0\n5  South America   27688564.0",
            "text/html": "<div>\n<style scoped>\n    .dataframe tbody tr th:only-of-type {\n        vertical-align: middle;\n    }\n\n    .dataframe tbody tr th {\n        vertical-align: top;\n    }\n\n    .dataframe thead th {\n        text-align: right;\n    }\n</style>\n<table border=\"1\" class=\"dataframe\">\n  <thead>\n    <tr style=\"text-align: right;\">\n      <th></th>\n      <th>continent</th>\n      <th>total_cases</th>\n    </tr>\n  </thead>\n  <tbody>\n    <tr>\n      <th>0</th>\n      <td>Africa</td>\n      <td>4800901.0</td>\n    </tr>\n    <tr>\n      <th>1</th>\n      <td>Asia</td>\n      <td>48795335.0</td>\n    </tr>\n    <tr>\n      <th>2</th>\n      <td>Europe</td>\n      <td>46193226.0</td>\n    </tr>\n    <tr>\n      <th>3</th>\n      <td>North America</td>\n      <td>38505260.0</td>\n    </tr>\n    <tr>\n      <th>4</th>\n      <td>Oceania</td>\n      <td>75304.0</td>\n    </tr>\n    <tr>\n      <th>5</th>\n      <td>South America</td>\n      <td>27688564.0</td>\n    </tr>\n  </tbody>\n</table>\n</div>"
          },
          "metadata": {}
        }
      ],
      "execution_count": 61
    },
    {
      "cell_type": "code",
      "source": "#Asignamos a un Nuevo Data Frame\n\npastel = df[ df.date == \"2021-05-29\"].groupby(\"continent\").sum().total_cases.reset_index()",
      "metadata": {},
      "outputs": [],
      "execution_count": null
    },
    {
      "cell_type": "code",
      "source": "#Graficamos pie\nfig = px.pie(pastel, values = \"total_cases\", names = \"continent\",\n            title = \"Casos Totales por C)\n\n\n",
      "metadata": {},
      "outputs": [],
      "execution_count": null
    },
    {
      "cell_type": "markdown",
      "source": "![linea 2](https://user-images.githubusercontent.com/19308295/115926262-2fb62980-a448-11eb-8189-c2f10e499944.png)",
      "metadata": {}
    },
    {
      "cell_type": "markdown",
      "source": "## <font color=#33A5FF>****EJERCICIOS****<tfont>",
      "metadata": {}
    },
    {
      "cell_type": "markdown",
      "source": "### Ejercicio 1 ",
      "metadata": {}
    },
    {
      "cell_type": "markdown",
      "source": "<div class=\"alert alert-info\">\nCrear un <strong>DataFrame</strong> desde la URL : \n    \n    \n    https://github.com/owid/covid-19-data/blob/master/public/data/owid-covid-data.csv?raw=true   \n    \nResponder las siguientes preguntas :\n</div>",
      "metadata": {}
    },
    {
      "cell_type": "markdown",
      "source": "<div class=\"well\">\n   \n   1.-Que <strong>paises</strong> se encuentran en el DataFrame.\n   \n   2.-Cuantos registros hay por <strong>continente</strong>\n    \n   3.-Cuantos <strong>nuevos casos</strong> hubo como máximo en una fecha reportada por cada país?\n    \n   4.-Cuál es el país con el mayor <strong>GDP per cápita (PBI)</strong>?\n   \n   5.-Qué país tiene la mayor cantidad de <strong>fumadoras femeninas</strong>? \n    \n   6.-Qué país tiene la mayor cantidad de <strong>muertes por millón</strong>? \n    \n   7.-Qué país ha tomado las medidas <strong>más estrictas hasta ahora</strong>? \n    \n   8.-Cual fue el país en alcanzar los 10.000 <strong>casos activos por primera vez</strong>?\n    \n   \n</div>",
      "metadata": {}
    },
    {
      "cell_type": "markdown",
      "source": "<div class=\"alert alert-info\">Creamos un nuevo <strong>DataFrame</strong> solo con los siguientes paises: <code>Peru, Guinea</code>. \n    \n   Respondemos las siguientes preguntas :\n\n</div>",
      "metadata": {}
    },
    {
      "cell_type": "markdown",
      "source": "<div class=\"well\">\n   \n   9.-<strong>Cuantas filas</strong> hay por país ?.\n   \n   10.-Cuál es la <strong>fecha máxima</strong> por país ?.\n    \n   11.-Cuál es la <strong>fecha mínima</strong> por país ?.\n    \n   12.-Cuantos registros hay por <strong>\"continente\"</strong>?\n   \n   13.-Cuantos <strong>nuevos casos hubo como máximo</strong> en una fecha reportada por cada país?? \n    \n   \n</div>",
      "metadata": {}
    },
    {
      "cell_type": "markdown",
      "source": "### Ejercicio 2",
      "metadata": {}
    },
    {
      "cell_type": "markdown",
      "source": "<div class=\"well\">Visualizar el <strong>nombre del/(los) jugador(es) de la NBA</strong> de mayor <strong>edad</strong> usar columna <strong>Age</strong>, desde el archivo <code>nba.csv</code> (Carpeta <code>data_ejercicios</code> ) debera visualizar por pantalla <strong>todos los datos de dicho(s) jugador(es)</strong> y adicionalmente guardar la información en el archivo <code>nba_adulto.csv</code>(Carpeta <code>data_ejercicios</code>).\n\n\n</div>",
      "metadata": {}
    },
    {
      "cell_type": "markdown",
      "source": "### Ejercicio 3 ",
      "metadata": {}
    },
    {
      "cell_type": "markdown",
      "source": "<div class=\"well\">Visualizar el <strong>nombre del/(los) jugador(es) de la NBA</strong> que han llevado estudios <strong>College</strong> en la ciudad de <strong>Kentucky</strong>, dato que se puede ubicar en la columna <strong>College</strong>, desde el archivo <code>nba.csv</code> (Carpeta <code>data_ejercicios </code> ) debera visualizar por pantalla <strong>todos los datos de dicho(s) jugador(es)</strong> y adicionalmente guardar la información en el archivo <code>nba_adulto.csv</code>.\n\n\n</div>",
      "metadata": {}
    },
    {
      "cell_type": "markdown",
      "source": "### Ejercicio 4",
      "metadata": {}
    },
    {
      "cell_type": "markdown",
      "source": "<div class=\"well\">Visualizar el <strong>nombre del/(los) estudiante(s) </strong> que deben viajar mas de <strong>01 hora</strong> dato que se puede ubicar en la columna <strong>traveltime</strong>, desde el archivo <code>student-mat.csv</code> (Carpeta <code>data_ejercicios </code> ) debera visualizar por pantalla <strong>todos los datos de dicho(s) alumno(s)</strong> y adicionalmente guardar la información en el archivo <code>student-travel.csv</code>.\n\n\n</div>",
      "metadata": {}
    },
    {
      "cell_type": "markdown",
      "source": "### Ejercicio 5 ",
      "metadata": {}
    },
    {
      "cell_type": "markdown",
      "source": "<div class=\"well\">Visualizar el <strong>nombre del/(los) estudiante(s) </strong> que no poseen <strong>internet</strong> dato que se puede ubicar en la columna <strong>internet</strong>, desde el archivo <code>student-mat.csv</code> (Carpeta <code>data_ejercicios </code> ) debera visualizar por pantalla <strong>todos los datos de dicho(s) alumno(s)</strong> y adicionalmente guardar la información en el archivo <code>student-internet.csv</code>.\n\n\n</div>",
      "metadata": {}
    },
    {
      "cell_type": "markdown",
      "source": "### Ejercicio 6 ",
      "metadata": {}
    },
    {
      "cell_type": "markdown",
      "source": "<div class=\"well\">Visualizar el <strong>nombre del/(los) estudiante(s) </strong> que son mayores de <strong>18 años</strong> dato que se puede ubicar en la columna <strong>age</strong>, desde el archivo <code>student-mat.csv</code> (Carpeta <code>data_ejercicios </code> ) debera visualizar por pantalla <strong>todos los datos de dicho(s) alumno(s)</strong> y adicionalmente guardar la información en el archivo <code>student-age.csv</code>.\n\n\n</div>",
      "metadata": {}
    },
    {
      "cell_type": "markdown",
      "source": "<div class=\"alert alert-warning\">Database <code>student-mat.csv</code> fue sacado de <strong>Kaggle</strong>\n    autores:\n    \n\n    \nP. Cortez and A. Silva. Using Data Mining to Predict Secondary School Student Performance. In A. Brito and J. Teixeira Eds., Proceedings of 5th FUture BUsiness TEChnology Conference (FUBUTEC 2008) pp. 5-12, Porto, Portugal, April, 2008, EUROSIS, ISBN 978-9077381-39-7.\n\n    \n    \n</div> ",
      "metadata": {}
    },
    {
      "cell_type": "markdown",
      "source": "<div class=\"alert alert-warning\">\n    \n    \nweb: https://www.kaggle.com/janiobachmann/math-students/data\n\n    \n</div> ",
      "metadata": {}
    },
    {
      "cell_type": "markdown",
      "source": "![linea 2](https://user-images.githubusercontent.com/19308295/115926262-2fb62980-a448-11eb-8189-c2f10e499944.png)",
      "metadata": {}
    },
    {
      "cell_type": "markdown",
      "source": "## <font color=#33A5FF>****BIBLIOGRAFÍA****<tfont>",
      "metadata": {}
    },
    {
      "cell_type": "markdown",
      "source": "[1] Guía de pandas oficial https://pandas.pydata.org/docs/user_guide/index.html\n\n[2] Python Pandas Tutorial: A Complete Introduction for Beginners https://bit.ly/2AQMQld\n\n[3] Guía para pandas https://pybonacci.org/2014/05/30/pandas-i/\n\n[4] Dataset variados https://www.kaggle.com/datasets",
      "metadata": {}
    },
    {
      "cell_type": "markdown",
      "source": "![linea 1](https://user-images.githubusercontent.com/19308295/115926252-2b8a0c00-a448-11eb-9d9c-b43beaf0ff68.png)",
      "metadata": {}
    }
  ]
}