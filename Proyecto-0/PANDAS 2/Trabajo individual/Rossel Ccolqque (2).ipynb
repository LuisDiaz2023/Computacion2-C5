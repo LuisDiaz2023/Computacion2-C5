{
  "metadata": {
    "kernelspec": {
      "name": "python",
      "display_name": "Python (Pyodide)",
      "language": "python"
    },
    "language_info": {
      "codemirror_mode": {
        "name": "python",
        "version": 3
      },
      "file_extension": ".py",
      "mimetype": "text/x-python",
      "name": "python",
      "nbconvert_exporter": "python",
      "pygments_lexer": "ipython3",
      "version": "3.8"
    }
  },
  "nbformat_minor": 4,
  "nbformat": 4,
  "cells": [
    {
      "cell_type": "markdown",
      "source": "<center> <h1>Universidad Nacional de San Agustín de Arequipa</h1> </center> \n<center> <h1>Escuela Profesional de Ingeniería de Telecomunicaciones</h1> </center> \n\n<center> <h1> </h1> </center> \n\n<center><img src=\"https://user-images.githubusercontent.com/19308295/115939517-f1c6fe80-a463-11eb-989c-812ab4942586.png\" width=\"380\" height=\"4200\"></center>",
      "metadata": {}
    },
    {
      "cell_type": "markdown",
      "source": "<center> <h2>Ingeniero Renzo Bolivar - Docente DAIE</h2> </center> ",
      "metadata": {}
    },
    {
      "cell_type": "markdown",
      "source": "<center> <h1>Curso : Computación 2</h1> </center> ",
      "metadata": {}
    },
    {
      "cell_type": "markdown",
      "source": "![linea 1](https://user-images.githubusercontent.com/19308295/115926252-2b8a0c00-a448-11eb-9d9c-b43beaf0ff68.png)",
      "metadata": {}
    },
    {
      "cell_type": "markdown",
      "source": "<center> <h1>PANDAS</h1> </center> ",
      "metadata": {}
    },
    {
      "cell_type": "markdown",
      "source": "![linea 1](https://user-images.githubusercontent.com/19308295/115926252-2b8a0c00-a448-11eb-9d9c-b43beaf0ff68.png)",
      "metadata": {}
    },
    {
      "cell_type": "markdown",
      "source": "# Descripción:",
      "metadata": {}
    },
    {
      "cell_type": "markdown",
      "source": "<div class=\"alert alert-info\">\n\nEn este notebook se explicarán la librería **Pandas** escrita como extensión de **NumPy** para la manipulación y análisis de datos en el lenguaje de programación Python. \n    \n</div>\n\n",
      "metadata": {}
    },
    {
      "cell_type": "markdown",
      "source": "# Objetivos:\n\n 1. Familiarizarce con creación de la estructura de tabla de datos **DataFrame.**\n 2. Manejo inicial de un **DataFrame.**\n 3. Importando archivos ***csv*** y manipulación inicial en **Pandas.**",
      "metadata": {}
    },
    {
      "cell_type": "markdown",
      "source": "\n[1. Limpieza de Datos](#1.-Limpieza-de-Datos)<br>\n[2. Frecuencia Simple de Datos](#2.-Frecuencia-Simple-de-Datos)<br>\n[3. Archivo csv \"NBA\" y Funciones de busqueda](#3.-Archivo-csv-\"NBA\"-y-Funciones-de-busqueda)<br>\n[4. Análisis de Datos y Visualización](#4.-Análisis-de-Datos-y-Visualización)<br>\n\n[EJERCICIOS](#EJERCICIOS)<br>\n[BIBLIOGRAFÍA](#BIBLIOGRAFÍA)<br>",
      "metadata": {}
    },
    {
      "cell_type": "markdown",
      "source": "![linea 1](https://user-images.githubusercontent.com/19308295/115926252-2b8a0c00-a448-11eb-9d9c-b43beaf0ff68.png)",
      "metadata": {}
    },
    {
      "cell_type": "markdown",
      "source": "![640px-Pandas_logo svg](https://user-images.githubusercontent.com/19308295/119273971-1b925300-bbd3-11eb-9705-fa3a404af0e1.png)",
      "metadata": {}
    },
    {
      "cell_type": "markdown",
      "source": "![linea 2](https://user-images.githubusercontent.com/19308295/115926262-2fb62980-a448-11eb-8189-c2f10e499944.png)",
      "metadata": {}
    },
    {
      "cell_type": "markdown",
      "source": "## <font color=#33A5FF>****1. Limpieza de Datos****<tfont>",
      "metadata": {}
    },
    {
      "cell_type": "code",
      "source": "#Librerías\nimport numpy as np\nimport pandas as pd",
      "metadata": {
        "trusted": true
      },
      "outputs": [],
      "execution_count": 4
    },
    {
      "cell_type": "markdown",
      "source": "Otro procedimiento que podemos hacer con **Pandas** es ***limpiar nuestros datos***, estos es muy importante en **Machine Learning** si queremos obtener resultados confiables.",
      "metadata": {}
    },
    {
      "cell_type": "code",
      "source": "#cargamos un archivo CSV separado por comas\nnotas2 = pd.read_csv('data/notas2.csv', ';')\n\n#leer 5 primeras lineas\nnotas2.head(10)\n",
      "metadata": {
        "trusted": true
      },
      "outputs": [
        {
          "name": "stderr",
          "text": "<ipython-input-6-87c31c293894>:2: FutureWarning: In a future version of pandas all arguments of read_csv except for the argument 'filepath_or_buffer' will be keyword-only.\n  notas2 = pd.read_csv('data/notas2.csv', ';')\n",
          "output_type": "stream"
        },
        {
          "execution_count": 6,
          "output_type": "execute_result",
          "data": {
            "text/plain": "   Alumno  Nota1  Nota2  Nota3  Promedio\n0   Maria   18.0   19.0     18        18\n1    Jose    NaN   15.0     11        13\n2    Juan   13.0   12.0     17        14\n3    Luis   10.0   19.0     18        16\n4  Carlos   16.0   12.0     10        13\n5    Rosa    NaN   14.0     10        12\n6   Jorge    9.0   11.0     19        13\n7  Victor    NaN   13.0     10        12\n8     Ana   18.0   19.0     11        16\n9     Luz   14.0   20.0     16        17",
            "text/html": "<div>\n<style scoped>\n    .dataframe tbody tr th:only-of-type {\n        vertical-align: middle;\n    }\n\n    .dataframe tbody tr th {\n        vertical-align: top;\n    }\n\n    .dataframe thead th {\n        text-align: right;\n    }\n</style>\n<table border=\"1\" class=\"dataframe\">\n  <thead>\n    <tr style=\"text-align: right;\">\n      <th></th>\n      <th>Alumno</th>\n      <th>Nota1</th>\n      <th>Nota2</th>\n      <th>Nota3</th>\n      <th>Promedio</th>\n    </tr>\n  </thead>\n  <tbody>\n    <tr>\n      <th>0</th>\n      <td>Maria</td>\n      <td>18.0</td>\n      <td>19.0</td>\n      <td>18</td>\n      <td>18</td>\n    </tr>\n    <tr>\n      <th>1</th>\n      <td>Jose</td>\n      <td>NaN</td>\n      <td>15.0</td>\n      <td>11</td>\n      <td>13</td>\n    </tr>\n    <tr>\n      <th>2</th>\n      <td>Juan</td>\n      <td>13.0</td>\n      <td>12.0</td>\n      <td>17</td>\n      <td>14</td>\n    </tr>\n    <tr>\n      <th>3</th>\n      <td>Luis</td>\n      <td>10.0</td>\n      <td>19.0</td>\n      <td>18</td>\n      <td>16</td>\n    </tr>\n    <tr>\n      <th>4</th>\n      <td>Carlos</td>\n      <td>16.0</td>\n      <td>12.0</td>\n      <td>10</td>\n      <td>13</td>\n    </tr>\n    <tr>\n      <th>5</th>\n      <td>Rosa</td>\n      <td>NaN</td>\n      <td>14.0</td>\n      <td>10</td>\n      <td>12</td>\n    </tr>\n    <tr>\n      <th>6</th>\n      <td>Jorge</td>\n      <td>9.0</td>\n      <td>11.0</td>\n      <td>19</td>\n      <td>13</td>\n    </tr>\n    <tr>\n      <th>7</th>\n      <td>Victor</td>\n      <td>NaN</td>\n      <td>13.0</td>\n      <td>10</td>\n      <td>12</td>\n    </tr>\n    <tr>\n      <th>8</th>\n      <td>Ana</td>\n      <td>18.0</td>\n      <td>19.0</td>\n      <td>11</td>\n      <td>16</td>\n    </tr>\n    <tr>\n      <th>9</th>\n      <td>Luz</td>\n      <td>14.0</td>\n      <td>20.0</td>\n      <td>16</td>\n      <td>17</td>\n    </tr>\n  </tbody>\n</table>\n</div>"
          },
          "metadata": {}
        }
      ],
      "execution_count": 6
    },
    {
      "cell_type": "markdown",
      "source": "<div class=\"alert alert-info\">Con <strong>Pandas</strong> podemos verificar si faltan valores en el conjunto de datos solamente tenemos que implementar <code>pd.isnull()</code>. Implementando esta instrucción nos devuelve una matriz booleana, una matriz de <strong>verdadero</strong> para valores faltantes y <strong>falso</strong> para valores no perdidos.</div>",
      "metadata": {}
    },
    {
      "cell_type": "code",
      "source": "#Verificar si hay datos nulos en el DataFrame\nprint('Datos nulos en el DataFrame:')\n\n\n#Imprimir nulos TRUE\nnotas2.isnull()\n",
      "metadata": {
        "trusted": true
      },
      "outputs": [
        {
          "name": "stdout",
          "text": "Datos nulos en el DataFrame:\n",
          "output_type": "stream"
        },
        {
          "execution_count": 7,
          "output_type": "execute_result",
          "data": {
            "text/plain": "    Alumno  Nota1  Nota2  Nota3  Promedio\n0    False  False  False  False     False\n1    False   True  False  False     False\n2    False  False  False  False     False\n3    False  False  False  False     False\n4    False  False  False  False     False\n5    False   True  False  False     False\n6    False  False  False  False     False\n7    False   True  False  False     False\n8    False  False  False  False     False\n9    False  False  False  False     False\n10   False   True  False  False     False\n11   False  False  False  False     False\n12   False   True  False  False     False\n13   False  False  False  False     False\n14   False  False  False  False     False\n15   False   True  False  False     False\n16   False  False  False  False     False\n17   False  False  False  False     False\n18   False  False  False  False     False\n19   False   True  False  False     False\n20   False  False  False  False     False\n21   False  False  False  False     False\n22   False  False  False  False     False\n23   False  False  False  False     False\n24   False  False  False  False     False\n25   False  False  False  False     False\n26   False  False  False  False     False\n27   False  False  False  False     False\n28   False  False   True  False     False\n29   False  False  False  False     False\n30   False  False  False  False     False\n31   False  False  False  False     False\n32   False   True  False  False     False\n33   False   True  False  False     False\n34   False  False   True  False     False\n35   False   True  False  False     False\n36   False  False  False  False     False\n37   False  False  False  False     False\n38   False  False  False  False     False\n39   False  False  False  False     False\n40   False  False  False  False     False\n41   False  False  False  False     False\n42   False  False  False  False     False\n43   False  False   True  False     False\n44   False   True  False  False     False\n45   False  False  False  False     False\n46   False  False  False  False     False\n47   False  False  False  False     False\n48   False  False  False  False     False\n49   False  False  False  False     False",
            "text/html": "<div>\n<style scoped>\n    .dataframe tbody tr th:only-of-type {\n        vertical-align: middle;\n    }\n\n    .dataframe tbody tr th {\n        vertical-align: top;\n    }\n\n    .dataframe thead th {\n        text-align: right;\n    }\n</style>\n<table border=\"1\" class=\"dataframe\">\n  <thead>\n    <tr style=\"text-align: right;\">\n      <th></th>\n      <th>Alumno</th>\n      <th>Nota1</th>\n      <th>Nota2</th>\n      <th>Nota3</th>\n      <th>Promedio</th>\n    </tr>\n  </thead>\n  <tbody>\n    <tr>\n      <th>0</th>\n      <td>False</td>\n      <td>False</td>\n      <td>False</td>\n      <td>False</td>\n      <td>False</td>\n    </tr>\n    <tr>\n      <th>1</th>\n      <td>False</td>\n      <td>True</td>\n      <td>False</td>\n      <td>False</td>\n      <td>False</td>\n    </tr>\n    <tr>\n      <th>2</th>\n      <td>False</td>\n      <td>False</td>\n      <td>False</td>\n      <td>False</td>\n      <td>False</td>\n    </tr>\n    <tr>\n      <th>3</th>\n      <td>False</td>\n      <td>False</td>\n      <td>False</td>\n      <td>False</td>\n      <td>False</td>\n    </tr>\n    <tr>\n      <th>4</th>\n      <td>False</td>\n      <td>False</td>\n      <td>False</td>\n      <td>False</td>\n      <td>False</td>\n    </tr>\n    <tr>\n      <th>5</th>\n      <td>False</td>\n      <td>True</td>\n      <td>False</td>\n      <td>False</td>\n      <td>False</td>\n    </tr>\n    <tr>\n      <th>6</th>\n      <td>False</td>\n      <td>False</td>\n      <td>False</td>\n      <td>False</td>\n      <td>False</td>\n    </tr>\n    <tr>\n      <th>7</th>\n      <td>False</td>\n      <td>True</td>\n      <td>False</td>\n      <td>False</td>\n      <td>False</td>\n    </tr>\n    <tr>\n      <th>8</th>\n      <td>False</td>\n      <td>False</td>\n      <td>False</td>\n      <td>False</td>\n      <td>False</td>\n    </tr>\n    <tr>\n      <th>9</th>\n      <td>False</td>\n      <td>False</td>\n      <td>False</td>\n      <td>False</td>\n      <td>False</td>\n    </tr>\n    <tr>\n      <th>10</th>\n      <td>False</td>\n      <td>True</td>\n      <td>False</td>\n      <td>False</td>\n      <td>False</td>\n    </tr>\n    <tr>\n      <th>11</th>\n      <td>False</td>\n      <td>False</td>\n      <td>False</td>\n      <td>False</td>\n      <td>False</td>\n    </tr>\n    <tr>\n      <th>12</th>\n      <td>False</td>\n      <td>True</td>\n      <td>False</td>\n      <td>False</td>\n      <td>False</td>\n    </tr>\n    <tr>\n      <th>13</th>\n      <td>False</td>\n      <td>False</td>\n      <td>False</td>\n      <td>False</td>\n      <td>False</td>\n    </tr>\n    <tr>\n      <th>14</th>\n      <td>False</td>\n      <td>False</td>\n      <td>False</td>\n      <td>False</td>\n      <td>False</td>\n    </tr>\n    <tr>\n      <th>15</th>\n      <td>False</td>\n      <td>True</td>\n      <td>False</td>\n      <td>False</td>\n      <td>False</td>\n    </tr>\n    <tr>\n      <th>16</th>\n      <td>False</td>\n      <td>False</td>\n      <td>False</td>\n      <td>False</td>\n      <td>False</td>\n    </tr>\n    <tr>\n      <th>17</th>\n      <td>False</td>\n      <td>False</td>\n      <td>False</td>\n      <td>False</td>\n      <td>False</td>\n    </tr>\n    <tr>\n      <th>18</th>\n      <td>False</td>\n      <td>False</td>\n      <td>False</td>\n      <td>False</td>\n      <td>False</td>\n    </tr>\n    <tr>\n      <th>19</th>\n      <td>False</td>\n      <td>True</td>\n      <td>False</td>\n      <td>False</td>\n      <td>False</td>\n    </tr>\n    <tr>\n      <th>20</th>\n      <td>False</td>\n      <td>False</td>\n      <td>False</td>\n      <td>False</td>\n      <td>False</td>\n    </tr>\n    <tr>\n      <th>21</th>\n      <td>False</td>\n      <td>False</td>\n      <td>False</td>\n      <td>False</td>\n      <td>False</td>\n    </tr>\n    <tr>\n      <th>22</th>\n      <td>False</td>\n      <td>False</td>\n      <td>False</td>\n      <td>False</td>\n      <td>False</td>\n    </tr>\n    <tr>\n      <th>23</th>\n      <td>False</td>\n      <td>False</td>\n      <td>False</td>\n      <td>False</td>\n      <td>False</td>\n    </tr>\n    <tr>\n      <th>24</th>\n      <td>False</td>\n      <td>False</td>\n      <td>False</td>\n      <td>False</td>\n      <td>False</td>\n    </tr>\n    <tr>\n      <th>25</th>\n      <td>False</td>\n      <td>False</td>\n      <td>False</td>\n      <td>False</td>\n      <td>False</td>\n    </tr>\n    <tr>\n      <th>26</th>\n      <td>False</td>\n      <td>False</td>\n      <td>False</td>\n      <td>False</td>\n      <td>False</td>\n    </tr>\n    <tr>\n      <th>27</th>\n      <td>False</td>\n      <td>False</td>\n      <td>False</td>\n      <td>False</td>\n      <td>False</td>\n    </tr>\n    <tr>\n      <th>28</th>\n      <td>False</td>\n      <td>False</td>\n      <td>True</td>\n      <td>False</td>\n      <td>False</td>\n    </tr>\n    <tr>\n      <th>29</th>\n      <td>False</td>\n      <td>False</td>\n      <td>False</td>\n      <td>False</td>\n      <td>False</td>\n    </tr>\n    <tr>\n      <th>30</th>\n      <td>False</td>\n      <td>False</td>\n      <td>False</td>\n      <td>False</td>\n      <td>False</td>\n    </tr>\n    <tr>\n      <th>31</th>\n      <td>False</td>\n      <td>False</td>\n      <td>False</td>\n      <td>False</td>\n      <td>False</td>\n    </tr>\n    <tr>\n      <th>32</th>\n      <td>False</td>\n      <td>True</td>\n      <td>False</td>\n      <td>False</td>\n      <td>False</td>\n    </tr>\n    <tr>\n      <th>33</th>\n      <td>False</td>\n      <td>True</td>\n      <td>False</td>\n      <td>False</td>\n      <td>False</td>\n    </tr>\n    <tr>\n      <th>34</th>\n      <td>False</td>\n      <td>False</td>\n      <td>True</td>\n      <td>False</td>\n      <td>False</td>\n    </tr>\n    <tr>\n      <th>35</th>\n      <td>False</td>\n      <td>True</td>\n      <td>False</td>\n      <td>False</td>\n      <td>False</td>\n    </tr>\n    <tr>\n      <th>36</th>\n      <td>False</td>\n      <td>False</td>\n      <td>False</td>\n      <td>False</td>\n      <td>False</td>\n    </tr>\n    <tr>\n      <th>37</th>\n      <td>False</td>\n      <td>False</td>\n      <td>False</td>\n      <td>False</td>\n      <td>False</td>\n    </tr>\n    <tr>\n      <th>38</th>\n      <td>False</td>\n      <td>False</td>\n      <td>False</td>\n      <td>False</td>\n      <td>False</td>\n    </tr>\n    <tr>\n      <th>39</th>\n      <td>False</td>\n      <td>False</td>\n      <td>False</td>\n      <td>False</td>\n      <td>False</td>\n    </tr>\n    <tr>\n      <th>40</th>\n      <td>False</td>\n      <td>False</td>\n      <td>False</td>\n      <td>False</td>\n      <td>False</td>\n    </tr>\n    <tr>\n      <th>41</th>\n      <td>False</td>\n      <td>False</td>\n      <td>False</td>\n      <td>False</td>\n      <td>False</td>\n    </tr>\n    <tr>\n      <th>42</th>\n      <td>False</td>\n      <td>False</td>\n      <td>False</td>\n      <td>False</td>\n      <td>False</td>\n    </tr>\n    <tr>\n      <th>43</th>\n      <td>False</td>\n      <td>False</td>\n      <td>True</td>\n      <td>False</td>\n      <td>False</td>\n    </tr>\n    <tr>\n      <th>44</th>\n      <td>False</td>\n      <td>True</td>\n      <td>False</td>\n      <td>False</td>\n      <td>False</td>\n    </tr>\n    <tr>\n      <th>45</th>\n      <td>False</td>\n      <td>False</td>\n      <td>False</td>\n      <td>False</td>\n      <td>False</td>\n    </tr>\n    <tr>\n      <th>46</th>\n      <td>False</td>\n      <td>False</td>\n      <td>False</td>\n      <td>False</td>\n      <td>False</td>\n    </tr>\n    <tr>\n      <th>47</th>\n      <td>False</td>\n      <td>False</td>\n      <td>False</td>\n      <td>False</td>\n      <td>False</td>\n    </tr>\n    <tr>\n      <th>48</th>\n      <td>False</td>\n      <td>False</td>\n      <td>False</td>\n      <td>False</td>\n      <td>False</td>\n    </tr>\n    <tr>\n      <th>49</th>\n      <td>False</td>\n      <td>False</td>\n      <td>False</td>\n      <td>False</td>\n      <td>False</td>\n    </tr>\n  </tbody>\n</table>\n</div>"
          },
          "metadata": {}
        }
      ],
      "execution_count": 7
    },
    {
      "cell_type": "markdown",
      "source": "<div class=\"alert alert-info\">Para obtener una <strong>suma de valores nulos o faltantes</strong> solamente se debe ejecutar la siguiente instrucción:</div>",
      "metadata": {}
    },
    {
      "cell_type": "code",
      "source": "#Suma de datos nulos en el DataFrame\nprint('Suma datos nulos en el DataFrame:')\n#imprimir\nnotas2.isnull().sum()\n",
      "metadata": {
        "trusted": true
      },
      "outputs": [
        {
          "name": "stdout",
          "text": "Suma datos nulos en el DataFrame:\n",
          "output_type": "stream"
        },
        {
          "execution_count": 8,
          "output_type": "execute_result",
          "data": {
            "text/plain": "Alumno       0\nNota1       11\nNota2        3\nNota3        0\nPromedio     0\ndtype: int64"
          },
          "metadata": {}
        }
      ],
      "execution_count": 8
    },
    {
      "cell_type": "markdown",
      "source": "<div class=\"alert alert-info\"> Ahora vamos a <strong>rellenar los valores perdidos</strong> con otros valores usando <code>df.fillna(x)</code> que reemplaza los valores perdidos con <code>x</code>, puede ser cualquier valor, inclusive se puede reemplar todos los valores nulos con la media de los datos.</div>",
      "metadata": {}
    },
    {
      "cell_type": "code",
      "source": "#Reemplaza los valores perdidos por un valor\nprint('Remplazar los valores perdidos por la media:')\n\n#Imprimir\nnotas2.fillna(5)",
      "metadata": {
        "trusted": true
      },
      "outputs": [
        {
          "name": "stdout",
          "text": "Remplazar los valores perdidos por la media:\n",
          "output_type": "stream"
        },
        {
          "execution_count": 9,
          "output_type": "execute_result",
          "data": {
            "text/plain": "       Alumno  Nota1  Nota2  Nota3  Promedio\n0       Maria   18.0   19.0     18        18\n1        Jose    5.0   15.0     11        13\n2        Juan   13.0   12.0     17        14\n3        Luis   10.0   19.0     18        16\n4      Carlos   16.0   12.0     10        13\n5        Rosa    5.0   14.0     10        12\n6       Jorge    9.0   11.0     19        13\n7      Victor    5.0   13.0     10        12\n8         Ana   18.0   19.0     11        16\n9         Luz   14.0   20.0     16        17\n10      Cesar    5.0   13.0     20        17\n11     Carmen   14.0   10.0     14        13\n12     Miguel    5.0   10.0     16        13\n13      Julio   11.0   10.0     14        12\n14      Jesus   12.0   13.0     10        12\n15      Pedro    5.0   11.0     15        13\n16     Manuel   15.0   20.0     20        18\n17      Juana    8.0   13.0     10        10\n18     Santos    7.0   17.0     14        13\n19    Segundo    5.0    8.0     20        14\n20       Jhon   10.0    8.0     10         9\n21      David    7.0    8.0     10         8\n22      Angel   18.0    9.0     11        13\n23      Julia    7.0   11.0     18        12\n24      Diego   20.0   18.0     18        19\n25       Flor   12.0   10.0     13        12\n26  Elizabeth   16.0   19.0     18        18\n27     Daniel   18.0   13.0     16        16\n28      Oscar   10.0    5.0     12        11\n29       Ruth    9.0   11.0     12        11\n30      Diana   16.0   13.0     14        14\n31      Marco    9.0   14.0     16        13\n32      Edwin    5.0   19.0     11        15\n33     Javier    5.0   16.0     10        13\n34     Walter   11.0    5.0     14        13\n35  Francisco    5.0   10.0     20        15\n36   Fernando   10.0   20.0     13        14\n37   Milagros   18.0   14.0     11        14\n38  Alejandro    9.0   17.0     14        13\n39       Raul   20.0   18.0     16        18\n40    Ricardo    9.0   17.0     17        14\n41       Alex   10.0   10.0     20        13\n42    Roberto   19.0   14.0     12        15\n43      Edgar   15.0    5.0     19        17\n44   Victoria    5.0   11.0     17        14\n45    Eduardo   12.0   19.0     12        14\n46      Mario   19.0   14.0     19        17\n47      Jaime   18.0   19.0     15        17\n48     Gloria   19.0   16.0     16        17\n49     Andrea   14.0   17.0     19        17",
            "text/html": "<div>\n<style scoped>\n    .dataframe tbody tr th:only-of-type {\n        vertical-align: middle;\n    }\n\n    .dataframe tbody tr th {\n        vertical-align: top;\n    }\n\n    .dataframe thead th {\n        text-align: right;\n    }\n</style>\n<table border=\"1\" class=\"dataframe\">\n  <thead>\n    <tr style=\"text-align: right;\">\n      <th></th>\n      <th>Alumno</th>\n      <th>Nota1</th>\n      <th>Nota2</th>\n      <th>Nota3</th>\n      <th>Promedio</th>\n    </tr>\n  </thead>\n  <tbody>\n    <tr>\n      <th>0</th>\n      <td>Maria</td>\n      <td>18.0</td>\n      <td>19.0</td>\n      <td>18</td>\n      <td>18</td>\n    </tr>\n    <tr>\n      <th>1</th>\n      <td>Jose</td>\n      <td>5.0</td>\n      <td>15.0</td>\n      <td>11</td>\n      <td>13</td>\n    </tr>\n    <tr>\n      <th>2</th>\n      <td>Juan</td>\n      <td>13.0</td>\n      <td>12.0</td>\n      <td>17</td>\n      <td>14</td>\n    </tr>\n    <tr>\n      <th>3</th>\n      <td>Luis</td>\n      <td>10.0</td>\n      <td>19.0</td>\n      <td>18</td>\n      <td>16</td>\n    </tr>\n    <tr>\n      <th>4</th>\n      <td>Carlos</td>\n      <td>16.0</td>\n      <td>12.0</td>\n      <td>10</td>\n      <td>13</td>\n    </tr>\n    <tr>\n      <th>5</th>\n      <td>Rosa</td>\n      <td>5.0</td>\n      <td>14.0</td>\n      <td>10</td>\n      <td>12</td>\n    </tr>\n    <tr>\n      <th>6</th>\n      <td>Jorge</td>\n      <td>9.0</td>\n      <td>11.0</td>\n      <td>19</td>\n      <td>13</td>\n    </tr>\n    <tr>\n      <th>7</th>\n      <td>Victor</td>\n      <td>5.0</td>\n      <td>13.0</td>\n      <td>10</td>\n      <td>12</td>\n    </tr>\n    <tr>\n      <th>8</th>\n      <td>Ana</td>\n      <td>18.0</td>\n      <td>19.0</td>\n      <td>11</td>\n      <td>16</td>\n    </tr>\n    <tr>\n      <th>9</th>\n      <td>Luz</td>\n      <td>14.0</td>\n      <td>20.0</td>\n      <td>16</td>\n      <td>17</td>\n    </tr>\n    <tr>\n      <th>10</th>\n      <td>Cesar</td>\n      <td>5.0</td>\n      <td>13.0</td>\n      <td>20</td>\n      <td>17</td>\n    </tr>\n    <tr>\n      <th>11</th>\n      <td>Carmen</td>\n      <td>14.0</td>\n      <td>10.0</td>\n      <td>14</td>\n      <td>13</td>\n    </tr>\n    <tr>\n      <th>12</th>\n      <td>Miguel</td>\n      <td>5.0</td>\n      <td>10.0</td>\n      <td>16</td>\n      <td>13</td>\n    </tr>\n    <tr>\n      <th>13</th>\n      <td>Julio</td>\n      <td>11.0</td>\n      <td>10.0</td>\n      <td>14</td>\n      <td>12</td>\n    </tr>\n    <tr>\n      <th>14</th>\n      <td>Jesus</td>\n      <td>12.0</td>\n      <td>13.0</td>\n      <td>10</td>\n      <td>12</td>\n    </tr>\n    <tr>\n      <th>15</th>\n      <td>Pedro</td>\n      <td>5.0</td>\n      <td>11.0</td>\n      <td>15</td>\n      <td>13</td>\n    </tr>\n    <tr>\n      <th>16</th>\n      <td>Manuel</td>\n      <td>15.0</td>\n      <td>20.0</td>\n      <td>20</td>\n      <td>18</td>\n    </tr>\n    <tr>\n      <th>17</th>\n      <td>Juana</td>\n      <td>8.0</td>\n      <td>13.0</td>\n      <td>10</td>\n      <td>10</td>\n    </tr>\n    <tr>\n      <th>18</th>\n      <td>Santos</td>\n      <td>7.0</td>\n      <td>17.0</td>\n      <td>14</td>\n      <td>13</td>\n    </tr>\n    <tr>\n      <th>19</th>\n      <td>Segundo</td>\n      <td>5.0</td>\n      <td>8.0</td>\n      <td>20</td>\n      <td>14</td>\n    </tr>\n    <tr>\n      <th>20</th>\n      <td>Jhon</td>\n      <td>10.0</td>\n      <td>8.0</td>\n      <td>10</td>\n      <td>9</td>\n    </tr>\n    <tr>\n      <th>21</th>\n      <td>David</td>\n      <td>7.0</td>\n      <td>8.0</td>\n      <td>10</td>\n      <td>8</td>\n    </tr>\n    <tr>\n      <th>22</th>\n      <td>Angel</td>\n      <td>18.0</td>\n      <td>9.0</td>\n      <td>11</td>\n      <td>13</td>\n    </tr>\n    <tr>\n      <th>23</th>\n      <td>Julia</td>\n      <td>7.0</td>\n      <td>11.0</td>\n      <td>18</td>\n      <td>12</td>\n    </tr>\n    <tr>\n      <th>24</th>\n      <td>Diego</td>\n      <td>20.0</td>\n      <td>18.0</td>\n      <td>18</td>\n      <td>19</td>\n    </tr>\n    <tr>\n      <th>25</th>\n      <td>Flor</td>\n      <td>12.0</td>\n      <td>10.0</td>\n      <td>13</td>\n      <td>12</td>\n    </tr>\n    <tr>\n      <th>26</th>\n      <td>Elizabeth</td>\n      <td>16.0</td>\n      <td>19.0</td>\n      <td>18</td>\n      <td>18</td>\n    </tr>\n    <tr>\n      <th>27</th>\n      <td>Daniel</td>\n      <td>18.0</td>\n      <td>13.0</td>\n      <td>16</td>\n      <td>16</td>\n    </tr>\n    <tr>\n      <th>28</th>\n      <td>Oscar</td>\n      <td>10.0</td>\n      <td>5.0</td>\n      <td>12</td>\n      <td>11</td>\n    </tr>\n    <tr>\n      <th>29</th>\n      <td>Ruth</td>\n      <td>9.0</td>\n      <td>11.0</td>\n      <td>12</td>\n      <td>11</td>\n    </tr>\n    <tr>\n      <th>30</th>\n      <td>Diana</td>\n      <td>16.0</td>\n      <td>13.0</td>\n      <td>14</td>\n      <td>14</td>\n    </tr>\n    <tr>\n      <th>31</th>\n      <td>Marco</td>\n      <td>9.0</td>\n      <td>14.0</td>\n      <td>16</td>\n      <td>13</td>\n    </tr>\n    <tr>\n      <th>32</th>\n      <td>Edwin</td>\n      <td>5.0</td>\n      <td>19.0</td>\n      <td>11</td>\n      <td>15</td>\n    </tr>\n    <tr>\n      <th>33</th>\n      <td>Javier</td>\n      <td>5.0</td>\n      <td>16.0</td>\n      <td>10</td>\n      <td>13</td>\n    </tr>\n    <tr>\n      <th>34</th>\n      <td>Walter</td>\n      <td>11.0</td>\n      <td>5.0</td>\n      <td>14</td>\n      <td>13</td>\n    </tr>\n    <tr>\n      <th>35</th>\n      <td>Francisco</td>\n      <td>5.0</td>\n      <td>10.0</td>\n      <td>20</td>\n      <td>15</td>\n    </tr>\n    <tr>\n      <th>36</th>\n      <td>Fernando</td>\n      <td>10.0</td>\n      <td>20.0</td>\n      <td>13</td>\n      <td>14</td>\n    </tr>\n    <tr>\n      <th>37</th>\n      <td>Milagros</td>\n      <td>18.0</td>\n      <td>14.0</td>\n      <td>11</td>\n      <td>14</td>\n    </tr>\n    <tr>\n      <th>38</th>\n      <td>Alejandro</td>\n      <td>9.0</td>\n      <td>17.0</td>\n      <td>14</td>\n      <td>13</td>\n    </tr>\n    <tr>\n      <th>39</th>\n      <td>Raul</td>\n      <td>20.0</td>\n      <td>18.0</td>\n      <td>16</td>\n      <td>18</td>\n    </tr>\n    <tr>\n      <th>40</th>\n      <td>Ricardo</td>\n      <td>9.0</td>\n      <td>17.0</td>\n      <td>17</td>\n      <td>14</td>\n    </tr>\n    <tr>\n      <th>41</th>\n      <td>Alex</td>\n      <td>10.0</td>\n      <td>10.0</td>\n      <td>20</td>\n      <td>13</td>\n    </tr>\n    <tr>\n      <th>42</th>\n      <td>Roberto</td>\n      <td>19.0</td>\n      <td>14.0</td>\n      <td>12</td>\n      <td>15</td>\n    </tr>\n    <tr>\n      <th>43</th>\n      <td>Edgar</td>\n      <td>15.0</td>\n      <td>5.0</td>\n      <td>19</td>\n      <td>17</td>\n    </tr>\n    <tr>\n      <th>44</th>\n      <td>Victoria</td>\n      <td>5.0</td>\n      <td>11.0</td>\n      <td>17</td>\n      <td>14</td>\n    </tr>\n    <tr>\n      <th>45</th>\n      <td>Eduardo</td>\n      <td>12.0</td>\n      <td>19.0</td>\n      <td>12</td>\n      <td>14</td>\n    </tr>\n    <tr>\n      <th>46</th>\n      <td>Mario</td>\n      <td>19.0</td>\n      <td>14.0</td>\n      <td>19</td>\n      <td>17</td>\n    </tr>\n    <tr>\n      <th>47</th>\n      <td>Jaime</td>\n      <td>18.0</td>\n      <td>19.0</td>\n      <td>15</td>\n      <td>17</td>\n    </tr>\n    <tr>\n      <th>48</th>\n      <td>Gloria</td>\n      <td>19.0</td>\n      <td>16.0</td>\n      <td>16</td>\n      <td>17</td>\n    </tr>\n    <tr>\n      <th>49</th>\n      <td>Andrea</td>\n      <td>14.0</td>\n      <td>17.0</td>\n      <td>19</td>\n      <td>17</td>\n    </tr>\n  </tbody>\n</table>\n</div>"
          },
          "metadata": {}
        }
      ],
      "execution_count": 9
    },
    {
      "cell_type": "markdown",
      "source": "<div class=\"alert alert-info\"> Ahora para conservar los cambios <strong>generamos un nuevo archivo</strong>  <code>csv </code> con el resultado de la limpieza, utilizamos el comando <code>df.to_csv</code> que creara el nuevo archivo.</div>",
      "metadata": {}
    },
    {
      "cell_type": "code",
      "source": "#asignamos el resultado al DataFrame nota_final\nnota_final = notas2.fillna(5)\n",
      "metadata": {
        "trusted": true
      },
      "outputs": [],
      "execution_count": 13
    },
    {
      "cell_type": "code",
      "source": "#imprimimos para confirmar\nnota_final.head(20)\n",
      "metadata": {
        "trusted": true
      },
      "outputs": [
        {
          "execution_count": 17,
          "output_type": "execute_result",
          "data": {
            "text/plain": "     Alumno  Nota1  Nota2  Nota3  Promedio\n0     Maria   18.0   19.0     18        18\n1      Jose    5.0   15.0     11        13\n2      Juan   13.0   12.0     17        14\n3      Luis   10.0   19.0     18        16\n4    Carlos   16.0   12.0     10        13\n5      Rosa    5.0   14.0     10        12\n6     Jorge    9.0   11.0     19        13\n7    Victor    5.0   13.0     10        12\n8       Ana   18.0   19.0     11        16\n9       Luz   14.0   20.0     16        17\n10    Cesar    5.0   13.0     20        17\n11   Carmen   14.0   10.0     14        13\n12   Miguel    5.0   10.0     16        13\n13    Julio   11.0   10.0     14        12\n14    Jesus   12.0   13.0     10        12\n15    Pedro    5.0   11.0     15        13\n16   Manuel   15.0   20.0     20        18\n17    Juana    8.0   13.0     10        10\n18   Santos    7.0   17.0     14        13\n19  Segundo    5.0    8.0     20        14",
            "text/html": "<div>\n<style scoped>\n    .dataframe tbody tr th:only-of-type {\n        vertical-align: middle;\n    }\n\n    .dataframe tbody tr th {\n        vertical-align: top;\n    }\n\n    .dataframe thead th {\n        text-align: right;\n    }\n</style>\n<table border=\"1\" class=\"dataframe\">\n  <thead>\n    <tr style=\"text-align: right;\">\n      <th></th>\n      <th>Alumno</th>\n      <th>Nota1</th>\n      <th>Nota2</th>\n      <th>Nota3</th>\n      <th>Promedio</th>\n    </tr>\n  </thead>\n  <tbody>\n    <tr>\n      <th>0</th>\n      <td>Maria</td>\n      <td>18.0</td>\n      <td>19.0</td>\n      <td>18</td>\n      <td>18</td>\n    </tr>\n    <tr>\n      <th>1</th>\n      <td>Jose</td>\n      <td>5.0</td>\n      <td>15.0</td>\n      <td>11</td>\n      <td>13</td>\n    </tr>\n    <tr>\n      <th>2</th>\n      <td>Juan</td>\n      <td>13.0</td>\n      <td>12.0</td>\n      <td>17</td>\n      <td>14</td>\n    </tr>\n    <tr>\n      <th>3</th>\n      <td>Luis</td>\n      <td>10.0</td>\n      <td>19.0</td>\n      <td>18</td>\n      <td>16</td>\n    </tr>\n    <tr>\n      <th>4</th>\n      <td>Carlos</td>\n      <td>16.0</td>\n      <td>12.0</td>\n      <td>10</td>\n      <td>13</td>\n    </tr>\n    <tr>\n      <th>5</th>\n      <td>Rosa</td>\n      <td>5.0</td>\n      <td>14.0</td>\n      <td>10</td>\n      <td>12</td>\n    </tr>\n    <tr>\n      <th>6</th>\n      <td>Jorge</td>\n      <td>9.0</td>\n      <td>11.0</td>\n      <td>19</td>\n      <td>13</td>\n    </tr>\n    <tr>\n      <th>7</th>\n      <td>Victor</td>\n      <td>5.0</td>\n      <td>13.0</td>\n      <td>10</td>\n      <td>12</td>\n    </tr>\n    <tr>\n      <th>8</th>\n      <td>Ana</td>\n      <td>18.0</td>\n      <td>19.0</td>\n      <td>11</td>\n      <td>16</td>\n    </tr>\n    <tr>\n      <th>9</th>\n      <td>Luz</td>\n      <td>14.0</td>\n      <td>20.0</td>\n      <td>16</td>\n      <td>17</td>\n    </tr>\n    <tr>\n      <th>10</th>\n      <td>Cesar</td>\n      <td>5.0</td>\n      <td>13.0</td>\n      <td>20</td>\n      <td>17</td>\n    </tr>\n    <tr>\n      <th>11</th>\n      <td>Carmen</td>\n      <td>14.0</td>\n      <td>10.0</td>\n      <td>14</td>\n      <td>13</td>\n    </tr>\n    <tr>\n      <th>12</th>\n      <td>Miguel</td>\n      <td>5.0</td>\n      <td>10.0</td>\n      <td>16</td>\n      <td>13</td>\n    </tr>\n    <tr>\n      <th>13</th>\n      <td>Julio</td>\n      <td>11.0</td>\n      <td>10.0</td>\n      <td>14</td>\n      <td>12</td>\n    </tr>\n    <tr>\n      <th>14</th>\n      <td>Jesus</td>\n      <td>12.0</td>\n      <td>13.0</td>\n      <td>10</td>\n      <td>12</td>\n    </tr>\n    <tr>\n      <th>15</th>\n      <td>Pedro</td>\n      <td>5.0</td>\n      <td>11.0</td>\n      <td>15</td>\n      <td>13</td>\n    </tr>\n    <tr>\n      <th>16</th>\n      <td>Manuel</td>\n      <td>15.0</td>\n      <td>20.0</td>\n      <td>20</td>\n      <td>18</td>\n    </tr>\n    <tr>\n      <th>17</th>\n      <td>Juana</td>\n      <td>8.0</td>\n      <td>13.0</td>\n      <td>10</td>\n      <td>10</td>\n    </tr>\n    <tr>\n      <th>18</th>\n      <td>Santos</td>\n      <td>7.0</td>\n      <td>17.0</td>\n      <td>14</td>\n      <td>13</td>\n    </tr>\n    <tr>\n      <th>19</th>\n      <td>Segundo</td>\n      <td>5.0</td>\n      <td>8.0</td>\n      <td>20</td>\n      <td>14</td>\n    </tr>\n  </tbody>\n</table>\n</div>"
          },
          "metadata": {}
        }
      ],
      "execution_count": 17
    },
    {
      "cell_type": "code",
      "source": "#grabamos en otro archivo\n\nnotas2.to_csv('data/notafinal.csv')",
      "metadata": {
        "trusted": true
      },
      "outputs": [],
      "execution_count": 18
    },
    {
      "cell_type": "markdown",
      "source": "![linea 2](https://user-images.githubusercontent.com/19308295/115926262-2fb62980-a448-11eb-8189-c2f10e499944.png)",
      "metadata": {}
    },
    {
      "cell_type": "markdown",
      "source": "## <font color=#33A5FF>****2. Frecuencia Simple de Datos****<tfont>",
      "metadata": {}
    },
    {
      "cell_type": "markdown",
      "source": "<div class=\"alert alert-info\"> Vamos hallar la <strong>frecuencia</strong> de notas de un archivo  <code>csv</code> damos como resultado la nota mas alta</div>",
      "metadata": {}
    },
    {
      "cell_type": "code",
      "source": "#cargamos un archivo CSV separado por punto y coma\nnotas3 = pd.read_csv('data/notas.csv', ';')\n",
      "metadata": {
        "trusted": true
      },
      "outputs": [
        {
          "name": "stderr",
          "text": "<ipython-input-19-3e5153393ef0>:2: FutureWarning: In a future version of pandas all arguments of read_csv except for the argument 'filepath_or_buffer' will be keyword-only.\n  notas3 = pd.read_csv('data/notas.csv', ';')\n",
          "output_type": "stream"
        }
      ],
      "execution_count": 19
    },
    {
      "cell_type": "code",
      "source": "#nombres de columnas\nnotas3.columns.values\n",
      "metadata": {
        "trusted": true
      },
      "outputs": [
        {
          "execution_count": 20,
          "output_type": "execute_result",
          "data": {
            "text/plain": "array(['Alumno', 'Nota1', 'Nota2', 'Nota3', 'Promedio'], dtype=object)"
          },
          "metadata": {}
        }
      ],
      "execution_count": 20
    },
    {
      "cell_type": "code",
      "source": "#buscamos cuantos alumnos han sacado nota 20 en Promedio\n#creamos nuevo DataFrame con notas promedio y frecuencias\ntab = pd.crosstab(index=notas3['Nota3'], columns='Frecuencia')\ntab.head(15)",
      "metadata": {
        "trusted": true
      },
      "outputs": [
        {
          "execution_count": 22,
          "output_type": "execute_result",
          "data": {
            "text/plain": "col_0  Frecuencia\nNota3            \n10              8\n11              5\n12              4\n13              2\n14              6\n15              2\n16              6\n17              3\n18              5\n19              4\n20              5",
            "text/html": "<div>\n<style scoped>\n    .dataframe tbody tr th:only-of-type {\n        vertical-align: middle;\n    }\n\n    .dataframe tbody tr th {\n        vertical-align: top;\n    }\n\n    .dataframe thead th {\n        text-align: right;\n    }\n</style>\n<table border=\"1\" class=\"dataframe\">\n  <thead>\n    <tr style=\"text-align: right;\">\n      <th>col_0</th>\n      <th>Frecuencia</th>\n    </tr>\n    <tr>\n      <th>Nota3</th>\n      <th></th>\n    </tr>\n  </thead>\n  <tbody>\n    <tr>\n      <th>10</th>\n      <td>8</td>\n    </tr>\n    <tr>\n      <th>11</th>\n      <td>5</td>\n    </tr>\n    <tr>\n      <th>12</th>\n      <td>4</td>\n    </tr>\n    <tr>\n      <th>13</th>\n      <td>2</td>\n    </tr>\n    <tr>\n      <th>14</th>\n      <td>6</td>\n    </tr>\n    <tr>\n      <th>15</th>\n      <td>2</td>\n    </tr>\n    <tr>\n      <th>16</th>\n      <td>6</td>\n    </tr>\n    <tr>\n      <th>17</th>\n      <td>3</td>\n    </tr>\n    <tr>\n      <th>18</th>\n      <td>5</td>\n    </tr>\n    <tr>\n      <th>19</th>\n      <td>4</td>\n    </tr>\n    <tr>\n      <th>20</th>\n      <td>5</td>\n    </tr>\n  </tbody>\n</table>\n</div>"
          },
          "metadata": {}
        }
      ],
      "execution_count": 22
    },
    {
      "cell_type": "code",
      "source": "#localizar alumnos que han sacado 20 en su Nota3\nfila = tab.loc[tab.index==20]\n\n#variable\nx = fila['Frecuencia']\nx = int(x)\n\n#Impresion\nprint('\\t \\t \\t FELICITACION')\nprint(\"-------------------------------------------------------\")\nprint(\"\\%d alumnos han sacado en su Nota3 20, mis felicitaciones!!\"%x)\nprint('\\n\\n\\n')\n",
      "metadata": {
        "trusted": true
      },
      "outputs": [
        {
          "name": "stdout",
          "text": "\t \t \t FELICITACION\n-------------------------------------------------------\n\\5 alumnos han sacado en su Nota3 20, mis felicitaciones!!\n\n\n\n\n",
          "output_type": "stream"
        }
      ],
      "execution_count": 23
    },
    {
      "cell_type": "markdown",
      "source": "![linea 2](https://user-images.githubusercontent.com/19308295/115926262-2fb62980-a448-11eb-8189-c2f10e499944.png)",
      "metadata": {}
    },
    {
      "cell_type": "markdown",
      "source": "## <font color=#33A5FF>****3. Archivo csv \"NBA\" y Funciones de busqueda****<tfont>",
      "metadata": {}
    },
    {
      "cell_type": "markdown",
      "source": "<div class=\"alert alert-info\"> Las <strong>funciones de busqueda</strong> son básicas en <strong>pandas</strong> lo vamos aplicar a un archivo bajado de la pagina web Kaggle el mayor banco de dataset</div>",
      "metadata": {}
    },
    {
      "cell_type": "code",
      "source": "#cargamos un archivo CSV separado por comas con indice en columna \"Name\"\ndata = pd.read_csv('data/nba.csv', index_col=\"Name\")\n\n#Impresión\ndata.head()\n",
      "metadata": {
        "trusted": true
      },
      "outputs": [
        {
          "execution_count": 24,
          "output_type": "execute_result",
          "data": {
            "text/plain": "                         Team  Number Position   Age Height  Weight  \\\nName                                                                  \nAvery Bradley  Boston Celtics     0.0       PG  25.0    6-2   180.0   \nJae Crowder    Boston Celtics    99.0       SF  25.0    6-6   235.0   \nJohn Holland   Boston Celtics    30.0       SG  27.0    6-5   205.0   \nR.J. Hunter    Boston Celtics    28.0       SG  22.0    6-5   185.0   \nJonas Jerebko  Boston Celtics     8.0       PF  29.0   6-10   231.0   \n\n                         College     Salary  \nName                                         \nAvery Bradley              Texas  7730337.0  \nJae Crowder            Marquette  6796117.0  \nJohn Holland   Boston University        NaN  \nR.J. Hunter        Georgia State  1148640.0  \nJonas Jerebko                NaN  5000000.0  ",
            "text/html": "<div>\n<style scoped>\n    .dataframe tbody tr th:only-of-type {\n        vertical-align: middle;\n    }\n\n    .dataframe tbody tr th {\n        vertical-align: top;\n    }\n\n    .dataframe thead th {\n        text-align: right;\n    }\n</style>\n<table border=\"1\" class=\"dataframe\">\n  <thead>\n    <tr style=\"text-align: right;\">\n      <th></th>\n      <th>Team</th>\n      <th>Number</th>\n      <th>Position</th>\n      <th>Age</th>\n      <th>Height</th>\n      <th>Weight</th>\n      <th>College</th>\n      <th>Salary</th>\n    </tr>\n    <tr>\n      <th>Name</th>\n      <th></th>\n      <th></th>\n      <th></th>\n      <th></th>\n      <th></th>\n      <th></th>\n      <th></th>\n      <th></th>\n    </tr>\n  </thead>\n  <tbody>\n    <tr>\n      <th>Avery Bradley</th>\n      <td>Boston Celtics</td>\n      <td>0.0</td>\n      <td>PG</td>\n      <td>25.0</td>\n      <td>6-2</td>\n      <td>180.0</td>\n      <td>Texas</td>\n      <td>7730337.0</td>\n    </tr>\n    <tr>\n      <th>Jae Crowder</th>\n      <td>Boston Celtics</td>\n      <td>99.0</td>\n      <td>SF</td>\n      <td>25.0</td>\n      <td>6-6</td>\n      <td>235.0</td>\n      <td>Marquette</td>\n      <td>6796117.0</td>\n    </tr>\n    <tr>\n      <th>John Holland</th>\n      <td>Boston Celtics</td>\n      <td>30.0</td>\n      <td>SG</td>\n      <td>27.0</td>\n      <td>6-5</td>\n      <td>205.0</td>\n      <td>Boston University</td>\n      <td>NaN</td>\n    </tr>\n    <tr>\n      <th>R.J. Hunter</th>\n      <td>Boston Celtics</td>\n      <td>28.0</td>\n      <td>SG</td>\n      <td>22.0</td>\n      <td>6-5</td>\n      <td>185.0</td>\n      <td>Georgia State</td>\n      <td>1148640.0</td>\n    </tr>\n    <tr>\n      <th>Jonas Jerebko</th>\n      <td>Boston Celtics</td>\n      <td>8.0</td>\n      <td>PF</td>\n      <td>29.0</td>\n      <td>6-10</td>\n      <td>231.0</td>\n      <td>NaN</td>\n      <td>5000000.0</td>\n    </tr>\n  </tbody>\n</table>\n</div>"
          },
          "metadata": {}
        }
      ],
      "execution_count": 24
    },
    {
      "cell_type": "code",
      "source": "#variables que busca en la columna \"Name\" y funcion `loc`\nfist = data.loc[\"Avery Bradley\"]\nsecond = data.loc[\"Jae Crowder\"] \n\n#impresión\nprint(fist, \"\\n\\n\\n\", second)\n\n",
      "metadata": {
        "trusted": true
      },
      "outputs": [
        {
          "name": "stdout",
          "text": "Team        Boston Celtics\nNumber                 0.0\nPosition                PG\nAge                   25.0\nHeight                 6-2\nWeight               180.0\nCollege              Texas\nSalary           7730337.0\nName: Avery Bradley, dtype: object \n\n\n Team        Boston Celtics\nNumber                99.0\nPosition                SF\nAge                   25.0\nHeight                 6-6\nWeight               235.0\nCollege          Marquette\nSalary           6796117.0\nName: Jae Crowder, dtype: object\n",
          "output_type": "stream"
        }
      ],
      "execution_count": 26
    },
    {
      "cell_type": "markdown",
      "source": "![linea 2](https://user-images.githubusercontent.com/19308295/115926262-2fb62980-a448-11eb-8189-c2f10e499944.png)",
      "metadata": {}
    },
    {
      "cell_type": "markdown",
      "source": "## <font color=#33A5FF>4. Análisis de Datos y Visualización<tfont>",
      "metadata": {}
    },
    {
      "cell_type": "markdown",
      "source": "<div class=\"alert alert-info\">\nColección de datos completo de COVID-19 mantenido por  <strong>Our World in Data</strong>\n(Investigación y datos para avanzar contra los mayores problemas del mundo). \n    \nSe actualiza diariamente e incluye datos sobre casos confirmados, muertes, hospitalizaciones, pruebas y vacunaciones, así como otras variables de posible interés.\n    \n    \n    https://github.com/owid/covid-19-data/tree/master/public/data\n    \n</div>",
      "metadata": {}
    },
    {
      "cell_type": "markdown",
      "source": "### Vamos a leer los datos desde github de `Our World in Data` ",
      "metadata": {}
    },
    {
      "cell_type": "code",
      "source": "url = pd.read_csv'data/owid-covid-data.csv'\ndf = (url , index_col=0)\ndf.head()\n\n",
      "metadata": {
        "trusted": true,
        "scrolled": true
      },
      "outputs": [
        {
          "ename": "<class 'SyntaxError'>",
          "evalue": "invalid syntax (<ipython-input-55-af52de0ef972>, line 1)",
          "traceback": [
            "\u001b[0;36m  Cell \u001b[0;32mIn[55], line 1\u001b[0;36m\u001b[0m\n\u001b[0;31m    url = pd.read_csv'data/owid-covid-data.csv'\u001b[0m\n\u001b[0m                     ^\u001b[0m\n\u001b[0;31mSyntaxError\u001b[0m\u001b[0;31m:\u001b[0m invalid syntax\n"
          ],
          "output_type": "error"
        }
      ],
      "execution_count": 55
    },
    {
      "cell_type": "code",
      "source": "#Cantidad de Filas\nlen(df)",
      "metadata": {
        "trusted": true
      },
      "outputs": [
        {
          "ename": "<class 'NameError'>",
          "evalue": "name 'df' is not defined",
          "traceback": [
            "\u001b[0;31m---------------------------------------------------------------------------\u001b[0m",
            "\u001b[0;31mNameError\u001b[0m                                 Traceback (most recent call last)",
            "Cell \u001b[0;32mIn[31], line 2\u001b[0m\n\u001b[1;32m      1\u001b[0m \u001b[38;5;66;03m#Cantidad de Filas\u001b[39;00m\n\u001b[0;32m----> 2\u001b[0m \u001b[38;5;28mlen\u001b[39m(\u001b[43mdf\u001b[49m)\n",
            "\u001b[0;31mNameError\u001b[0m: name 'df' is not defined"
          ],
          "output_type": "error"
        }
      ],
      "execution_count": 31
    },
    {
      "cell_type": "code",
      "source": "#Cantidad de Filas y Columnas\ndf.shape",
      "metadata": {},
      "outputs": [],
      "execution_count": null
    },
    {
      "cell_type": "code",
      "source": "#Valores de las columnas\ndf.columns",
      "metadata": {},
      "outputs": [],
      "execution_count": null
    },
    {
      "cell_type": "code",
      "source": "#Información de los datos\ndf.info()",
      "metadata": {},
      "outputs": [],
      "execution_count": null
    },
    {
      "cell_type": "code",
      "source": "#estadistica descriptiva de los datos\ndf.describe()",
      "metadata": {},
      "outputs": [],
      "execution_count": null
    },
    {
      "cell_type": "markdown",
      "source": "### Interpretamos los datos encontrados",
      "metadata": {}
    },
    {
      "cell_type": "markdown",
      "source": "#### Datos Negativos en Muertes por día",
      "metadata": {}
    },
    {
      "cell_type": "code",
      "source": "#Muertes por día negativos???   es extraño???\ndf[df.new_deaths < 0]",
      "metadata": {},
      "outputs": [],
      "execution_count": null
    },
    {
      "cell_type": "markdown",
      "source": "---",
      "metadata": {}
    },
    {
      "cell_type": "markdown",
      "source": "#### Datos Nulos NaN en nuevos casos por día",
      "metadata": {}
    },
    {
      "cell_type": "code",
      "source": "#Muertes por día NaN??\ndf[df.new_cases.isnull()]",
      "metadata": {},
      "outputs": [],
      "execution_count": null
    },
    {
      "cell_type": "code",
      "source": "df.new_cases.sort_values(ascending=True)\n",
      "metadata": {},
      "outputs": [],
      "execution_count": null
    },
    {
      "cell_type": "code",
      "source": "#asognación temporal de valores nulos\ndf.new_cases.fillna(0)",
      "metadata": {},
      "outputs": [],
      "execution_count": null
    },
    {
      "cell_type": "code",
      "source": "#buscamos valores nulos NaN  en new_cases\ndf[df.new_cases.isnull()]",
      "metadata": {},
      "outputs": [],
      "execution_count": null
    },
    {
      "cell_type": "code",
      "source": "#asignación definitiva de valores nulos\ndf.new_cases.fillna(value=0, inplace=True)",
      "metadata": {},
      "outputs": [],
      "execution_count": null
    },
    {
      "cell_type": "code",
      "source": "#buscamos valores nulos NaN en new_cases\ndf[df.new_cases.isnull()]",
      "metadata": {},
      "outputs": [],
      "execution_count": null
    },
    {
      "cell_type": "markdown",
      "source": "---",
      "metadata": {}
    },
    {
      "cell_type": "markdown",
      "source": "#### Datos Nulos NaN en ingresos de PBI `gdp_per_capita`",
      "metadata": {}
    },
    {
      "cell_type": "code",
      "source": "df.groupby('location').mean().gdp_per_capita\n\n",
      "metadata": {},
      "outputs": [],
      "execution_count": null
    },
    {
      "cell_type": "code",
      "source": "# Hallamos el promedio de `gdp_per_capita`\npromedio_gdp = df.groupby('location').mean().gdp_per_capita\npromedio_gdp",
      "metadata": {},
      "outputs": [],
      "execution_count": null
    },
    {
      "cell_type": "code",
      "source": "#Creamos una nueva columna con:\n\ndf['gdp_per_capita_not?nulls'] = df['gdp_per_capita'].fillna(promedio_gdp)",
      "metadata": {},
      "outputs": [],
      "execution_count": null
    },
    {
      "cell_type": "code",
      "source": "df.info()",
      "metadata": {},
      "outputs": [],
      "execution_count": null
    },
    {
      "cell_type": "code",
      "source": "df.dropna().shape",
      "metadata": {},
      "outputs": [],
      "execution_count": null
    },
    {
      "cell_type": "markdown",
      "source": "### Preguntas?",
      "metadata": {}
    },
    {
      "cell_type": "markdown",
      "source": "### Cuál es el país con el mayor life_expectancy?",
      "metadata": {}
    },
    {
      "cell_type": "code",
      "source": "df.groupby('location').mean().life_expectancy.sort_values(ascending=False)",
      "metadata": {},
      "outputs": [],
      "execution_count": null
    },
    {
      "cell_type": "markdown",
      "source": "### Qué país tiene la menor cantidad de fumadores masculinos?",
      "metadata": {}
    },
    {
      "cell_type": "code",
      "source": "df.groupby('location').mean().male_smokers.sort_values(ascending=False)",
      "metadata": {},
      "outputs": [],
      "execution_count": null
    },
    {
      "cell_type": "markdown",
      "source": "### Qué país tiene la mayor cantidad de fallecimientos diarios a la fecha?",
      "metadata": {}
    },
    {
      "cell_type": "code",
      "source": "df.groupby('location').date.max",
      "metadata": {},
      "outputs": [],
      "execution_count": null
    },
    {
      "cell_type": "code",
      "source": "df[df.data == '2021-05-29'].sort_values('new_deaths', ascendind=False)",
      "metadata": {},
      "outputs": [],
      "execution_count": null
    },
    {
      "cell_type": "markdown",
      "source": "---",
      "metadata": {}
    },
    {
      "cell_type": "markdown",
      "source": "## Visualización de los datos, librería `Plotly`",
      "metadata": {}
    },
    {
      "cell_type": "code",
      "source": "#Librería plotly\nimport plotly.express as px",
      "metadata": {
        "trusted": true
      },
      "outputs": [
        {
          "ename": "<class 'ModuleNotFoundError'>",
          "evalue": "No module named 'plotly'",
          "traceback": [
            "\u001b[0;31m---------------------------------------------------------------------------\u001b[0m",
            "\u001b[0;31mModuleNotFoundError\u001b[0m                       Traceback (most recent call last)",
            "Cell \u001b[0;32mIn[33], line 2\u001b[0m\n\u001b[1;32m      1\u001b[0m \u001b[38;5;66;03m#Librería plotly\u001b[39;00m\n\u001b[0;32m----> 2\u001b[0m \u001b[38;5;28;01mimport\u001b[39;00m \u001b[38;5;21;01mplotly\u001b[39;00m\u001b[38;5;21;01m.\u001b[39;00m\u001b[38;5;21;01mexpress\u001b[39;00m \u001b[38;5;28;01mas\u001b[39;00m \u001b[38;5;21;01mpx\u001b[39;00m\n",
            "\u001b[0;31mModuleNotFoundError\u001b[0m: No module named 'plotly'"
          ],
          "output_type": "error"
        }
      ],
      "execution_count": 33
    },
    {
      "cell_type": "code",
      "source": "df.head()",
      "metadata": {},
      "outputs": [],
      "execution_count": null
    },
    {
      "cell_type": "code",
      "source": "df.columns",
      "metadata": {},
      "outputs": [],
      "execution_count": null
    },
    {
      "cell_type": "code",
      "source": "#Creamos nuevo DataFrame con columnas 'life_expectancy', 'diabetes_prevalence', 'continent'\ncv = df[['life_expectancy', 'diabetes_prevalence', 'continent']].dropna()\n\n#Gráfica de Dispersión con las 03 columnas\nfig = px.scatter(cv, x='life_expectancy', y='diabetes_prevalence', color='continent')\n\n",
      "metadata": {},
      "outputs": [],
      "execution_count": null
    },
    {
      "cell_type": "code",
      "source": "cv.head()",
      "metadata": {},
      "outputs": [],
      "execution_count": null
    },
    {
      "cell_type": "code",
      "source": "#Creamos nuevo DataFrame con columnas 'life_expectancy', 'diabetes_prevalence', 'continent'\n#'population', 'location'\n\ngap = df[['life_expectancy', 'diabetes_prevalence', 'continent',\n         'population', 'location']].dropna()\n",
      "metadata": {},
      "outputs": [],
      "execution_count": null
    },
    {
      "cell_type": "code",
      "source": "#Grafica de Dispersión con la nueva data\nfig = px.scatter(gap, x='life_expectancy', y='diabetes_prevalence', color='continent',\n                size='population', hover_name='location', range_y=[5,20], range_x=[65,80])\n\nfig.show()\n",
      "metadata": {},
      "outputs": [],
      "execution_count": null
    },
    {
      "cell_type": "code",
      "source": "#cambiamos el rango de la grafica\nfig = px.scatter(gap, x='life_expectancy', y='diabetes_prevalence', color='continent',\n                size='population', hover_name='location')\n\nfig.show()\n\n\n",
      "metadata": {},
      "outputs": [],
      "execution_count": null
    },
    {
      "cell_type": "markdown",
      "source": "---",
      "metadata": {}
    },
    {
      "cell_type": "code",
      "source": "#Grafica de pie total de casos el dia 28 mayo 2021.... (Fecha Actualizada)\n\ndf[df.date == '2021-05-29'].groupby('continent').sum().total_cases",
      "metadata": {},
      "outputs": [],
      "execution_count": null
    },
    {
      "cell_type": "code",
      "source": "#A partir de groupby creamos un DataFrame\ndf[df.date == '2021-05-29'].groupby('continent').sum().total_cases.reset_index()\n",
      "metadata": {},
      "outputs": [],
      "execution_count": null
    },
    {
      "cell_type": "code",
      "source": "#Asignamos a un Nuevo Data Frame\npastel = df[df.date == '2021-05-29'].groupby('continent').sum().total_cases.reset_index()\n",
      "metadata": {},
      "outputs": [],
      "execution_count": null
    },
    {
      "cell_type": "code",
      "source": "#Graficamos pie\nfig = px.pie(pastel, values='total_cases', names='continent',\n            tittle='Casos totales por Continente')\n\nfig.show()\n",
      "metadata": {},
      "outputs": [],
      "execution_count": null
    },
    {
      "cell_type": "markdown",
      "source": "![linea 2](https://user-images.githubusercontent.com/19308295/115926262-2fb62980-a448-11eb-8189-c2f10e499944.png)",
      "metadata": {}
    },
    {
      "cell_type": "markdown",
      "source": "## <font color=#33A5FF>****EJERCICIOS****<tfont>",
      "metadata": {}
    },
    {
      "cell_type": "markdown",
      "source": "### Ejercicio 1 ",
      "metadata": {}
    },
    {
      "cell_type": "markdown",
      "source": "<div class=\"alert alert-info\">\nCrear un <strong>DataFrame</strong> desde la URL : \n    \n    \n    https://github.com/owid/covid-19-data/blob/master/public/data/owid-covid-data.csv?raw=true   \n    \nResponder las siguientes preguntas :\n</div>",
      "metadata": {}
    },
    {
      "cell_type": "markdown",
      "source": "<div class=\"well\">\n   \n   1.-Que <strong>paises</strong> se encuentran en el DataFrame.\n   \n   2.-Cuantos registros hay por <strong>continente</strong>\n    \n   3.-Cuantos <strong>nuevos casos</strong> hubo como máximo en una fecha reportada por cada país?\n    \n   4.-Cuál es el país con el mayor <strong>GDP per cápita (PBI)</strong>?\n   \n   5.-Qué país tiene la mayor cantidad de <strong>fumadoras femeninas</strong>? \n    \n   6.-Qué país tiene la mayor cantidad de <strong>muertes por millón</strong>? \n    \n   7.-Qué país ha tomado las medidas <strong>más estrictas hasta ahora</strong>? \n    \n   8.-Cual fue el país en alcanzar los 10.000 <strong>casos activos por primera vez</strong>?\n    \n   \n</div>",
      "metadata": {}
    },
    {
      "cell_type": "markdown",
      "source": "<div class=\"alert alert-info\">Creamos un nuevo <strong>DataFrame</strong> solo con los siguientes paises: <code>Peru, Guinea</code>. \n    \n   Respondemos las siguientes preguntas :\n\n</div>",
      "metadata": {}
    },
    {
      "cell_type": "markdown",
      "source": "<div class=\"well\">\n   \n   9.-<strong>Cuantas filas</strong> hay por país ?.\n   \n   10.-Cuál es la <strong>fecha máxima</strong> por país ?.\n    \n   11.-Cuál es la <strong>fecha mínima</strong> por país ?.\n    \n   12.-Cuantos registros hay por <strong>\"continente\"</strong>?\n   \n   13.-Cuantos <strong>nuevos casos hubo como máximo</strong> en una fecha reportada por cada país?? \n    \n   \n</div>",
      "metadata": {}
    },
    {
      "cell_type": "markdown",
      "source": "### Ejercicio 2",
      "metadata": {}
    },
    {
      "cell_type": "markdown",
      "source": "<div class=\"well\">Visualizar el <strong>nombre del/(los) jugador(es) de la NBA</strong> de mayor <strong>edad</strong> usar columna <strong>Age</strong>, desde el archivo <code>nba.csv</code> (Carpeta <code>data_ejercicios</code> ) debera visualizar por pantalla <strong>todos los datos de dicho(s) jugador(es)</strong> y adicionalmente guardar la información en el archivo <code>nba_adulto.csv</code>(Carpeta <code>data_ejercicios</code>).\n\n\n</div>",
      "metadata": {}
    },
    {
      "cell_type": "markdown",
      "source": "### Ejercicio 3 ",
      "metadata": {}
    },
    {
      "cell_type": "markdown",
      "source": "<div class=\"well\">Visualizar el <strong>nombre del/(los) jugador(es) de la NBA</strong> que han llevado estudios <strong>College</strong> en la ciudad de <strong>Kentucky</strong>, dato que se puede ubicar en la columna <strong>College</strong>, desde el archivo <code>nba.csv</code> (Carpeta <code>data_ejercicios </code> ) debera visualizar por pantalla <strong>todos los datos de dicho(s) jugador(es)</strong> y adicionalmente guardar la información en el archivo <code>nba_adulto.csv</code>.\n\n\n</div>",
      "metadata": {}
    },
    {
      "cell_type": "markdown",
      "source": "### Ejercicio 4",
      "metadata": {}
    },
    {
      "cell_type": "markdown",
      "source": "<div class=\"well\">Visualizar el <strong>nombre del/(los) estudiante(s) </strong> que deben viajar mas de <strong>01 hora</strong> dato que se puede ubicar en la columna <strong>traveltime</strong>, desde el archivo <code>student-mat.csv</code> (Carpeta <code>data_ejercicios </code> ) debera visualizar por pantalla <strong>todos los datos de dicho(s) alumno(s)</strong> y adicionalmente guardar la información en el archivo <code>student-travel.csv</code>.\n\n\n</div>",
      "metadata": {}
    },
    {
      "cell_type": "markdown",
      "source": "### Ejercicio 5 ",
      "metadata": {}
    },
    {
      "cell_type": "markdown",
      "source": "<div class=\"well\">Visualizar el <strong>nombre del/(los) estudiante(s) </strong> que no poseen <strong>internet</strong> dato que se puede ubicar en la columna <strong>internet</strong>, desde el archivo <code>student-mat.csv</code> (Carpeta <code>data_ejercicios </code> ) debera visualizar por pantalla <strong>todos los datos de dicho(s) alumno(s)</strong> y adicionalmente guardar la información en el archivo <code>student-internet.csv</code>.\n\n\n</div>",
      "metadata": {}
    },
    {
      "cell_type": "markdown",
      "source": "### Ejercicio 6 ",
      "metadata": {}
    },
    {
      "cell_type": "markdown",
      "source": "<div class=\"well\">Visualizar el <strong>nombre del/(los) estudiante(s) </strong> que son mayores de <strong>18 años</strong> dato que se puede ubicar en la columna <strong>age</strong>, desde el archivo <code>student-mat.csv</code> (Carpeta <code>data_ejercicios </code> ) debera visualizar por pantalla <strong>todos los datos de dicho(s) alumno(s)</strong> y adicionalmente guardar la información en el archivo <code>student-age.csv</code>.\n\n\n</div>",
      "metadata": {}
    },
    {
      "cell_type": "markdown",
      "source": "<div class=\"alert alert-warning\">Database <code>student-mat.csv</code> fue sacado de <strong>Kaggle</strong>\n    autores:\n    \n\n    \nP. Cortez and A. Silva. Using Data Mining to Predict Secondary School Student Performance. In A. Brito and J. Teixeira Eds., Proceedings of 5th FUture BUsiness TEChnology Conference (FUBUTEC 2008) pp. 5-12, Porto, Portugal, April, 2008, EUROSIS, ISBN 978-9077381-39-7.\n\n    \n    \n</div> ",
      "metadata": {}
    },
    {
      "cell_type": "markdown",
      "source": "<div class=\"alert alert-warning\">\n    \n    \nweb: https://www.kaggle.com/janiobachmann/math-students/data\n\n    \n</div> ",
      "metadata": {}
    },
    {
      "cell_type": "markdown",
      "source": "![linea 2](https://user-images.githubusercontent.com/19308295/115926262-2fb62980-a448-11eb-8189-c2f10e499944.png)",
      "metadata": {}
    },
    {
      "cell_type": "markdown",
      "source": "## <font color=#33A5FF>****BIBLIOGRAFÍA****<tfont>",
      "metadata": {}
    },
    {
      "cell_type": "markdown",
      "source": "[1] Guía de pandas oficial https://pandas.pydata.org/docs/user_guide/index.html\n\n[2] Python Pandas Tutorial: A Complete Introduction for Beginners https://bit.ly/2AQMQld\n\n[3] Guía para pandas https://pybonacci.org/2014/05/30/pandas-i/\n\n[4] Dataset variados https://www.kaggle.com/datasets",
      "metadata": {}
    },
    {
      "cell_type": "markdown",
      "source": "![linea 1](https://user-images.githubusercontent.com/19308295/115926252-2b8a0c00-a448-11eb-9d9c-b43beaf0ff68.png)",
      "metadata": {}
    }
  ]
}