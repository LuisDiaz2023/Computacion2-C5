{
 "cells": [
  {
   "cell_type": "code",
   "execution_count": 1,
   "id": "8c0a22c2-67d5-40d2-81cd-651ba42a8ba8",
   "metadata": {},
   "outputs": [
    {
     "name": "stdout",
     "output_type": "stream",
     "text": [
      "    school sex  age address famsize Pstatus  Medu  Fedu      Mjob      Fjob  \\\n",
      "61      GP   F   16       U     GT3       T     1     1  services  services   \n",
      "108     GP   M   15       R     GT3       T     4     4     other     other   \n",
      "134     GP   M   15       R     GT3       T     3     4   at_home   teacher   \n",
      "149     GP   M   15       U     LE3       A     2     1  services     other   \n",
      "164     GP   M   17       R     LE3       T     1     1     other  services   \n",
      "228     GP   M   18       U     LE3       T     2     1   at_home     other   \n",
      "327     GP   M   17       R     GT3       T     2     2  services     other   \n",
      "375     MS   F   18       R     GT3       T     1     1     other     other   \n",
      "\n",
      "     ... famrel freetime  goout  Dalc  Walc health absences  G1  G2  G3  \n",
      "61   ...      5        5      5     5     5      5        6  10   8  11  \n",
      "108  ...      1        3      5     3     5      1        6  10  13  13  \n",
      "134  ...      5        3      3     1     1      5        0   9   0   0  \n",
      "149  ...      4        5      5     2     5      5        0   8   9  10  \n",
      "164  ...      5        3      5     1     5      5        0   5   8   7  \n",
      "228  ...      4        3      2     4     5      3       14  10   8   9  \n",
      "327  ...      4        4      5     5     5      4        8  11  10  10  \n",
      "375  ...      4        3      2     1     2      4        2   8   8  10  \n",
      "\n",
      "[8 rows x 33 columns]\n",
      "Los datos filtrados han sido guardados en C:\\Users\\HP\\Downloads\\student-travel.csv\n"
     ]
    }
   ],
   "source": [
    "import pandas as pd\n",
    "\n",
    "# Ruta al archivo CSV en tu computadora\n",
    "file_path = 'C:\\\\Users\\\\HP\\\\Downloads\\\\student-mat.csv'\n",
    "\n",
    "# Cargar el archivo CSV\n",
    "data = pd.read_csv(file_path)\n",
    "\n",
    "# Filtrar estudiantes con tiempo de viaje superior a 1 hora (traveltime == 4)\n",
    "students_travel_time = data[data['traveltime'] == 4]\n",
    "\n",
    "# Visualizar los datos filtrados\n",
    "print(students_travel_time)\n",
    "\n",
    "# Guardar los datos filtrados en un nuevo archivo CSV\n",
    "output_file_path = 'C:\\\\Users\\\\HP\\\\Downloads\\\\student-travel.csv'\n",
    "students_travel_time.to_csv(output_file_path, index=False)\n",
    "\n",
    "print(f\"Los datos filtrados han sido guardados en {output_file_path}\")\n"
   ]
  },
  {
   "cell_type": "code",
   "execution_count": null,
   "id": "5cadd7de-e30e-456b-af75-a229659418b1",
   "metadata": {},
   "outputs": [],
   "source": []
  }
 ],
 "metadata": {
  "kernelspec": {
   "display_name": "Python 3 (ipykernel)",
   "language": "python",
   "name": "python3"
  },
  "language_info": {
   "codemirror_mode": {
    "name": "ipython",
    "version": 3
   },
   "file_extension": ".py",
   "mimetype": "text/x-python",
   "name": "python",
   "nbconvert_exporter": "python",
   "pygments_lexer": "ipython3",
   "version": "3.11.7"
  }
 },
 "nbformat": 4,
 "nbformat_minor": 5
}
