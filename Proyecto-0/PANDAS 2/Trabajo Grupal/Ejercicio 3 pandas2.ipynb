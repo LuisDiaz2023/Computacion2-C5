{
  "metadata": {
    "kernelspec": {
      "name": "python",
      "display_name": "Python (Pyodide)",
      "language": "python"
    },
    "language_info": {
      "codemirror_mode": {
        "name": "python",
        "version": 3
      },
      "file_extension": ".py",
      "mimetype": "text/x-python",
      "name": "python",
      "nbconvert_exporter": "python",
      "pygments_lexer": "ipython3",
      "version": "3.8"
    }
  },
  "nbformat_minor": 4,
  "nbformat": 4,
  "cells": [
    {
      "cell_type": "markdown",
      "source": "### Ejercicio 3 ",
      "metadata": {}
    },
    {
      "cell_type": "markdown",
      "source": "<div class=\"well\">Visualizar el <strong>nombre del/(los) jugador(es) de la NBA</strong> que han llevado estudios <strong>College</strong> en la ciudad de <strong>Kentucky</strong>, dato que se puede ubicar en la columna <strong>College</strong>, desde el archivo <code>nba.csv</code> (Carpeta <code>data_ejercicios </code> ) debera visualizar por pantalla <strong>todos los datos de dicho(s) jugador(es)</strong> y adicionalmente guardar la información en el archivo <code>nba_adulto.csv</code>.\n\n\n</div>",
      "metadata": {}
    },
    {
      "cell_type": "code",
      "source": "import numpy as np\nimport pandas as pd",
      "metadata": {
        "trusted": true
      },
      "outputs": [],
      "execution_count": 1
    },
    {
      "cell_type": "code",
      "source": "name = pd.read_csv('data_ejercicios/nba.csv', ';')",
      "metadata": {
        "trusted": true
      },
      "outputs": [
        {
          "name": "stderr",
          "text": "<ipython-input-2-cee6c0ce4839>:1: FutureWarning: In a future version of pandas all arguments of read_csv except for the argument 'filepath_or_buffer' will be keyword-only.\n  name = pd.read_csv('data_ejercicios/nba.csv', ';')\n",
          "output_type": "stream"
        }
      ],
      "execution_count": 2
    },
    {
      "cell_type": "code",
      "source": "#cargamos un archivo CSV separado por comas con indice en columna \"College\"\ndata = pd.read_csv('data_ejercicios/nba.csv', index_col=\"College\")\n\n#Imprimir\ndata.head()",
      "metadata": {
        "trusted": true
      },
      "outputs": [
        {
          "execution_count": 3,
          "output_type": "execute_result",
          "data": {
            "text/plain": "                            Name            Team  Number Position   Age  \\\nCollege                                                                   \nTexas              Avery Bradley  Boston Celtics     0.0       PG  25.0   \nMarquette            Jae Crowder  Boston Celtics    99.0       SF  25.0   \nBoston University   John Holland  Boston Celtics    30.0       SG  27.0   \nGeorgia State        R.J. Hunter  Boston Celtics    28.0       SG  22.0   \nNaN                Jonas Jerebko  Boston Celtics     8.0       PF  29.0   \n\n                  Height  Weight     Salary  \nCollege                                      \nTexas                6-2   180.0  7730337.0  \nMarquette            6-6   235.0  6796117.0  \nBoston University    6-5   205.0        NaN  \nGeorgia State        6-5   185.0  1148640.0  \nNaN                 6-10   231.0  5000000.0  ",
            "text/html": "<div>\n<style scoped>\n    .dataframe tbody tr th:only-of-type {\n        vertical-align: middle;\n    }\n\n    .dataframe tbody tr th {\n        vertical-align: top;\n    }\n\n    .dataframe thead th {\n        text-align: right;\n    }\n</style>\n<table border=\"1\" class=\"dataframe\">\n  <thead>\n    <tr style=\"text-align: right;\">\n      <th></th>\n      <th>Name</th>\n      <th>Team</th>\n      <th>Number</th>\n      <th>Position</th>\n      <th>Age</th>\n      <th>Height</th>\n      <th>Weight</th>\n      <th>Salary</th>\n    </tr>\n    <tr>\n      <th>College</th>\n      <th></th>\n      <th></th>\n      <th></th>\n      <th></th>\n      <th></th>\n      <th></th>\n      <th></th>\n      <th></th>\n    </tr>\n  </thead>\n  <tbody>\n    <tr>\n      <th>Texas</th>\n      <td>Avery Bradley</td>\n      <td>Boston Celtics</td>\n      <td>0.0</td>\n      <td>PG</td>\n      <td>25.0</td>\n      <td>6-2</td>\n      <td>180.0</td>\n      <td>7730337.0</td>\n    </tr>\n    <tr>\n      <th>Marquette</th>\n      <td>Jae Crowder</td>\n      <td>Boston Celtics</td>\n      <td>99.0</td>\n      <td>SF</td>\n      <td>25.0</td>\n      <td>6-6</td>\n      <td>235.0</td>\n      <td>6796117.0</td>\n    </tr>\n    <tr>\n      <th>Boston University</th>\n      <td>John Holland</td>\n      <td>Boston Celtics</td>\n      <td>30.0</td>\n      <td>SG</td>\n      <td>27.0</td>\n      <td>6-5</td>\n      <td>205.0</td>\n      <td>NaN</td>\n    </tr>\n    <tr>\n      <th>Georgia State</th>\n      <td>R.J. Hunter</td>\n      <td>Boston Celtics</td>\n      <td>28.0</td>\n      <td>SG</td>\n      <td>22.0</td>\n      <td>6-5</td>\n      <td>185.0</td>\n      <td>1148640.0</td>\n    </tr>\n    <tr>\n      <th>NaN</th>\n      <td>Jonas Jerebko</td>\n      <td>Boston Celtics</td>\n      <td>8.0</td>\n      <td>PF</td>\n      <td>29.0</td>\n      <td>6-10</td>\n      <td>231.0</td>\n      <td>5000000.0</td>\n    </tr>\n  </tbody>\n</table>\n</div>"
          },
          "metadata": {}
        }
      ],
      "execution_count": 3
    },
    {
      "cell_type": "code",
      "source": "#variables que busca en la columna \"College\" y funcion `loc`\nfist = data.loc['Kentucky']\n\n#impresión\nfist, \"\\n\\n\\n\"",
      "metadata": {
        "trusted": true
      },
      "outputs": [
        {
          "execution_count": 4,
          "output_type": "execute_result",
          "data": {
            "text/plain": "(                            Name                    Team  Number Position  \\\n College                                                                     \n Kentucky             James Young          Boston Celtics    13.0       SG   \n Kentucky            Nerlens Noel      Philadelphia 76ers     4.0       PF   \n Kentucky       Patrick Patterson         Toronto Raptors    54.0       PF   \n Kentucky           Julius Randle      Los Angeles Lakers    30.0       PF   \n Kentucky            Eric Bledsoe            Phoenix Suns     2.0       PG   \n Kentucky            Devin Booker            Phoenix Suns     1.0       SG   \n Kentucky          Archie Goodwin            Phoenix Suns    20.0       SG   \n Kentucky          Brandon Knight            Phoenix Suns     3.0       PG   \n Kentucky     Willie Cauley-Stein        Sacramento Kings     0.0        C   \n Kentucky        DeMarcus Cousins        Sacramento Kings    15.0        C   \n Kentucky             Rajon Rondo        Sacramento Kings     9.0       PG   \n Kentucky             Jodie Meeks         Detroit Pistons    20.0       SG   \n Kentucky          Terrence Jones         Houston Rockets     6.0       PF   \n Kentucky           Anthony Davis    New Orleans Pelicans    23.0       PF   \n Kentucky          Aaron Harrison       Charlotte Hornets     9.0       SG   \n Kentucky  Michael Kidd-Gilchrist       Charlotte Hornets    14.0       SF   \n Kentucky               John Wall      Washington Wizards     2.0       PG   \n Kentucky         Tayshaun Prince  Minnesota Timberwolves    12.0       SF   \n Kentucky      Karl-Anthony Towns  Minnesota Timberwolves    32.0        C   \n Kentucky             Enes Kanter   Oklahoma City Thunder    11.0        C   \n Kentucky           Nazr Mohammed   Oklahoma City Thunder    13.0        C   \n Kentucky              Trey Lyles               Utah Jazz    41.0       PF   \n \n            Age Height  Weight      Salary  \n College                                    \n Kentucky  20.0    6-6   215.0   1749840.0  \n Kentucky  22.0   6-11   228.0   3457800.0  \n Kentucky  27.0    6-9   235.0   6268675.0  \n Kentucky  21.0    6-9   250.0   3132240.0  \n Kentucky  26.0    6-1   190.0  13500000.0  \n Kentucky  19.0    6-6   206.0   2127840.0  \n Kentucky  21.0    6-5   200.0   1160160.0  \n Kentucky  24.0    6-3   189.0  13500000.0  \n Kentucky  22.0    7-0   240.0   3398280.0  \n Kentucky  25.0   6-11   270.0  15851950.0  \n Kentucky  30.0    6-1   186.0   9500000.0  \n Kentucky  28.0    6-4   210.0   6270000.0  \n Kentucky  24.0    6-9   252.0   2489530.0  \n Kentucky  23.0   6-10   253.0   7070730.0  \n Kentucky  21.0    6-6   210.0    525093.0  \n Kentucky  22.0    6-7   232.0   6331404.0  \n Kentucky  25.0    6-4   195.0  15851950.0  \n Kentucky  36.0    6-9   212.0    947276.0  \n Kentucky  20.0    7-0   244.0   5703600.0  \n Kentucky  24.0   6-11   245.0  16407500.0  \n Kentucky  38.0   6-10   250.0    222888.0  \n Kentucky  20.0   6-10   234.0   2239800.0  ,\n '\\n\\n\\n')"
          },
          "metadata": {}
        }
      ],
      "execution_count": 4
    },
    {
      "cell_type": "code",
      "source": "#grabamos en otro archivo\nfist.to_csv('data_ejercicios/nba_adulto.csv')",
      "metadata": {
        "trusted": true
      },
      "outputs": [],
      "execution_count": 5
    }
  ]
}