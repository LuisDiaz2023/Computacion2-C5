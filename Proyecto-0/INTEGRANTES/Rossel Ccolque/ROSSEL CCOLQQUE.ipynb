{
  "metadata": {
    "kernelspec": {
      "name": "python",
      "display_name": "Python (Pyodide)",
      "language": "python"
    },
    "language_info": {
      "codemirror_mode": {
        "name": "python",
        "version": 3
      },
      "file_extension": ".py",
      "mimetype": "text/x-python",
      "name": "python",
      "nbconvert_exporter": "python",
      "pygments_lexer": "ipython3",
      "version": "3.8"
    }
  },
  "nbformat_minor": 4,
  "nbformat": 4,
  "cells": [
    {
      "cell_type": "markdown",
      "source": "<center> <h1>Universidad Nacional de San Agustín de Arequipa</h1> </center> \n<center> <h1>Escuela Profesional de Ingeniería de Telecomunicaciones</h1> </center> \n\n<center> <h1> </h1> </center> \n\n<center><img src=\"https://user-images.githubusercontent.com/19308295/115939517-f1c6fe80-a463-11eb-989c-812ab4942586.png\" width=\"380\" height=\"4200\"></center>",
      "metadata": {}
    },
    {
      "cell_type": "markdown",
      "source": "<center> <h2>Ingeniero Renzo Bolivar - Docente DAIE</h2> </center> ",
      "metadata": {}
    },
    {
      "cell_type": "markdown",
      "source": "<center> <h1>Curso : Computación 2</h1> </center> ",
      "metadata": {}
    },
    {
      "cell_type": "markdown",
      "source": "![linea 1](https://user-images.githubusercontent.com/19308295/115926252-2b8a0c00-a448-11eb-9d9c-b43beaf0ff68.png)",
      "metadata": {}
    },
    {
      "cell_type": "markdown",
      "source": "<center> <h1>NUMPY</h1> </center> ",
      "metadata": {}
    },
    {
      "cell_type": "markdown",
      "source": "![linea 1](https://user-images.githubusercontent.com/19308295/115926252-2b8a0c00-a448-11eb-9d9c-b43beaf0ff68.png)",
      "metadata": {}
    },
    {
      "cell_type": "markdown",
      "source": "# Descripción:",
      "metadata": {}
    },
    {
      "cell_type": "markdown",
      "source": "En este notebook se explicarán _NumPy_ la librería de cálculo numérico uno de los paquetes centrales para la computación numérica en Python.",
      "metadata": {}
    },
    {
      "cell_type": "markdown",
      "source": "# Objetivos:\n\n\n 1. Familiarizarce con las matrices en NumPy\n 2. Creación de matrices en Numpy\n 3. Comprobar la facilidad de uso en NumPy",
      "metadata": {}
    },
    {
      "cell_type": "markdown",
      "source": "# Contenido:",
      "metadata": {}
    },
    {
      "cell_type": "markdown",
      "source": "[1. Numpy: Librería de cálculo numérico](#1.-Numpy:-Librería-de-cálculo-numérico)<br>\n[2. Numpy: Funciones básicas](#2.-Numpy:-Funciones-básicas)<br>\n[3. Inspeccionar matrices de NumPy](#3.-Inspeccionar-matrices-de-NumPy)<br>\n[4. Operaciones Matemáticas entre matrices de NumPy](#4.-Operaciones-Matemáticas-entre-matrices-de-NumPy)<br>\n\n[EJEMPLOS](#EJEMPLOS)<br>\n[EJERCICIOS](#EJERCICIOS)<br>\n[BIBLIOGRAFÍA](#BIBLIOGRAFÍA)<br>",
      "metadata": {}
    },
    {
      "cell_type": "markdown",
      "source": "![linea 1](https://user-images.githubusercontent.com/19308295/115926252-2b8a0c00-a448-11eb-9d9c-b43beaf0ff68.png)",
      "metadata": {}
    },
    {
      "cell_type": "markdown",
      "source": "## <font color=#33A5FF>****1. Numpy: Librería de cálculo numérico****<tfont>",
      "metadata": {}
    },
    {
      "cell_type": "markdown",
      "source": "<img src=\"https://user-images.githubusercontent.com/19308295/115939595-32bf1300-a464-11eb-8c50-6f05dce9a805.png\"\n    style=\"width:300px; float: right; margin: 0 40px 40px 40px;\"></img>\n\nNumPy (Numerical Python) es uno de los paquetes centrales para la computación numérica en Python. Pandas, Matplotlib, Statmodels y muchas otras librerías científicas dependen de NumPy.\n\nLas principales contribuciones de NumPy son:\n\n* Computación numérica eficiente con código \"C\"\n* Recopilaciones eficientes con operaciones vectoriales\n* Un Aplicativo (API) de álgebra lineal integrada y natural\n* Un Aplicativo (API) en C para conectar NumPy con librerías escritas en C, C++ o FORTRAN.\n\nDesarrollemos la eficiencia. En Python, **todo es un objeto**, lo que significa que incluso los simples __enteros (int)__ son también objetos, con toda la maquinaria necesaria para hacer que el objeto funcione. Los llamamos \"Boxed Ints\". En cambio, `NumPy` utiliza tipos numéricos primitivos (floats, ints) que hacen que el almacenamiento y el cálculo sean eficientes.\n",
      "metadata": {}
    },
    {
      "cell_type": "markdown",
      "source": "![Python Boxed Ints vs C and Numpy](https://user-images.githubusercontent.com/19308295/115942212-b2ea7600-a46e-11eb-86ed-d7cdc9dffbe0.png)",
      "metadata": {}
    },
    {
      "cell_type": "markdown",
      "source": "\n<img src=\"https://user-images.githubusercontent.com/19308295/115942590-98b19780-a470-11eb-84b0-a6390e928eb3.png\"\n    style=\"width:700px\"></img>",
      "metadata": {}
    },
    {
      "cell_type": "markdown",
      "source": "\n<div class=\"well\">\n\n<strong>Utilización de NumPy:</strong>\n    \n* En Matemáticas (Reemplaza al MATLAB)\n* Genera Gráficos a partir de Matrices Numpy \n* Backend (Pandas, Connect 4 Games, Fotografía Digital)\n* Machine Learning.\n    \n</div>",
      "metadata": {}
    },
    {
      "cell_type": "markdown",
      "source": "<div class=\"well\">\n\n<strong>NumPy Array o el arreglo de matrices de NumPy</strong> es un potente objeto de matriz N-dimensional que tiene forma de filas y columnas, en la que tenemos varios elementos que están almacenados en sus respectivas ubicaciones de memoria. \n    \nEn la siguiente imagen, es una <strong>matriz bidimensiona</strong>l porque tiene filas y columnas, como puedes ver tiene cuatro filas y tres columnas, por lo que se convierte en una matriz bidimensional. En el caso de que solo tuviera una fila entonces habría sido una matriz unidimensional.\n    \n</div>",
      "metadata": {}
    },
    {
      "cell_type": "markdown",
      "source": "![Practica_04](https://user-images.githubusercontent.com/19308295/115941133-c8a96c80-a469-11eb-8e21-117c1e84bf69.png)",
      "metadata": {}
    },
    {
      "cell_type": "markdown",
      "source": "![linea 2](https://user-images.githubusercontent.com/19308295/115926262-2fb62980-a448-11eb-8189-c2f10e499944.png)",
      "metadata": {}
    },
    {
      "cell_type": "markdown",
      "source": "## <font color=#33A5FF>****2. Numpy: Funciones básicas****<tfont>",
      "metadata": {}
    },
    {
      "cell_type": "markdown",
      "source": "###  Matriz  unidimensional",
      "metadata": {}
    },
    {
      "cell_type": "markdown",
      "source": "Con la primera instrucción `import numpy as np` le estamos indicando a nuestro programa de Python que de ahora en adelante `np` será la referencia para todo lo referente a NumPy.",
      "metadata": {}
    },
    {
      "cell_type": "code",
      "source": "import numpy as np\na=np.array([1,2,3])\nprint(a)",
      "metadata": {
        "trusted": true
      },
      "outputs": [
        {
          "name": "stdout",
          "text": "[1 2 3]\n",
          "output_type": "stream"
        }
      ],
      "execution_count": 1
    },
    {
      "cell_type": "markdown",
      "source": "###  Matriz bidimensional",
      "metadata": {}
    },
    {
      "cell_type": "code",
      "source": "b=np.array([(1,2,3),(4,5,6)])\nprint(b)",
      "metadata": {
        "trusted": true
      },
      "outputs": [
        {
          "name": "stdout",
          "text": "[[1 2 3]\n [4 5 6]]\n",
          "output_type": "stream"
        }
      ],
      "execution_count": 3
    },
    {
      "cell_type": "code",
      "source": "array=np.array([[1,2,3,4],[5,6,7,8]],dtype=np.int64)\nprint(array)",
      "metadata": {
        "trusted": true
      },
      "outputs": [
        {
          "name": "stdout",
          "text": "[[1 2 3 4]\n [5 6 7 8]]\n",
          "output_type": "stream"
        }
      ],
      "execution_count": 4
    },
    {
      "cell_type": "markdown",
      "source": "###  Porque usar NumPy",
      "metadata": {}
    },
    {
      "cell_type": "markdown",
      "source": "Porque usar NumPy en vez de utilizar las listas propias que ofrece Python para manejar estos datos, la primera razón es que NumPy ocupa menos memoria en comparación a las lista de Python, a su vez es bastante rápido en términos de ejecución. Lo que se observa en el siguiente ejemplo:",
      "metadata": {}
    },
    {
      "cell_type": "markdown",
      "source": "**Cantidad de memoria asignada**",
      "metadata": {}
    },
    {
      "cell_type": "code",
      "source": "import sys\nS=range(1000)\nprint(sys.getsizeof(5)*len(S))",
      "metadata": {
        "trusted": true
      },
      "outputs": [
        {
          "name": "stdout",
          "text": "16000\n",
          "output_type": "stream"
        }
      ],
      "execution_count": 5
    },
    {
      "cell_type": "code",
      "source": "D=np.arange(1000)\nprint(D.size*D.itemsize)",
      "metadata": {
        "trusted": true
      },
      "outputs": [
        {
          "name": "stdout",
          "text": "4000\n",
          "output_type": "stream"
        }
      ],
      "execution_count": 6
    },
    {
      "cell_type": "markdown",
      "source": "**Velocidad**",
      "metadata": {}
    },
    {
      "cell_type": "code",
      "source": "import time\nSIZE = 1000000\nL1= range(SIZE)\nL2= range(SIZE)\n\nstart=time.time()\nresult=[(x,y) for x,y in zip(L1,L2)] #se unsa for\nprint((time.time()-start)*1000) #Velocidad en Listas",
      "metadata": {
        "trusted": true
      },
      "outputs": [
        {
          "name": "stdout",
          "text": "226.0000705718994\n",
          "output_type": "stream"
        }
      ],
      "execution_count": 7
    },
    {
      "cell_type": "code",
      "source": "A1=np.arange(SIZE)\nA2=np.arange(SIZE)\n\nstart=time.time()\nresult= A1+A2                    #Solo se suma\nprint((time.time()-start)*1000)  #Velocidad de Numpy",
      "metadata": {
        "trusted": true
      },
      "outputs": [
        {
          "name": "stdout",
          "text": "107.00011253356934\n",
          "output_type": "stream"
        }
      ],
      "execution_count": 8
    },
    {
      "cell_type": "markdown",
      "source": "### Matrices Vacias",
      "metadata": {}
    },
    {
      "cell_type": "markdown",
      "source": "En ocasiones se requiere crear matrices vacías, esto se refiere a que se requieren marcadores de posición iniciales, que luego pueden ser rellenados. Se puede inicializar matrices con unos o ceros, pero también puedes hacer matrices que se llenan con valores espaciados uniformemente, valores constantes o aleatorios.\n\nAlgunas de las instrucciones para crear este tipo de matrices son las siguientes:",
      "metadata": {}
    },
    {
      "cell_type": "markdown",
      "source": "**Crear una matriz en donde todos los valores sean igual a 1**",
      "metadata": {}
    },
    {
      "cell_type": "code",
      "source": "unos = np.ones((3,4))\nprint(unos)",
      "metadata": {
        "trusted": true
      },
      "outputs": [
        {
          "name": "stdout",
          "text": "[[1. 1. 1. 1.]\n [1. 1. 1. 1.]\n [1. 1. 1. 1.]]\n",
          "output_type": "stream"
        }
      ],
      "execution_count": 9
    },
    {
      "cell_type": "markdown",
      "source": "**Crear una matriz en donde todos los valores sean igual a 0**",
      "metadata": {}
    },
    {
      "cell_type": "code",
      "source": "ceros=np.zeros((3,4))\nprint(ceros)",
      "metadata": {
        "trusted": true
      },
      "outputs": [
        {
          "name": "stdout",
          "text": "[[0. 0. 0. 0.]\n [0. 0. 0. 0.]\n [0. 0. 0. 0.]]\n",
          "output_type": "stream"
        }
      ],
      "execution_count": 10
    },
    {
      "cell_type": "markdown",
      "source": "**Crear una matriz de números aleatorios**",
      "metadata": {}
    },
    {
      "cell_type": "code",
      "source": "#Crear una matriz con valores aleatorios\naleatorios=np.random.random((2,2))\nprint(aleatorios)",
      "metadata": {
        "trusted": true
      },
      "outputs": [
        {
          "name": "stdout",
          "text": "[[0.55235504 0.59463523]\n [0.7327263  0.22676773]]\n",
          "output_type": "stream"
        }
      ],
      "execution_count": 11
    },
    {
      "cell_type": "markdown",
      "source": "**Crear una matriz vacía**",
      "metadata": {}
    },
    {
      "cell_type": "code",
      "source": "#Crear una matriz vacia\nvacia = np.empty((3,2))\nprint(vacia)",
      "metadata": {
        "trusted": true
      },
      "outputs": [
        {
          "name": "stdout",
          "text": "[[1.54775658e-307 0.00000000e+000]\n [1.86522423e-301 2.47032823e-323]\n [1.13541572e-317 3.00373336e-316]]\n",
          "output_type": "stream"
        }
      ],
      "execution_count": 14
    },
    {
      "cell_type": "markdown",
      "source": "**Crear una matriz que contenga un solo valor en todas las posiciones**",
      "metadata": {}
    },
    {
      "cell_type": "code",
      "source": "#Crear una matriz con un solo valor\nfull = np.full((2,2),8)\nprint(full)",
      "metadata": {
        "trusted": true
      },
      "outputs": [
        {
          "name": "stdout",
          "text": "[[8 8]\n [8 8]]\n",
          "output_type": "stream"
        }
      ],
      "execution_count": 15
    },
    {
      "cell_type": "markdown",
      "source": "**Crear una matriz con rangos de números**",
      "metadata": {}
    },
    {
      "cell_type": "code",
      "source": "#Crear una matriz con valores espaciados uniformemente\nespacio1= np.arange(0,30,5)\nprint(espacio1)",
      "metadata": {
        "trusted": true
      },
      "outputs": [
        {
          "name": "stdout",
          "text": "[ 0  5 10 15 20 25]\n",
          "output_type": "stream"
        }
      ],
      "execution_count": 16
    },
    {
      "cell_type": "code",
      "source": "espacio2= np.linspace(0,2,5)\nprint(espacio2)",
      "metadata": {
        "trusted": true
      },
      "outputs": [
        {
          "name": "stdout",
          "text": "[0.  0.5 1.  1.5 2. ]\n",
          "output_type": "stream"
        }
      ],
      "execution_count": 17
    },
    {
      "cell_type": "markdown",
      "source": "**Crear una matriz identidad**",
      "metadata": {}
    },
    {
      "cell_type": "code",
      "source": "identidad1= np.eye(4,4)\nprint(identidad1)\nidentidad2= np.identity(4)\nprint(identidad2)",
      "metadata": {
        "trusted": true
      },
      "outputs": [
        {
          "name": "stdout",
          "text": "[[1. 0. 0. 0.]\n [0. 1. 0. 0.]\n [0. 0. 1. 0.]\n [0. 0. 0. 1.]]\n[[1. 0. 0. 0.]\n [0. 1. 0. 0.]\n [0. 0. 1. 0.]\n [0. 0. 0. 1.]]\n",
          "output_type": "stream"
        }
      ],
      "execution_count": 18
    },
    {
      "cell_type": "markdown",
      "source": "![linea 2](https://user-images.githubusercontent.com/19308295/115926262-2fb62980-a448-11eb-8189-c2f10e499944.png)",
      "metadata": {}
    },
    {
      "cell_type": "markdown",
      "source": "## <font color=#33A5FF>****3. Inspeccionar matrices de NumPy****<tfont>",
      "metadata": {}
    },
    {
      "cell_type": "markdown",
      "source": "**Dimensión de una matriz**",
      "metadata": {}
    },
    {
      "cell_type": "code",
      "source": "#Conocer las dimiensiones de una matriz\na=np.array([(1,2,3),(4,5,6)])\nprint(a.ndim)",
      "metadata": {
        "trusted": true
      },
      "outputs": [
        {
          "name": "stdout",
          "text": "2\n",
          "output_type": "stream"
        }
      ],
      "execution_count": 19
    },
    {
      "cell_type": "markdown",
      "source": "**Tipo de Datos de una matriz**",
      "metadata": {}
    },
    {
      "cell_type": "code",
      "source": "# Conocer el tipo de los datos\nprint(a.dtype)",
      "metadata": {
        "trusted": true
      },
      "outputs": [
        {
          "name": "stdout",
          "text": "int32\n",
          "output_type": "stream"
        }
      ],
      "execution_count": 20
    },
    {
      "cell_type": "markdown",
      "source": "**Tamaño y forma de una matriz**",
      "metadata": {}
    },
    {
      "cell_type": "code",
      "source": "# Conocer el tamaño y forma de la matriz\na = np.array([(1,2,3,4,5,6)])\nprint(a.size)\nprint(a.shape)",
      "metadata": {
        "trusted": true
      },
      "outputs": [
        {
          "name": "stdout",
          "text": "6\n(1, 6)\n",
          "output_type": "stream"
        }
      ],
      "execution_count": 21
    },
    {
      "cell_type": "markdown",
      "source": "**Cambio de forma de una matriz**",
      "metadata": {}
    },
    {
      "cell_type": "code",
      "source": "# Cambio de forma de una matriz\na = np.array([(8,9,10), (11,12,13) ]) #2 filas X 3 columnas \nprint(a)\na=a.reshape(3,2) # 3 filas X 2 columnas \nprint (a)",
      "metadata": {
        "trusted": true
      },
      "outputs": [
        {
          "name": "stdout",
          "text": "[[ 8  9 10]\n [11 12 13]]\n[[ 8  9]\n [10 11]\n [12 13]]\n",
          "output_type": "stream"
        }
      ],
      "execution_count": 22
    },
    {
      "cell_type": "markdown",
      "source": "**Seleccionar elemento de una matriz**",
      "metadata": {}
    },
    {
      "cell_type": "code",
      "source": "# Extraer un solo valor de la matriz - el valor ubicado en la fila 0 columna 2\na=np.array([(1,2,3,4), (3,4,5,6)]) \nprint (a[0,2])",
      "metadata": {
        "trusted": true
      },
      "outputs": [
        {
          "name": "stdout",
          "text": "3\n",
          "output_type": "stream"
        }
      ],
      "execution_count": 23
    },
    {
      "cell_type": "code",
      "source": "# Extraer los valores de todas las filas ubicados en la columna 3 \na=np.array([(1,2,3,4), (3,4,5,6)])\nprint (a[0:,2])",
      "metadata": {
        "trusted": true
      },
      "outputs": [
        {
          "name": "stdout",
          "text": "[3 5]\n",
          "output_type": "stream"
        }
      ],
      "execution_count": 24
    },
    {
      "cell_type": "markdown",
      "source": "![linea 2](https://user-images.githubusercontent.com/19308295/115926262-2fb62980-a448-11eb-8189-c2f10e499944.png)",
      "metadata": {}
    },
    {
      "cell_type": "markdown",
      "source": "## <font color=#33A5FF>****4. Operaciones Matemáticas entre matrices de NumPy****<tfont>",
      "metadata": {}
    },
    {
      "cell_type": "markdown",
      "source": "**Valor mínimo, máximo y la suma de una matriz**",
      "metadata": {}
    },
    {
      "cell_type": "code",
      "source": "# Encontrar el mínimo, máximo y la suma\na=np.array([2,45,800])\nprint(a.min())\nprint(a.max())\nprint(a.sum())",
      "metadata": {
        "trusted": true
      },
      "outputs": [
        {
          "name": "stdout",
          "text": "2\n800\n847\n",
          "output_type": "stream"
        }
      ],
      "execution_count": 25
    },
    {
      "cell_type": "markdown",
      "source": "**Raiz Cuadrada y Desviación de una matriz**",
      "metadata": {}
    },
    {
      "cell_type": "code",
      "source": "# Calcular la raíz cuadrada y la desviación estándar\na=np.array([(1,4,81), (33,44,50,)])\nprint (np.sqrt(a))\nprint (np.std(a))",
      "metadata": {
        "trusted": true
      },
      "outputs": [
        {
          "name": "stdout",
          "text": "[[1.         2.         9.        ]\n [5.74456265 6.63324958 7.07106781]]\n27.5121185419565\n",
          "output_type": "stream"
        }
      ],
      "execution_count": 26
    },
    {
      "cell_type": "markdown",
      "source": "**Suma, resta, multiplicación y división de dos matrices**",
      "metadata": {}
    },
    {
      "cell_type": "code",
      "source": "# Calcular la suma, resta, multiplicación y división de dos matrices\nx= np.array([(1,2,3), (3,4,5)])\ny= np.array([(1,2,3), (3,4,5)])\nprint (x+y)\nprint()\nprint (x-y)\nprint()\nprint (x*y)\nprint()\nprint (x/y)",
      "metadata": {
        "trusted": true
      },
      "outputs": [
        {
          "name": "stdout",
          "text": "[[ 2  4  6]\n [ 6  8 10]]\n\n[[0 0 0]\n [0 0 0]]\n\n[[ 1  4  9]\n [ 9 16 25]]\n\n[[1. 1. 1.]\n [1. 1. 1.]]\n",
          "output_type": "stream"
        }
      ],
      "execution_count": 27
    },
    {
      "cell_type": "markdown",
      "source": "![linea 2](https://user-images.githubusercontent.com/19308295/115926262-2fb62980-a448-11eb-8189-c2f10e499944.png)",
      "metadata": {}
    },
    {
      "cell_type": "markdown",
      "source": "## <font color=#33A5FF>****EJEMPLOS****<tfont>",
      "metadata": {}
    },
    {
      "cell_type": "markdown",
      "source": "___Ejemplo 1:___ Cree una matriz de 5x5 con valores 1,2,3,4 justo debajo de la diagonal:",
      "metadata": {}
    },
    {
      "cell_type": "code",
      "source": "Z = np.diag(1+np.arange(4),k=-1)\nprint(Z)",
      "metadata": {
        "trusted": true
      },
      "outputs": [
        {
          "name": "stdout",
          "text": "[[0 0 0 0 0]\n [1 0 0 0 0]\n [0 2 0 0 0]\n [0 0 3 0 0]\n [0 0 0 4 0]]\n",
          "output_type": "stream"
        }
      ],
      "execution_count": 28
    },
    {
      "cell_type": "markdown",
      "source": "___Ejemplo 2:___ Crea un vector aleatorio de tamaño 30 y encuentra el valor medio :",
      "metadata": {}
    },
    {
      "cell_type": "code",
      "source": "Z = np.random.random(30)\nm = Z.mean()\nprint(m)",
      "metadata": {
        "trusted": true
      },
      "outputs": [
        {
          "name": "stdout",
          "text": "0.5291668503800881\n",
          "output_type": "stream"
        }
      ],
      "execution_count": 29
    },
    {
      "cell_type": "markdown",
      "source": "___Ejemplo 3:___ ¿Cómo ordenar una matriz por la enésima columna?:",
      "metadata": {}
    },
    {
      "cell_type": "code",
      "source": "Z = np.random.randint(0,10,(3,3))\nprint(Z)\nprint(Z[Z[:,1].argsort()])",
      "metadata": {
        "trusted": true
      },
      "outputs": [
        {
          "name": "stdout",
          "text": "[[7 1 1]\n [0 3 8]\n [5 1 4]]\n[[7 1 1]\n [5 1 4]\n [0 3 8]]\n",
          "output_type": "stream"
        }
      ],
      "execution_count": 30
    },
    {
      "cell_type": "markdown",
      "source": "___Ejemplo 4:___ ¿Cómo agregar un borde (lleno de 0) alrededor de una matriz existente?",
      "metadata": {}
    },
    {
      "cell_type": "code",
      "source": "Z = np.ones((5,5))\nZ = np.pad(Z, pad_width=1, mode='constant', constant_values=0)\nprint(Z)",
      "metadata": {
        "trusted": true
      },
      "outputs": [
        {
          "name": "stdout",
          "text": "[[0. 0. 0. 0. 0. 0. 0.]\n [0. 1. 1. 1. 1. 1. 0.]\n [0. 1. 1. 1. 1. 1. 0.]\n [0. 1. 1. 1. 1. 1. 0.]\n [0. 1. 1. 1. 1. 1. 0.]\n [0. 1. 1. 1. 1. 1. 0.]\n [0. 0. 0. 0. 0. 0. 0.]]\n",
          "output_type": "stream"
        }
      ],
      "execution_count": 31
    },
    {
      "cell_type": "markdown",
      "source": "![linea 2](https://user-images.githubusercontent.com/19308295/115926262-2fb62980-a448-11eb-8189-c2f10e499944.png)",
      "metadata": {}
    },
    {
      "cell_type": "markdown",
      "source": "## <font color=#33A5FF>****EJERCICIOS****<tfont>",
      "metadata": {}
    },
    {
      "cell_type": "markdown",
      "source": "<center> <h2>Ejercicio 01</h2> </center> ",
      "metadata": {}
    },
    {
      "cell_type": "markdown",
      "source": "* Crear un array 7x8 lleno de ceros de tipo entero.\n* Crear un array 7x8 lleno de ceros salvo la primera fila que serán todo unos.\n* Crear un array 7x8 lleno de ceros salvo la última fila que será el rango entre 5 y 8.",
      "metadata": {}
    },
    {
      "cell_type": "markdown",
      "source": "<center> <h2>Ejercicio 02</h2> </center> ",
      "metadata": {}
    },
    {
      "cell_type": "markdown",
      "source": "* Crea un vector de 10 elementos, siendo los impares 1 y los pares 2.\n* Crea un «tablero de ajedrez» 8x8, con 1 en las casillas negras y 0 en las casillas blancas.",
      "metadata": {}
    },
    {
      "cell_type": "markdown",
      "source": "<center> <h2>Ejercicio 03</h2> </center> ",
      "metadata": {}
    },
    {
      "cell_type": "markdown",
      "source": "* Crea una matriz aleatoria 7x7 y halla los valores mínimo y máximo.\n* Normaliza la matriz anterior entre 0 y 1.",
      "metadata": {}
    },
    {
      "cell_type": "markdown",
      "source": "<center> <h2>Ejercicio 04</h2> </center> ",
      "metadata": {}
    },
    {
      "cell_type": "markdown",
      "source": "De la siguiente Matriz",
      "metadata": {}
    },
    {
      "cell_type": "markdown",
      "source": "<img src=\"https://user-images.githubusercontent.com/19308295/115969506-dbbc4b00-a502-11eb-9c76-c9da265c5366.png\"\n    style=\"width:400px\"></img>",
      "metadata": {}
    },
    {
      "cell_type": "markdown",
      "source": "* Luego invertir lo valores de 9 y 1 de la Matriz anterior",
      "metadata": {}
    },
    {
      "cell_type": "markdown",
      "source": "<center> <h2>Ejercicio 05</h2> </center> ",
      "metadata": {}
    },
    {
      "cell_type": "markdown",
      "source": "De la siguiente Matriz:",
      "metadata": {}
    },
    {
      "cell_type": "markdown",
      "source": "<img src=\"https://user-images.githubusercontent.com/19308295/115969585-39509780-a503-11eb-92ac-fd88557e6cfc.png\"\n    style=\"width:400px\"></img>",
      "metadata": {}
    },
    {
      "cell_type": "markdown",
      "source": "* Extraer la matrices de cada color",
      "metadata": {}
    },
    {
      "cell_type": "markdown",
      "source": "<center> <h2>Ejercicio 06</h2> </center> ",
      "metadata": {}
    },
    {
      "cell_type": "markdown",
      "source": "De la siguiente Matriz:",
      "metadata": {}
    },
    {
      "cell_type": "markdown",
      "source": "<img src=\"https://user-images.githubusercontent.com/19308295/115969622-613ffb00-a503-11eb-98b8-7edcf70c5851.png\"\n    style=\"width:600px\"></img>\n",
      "metadata": {}
    },
    {
      "cell_type": "markdown",
      "source": "Se debe **buscar dentro de la matriz de color verde el valor = 50**, luego reemplazar con la pequeña matriz de color celeste quedando la matriz de la siguiente manera:",
      "metadata": {}
    },
    {
      "cell_type": "markdown",
      "source": "<img src=\"https://user-images.githubusercontent.com/19308295/115969624-656c1880-a503-11eb-9a48-7dba0c379f86.png\"\n    style=\"width:400px\"></img>\n",
      "metadata": {}
    },
    {
      "cell_type": "markdown",
      "source": "El algoritmo solución debe poder **ubicar el valor = 50** en cualquier posición y hacer el reemplazo.",
      "metadata": {}
    },
    {
      "cell_type": "markdown",
      "source": "![linea 2](https://user-images.githubusercontent.com/19308295/115926262-2fb62980-a448-11eb-8189-c2f10e499944.png)",
      "metadata": {}
    },
    {
      "cell_type": "markdown",
      "source": "## <font color=#33A5FF>****BIBLIOGRAFÍA****<tfont>",
      "metadata": {}
    },
    {
      "cell_type": "markdown",
      "source": "[1] Documentación de NumPy http://docs.scipy.org/doc/numpy\n\n[2] Travis Oliphant, \"Guide to NumPy\" http://csc.ucdavis.edu/~chaos/courses/nlp/Software/NumPyBook.pdf\n\n[3] SciPy Lecture Notes http://scipy-lectures.github.io\n\n[4] Nicolas Rougier, \"100 NumPy exercises\" http://www.loria.fr/~rougier/teaching/numpy.100/index.html",
      "metadata": {}
    },
    {
      "cell_type": "markdown",
      "source": "![linea 1](https://user-images.githubusercontent.com/19308295/115926252-2b8a0c00-a448-11eb-9d9c-b43beaf0ff68.png)",
      "metadata": {}
    }
  ]
}