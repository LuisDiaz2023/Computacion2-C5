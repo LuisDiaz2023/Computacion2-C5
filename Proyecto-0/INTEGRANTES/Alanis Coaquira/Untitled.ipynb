{
  "metadata": {
    "kernelspec": {
      "name": "python",
      "display_name": "Python (Pyodide)",
      "language": "python"
    },
    "language_info": {
      "codemirror_mode": {
        "name": "python",
        "version": 3
      },
      "file_extension": ".py",
      "mimetype": "text/x-python",
      "name": "python",
      "nbconvert_exporter": "python",
      "pygments_lexer": "ipython3",
      "version": "3.8"
    }
  },
  "nbformat_minor": 4,
  "nbformat": 4,
  "cells": [
    {
      "cell_type": "markdown",
      "source": "<center> <h2>Ejercicio 03</h2> </center> ",
      "metadata": {}
    },
    {
      "cell_type": "markdown",
      "source": "* Crea una matriz aleatoria 7x7 y halla los valores mínimo y máximo.\n* Normaliza la matriz anterior entre 0 y 1.",
      "metadata": {}
    },
    {
      "cell_type": "code",
      "source": "import numpy as np\naleatorios = np.random.random((7,7))\nprint(aleatorios)",
      "metadata": {
        "trusted": true
      },
      "outputs": [
        {
          "name": "stdout",
          "text": "[[0.37219826 0.33906906 0.52486009 0.80462915 0.26660297 0.66723879\n  0.94136295]\n [0.85018435 0.26316068 0.69283194 0.31850635 0.97721344 0.11877347\n  0.64088233]\n [0.43495652 0.37017342 0.07624719 0.81181756 0.35064837 0.24064867\n  0.5496451 ]\n [0.58019873 0.14128531 0.40778244 0.21726015 0.36406142 0.85013679\n  0.97730379]\n [0.04043968 0.43456807 0.52968818 0.40664423 0.43531514 0.81031504\n  0.33983063]\n [0.65332118 0.0398612  0.96254722 0.3857914  0.43542745 0.38764951\n  0.57456284]\n [0.72988657 0.69052448 0.4796907  0.81064298 0.24138238 0.03889372\n  0.91814832]]\n",
          "output_type": "stream"
        }
      ],
      "execution_count": 3
    },
    {
      "cell_type": "code",
      "source": "minimo=aleatorios.min()\nmaximo=aleatorios.max()\nprint(minimo)\nprint(maximo)",
      "metadata": {
        "trusted": true
      },
      "outputs": [
        {
          "name": "stdout",
          "text": "0.038893724715786004\n0.9773037948210433\n",
          "output_type": "stream"
        }
      ],
      "execution_count": 14
    },
    {
      "cell_type": "code",
      "source": "matriz_normalizada = (aleatorios - minimo) / (maximo - minimo)\nprint(matriz_normalizada)",
      "metadata": {
        "trusted": true
      },
      "outputs": [
        {
          "name": "stdout",
          "text": "[[0.35518005 0.31987651 0.51786141 0.81599233 0.24265431 0.66958474\n  0.96170028]\n [0.86453742 0.23898609 0.69685763 0.29796422 0.99990371 0.08512243\n  0.64149845]\n [0.42205727 0.35302231 0.03980506 0.82365254 0.33221579 0.21499656\n  0.54427312]\n [0.57683205 0.10911177 0.3930997  0.19007301 0.34650917 0.86448674\n  1.        ]\n [0.00164742 0.42164332 0.52300638 0.39188678 0.42243943 0.82205141\n  0.32068806]\n [0.65475368 0.00103098 0.98427492 0.36966534 0.42255911 0.3716454\n  0.57082626]\n [0.73634424 0.69439872 0.46972746 0.82240087 0.21577844 0.\n  0.93696202]]\n",
          "output_type": "stream"
        }
      ],
      "execution_count": 15
    }
  ]
}