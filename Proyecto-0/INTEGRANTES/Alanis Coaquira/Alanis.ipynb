{
  "metadata": {
    "kernelspec": {
      "name": "python",
      "display_name": "Python (Pyodide)",
      "language": "python"
    },
    "language_info": {
      "codemirror_mode": {
        "name": "python",
        "version": 3
      },
      "file_extension": ".py",
      "mimetype": "text/x-python",
      "name": "python",
      "nbconvert_exporter": "python",
      "pygments_lexer": "ipython3",
      "version": "3.8"
    },
    "colab": {
      "provenance": []
    }
  },
  "nbformat_minor": 4,
  "nbformat": 4,
  "cells": [
    {
      "cell_type": "markdown",
      "source": "<center> <h1>Universidad Nacional de San Agustín de Arequipa</h1> </center>\n<center> <h1>Escuela Profesional de Ingeniería de Telecomunicaciones</h1> </center>\n\n<center> <h1> </h1> </center>\n\n<center><img src=\"https://user-images.githubusercontent.com/19308295/115939517-f1c6fe80-a463-11eb-989c-812ab4942586.png\" width=\"380\" height=\"4200\"></center>",
      "metadata": {
        "id": "tnCcHVLtcCXv"
      }
    },
    {
      "cell_type": "markdown",
      "source": "",
      "metadata": {
        "id": "y59BSW7tcE6_"
      }
    },
    {
      "cell_type": "markdown",
      "source": "<center> <h2>Coaquira Paucar Alannis Shardely - Estudiante</h2> </center>",
      "metadata": {
        "id": "5wNAr6dTcCXx"
      }
    },
    {
      "cell_type": "markdown",
      "source": "<center> <h1>Curso : Computación 2</h1> </center>",
      "metadata": {
        "id": "DZ8ow-Q3cCXy"
      }
    },
    {
      "cell_type": "markdown",
      "source": "![linea 1](https://user-images.githubusercontent.com/19308295/115926252-2b8a0c00-a448-11eb-9d9c-b43beaf0ff68.png)",
      "metadata": {
        "id": "7oVrK5CEcCXy"
      }
    },
    {
      "cell_type": "markdown",
      "source": "<center> <h1>NUMPY</h1> </center>",
      "metadata": {
        "id": "nPdq3qvqcCXz"
      }
    },
    {
      "cell_type": "markdown",
      "source": "![linea 1](https://user-images.githubusercontent.com/19308295/115926252-2b8a0c00-a448-11eb-9d9c-b43beaf0ff68.png)",
      "metadata": {
        "id": "qXuDnk6TcCXz"
      }
    },
    {
      "cell_type": "markdown",
      "source": "# Descripción:",
      "metadata": {
        "id": "lsnNJtJCcCXz"
      }
    },
    {
      "cell_type": "markdown",
      "source": "En este notebook se explicarán _NumPy_ la librería de cálculo numérico uno de los paquetes centrales para la computación numérica en Python.",
      "metadata": {
        "id": "J5nOrOQBcCXz"
      }
    },
    {
      "cell_type": "markdown",
      "source": "# Objetivos:\n\n\n 1. Familiarizarce con las matrices en NumPy\n 2. Creación de matrices en Numpy\n 3. Comprobar la facilidad de uso en NumPy",
      "metadata": {
        "id": "ZWk-Q7GScCXz"
      }
    },
    {
      "cell_type": "markdown",
      "source": "# Contenido:",
      "metadata": {
        "id": "mch7ykCFcCX0"
      }
    },
    {
      "cell_type": "markdown",
      "source": "[1. Numpy: Librería de cálculo numérico](#1.-Numpy:-Librería-de-cálculo-numérico)<br>\n[2. Numpy: Funciones básicas](#2.-Numpy:-Funciones-básicas)<br>\n[3. Inspeccionar matrices de NumPy](#3.-Inspeccionar-matrices-de-NumPy)<br>\n[4. Operaciones Matemáticas entre matrices de NumPy](#4.-Operaciones-Matemáticas-entre-matrices-de-NumPy)<br>\n\n[EJEMPLOS](#EJEMPLOS)<br>\n[EJERCICIOS](#EJERCICIOS)<br>\n[BIBLIOGRAFÍA](#BIBLIOGRAFÍA)<br>",
      "metadata": {
        "id": "-fwFDdfPcCX0"
      }
    },
    {
      "cell_type": "markdown",
      "source": "![linea 1](https://user-images.githubusercontent.com/19308295/115926252-2b8a0c00-a448-11eb-9d9c-b43beaf0ff68.png)",
      "metadata": {
        "id": "sxSFiDYHcCX0"
      }
    },
    {
      "cell_type": "markdown",
      "source": "## <font color=#33A5FF>****1. Numpy: Librería de cálculo numérico****<tfont>",
      "metadata": {
        "id": "rg1FaHtPcCX0"
      }
    },
    {
      "cell_type": "markdown",
      "source": "<img src=\"https://user-images.githubusercontent.com/19308295/115939595-32bf1300-a464-11eb-8c50-6f05dce9a805.png\"\n    style=\"width:300px; float: right; margin: 0 40px 40px 40px;\"></img>\n\nNumPy (Numerical Python) es uno de los paquetes centrales para la computación numérica en Python. Pandas, Matplotlib, Statmodels y muchas otras librerías científicas dependen de NumPy.\n\nLas principales contribuciones de NumPy son:\n\n* Computación numérica eficiente con código \"C\"\n* Recopilaciones eficientes con operaciones vectoriales\n* Un Aplicativo (API) de álgebra lineal integrada y natural\n* Un Aplicativo (API) en C para conectar NumPy con librerías escritas en C, C++ o FORTRAN.\n\nDesarrollemos la eficiencia. En Python, **todo es un objeto**, lo que significa que incluso los simples __enteros (int)__ son también objetos, con toda la maquinaria necesaria para hacer que el objeto funcione. Los llamamos \"Boxed Ints\". En cambio, `NumPy` utiliza tipos numéricos primitivos (floats, ints) que hacen que el almacenamiento y el cálculo sean eficientes.\n",
      "metadata": {
        "id": "9fuesnW8cCX1"
      }
    },
    {
      "cell_type": "markdown",
      "source": "![Python Boxed Ints vs C and Numpy](https://user-images.githubusercontent.com/19308295/115942212-b2ea7600-a46e-11eb-86ed-d7cdc9dffbe0.png)",
      "metadata": {
        "id": "pxTCl69ocCX1"
      }
    },
    {
      "cell_type": "markdown",
      "source": "\n<img src=\"https://user-images.githubusercontent.com/19308295/115942590-98b19780-a470-11eb-84b0-a6390e928eb3.png\"\n    style=\"width:700px\"></img>",
      "metadata": {
        "id": "7RW71FFpcCX1"
      }
    },
    {
      "cell_type": "markdown",
      "source": "\n<div class=\"well\">\n\n<strong>Utilización de NumPy:</strong>\n    \n* En Matemáticas (Reemplaza al MATLAB)\n* Genera Gráficos a partir de Matrices Numpy\n* Backend (Pandas, Connect 4 Games, Fotografía Digital)\n* Machine Learning.\n    \n</div>",
      "metadata": {
        "id": "FdE264ZncCX1"
      }
    },
    {
      "cell_type": "markdown",
      "source": "<div class=\"well\">\n\n<strong>NumPy Array o el arreglo de matrices de NumPy</strong> es un potente objeto de matriz N-dimensional que tiene forma de filas y columnas, en la que tenemos varios elementos que están almacenados en sus respectivas ubicaciones de memoria.\n    \nEn la siguiente imagen, es una <strong>matriz bidimensiona</strong>l porque tiene filas y columnas, como puedes ver tiene cuatro filas y tres columnas, por lo que se convierte en una matriz bidimensional. En el caso de que solo tuviera una fila entonces habría sido una matriz unidimensional.\n    \n</div>",
      "metadata": {
        "id": "pvisQyn5cCX1"
      }
    },
    {
      "cell_type": "markdown",
      "source": "![Practica_04](https://user-images.githubusercontent.com/19308295/115941133-c8a96c80-a469-11eb-8e21-117c1e84bf69.png)",
      "metadata": {
        "id": "Szr4ITIYcCX2"
      }
    },
    {
      "cell_type": "markdown",
      "source": "![linea 2](https://user-images.githubusercontent.com/19308295/115926262-2fb62980-a448-11eb-8189-c2f10e499944.png)",
      "metadata": {
        "id": "PMnwiPr8cCX2"
      }
    },
    {
      "cell_type": "markdown",
      "source": "## <font color=#33A5FF>****2. Numpy: Funciones básicas****<tfont>",
      "metadata": {
        "id": "rMCcq0GpcCX2"
      }
    },
    {
      "cell_type": "markdown",
      "source": "###  Matriz  unidimensional",
      "metadata": {
        "id": "Xu_VoUv5cCX2"
      }
    },
    {
      "cell_type": "markdown",
      "source": "Con la primera instrucción `import numpy as np` le estamos indicando a nuestro programa de Python que de ahora en adelante `np` será la referencia para todo lo referente a NumPy.",
      "metadata": {
        "id": "QzzSCIKEcCX2"
      }
    },
    {
      "cell_type": "code",
      "source": "#Matriz unidimensional\nimport numpy as np\na=np.array([1,2,3])\nprint(a)",
      "metadata": {
        "id": "fwmzcH1FcCX3",
        "outputId": "b2ab9575-f11d-414d-86c1-06657e22fb7c",
        "trusted": true
      },
      "outputs": [
        {
          "name": "stdout",
          "text": "[1 2 3]\n",
          "output_type": "stream"
        }
      ],
      "execution_count": 7
    },
    {
      "cell_type": "markdown",
      "source": "###  Matriz bidimensional",
      "metadata": {
        "id": "iUZ4TdwlcCX4"
      }
    },
    {
      "cell_type": "code",
      "source": "#Matriz bidimensional\nb=np.array([(1,2,3),(4,5,6)])\nprint(b)",
      "metadata": {
        "id": "2_67UWvDcCX4",
        "trusted": true
      },
      "outputs": [
        {
          "ename": "<class 'NameError'>",
          "evalue": "name 'np' is not defined",
          "traceback": [
            "\u001b[0;31m---------------------------------------------------------------------------\u001b[0m",
            "\u001b[0;31mNameError\u001b[0m                                 Traceback (most recent call last)",
            "Cell \u001b[0;32mIn[3], line 2\u001b[0m\n\u001b[1;32m      1\u001b[0m \u001b[38;5;66;03m#Matriz bidimensional\u001b[39;00m\n\u001b[0;32m----> 2\u001b[0m b\u001b[38;5;241m=\u001b[39m \u001b[43mnp\u001b[49m\u001b[38;5;241m.\u001b[39marray([(\u001b[38;5;241m1\u001b[39m,\u001b[38;5;241m2\u001b[39m,\u001b[38;5;241m3\u001b[39m),(\u001b[38;5;241m4\u001b[39m,\u001b[38;5;241m5\u001b[39m,\u001b[38;5;241m6\u001b[39m)])\n\u001b[1;32m      3\u001b[0m \u001b[38;5;28mprint\u001b[39m(b)\n",
            "\u001b[0;31mNameError\u001b[0m: name 'np' is not defined"
          ],
          "output_type": "error"
        }
      ],
      "execution_count": 3
    },
    {
      "cell_type": "code",
      "source": "#Matriz bidimensional\narray= np.array([[1,2,3,4],[5,6,7,8]],dtype=np.int64)\nprint(array)",
      "metadata": {
        "id": "J00WqeSdcCX4",
        "trusted": true
      },
      "outputs": [
        {
          "ename": "<class 'NameError'>",
          "evalue": "name 'np' is not defined",
          "traceback": [
            "\u001b[0;31m---------------------------------------------------------------------------\u001b[0m",
            "\u001b[0;31mNameError\u001b[0m                                 Traceback (most recent call last)",
            "Cell \u001b[0;32mIn[4], line 2\u001b[0m\n\u001b[1;32m      1\u001b[0m \u001b[38;5;66;03m#Matriz bidimensional\u001b[39;00m\n\u001b[0;32m----> 2\u001b[0m array\u001b[38;5;241m=\u001b[39m \u001b[43mnp\u001b[49m\u001b[38;5;241m.\u001b[39marray([[\u001b[38;5;241m1\u001b[39m,\u001b[38;5;241m2\u001b[39m,\u001b[38;5;241m3\u001b[39m,\u001b[38;5;241m4\u001b[39m],[\u001b[38;5;241m5\u001b[39m,\u001b[38;5;241m6\u001b[39m,\u001b[38;5;241m7\u001b[39m,\u001b[38;5;241m8\u001b[39m]],dtype\u001b[38;5;241m=\u001b[39mnp\u001b[38;5;241m.\u001b[39mint64)\n\u001b[1;32m      3\u001b[0m \u001b[38;5;28mprint\u001b[39m(array)\n",
            "\u001b[0;31mNameError\u001b[0m: name 'np' is not defined"
          ],
          "output_type": "error"
        }
      ],
      "execution_count": 4
    },
    {
      "cell_type": "markdown",
      "source": "###  Porque usar NumPy",
      "metadata": {
        "id": "Ybek9x4pcCX5"
      }
    },
    {
      "cell_type": "markdown",
      "source": "Porque usar NumPy en vez de utilizar las listas propias que ofrece Python para manejar estos datos, la primera razón es que NumPy ocupa menos memoria en comparación a las lista de Python, a su vez es bastante rápido en términos de ejecución. Lo que se observa en el siguiente ejemplo:",
      "metadata": {
        "id": "YG4CGtjQcCX5"
      }
    },
    {
      "cell_type": "markdown",
      "source": "**Cantidad de memoria asignada**",
      "metadata": {
        "id": "zxmjywf2cCX5"
      }
    },
    {
      "cell_type": "code",
      "source": "#Porque usar numpy\n#Cantidad de memoria asignada\nimport sys\nS= range(1000)\nprint(sys.getsizeof(5)*len(S))",
      "metadata": {
        "id": "Ebjq1xO2cCX5",
        "outputId": "d9c12746-bac4-4d40-de72-fd764a77f499",
        "trusted": true
      },
      "outputs": [
        {
          "name": "stdout",
          "text": "16000\n",
          "output_type": "stream"
        }
      ],
      "execution_count": 5
    },
    {
      "cell_type": "code",
      "source": "D=np.arange(1000)\nprint(D.size*D.itemsize)",
      "metadata": {
        "id": "FvOUTh2YcCX5",
        "outputId": "8b92dbe8-4834-4a1b-f768-6e44499420d3"
      },
      "outputs": [
        {
          "name": "stdout",
          "output_type": "stream",
          "text": [
            "8000\n"
          ]
        }
      ],
      "execution_count": null
    },
    {
      "cell_type": "markdown",
      "source": "**Velocidad**",
      "metadata": {
        "id": "vJgQ_CkpcCX6"
      }
    },
    {
      "cell_type": "code",
      "source": "#Velocidad\nimport time\n\nSIZE=1000000\n\nL1 = range(SIZE)\nL2 = range(SIZE)\n\nstart = time.time()\nresult = [(x,y) for x,y in zip(L1,L2)]#se usa for\nprint((time.time()-start)*1000)#velocidad en listas",
      "metadata": {
        "id": "qu-cOBq-cCX6",
        "outputId": "e3aeae90-2534-4897-ae9d-5fed63ebd806"
      },
      "outputs": [
        {
          "name": "stdout",
          "output_type": "stream",
          "text": [
            "104.48527336120605\n"
          ]
        }
      ],
      "execution_count": null
    },
    {
      "cell_type": "code",
      "source": "A1 = np.arange(SIZE)\nA2 = np.arange(SIZE)\n\nstart = time.time()\nresult = A1 + A2 #Solo se suma\nprint((time.time()-start)*1000) #Velocidad de Numpy",
      "metadata": {
        "id": "VxvmFRjacCX6",
        "outputId": "b79c783d-a0ad-4f61-fcc5-cf81608e29d0"
      },
      "outputs": [
        {
          "name": "stdout",
          "output_type": "stream",
          "text": [
            "76.50589942932129\n"
          ]
        }
      ],
      "execution_count": null
    },
    {
      "cell_type": "markdown",
      "source": "### Matrices Vacias",
      "metadata": {
        "id": "xl9kUGlScCX6"
      }
    },
    {
      "cell_type": "markdown",
      "source": "En ocasiones se requiere crear matrices vacías, esto se refiere a que se requieren marcadores de posición iniciales, que luego pueden ser rellenados. Se puede inicializar matrices con unos o ceros, pero también puedes hacer matrices que se llenan con valores espaciados uniformemente, valores constantes o aleatorios.\n\nAlgunas de las instrucciones para crear este tipo de matrices son las siguientes:",
      "metadata": {
        "id": "ChY8EEd-cCX6"
      }
    },
    {
      "cell_type": "markdown",
      "source": "**Crear una matriz en donde todos los valores sean igual a 1**",
      "metadata": {
        "id": "XOPt-FQgcCX6"
      }
    },
    {
      "cell_type": "code",
      "source": "# Crear una matriz de unos - 3 filas 4 columnas\nunos = np.ones ((3,4))\nprint(unos)",
      "metadata": {
        "id": "3-Io6z39cCX6",
        "outputId": "37c52e81-1452-4f4f-eae1-0750e9f3790d"
      },
      "outputs": [
        {
          "name": "stdout",
          "output_type": "stream",
          "text": [
            "[[1. 1. 1. 1.]\n",
            " [1. 1. 1. 1.]\n",
            " [1. 1. 1. 1.]]\n"
          ]
        }
      ],
      "execution_count": null
    },
    {
      "cell_type": "markdown",
      "source": "**Crear una matriz en donde todos los valores sean igual a 0**",
      "metadata": {
        "id": "Oxm421aIcCYG"
      }
    },
    {
      "cell_type": "code",
      "source": "# Crear una matriz de ceros - 3 filas 4 columnas\nceros = np.zeros((3,4))\nprint(ceros)",
      "metadata": {
        "id": "_JBcjFhKcCYH",
        "outputId": "1054ccaf-45fe-41e5-8b32-fd32264633d0"
      },
      "outputs": [
        {
          "name": "stdout",
          "output_type": "stream",
          "text": [
            "[[0. 0. 0. 0.]\n",
            " [0. 0. 0. 0.]\n",
            " [0. 0. 0. 0.]]\n"
          ]
        }
      ],
      "execution_count": null
    },
    {
      "cell_type": "markdown",
      "source": "**Crear una matriz de números aleatorios**",
      "metadata": {
        "id": "JLxs4XBucCYH"
      }
    },
    {
      "cell_type": "code",
      "source": "# Crear una matriz con valores aleatorios\naleatorios = np.random.random((2,2))\nprint(aleatorios)",
      "metadata": {
        "id": "0zWLOHXIcCYH",
        "outputId": "2bd68eba-2643-4ed9-e8ec-50c3592ecbe8"
      },
      "outputs": [
        {
          "name": "stdout",
          "output_type": "stream",
          "text": [
            "[[0.55444914 0.84774512]\n",
            " [0.86576737 0.76257324]]\n"
          ]
        }
      ],
      "execution_count": null
    },
    {
      "cell_type": "markdown",
      "source": "**Crear una matriz vacía**",
      "metadata": {
        "id": "VlAQs_FdcCYI"
      }
    },
    {
      "cell_type": "code",
      "source": "# Crear una matriz vacía\nvacia = np.empty((2,2))\nprint(vacia)\n",
      "metadata": {
        "id": "jp-6xhTjcCYI",
        "outputId": "46000165-5777-439f-b225-6ecdbb3ab470"
      },
      "outputs": [
        {
          "name": "stdout",
          "output_type": "stream",
          "text": [
            "[[4.01477744e-320 0.00000000e+000]\n",
            " [2.10966031e-321 3.62853268e-306]\n",
            " [2.58079377e-297 2.68776652e-317]]\n"
          ]
        }
      ],
      "execution_count": null
    },
    {
      "cell_type": "markdown",
      "source": "**Crear una matriz que contenga un solo valor en todas las posiciones**",
      "metadata": {
        "id": "x33eDfNRcCYI"
      }
    },
    {
      "cell_type": "code",
      "source": "full = np.full((2,2),8)\n\nprint(full)",
      "metadata": {
        "id": "3pdZARP9cCYI",
        "outputId": "6804807b-f802-43fa-cfad-10baa1f9ea32"
      },
      "outputs": [
        {
          "name": "stdout",
          "output_type": "stream",
          "text": [
            "[[8 8]\n",
            " [8 8]]\n"
          ]
        }
      ],
      "execution_count": null
    },
    {
      "cell_type": "markdown",
      "source": "**Crear una matriz con rangos de números**",
      "metadata": {
        "id": "BAyQZXz4cCYJ"
      }
    },
    {
      "cell_type": "code",
      "source": "#Crear una matriz con valores espaciados uniformemente\nespacio1 = np.arange(0,30,5)\nprint(espacio1)",
      "metadata": {
        "id": "CQvN5pw7cCYJ",
        "outputId": "ef8b82ef-1fd4-4366-ff6e-cd49433bed89"
      },
      "outputs": [
        {
          "name": "stdout",
          "output_type": "stream",
          "text": [
            "[ 0  5 10 15 20 25]\n"
          ]
        }
      ],
      "execution_count": null
    },
    {
      "cell_type": "code",
      "source": "espacio2 = np.linspace(0,2,5)\nprint(espacio2)",
      "metadata": {
        "id": "XByGRNancCYK",
        "outputId": "c2578ac4-3d06-4d7a-99b6-5c506595daca"
      },
      "outputs": [
        {
          "name": "stdout",
          "output_type": "stream",
          "text": [
            "[0.  0.5 1.  1.5 2. ]\n"
          ]
        }
      ],
      "execution_count": null
    },
    {
      "cell_type": "markdown",
      "source": "**Crear una matriz identidad**",
      "metadata": {
        "id": "-AOFLQgDcCYK"
      }
    },
    {
      "cell_type": "code",
      "source": "#creando una matriz identidad\nidentidad1 = np.eye(4,4)\nprint(identidad1)\n\nidentidad02 = np.identity(4)\nprint(identidad02)",
      "metadata": {
        "id": "lZpG4iUlcCYK",
        "outputId": "109c73be-7a43-4b5c-a73a-ef25e5c1ce6c"
      },
      "outputs": [
        {
          "name": "stdout",
          "output_type": "stream",
          "text": [
            "[[1. 0. 0. 0.]\n",
            " [0. 1. 0. 0.]\n",
            " [0. 0. 1. 0.]\n",
            " [0. 0. 0. 1.]]\n",
            "[[1. 0. 0. 0.]\n",
            " [0. 1. 0. 0.]\n",
            " [0. 0. 1. 0.]\n",
            " [0. 0. 0. 1.]]\n"
          ]
        }
      ],
      "execution_count": null
    },
    {
      "cell_type": "markdown",
      "source": "![linea 2](https://user-images.githubusercontent.com/19308295/115926262-2fb62980-a448-11eb-8189-c2f10e499944.png)",
      "metadata": {
        "id": "XVYCS2vycCYK"
      }
    },
    {
      "cell_type": "markdown",
      "source": "## <font color=#33A5FF>****3. Inspeccionar matrices de NumPy****<tfont>",
      "metadata": {
        "id": "qsa_7GnVcCYL"
      }
    },
    {
      "cell_type": "markdown",
      "source": "**Dimensión de una matriz**",
      "metadata": {
        "id": "FZyNA_Z9cCYL"
      }
    },
    {
      "cell_type": "code",
      "source": "# Conocer las dimensiones de una matriz\na = np.array([(1,2,3),(4,5,6)])\n\nprint(a.ndim)\n",
      "metadata": {
        "id": "a136SMFkcCYL",
        "outputId": "3a5e8774-dcd6-47fb-8d67-a1e57cf24e98"
      },
      "outputs": [
        {
          "name": "stdout",
          "output_type": "stream",
          "text": [
            "2\n"
          ]
        }
      ],
      "execution_count": null
    },
    {
      "cell_type": "markdown",
      "source": "**Tipo de Datos de una matriz**",
      "metadata": {
        "id": "NXfrUbUScCYL"
      }
    },
    {
      "cell_type": "code",
      "source": "# Conocer el tipo de los datos\nprint(a.dtype)",
      "metadata": {
        "id": "v5spSgV8cCYL",
        "outputId": "f5b6785a-9695-4a78-b87d-ab5069965aa8"
      },
      "outputs": [
        {
          "name": "stdout",
          "output_type": "stream",
          "text": [
            "int64\n"
          ]
        }
      ],
      "execution_count": null
    },
    {
      "cell_type": "markdown",
      "source": "**Tamaño y forma de una matriz**",
      "metadata": {
        "id": "qRoihC0ecCYM"
      }
    },
    {
      "cell_type": "code",
      "source": "# Conocer el tamaño y forma de la matriz\na = np.array([(1,2,3,4,5,6)])\n\nprint(a.size)\nprint(a.shape)",
      "metadata": {
        "id": "26vE17UgcCYM",
        "outputId": "b4c19567-f010-43dd-d299-8d5b3f8dbfeb"
      },
      "outputs": [
        {
          "name": "stdout",
          "output_type": "stream",
          "text": [
            "6\n",
            "(1, 6)\n"
          ]
        }
      ],
      "execution_count": null
    },
    {
      "cell_type": "markdown",
      "source": "**Cambio de forma de una matriz**",
      "metadata": {
        "id": "W0iEPve6cCYM"
      }
    },
    {
      "cell_type": "code",
      "source": "# Cambio de forma de una matriz\na = np.array([(8,9,10),(11,12,13)])     #2 filas x 6 columnas\nprint(a)\n\na = a.reshape(3,2)     #6 filas x 2 columnas\nprint(a)",
      "metadata": {
        "id": "FzUfWzpbcCYM",
        "outputId": "fcc7c9e0-b244-466e-d7fa-1805b1fdddda"
      },
      "outputs": [
        {
          "name": "stdout",
          "output_type": "stream",
          "text": [
            "[[ 8  9 10]\n",
            " [11 12 13]]\n",
            "[[ 8  9]\n",
            " [10 11]\n",
            " [12 13]]\n"
          ]
        }
      ],
      "execution_count": null
    },
    {
      "cell_type": "markdown",
      "source": "**Seleccionar elemento de una matriz**",
      "metadata": {
        "id": "_nseiXHLcCYM"
      }
    },
    {
      "cell_type": "code",
      "source": "# Extraer un solo valor de la matriz - el valor ubicado en la fila 1 columna 1\na = np.array([(1,2,3,4),(3,4,5,6)])\nprint(a[0,2])",
      "metadata": {
        "id": "m6-ajVW2cCYN",
        "outputId": "5705496b-e072-4db4-d23d-e08dd4b79202"
      },
      "outputs": [
        {
          "name": "stdout",
          "output_type": "stream",
          "text": [
            "3\n"
          ]
        }
      ],
      "execution_count": null
    },
    {
      "cell_type": "code",
      "source": "# Extraer los valores de todas las filas ubicados en la columna 1\na = np.array([(1,2,3,4),(3,4,5,6)])\nprint(a[0:,2])",
      "metadata": {
        "id": "t06Ya-3_cCYN",
        "outputId": "cc11345f-5b5e-422d-8685-8bb0ffd288d8"
      },
      "outputs": [
        {
          "name": "stdout",
          "output_type": "stream",
          "text": [
            "[3 5]\n"
          ]
        }
      ],
      "execution_count": null
    },
    {
      "cell_type": "markdown",
      "source": "![linea 2](https://user-images.githubusercontent.com/19308295/115926262-2fb62980-a448-11eb-8189-c2f10e499944.png)",
      "metadata": {
        "id": "OX_kDEd9cCYN"
      }
    },
    {
      "cell_type": "markdown",
      "source": "## <font color=#33A5FF>****4. Operaciones Matemáticas entre matrices de NumPy****<tfont>",
      "metadata": {
        "id": "0D2pEtiycCYN"
      }
    },
    {
      "cell_type": "markdown",
      "source": "**Valor mínimo, máximo y la suma de una matriz**",
      "metadata": {
        "id": "nLlELQAxcCYO"
      }
    },
    {
      "cell_type": "code",
      "source": "# Encontrar el mínimo, máximo y la suma\na = np.array([2,45,800])\nprint(a.min())\nprint(a.max())\nprint(a.sum())",
      "metadata": {
        "id": "7AqQtKgCcCYO",
        "outputId": "9232dcc5-fb3a-4c56-a194-c82c9bb0955d"
      },
      "outputs": [
        {
          "name": "stdout",
          "output_type": "stream",
          "text": [
            "2\n",
            "800\n",
            "847\n"
          ]
        }
      ],
      "execution_count": null
    },
    {
      "cell_type": "markdown",
      "source": "**Raiz Cuadrada y Desviación de una matriz**",
      "metadata": {
        "id": "pG1kM5pUcCYP"
      }
    },
    {
      "cell_type": "code",
      "source": "# Calcular la raíz cuadrada y la desviación estándar\na = np.array([(1,4,81),(33,44,50)])\nprint(np.sqrt(a))\nprint(np.std(a))",
      "metadata": {
        "id": "dPRfjK7JcCYP",
        "outputId": "a8014450-b644-4d59-920a-4970c7d0a790"
      },
      "outputs": [
        {
          "name": "stdout",
          "output_type": "stream",
          "text": [
            "[[1.         2.         9.        ]\n",
            " [5.74456265 6.63324958 7.07106781]]\n",
            "27.5121185419565\n"
          ]
        }
      ],
      "execution_count": null
    },
    {
      "cell_type": "markdown",
      "source": "**Suma, resta, multiplicación y división de dos matrices**",
      "metadata": {
        "id": "PK7mUH12cCYQ"
      }
    },
    {
      "cell_type": "code",
      "source": "# Calcular la suma, resta, multiplicación y división de dos matrices\nx = np.array([(1,2,3),(3,4,5)])\ny = np.array([(1,2,3),(3,4,5)])\n\nprint(x+y)\nprint()\nprint(x-y)\nprint()\nprint(x*y)\nprint()\nprint(x/y)",
      "metadata": {
        "id": "N8faZIZ6cCYQ",
        "outputId": "10eeb122-26c3-4bc3-bde6-c9d3e69aafd0"
      },
      "outputs": [
        {
          "name": "stdout",
          "output_type": "stream",
          "text": [
            "[[ 2  4  6]\n",
            " [ 6  8 10]]\n",
            "\n",
            "[[0 0 0]\n",
            " [0 0 0]]\n",
            "\n",
            "[[ 1  4  9]\n",
            " [ 9 16 25]]\n",
            "\n",
            "[[1. 1. 1.]\n",
            " [1. 1. 1.]]\n"
          ]
        }
      ],
      "execution_count": null
    },
    {
      "cell_type": "markdown",
      "source": "![linea 2](https://user-images.githubusercontent.com/19308295/115926262-2fb62980-a448-11eb-8189-c2f10e499944.png)",
      "metadata": {
        "id": "t6QbRURWcCYQ"
      }
    },
    {
      "cell_type": "markdown",
      "source": "## <font color=#33A5FF>****EJEMPLOS****<tfont>",
      "metadata": {
        "id": "-vHiDT-KcCYQ"
      }
    },
    {
      "cell_type": "markdown",
      "source": "___Ejemplo 1:___ Cree una matriz de 5x5 con valores 1,2,3,4 justo debajo de la diagonal:",
      "metadata": {
        "id": "zRs_0JsXcCYQ"
      }
    },
    {
      "cell_type": "code",
      "source": "Z = np.diag(1+np.arange(4),k=-1)\nprint(Z)",
      "metadata": {
        "id": "4XQzU8gkcCYR",
        "outputId": "d204a7d2-57d6-4ea6-87a5-38fd4c1fd8dd"
      },
      "outputs": [
        {
          "name": "stdout",
          "output_type": "stream",
          "text": [
            "[[0 0 0 0 0]\n",
            " [1 0 0 0 0]\n",
            " [0 2 0 0 0]\n",
            " [0 0 3 0 0]\n",
            " [0 0 0 4 0]]\n"
          ]
        }
      ],
      "execution_count": null
    },
    {
      "cell_type": "markdown",
      "source": "___Ejemplo 2:___ Crea un vector aleatorio de tamaño 30 y encuentra el valor medio :",
      "metadata": {
        "id": "XIjkWQprcCYR"
      }
    },
    {
      "cell_type": "code",
      "source": "Z = np.random.random(30)\nm = Z.mean()\nprint(m)",
      "metadata": {
        "id": "4RvdFwA2cCYS",
        "outputId": "cdf8885b-b29b-4898-d2a8-aaa827fb5bf2"
      },
      "outputs": [
        {
          "name": "stdout",
          "output_type": "stream",
          "text": [
            "0.4580688347636486\n"
          ]
        }
      ],
      "execution_count": null
    },
    {
      "cell_type": "markdown",
      "source": "___Ejemplo 3:___ ¿Cómo ordenar una matriz por la enésima columna?:",
      "metadata": {
        "id": "9cDChnANcCYT"
      }
    },
    {
      "cell_type": "code",
      "source": "Z = np.random.randint(0,10,(3,3))\nprint(Z)\nprint(Z[Z[:,1].argsort()])",
      "metadata": {
        "id": "NrYkCUFxcCYU",
        "outputId": "98d2fddb-445a-4252-d65d-95d6278b74b4"
      },
      "outputs": [
        {
          "name": "stdout",
          "output_type": "stream",
          "text": [
            "[[5 0 9]\n",
            " [4 3 0]\n",
            " [0 8 3]]\n",
            "[[5 0 9]\n",
            " [4 3 0]\n",
            " [0 8 3]]\n"
          ]
        }
      ],
      "execution_count": null
    },
    {
      "cell_type": "markdown",
      "source": "___Ejemplo 4:___ ¿Cómo agregar un borde (lleno de 0) alrededor de una matriz existente?",
      "metadata": {
        "id": "Nh_WGznGcCYU"
      }
    },
    {
      "cell_type": "code",
      "source": "Z = np.ones((5,5))\nZ = np.pad(Z, pad_width=1, mode='constant', constant_values=0)\nprint(Z)",
      "metadata": {
        "id": "OFHPyYq4cCYU",
        "outputId": "809423e5-058c-4a73-9f93-cedd2b16a5b1"
      },
      "outputs": [
        {
          "name": "stdout",
          "output_type": "stream",
          "text": [
            "[[0. 0. 0. 0. 0. 0. 0.]\n",
            " [0. 1. 1. 1. 1. 1. 0.]\n",
            " [0. 1. 1. 1. 1. 1. 0.]\n",
            " [0. 1. 1. 1. 1. 1. 0.]\n",
            " [0. 1. 1. 1. 1. 1. 0.]\n",
            " [0. 1. 1. 1. 1. 1. 0.]\n",
            " [0. 0. 0. 0. 0. 0. 0.]]\n"
          ]
        }
      ],
      "execution_count": null
    },
    {
      "cell_type": "markdown",
      "source": "![linea 2](https://user-images.githubusercontent.com/19308295/115926262-2fb62980-a448-11eb-8189-c2f10e499944.png)",
      "metadata": {
        "id": "GurikpzTcCYV"
      }
    },
    {
      "cell_type": "markdown",
      "source": "## <font color=#33A5FF>****EJERCICIOS****<tfont>",
      "metadata": {
        "id": "WkSXZOYhcCYV"
      }
    },
    {
      "cell_type": "markdown",
      "source": "<center> <h2>Ejercicio 01</h2> </center>",
      "metadata": {
        "id": "3Qgz7TpMcCYV"
      }
    },
    {
      "cell_type": "markdown",
      "source": "* Crear un array 7x8 lleno de ceros de tipo entero.\n* Crear un array 7x8 lleno de ceros salvo la primera fila que serán todo unos.\n* Crear un array 7x8 lleno de ceros salvo la última fila que será el rango entre 5 y 8.",
      "metadata": {
        "id": "mU6ejdQwcCYW"
      }
    },
    {
      "cell_type": "markdown",
      "source": "<center> <h2>Ejercicio 02</h2> </center>",
      "metadata": {
        "id": "85EU-ZmdcCYW"
      }
    },
    {
      "cell_type": "markdown",
      "source": "* Crea un vector de 10 elementos, siendo los impares 1 y los pares 2.\n* Crea un «tablero de ajedrez» 8x8, con 1 en las casillas negras y 0 en las casillas blancas.",
      "metadata": {
        "id": "kJKORIeRcCYW"
      }
    },
    {
      "cell_type": "markdown",
      "source": "<center> <h2>Ejercicio 03</h2> </center>",
      "metadata": {
        "id": "teonXsNGcCYW"
      }
    },
    {
      "cell_type": "markdown",
      "source": "* Crea una matriz aleatoria 7x7 y halla los valores mínimo y máximo.\n* Normaliza la matriz anterior entre 0 y 1.",
      "metadata": {
        "id": "uXpjX_xacCYW"
      }
    },
    {
      "cell_type": "markdown",
      "source": "<center> <h2>Ejercicio 04</h2> </center>",
      "metadata": {
        "id": "WTM1EJ_jcCYW"
      }
    },
    {
      "cell_type": "markdown",
      "source": "De la siguiente Matriz",
      "metadata": {
        "id": "n4blAtZVcCYW"
      }
    },
    {
      "cell_type": "markdown",
      "source": "<img src=\"https://user-images.githubusercontent.com/19308295/115969506-dbbc4b00-a502-11eb-9c76-c9da265c5366.png\"\n    style=\"width:400px\"></img>",
      "metadata": {
        "id": "ChUgiebzcCYW"
      }
    },
    {
      "cell_type": "markdown",
      "source": "* Luego invertir lo valores de 9 y 1 de la Matriz anterior",
      "metadata": {
        "id": "2FJfXRsxcCYX"
      }
    },
    {
      "cell_type": "markdown",
      "source": "<center> <h2>Ejercicio 05</h2> </center>",
      "metadata": {
        "id": "gjQomwHTcCYX"
      }
    },
    {
      "cell_type": "markdown",
      "source": "De la siguiente Matriz:",
      "metadata": {
        "id": "wd1YUbY3cCYX"
      }
    },
    {
      "cell_type": "markdown",
      "source": "<img src=\"https://user-images.githubusercontent.com/19308295/115969585-39509780-a503-11eb-92ac-fd88557e6cfc.png\"\n    style=\"width:400px\"></img>",
      "metadata": {
        "id": "FeApNtjFcCYX"
      }
    },
    {
      "cell_type": "markdown",
      "source": "* Extraer la matrices de cada color",
      "metadata": {
        "id": "JzYnmnZycCYX"
      }
    },
    {
      "cell_type": "markdown",
      "source": "<center> <h2>Ejercicio 06</h2> </center>",
      "metadata": {
        "id": "72vXuiXIcCYX"
      }
    },
    {
      "cell_type": "markdown",
      "source": "De la siguiente Matriz:",
      "metadata": {
        "id": "qnJ9R_1XcCYX"
      }
    },
    {
      "cell_type": "markdown",
      "source": "<img src=\"https://user-images.githubusercontent.com/19308295/115969622-613ffb00-a503-11eb-98b8-7edcf70c5851.png\"\n    style=\"width:600px\"></img>\n",
      "metadata": {
        "id": "68s4yRjScCYX"
      }
    },
    {
      "cell_type": "markdown",
      "source": "Se debe **buscar dentro de la matriz de color verde el valor = 50**, luego reemplazar con la pequeña matriz de color celeste quedando la matriz de la siguiente manera:",
      "metadata": {
        "id": "UkY7qYGDcCYY"
      }
    },
    {
      "cell_type": "markdown",
      "source": "<img src=\"https://user-images.githubusercontent.com/19308295/115969624-656c1880-a503-11eb-9a48-7dba0c379f86.png\"\n    style=\"width:400px\"></img>\n",
      "metadata": {
        "id": "p_NqOVy7cCYY"
      }
    },
    {
      "cell_type": "markdown",
      "source": "El algoritmo solución debe poder **ubicar el valor = 50** en cualquier posición y hacer el reemplazo.",
      "metadata": {
        "id": "qVjS2_AQcCYY"
      }
    },
    {
      "cell_type": "markdown",
      "source": "![linea 2](https://user-images.githubusercontent.com/19308295/115926262-2fb62980-a448-11eb-8189-c2f10e499944.png)",
      "metadata": {
        "id": "yM6RBCl1cCYY"
      }
    },
    {
      "cell_type": "markdown",
      "source": "## <font color=#33A5FF>****BIBLIOGRAFÍA****<tfont>",
      "metadata": {
        "id": "S30Qn9vNcCYY"
      }
    },
    {
      "cell_type": "markdown",
      "source": "[1] Documentación de NumPy http://docs.scipy.org/doc/numpy\n\n[2] Travis Oliphant, \"Guide to NumPy\" http://csc.ucdavis.edu/~chaos/courses/nlp/Software/NumPyBook.pdf\n\n[3] SciPy Lecture Notes http://scipy-lectures.github.io\n\n[4] Nicolas Rougier, \"100 NumPy exercises\" http://www.loria.fr/~rougier/teaching/numpy.100/index.html",
      "metadata": {
        "id": "3ZSOwxspcCYY"
      }
    },
    {
      "cell_type": "markdown",
      "source": "![linea 1](https://user-images.githubusercontent.com/19308295/115926252-2b8a0c00-a448-11eb-9d9c-b43beaf0ff68.png)",
      "metadata": {
        "id": "Qno_5E4mcCYY"
      }
    }
  ]
}