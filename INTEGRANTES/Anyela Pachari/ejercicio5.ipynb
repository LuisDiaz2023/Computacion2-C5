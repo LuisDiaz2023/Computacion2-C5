{
  "metadata": {
    "kernelspec": {
      "name": "python",
      "display_name": "Python (Pyodide)",
      "language": "python"
    },
    "language_info": {
      "codemirror_mode": {
        "name": "python",
        "version": 3
      },
      "file_extension": ".py",
      "mimetype": "text/x-python",
      "name": "python",
      "nbconvert_exporter": "python",
      "pygments_lexer": "ipython3",
      "version": "3.8"
    }
  },
  "nbformat_minor": 4,
  "nbformat": 4,
  "cells": [
    {
      "cell_type": "markdown",
      "source": "<center> <h2>Ejercicio 05</h2> </center> ",
      "metadata": {}
    },
    {
      "cell_type": "markdown",
      "source": "De la siguiente Matriz:",
      "metadata": {}
    },
    {
      "cell_type": "markdown",
      "source": "<img src=\"https://user-images.githubusercontent.com/19308295/115969585-39509780-a503-11eb-92ac-fd88557e6cfc.png\"\n    style=\"width:400px\"></img>",
      "metadata": {}
    },
    {
      "cell_type": "markdown",
      "source": "* Extraer la matrices de cada color",
      "metadata": {}
    },
    {
      "cell_type": "code",
      "source": "import numpy as np \na=np.array([(1,2,3,4,5),(6,7,8,9,10),(11,12,13,14,15),(16,17,18,19,20),(21,22,23,24,25),(26,27,28,29,30)])\nprint(a)",
      "metadata": {
        "trusted": true
      },
      "outputs": [],
      "execution_count": null
    },
    {
      "cell_type": "code",
      "source": "# matriz de color azul\nmatrizazul = (a[2:4,0:2])  # filas 3 y 4 y columnas 1 y 2\nprint(matrizazul)",
      "metadata": {
        "trusted": true
      },
      "outputs": [
        {
          "name": "stdout",
          "text": "[[11 12]\n [16 17]]\n",
          "output_type": "stream"
        }
      ],
      "execution_count": 5
    },
    {
      "cell_type": "code",
      "source": "# matriz de color rojo\nmatrizrojo = (a[[0,4,5], 3:5])   # filas 1 , 5 y 6, columnas 5 y 6\nprint(matrizrojo)",
      "metadata": {
        "trusted": true
      },
      "outputs": [
        {
          "name": "stdout",
          "text": "[[ 4  5]\n [24 25]\n [29 30]]\n",
          "output_type": "stream"
        }
      ],
      "execution_count": 7
    },
    {
      "cell_type": "code",
      "source": "# matriz de color verde\nmatrizverde = (a[[0,1,2,3],[1,2,3,4]])\nprint(matrizverde)",
      "metadata": {
        "trusted": true
      },
      "outputs": [
        {
          "name": "stdout",
          "text": "[ 2  8 14 20]\n",
          "output_type": "stream"
        }
      ],
      "execution_count": 10
    }
  ]
}